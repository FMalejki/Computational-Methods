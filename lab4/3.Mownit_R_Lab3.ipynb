{
 "cells": [
  {
   "cell_type": "markdown",
   "metadata": {},
   "source": [
    "# Język R\n",
    "## Postawowe informacje\n",
    "Język programowania oraz implementujący go system R jest środowiskiem do statystycznej analizy danych. Umożliwia pracę interaktywną i skryptową.\n",
    " \n",
    "Instalacja na Ubuntu:\n",
    "\n",
    "```apt-get install r-base```\n",
    "\n",
    "Jak dodać kernel R do Jupitera:\n",
    "\n",
    "https://developers.lseg.com/en/article-catalog/article/setup-jupyter-notebook-r\n",
    "\n",
    "Linki:\n",
    " - Strona główna projektu R: http://www.r-project.org/\n",
    " - Quick R: http://www.statmethods.net/\n",
    " - RStudio: https://www.rstudio.com/\n",
    " - R for Data Science: https://r4ds.had.co.nz/\n",
    " - R Packages (zaawansowana): https://r-pkgs.org/\n",
    " - ggplot2: https://ggplot2-book.org/\n",
    "\n",
    "## Interaktywna praca z systemem\n",
    "\n",
    "Jest kilka możliwości:\n",
    "\n",
    " - Uruchamiamy RStudio, które zawiera zintegrowane środowisko do analizy danych w języku R\n",
    " - Można też uruchomić konsolę R bezpośrednio poleceniem R\n",
    " - W Jupyter tworzymy nowy notatnik z kernelem R"
   ]
  },
  {
   "cell_type": "markdown",
   "metadata": {},
   "source": [
    "### Instalacja pakietów"
   ]
  },
  {
   "cell_type": "markdown",
   "metadata": {},
   "source": [
    "`tidyverse` to zbiór kilku użytecznych pakietów, m.in. `dplyr` i `ggplot`. Więcej na https://www.tidyverse.org/packages/\n",
    "\n",
    "Na  https://jupyter.lab.ii.agh.edu.pl/ pakiet jest już zainstalowany."
   ]
  },
  {
   "cell_type": "code",
   "execution_count": 1,
   "metadata": {},
   "outputs": [],
   "source": [
    "#install.packages('tidyverse')\n",
    "#albo dla Anacondy anaconda.org/r/r-tidyverse\n",
    "#w terminalu conda install -c r r-tidyverse "
   ]
  },
  {
   "cell_type": "code",
   "execution_count": 5,
   "metadata": {},
   "outputs": [
    {
     "name": "stderr",
     "output_type": "stream",
     "text": [
      "── \u001b[1mAttaching packages\u001b[22m ─────────────────────────────────────── tidyverse 1.3.2 ──\n",
      "\u001b[32m✔\u001b[39m \u001b[34mggplot2\u001b[39m 3.3.6      \u001b[32m✔\u001b[39m \u001b[34mpurrr  \u001b[39m 0.3.5 \n",
      "\u001b[32m✔\u001b[39m \u001b[34mtibble \u001b[39m 3.1.8      \u001b[32m✔\u001b[39m \u001b[34mdplyr  \u001b[39m 1.0.10\n",
      "\u001b[32m✔\u001b[39m \u001b[34mtidyr  \u001b[39m 1.2.1      \u001b[32m✔\u001b[39m \u001b[34mstringr\u001b[39m 1.4.1 \n",
      "\u001b[32m✔\u001b[39m \u001b[34mreadr  \u001b[39m 2.1.3      \u001b[32m✔\u001b[39m \u001b[34mforcats\u001b[39m 0.5.2 \n",
      "── \u001b[1mConflicts\u001b[22m ────────────────────────────────────────── tidyverse_conflicts() ──\n",
      "\u001b[31m✖\u001b[39m \u001b[34mdplyr\u001b[39m::\u001b[32mfilter()\u001b[39m masks \u001b[34mstats\u001b[39m::filter()\n",
      "\u001b[31m✖\u001b[39m \u001b[34mdplyr\u001b[39m::\u001b[32mlag()\u001b[39m    masks \u001b[34mstats\u001b[39m::lag()\n"
     ]
    }
   ],
   "source": [
    "# pokazuje też ewentualne \"przykrycia\"\n",
    "library(\"tidyverse\")"
   ]
  },
  {
   "cell_type": "markdown",
   "metadata": {},
   "source": [
    "### R"
   ]
  },
  {
   "cell_type": "markdown",
   "metadata": {},
   "source": [
    "Wbudowana pomoc:"
   ]
  },
  {
   "cell_type": "code",
   "execution_count": 3,
   "metadata": {},
   "outputs": [
    {
     "data": {
      "text/html": [
       "\n",
       "<table width=\"100%\" summary=\"page for help {utils}\"><tr><td>help {utils}</td><td style=\"text-align: right;\">R Documentation</td></tr></table>\n",
       "\n",
       "<h2>Documentation</h2>\n",
       "\n",
       "<h3>Description</h3>\n",
       "\n",
       "<p><code>help</code> is the primary interface to the help systems.\n",
       "</p>\n",
       "\n",
       "\n",
       "<h3>Usage</h3>\n",
       "\n",
       "<pre>\n",
       "help(topic, package = NULL, lib.loc = NULL,\n",
       "     verbose = getOption(\"verbose\"),\n",
       "     try.all.packages = getOption(\"help.try.all.packages\"),\n",
       "     help_type = getOption(\"help_type\"))\n",
       "</pre>\n",
       "\n",
       "\n",
       "<h3>Arguments</h3>\n",
       "\n",
       "<table summary=\"R argblock\">\n",
       "<tr valign=\"top\"><td><code>topic</code></td>\n",
       "<td>\n",
       "<p>usually, a name or character string specifying the\n",
       "topic for which help is sought.  A character string (enclosed in\n",
       "explicit single or double quotes) is always taken as naming a topic.\n",
       "</p>\n",
       "<p>If the value of <code>topic</code> is a length-one\n",
       "character vector the topic is taken to be the value of the only\n",
       "element.  Otherwise <code>topic</code> must be a name or a reserved\n",
       "word (if syntactically valid) or character string.\n",
       "</p>\n",
       "<p>See &lsquo;Details&rsquo; for what happens if this is omitted.\n",
       "</p>\n",
       "</td></tr>\n",
       "<tr valign=\"top\"><td><code>package</code></td>\n",
       "<td>\n",
       "<p>a name or character vector giving the packages to look\n",
       "into for documentation, or <code>NULL</code>.  By default, all packages\n",
       "whose namespaces are loaded are used.  To avoid a name being deparsed use e.g.\n",
       "<code>(pkg_ref)</code> (see the examples).</p>\n",
       "</td></tr>\n",
       "<tr valign=\"top\"><td><code>lib.loc</code></td>\n",
       "<td>\n",
       "<p>a character vector of directory names of <span style=\"font-family: Courier New, Courier; color: #666666;\"><b>R</b></span> libraries,\n",
       "or <code>NULL</code>.  The default value of <code>NULL</code> corresponds to all\n",
       "libraries currently known.  If the default is used, the loaded\n",
       "packages are searched before the libraries.  This is not used for\n",
       "HTML help (see &lsquo;Details&rsquo;).</p>\n",
       "</td></tr>\n",
       "<tr valign=\"top\"><td><code>verbose</code></td>\n",
       "<td>\n",
       "<p>logical; if <code>TRUE</code>, the file name is reported.</p>\n",
       "</td></tr>\n",
       "<tr valign=\"top\"><td><code>try.all.packages</code></td>\n",
       "<td>\n",
       "<p>logical; see <code>Note</code>.</p>\n",
       "</td></tr>\n",
       "<tr valign=\"top\"><td><code>help_type</code></td>\n",
       "<td>\n",
       "<p>character string: the type of help required.\n",
       "Possible values are <code>\"text\"</code>, <code>\"html\"</code> and <code>\"pdf\"</code>.\n",
       "Case is ignored, and partial matching is allowed.</p>\n",
       "</td></tr>\n",
       "</table>\n",
       "\n",
       "\n",
       "<h3>Details</h3>\n",
       "\n",
       "<p>The following types of help are available:\n",
       "</p>\n",
       "\n",
       "<ul>\n",
       "<li><p> Plain text help\n",
       "</p>\n",
       "</li>\n",
       "<li><p> HTML help pages with hyperlinks to other topics, shown in a\n",
       "browser by <code>browseURL</code>.\n",
       "<br />\n",
       "(On Unix-alikes,\n",
       "where possible an existing browser window is re-used: the macOS\n",
       "GUI uses its own browser window.)\n",
       "</p>\n",
       "<p>If for some reason HTML help is unavailable (see\n",
       "<code>startDynamicHelp</code>), plain text help will be used\n",
       "instead.\n",
       "</p>\n",
       "</li>\n",
       "<li><p> For <code>help</code> only, typeset as PDF &ndash;\n",
       "see the section on &lsquo;Offline help&rsquo;.\n",
       "</p>\n",
       "</li></ul>\n",
       "\n",
       "\n",
       "<dl>\n",
       "<dt>On Unix-alikes:</dt><dd>\n",
       "<p>The &lsquo;factory-fresh&rsquo; default is text help except from the macOS\n",
       "GUI, which uses HTML help displayed in its own browser window.\n",
       "</p>\n",
       "</dd>\n",
       "<dt>On Windows:</dt><dd>\n",
       "<p>The default for the type of help is selected when <span style=\"font-family: Courier New, Courier; color: #666666;\"><b>R</b></span> is installed &ndash;\n",
       "the &lsquo;factory-fresh&rsquo; default is HTML help.\n",
       "</p>\n",
       "</dd>\n",
       "</dl>\n",
       "\n",
       "<p>The rendering of text help will use directional quotes in suitable\n",
       "locales (UTF-8 and single-byte Windows locales): sometimes the fonts\n",
       "used do not support these quotes so this can be turned off by setting\n",
       "<code>options(useFancyQuotes = FALSE)</code>.\n",
       "</p>\n",
       "<p><code>topic</code> is not optional: if it is omitted <span style=\"font-family: Courier New, Courier; color: #666666;\"><b>R</b></span> will give\n",
       "</p>\n",
       "\n",
       "<ul>\n",
       "<li><p> If a package is specified, (text or, in interactive use only,\n",
       "HTML) information on the package, including hints/links to suitable\n",
       "help topics.\n",
       "</p>\n",
       "</li>\n",
       "<li><p> If <code>lib.loc</code> only is specified, a (text) list of available\n",
       "packages.\n",
       "</p>\n",
       "</li>\n",
       "<li><p> Help on <code>help</code> itself if none of the first three\n",
       "arguments is specified.\n",
       "</p>\n",
       "</li></ul>\n",
       "\n",
       "<p>Some topics need to be quoted (by backticks) or given as a\n",
       "character string.  These include those which cannot syntactically\n",
       "appear on their own such as unary and binary operators,\n",
       "<code>function</code> and control-flow reserved words (including\n",
       "<code>if</code>, <code>else</code> <code>for</code>, <code>in</code>, <code>repeat</code>,\n",
       "<code>while</code>, <code>break</code> and <code>next</code>).  The other <code>reserved</code>\n",
       "words can be used as if they were names, for example <code>TRUE</code>,\n",
       "<code>NA</code> and <code>Inf</code>.\n",
       "</p>\n",
       "<p>If multiple help files matching <code>topic</code> are found, in interactive\n",
       "use a menu is presented for the user to choose one: in batch use the\n",
       "first on the search path is used.  (For HTML help the menu will be an\n",
       "HTML page, otherwise a graphical menu if possible if\n",
       "<code>getOption(\"menu.graphics\")</code> is true, the default.)\n",
       "</p>\n",
       "<p>Note that HTML help does not make use of <code>lib.loc</code>: it will\n",
       "always look first in the loaded packages and then along\n",
       "<code>.libPaths()</code>.\n",
       "</p>\n",
       "\n",
       "\n",
       "<h3>Offline help</h3>\n",
       "\n",
       "<p>Typeset documentation is produced by running the LaTeX version of the\n",
       "help page through <code>pdflatex</code>: this will produce a PDF file.\n",
       "</p>\n",
       "<p>The appearance of the output can be customized through a file\n",
       "&lsquo;<span class=\"file\">Rhelp.cfg</span>&rsquo; somewhere in your LaTeX search path: this will be\n",
       "input as a LaTeX style file after <code>Rd.sty</code>.  Some\n",
       "environment variables are consulted, notably <span class=\"env\">R_PAPERSIZE</span>\n",
       "(<em>via</em> <code>getOption(\"papersize\")</code>) and <span class=\"env\">R_RD4PDF</span> (see\n",
       "&lsquo;Making manuals&rsquo; in the\n",
       "&lsquo;R Installation and Administration&rsquo; manual).\n",
       "</p>\n",
       "<p>If there is a function <code>offline_help_helper</code> in the workspace or\n",
       "further down the search path it is used to do the typesetting,\n",
       "otherwise the function of that name in the <code>utils</code> namespace (to\n",
       "which the first paragraph applies).  It should accept at least two\n",
       "arguments, the name of the LaTeX file to be typeset and the type\n",
       "(which is nowadays ignored).  It accepts a third argument,\n",
       "<code>texinputs</code>, which will give the graphics path when the help\n",
       "document contains figures, and will otherwise not be supplied.\n",
       "</p>\n",
       "\n",
       "\n",
       "<h3>Note</h3>\n",
       "\n",
       "<p>Unless <code>lib.loc</code> is specified explicitly, the loaded packages are\n",
       "searched before those in the specified libraries.  This ensures that\n",
       "if a library is loaded from a library not in the known library trees,\n",
       "then the help from the loaded library is used.  If <code>lib.loc</code> is\n",
       "specified explicitly, the loaded packages are <em>not</em> searched.\n",
       "</p>\n",
       "<p>If this search fails and argument <code>try.all.packages</code> is\n",
       "<code>TRUE</code> and neither <code>packages</code> nor <code>lib.loc</code> is\n",
       "specified, then all the packages in the known library trees are\n",
       "searched for help on <code>topic</code> and a list of (any) packages where\n",
       "help may be found is displayed (with hyperlinks for\n",
       "<code>help_type = \"html\"</code>).\n",
       "<strong>NB:</strong> searching all packages can be slow, especially\n",
       "the first time (caching of files by the OS can expedite subsequent\n",
       "searches dramatically).\n",
       "</p>\n",
       "\n",
       "\n",
       "<h3>References</h3>\n",
       "\n",
       "<p>Becker, R. A., Chambers, J. M. and Wilks, A. R. (1988)\n",
       "<em>The New S Language</em>.\n",
       "Wadsworth &amp; Brooks/Cole.\n",
       "</p>\n",
       "\n",
       "\n",
       "<h3>See Also</h3>\n",
       "\n",
       "<p><code>?</code> for shortcuts to help topics.\n",
       "</p>\n",
       "<p><code>help.search()</code> or <code>??</code> for finding help pages\n",
       "on a vague topic;\n",
       "<code>help.start()</code> which opens the HTML version of the <span style=\"font-family: Courier New, Courier; color: #666666;\"><b>R</b></span>\n",
       "help pages;\n",
       "<code>library()</code> for listing available packages and the\n",
       "help objects they contain;\n",
       "<code>data()</code> for listing available data sets;\n",
       "<code>methods()</code>.\n",
       "</p>\n",
       "<p>Use <code>prompt()</code> to get a prototype for writing <code>help</code>\n",
       "pages of your own package.\n",
       "</p>\n",
       "\n",
       "\n",
       "<h3>Examples</h3>\n",
       "\n",
       "<pre>\n",
       "help()\n",
       "help(help)              # the same\n",
       "\n",
       "help(lapply)\n",
       "\n",
       "help(\"for\")             # or ?\"for\", but quotes/backticks are needed\n",
       "\n",
       "try({# requires working TeX installation:\n",
       " help(dgamma, help_type = \"pdf\")\n",
       " ## -&gt; nicely formatted pdf -- including math formula -- for help(dgamma):\n",
       " system2(getOption(\"pdfviewer\"), \"dgamma.pdf\", wait = FALSE)\n",
       "})\n",
       "\n",
       "help(package = \"splines\") # get help even when package is not loaded\n",
       "\n",
       "topi &lt;- \"women\"\n",
       "help(topi)\n",
       "\n",
       "try(help(\"bs\", try.all.packages = FALSE)) # reports not found (an error)\n",
       "help(\"bs\", try.all.packages = TRUE)       # reports can be found\n",
       "                                          # in package 'splines'\n",
       "\n",
       "## For programmatic use:\n",
       "topic &lt;- \"family\"; pkg_ref &lt;- \"stats\"\n",
       "help((topic), (pkg_ref))\n",
       "</pre>\n",
       "\n",
       "<hr /><div style=\"text-align: center;\">[Package <em>utils</em> version 4.1.3 ]</div>"
      ],
      "text/latex": [
       "\\inputencoding{utf8}\n",
       "\\HeaderA{help}{Documentation}{help}\n",
       "\\keyword{documentation}{help}\n",
       "%\n",
       "\\begin{Description}\\relax\n",
       "\\code{help} is the primary interface to the help systems.\n",
       "\\end{Description}\n",
       "%\n",
       "\\begin{Usage}\n",
       "\\begin{verbatim}\n",
       "help(topic, package = NULL, lib.loc = NULL,\n",
       "     verbose = getOption(\"verbose\"),\n",
       "     try.all.packages = getOption(\"help.try.all.packages\"),\n",
       "     help_type = getOption(\"help_type\"))\n",
       "\\end{verbatim}\n",
       "\\end{Usage}\n",
       "%\n",
       "\\begin{Arguments}\n",
       "\\begin{ldescription}\n",
       "\\item[\\code{topic}] usually, a \\LinkA{name}{name} or character string specifying the\n",
       "topic for which help is sought.  A character string (enclosed in\n",
       "explicit single or double quotes) is always taken as naming a topic.\n",
       "\n",
       "If the value of \\code{topic} is a length-one\n",
       "character vector the topic is taken to be the value of the only\n",
       "element.  Otherwise \\code{topic} must be a name or a \\LinkA{reserved}{reserved}\n",
       "word (if syntactically valid) or character string.\n",
       "\n",
       "See `Details' for what happens if this is omitted.\n",
       "\n",
       "\\item[\\code{package}] a name or character vector giving the packages to look\n",
       "into for documentation, or \\code{NULL}.  By default, all packages\n",
       "whose namespaces are loaded are used.  To avoid a name being deparsed use e.g.\n",
       "\\code{(pkg\\_ref)} (see the examples).\n",
       "\\item[\\code{lib.loc}] a character vector of directory names of \\R{} libraries,\n",
       "or \\code{NULL}.  The default value of \\code{NULL} corresponds to all\n",
       "libraries currently known.  If the default is used, the loaded\n",
       "packages are searched before the libraries.  This is not used for\n",
       "HTML help (see `Details').\n",
       "\\item[\\code{verbose}] logical; if \\code{TRUE}, the file name is reported.\n",
       "\\item[\\code{try.all.packages}] logical; see \\code{Note}.\n",
       "\\item[\\code{help\\_type}] character string: the type of help required.\n",
       "Possible values are \\code{\"text\"}, \\code{\"html\"} and \\code{\"pdf\"}.\n",
       "Case is ignored, and partial matching is allowed.\n",
       "\\end{ldescription}\n",
       "\\end{Arguments}\n",
       "%\n",
       "\\begin{Details}\\relax\n",
       "The following types of help are available:\n",
       "\\begin{itemize}\n",
       "\n",
       "\\item{} Plain text help\n",
       "\\item{} HTML help pages with hyperlinks to other topics, shown in a\n",
       "browser by \\code{\\LinkA{browseURL}{browseURL}}.\n",
       "\\\\{}\n",
       "(On Unix-alikes,\n",
       "where possible an existing browser window is re-used: the macOS\n",
       "GUI uses its own browser window.)\n",
       "\n",
       "If for some reason HTML help is unavailable (see\n",
       "\\code{\\LinkA{startDynamicHelp}{startDynamicHelp}}), plain text help will be used\n",
       "instead.\n",
       "\\item{} For \\code{help} only, typeset as PDF --\n",
       "see the section on `Offline help'.\n",
       "\n",
       "\\end{itemize}\n",
       "\n",
       "\\begin{description}\n",
       "\n",
       "\\item[On Unix-alikes:] \n",
       "The `factory-fresh' default is text help except from the macOS\n",
       "GUI, which uses HTML help displayed in its own browser window.\n",
       "\n",
       "\\item[On Windows:] \n",
       "The default for the type of help is selected when \\R{} is installed --\n",
       "the `factory-fresh' default is HTML help.\n",
       "\n",
       "\n",
       "\\end{description}\n",
       "\n",
       "The rendering of text help will use directional quotes in suitable\n",
       "locales (UTF-8 and single-byte Windows locales): sometimes the fonts\n",
       "used do not support these quotes so this can be turned off by setting\n",
       "\\code{\\LinkA{options}{options}(useFancyQuotes = FALSE)}.\n",
       "\n",
       "\\code{topic} is not optional: if it is omitted \\R{} will give\n",
       "\\begin{itemize}\n",
       "\n",
       "\\item{} If a package is specified, (text or, in interactive use only,\n",
       "HTML) information on the package, including hints/links to suitable\n",
       "help topics.\n",
       "\\item{} If \\code{lib.loc} only is specified, a (text) list of available\n",
       "packages.\n",
       "\\item{} Help on \\code{help} itself if none of the first three\n",
       "arguments is specified.\n",
       "\n",
       "\\end{itemize}\n",
       "\n",
       "\n",
       "Some topics need to be quoted (by \\LinkA{backtick}{backtick}s) or given as a\n",
       "character string.  These include those which cannot syntactically\n",
       "appear on their own such as unary and binary operators,\n",
       "\\code{function} and control-flow \\LinkA{reserved}{reserved} words (including\n",
       "\\code{if}, \\code{else} \\code{for}, \\code{in}, \\code{repeat},\n",
       "\\code{while}, \\code{break} and \\code{next}).  The other \\code{reserved}\n",
       "words can be used as if they were names, for example \\code{TRUE},\n",
       "\\code{NA} and \\code{Inf}.\n",
       "\n",
       "If multiple help files matching \\code{topic} are found, in interactive\n",
       "use a menu is presented for the user to choose one: in batch use the\n",
       "first on the search path is used.  (For HTML help the menu will be an\n",
       "HTML page, otherwise a graphical menu if possible if\n",
       "\\code{\\LinkA{getOption}{getOption}(\"menu.graphics\")} is true, the default.)\n",
       "\n",
       "Note that HTML help does not make use of \\code{lib.loc}: it will\n",
       "always look first in the loaded packages and then along\n",
       "\\code{.libPaths()}.\n",
       "\\end{Details}\n",
       "%\n",
       "\\begin{Section}{Offline help}\n",
       "Typeset documentation is produced by running the LaTeX version of the\n",
       "help page through \\command{pdflatex}: this will produce a PDF file.\n",
       "\n",
       "The appearance of the output can be customized through a file\n",
       "\\file{Rhelp.cfg} somewhere in your LaTeX search path: this will be\n",
       "input as a LaTeX style file after \\code{Rd.sty}.  Some\n",
       "\\LinkA{environment variables}{environment variables} are consulted, notably \\env{R\\_PAPERSIZE}\n",
       "(\\emph{via} \\code{getOption(\"papersize\")}) and \\env{R\\_RD4PDF} (see\n",
       "`Making manuals' in the\n",
       "`R Installation and Administration' manual).\n",
       "\n",
       "If there is a function \\code{offline\\_help\\_helper} in the workspace or\n",
       "further down the search path it is used to do the typesetting,\n",
       "otherwise the function of that name in the \\code{utils} namespace (to\n",
       "which the first paragraph applies).  It should accept at least two\n",
       "arguments, the name of the LaTeX file to be typeset and the type\n",
       "(which is nowadays ignored).  It accepts a third argument,\n",
       "\\code{texinputs}, which will give the graphics path when the help\n",
       "document contains figures, and will otherwise not be supplied.\n",
       "\\end{Section}\n",
       "%\n",
       "\\begin{Note}\\relax\n",
       "Unless \\code{lib.loc} is specified explicitly, the loaded packages are\n",
       "searched before those in the specified libraries.  This ensures that\n",
       "if a library is loaded from a library not in the known library trees,\n",
       "then the help from the loaded library is used.  If \\code{lib.loc} is\n",
       "specified explicitly, the loaded packages are \\emph{not} searched.\n",
       "\n",
       "If this search fails and argument \\code{try.all.packages} is\n",
       "\\code{TRUE} and neither \\code{packages} nor \\code{lib.loc} is\n",
       "specified, then all the packages in the known library trees are\n",
       "searched for help on \\code{topic} and a list of (any) packages where\n",
       "help may be found is displayed (with hyperlinks for\n",
       "\\code{help\\_type = \"html\"}).\n",
       "\\strong{NB:} searching all packages can be slow, especially\n",
       "the first time (caching of files by the OS can expedite subsequent\n",
       "searches dramatically).\n",
       "\\end{Note}\n",
       "%\n",
       "\\begin{References}\\relax\n",
       "Becker, R. A., Chambers, J. M. and Wilks, A. R. (1988)\n",
       "\\emph{The New S Language}.\n",
       "Wadsworth \\& Brooks/Cole.\n",
       "\\end{References}\n",
       "%\n",
       "\\begin{SeeAlso}\\relax\n",
       "\\code{\\LinkA{?}{Question}} for shortcuts to help topics.\n",
       "\n",
       "\\code{\\LinkA{help.search}{help.search}()} or \\code{\\LinkA{??}{??}} for finding help pages\n",
       "on a vague topic;\n",
       "\\code{\\LinkA{help.start}{help.start}()} which opens the HTML version of the \\R{}\n",
       "help pages;\n",
       "\\code{\\LinkA{library}{library}()} for listing available packages and the\n",
       "help objects they contain;\n",
       "\\code{\\LinkA{data}{data}()} for listing available data sets;\n",
       "\\code{\\LinkA{methods}{methods}()}.\n",
       "\n",
       "Use \\code{\\LinkA{prompt}{prompt}()} to get a prototype for writing \\code{help}\n",
       "pages of your own package.\n",
       "\\end{SeeAlso}\n",
       "%\n",
       "\\begin{Examples}\n",
       "\\begin{ExampleCode}\n",
       "help()\n",
       "help(help)              # the same\n",
       "\n",
       "help(lapply)\n",
       "\n",
       "help(\"for\")             # or ?\"for\", but quotes/backticks are needed\n",
       "\n",
       "try({# requires working TeX installation:\n",
       " help(dgamma, help_type = \"pdf\")\n",
       " ## -> nicely formatted pdf -- including math formula -- for help(dgamma):\n",
       " system2(getOption(\"pdfviewer\"), \"dgamma.pdf\", wait = FALSE)\n",
       "})\n",
       "\n",
       "help(package = \"splines\") # get help even when package is not loaded\n",
       "\n",
       "topi <- \"women\"\n",
       "help(topi)\n",
       "\n",
       "try(help(\"bs\", try.all.packages = FALSE)) # reports not found (an error)\n",
       "help(\"bs\", try.all.packages = TRUE)       # reports can be found\n",
       "                                          # in package 'splines'\n",
       "\n",
       "## For programmatic use:\n",
       "topic <- \"family\"; pkg_ref <- \"stats\"\n",
       "help((topic), (pkg_ref))\n",
       "\\end{ExampleCode}\n",
       "\\end{Examples}"
      ],
      "text/plain": [
       "help                   package:utils                   R Documentation\n",
       "\n",
       "_\bD_\bo_\bc_\bu_\bm_\be_\bn_\bt_\ba_\bt_\bi_\bo_\bn\n",
       "\n",
       "_\bD_\be_\bs_\bc_\br_\bi_\bp_\bt_\bi_\bo_\bn:\n",
       "\n",
       "     ‘help’ is the primary interface to the help systems.\n",
       "\n",
       "_\bU_\bs_\ba_\bg_\be:\n",
       "\n",
       "     help(topic, package = NULL, lib.loc = NULL,\n",
       "          verbose = getOption(\"verbose\"),\n",
       "          try.all.packages = getOption(\"help.try.all.packages\"),\n",
       "          help_type = getOption(\"help_type\"))\n",
       "     \n",
       "_\bA_\br_\bg_\bu_\bm_\be_\bn_\bt_\bs:\n",
       "\n",
       "   topic: usually, a name or character string specifying the topic for\n",
       "          which help is sought.  A character string (enclosed in\n",
       "          explicit single or double quotes) is always taken as naming a\n",
       "          topic.\n",
       "\n",
       "          If the value of ‘topic’ is a length-one character vector the\n",
       "          topic is taken to be the value of the only element.\n",
       "          Otherwise ‘topic’ must be a name or a reserved word (if\n",
       "          syntactically valid) or character string.\n",
       "\n",
       "          See ‘Details’ for what happens if this is omitted.\n",
       "\n",
       " package: a name or character vector giving the packages to look into\n",
       "          for documentation, or ‘NULL’.  By default, all packages whose\n",
       "          namespaces are loaded are used.  To avoid a name being\n",
       "          deparsed use e.g.  ‘(pkg_ref)’ (see the examples).\n",
       "\n",
       " lib.loc: a character vector of directory names of R libraries, or\n",
       "          ‘NULL’.  The default value of ‘NULL’ corresponds to all\n",
       "          libraries currently known.  If the default is used, the\n",
       "          loaded packages are searched before the libraries.  This is\n",
       "          not used for HTML help (see ‘Details’).\n",
       "\n",
       " verbose: logical; if ‘TRUE’, the file name is reported.\n",
       "\n",
       "try.all.packages: logical; see ‘Note’.\n",
       "\n",
       "help_type: character string: the type of help required.  Possible\n",
       "          values are ‘\"text\"’, ‘\"html\"’ and ‘\"pdf\"’.  Case is ignored,\n",
       "          and partial matching is allowed.\n",
       "\n",
       "_\bD_\be_\bt_\ba_\bi_\bl_\bs:\n",
       "\n",
       "     The following types of help are available:\n",
       "\n",
       "        • Plain text help\n",
       "\n",
       "        • HTML help pages with hyperlinks to other topics, shown in a\n",
       "          browser by ‘browseURL’.\n",
       "\n",
       "          (On Unix-alikes, where possible an existing browser window is\n",
       "          re-used: the macOS GUI uses its own browser window.)\n",
       "\n",
       "          If for some reason HTML help is unavailable (see\n",
       "          ‘startDynamicHelp’), plain text help will be used instead.\n",
       "\n",
       "        • For ‘help’ only, typeset as PDF - see the section on ‘Offline\n",
       "          help’.\n",
       "\n",
       "     On Unix-alikes: The ‘factory-fresh’ default is text help except\n",
       "          from the macOS GUI, which uses HTML help displayed in its own\n",
       "          browser window.\n",
       "\n",
       "     On Windows: The default for the type of help is selected when R is\n",
       "          installed - the ‘factory-fresh’ default is HTML help.\n",
       "\n",
       "     The rendering of text help will use directional quotes in suitable\n",
       "     locales (UTF-8 and single-byte Windows locales): sometimes the\n",
       "     fonts used do not support these quotes so this can be turned off\n",
       "     by setting ‘options(useFancyQuotes = FALSE)’.\n",
       "\n",
       "     ‘topic’ is not optional: if it is omitted R will give\n",
       "\n",
       "        • If a package is specified, (text or, in interactive use only,\n",
       "          HTML) information on the package, including hints/links to\n",
       "          suitable help topics.\n",
       "\n",
       "        • If ‘lib.loc’ only is specified, a (text) list of available\n",
       "          packages.\n",
       "\n",
       "        • Help on ‘help’ itself if none of the first three arguments is\n",
       "          specified.\n",
       "\n",
       "     Some topics need to be quoted (by backticks) or given as a\n",
       "     character string.  These include those which cannot syntactically\n",
       "     appear on their own such as unary and binary operators, ‘function’\n",
       "     and control-flow reserved words (including ‘if’, ‘else’ ‘for’,\n",
       "     ‘in’, ‘repeat’, ‘while’, ‘break’ and ‘next’).  The other\n",
       "     ‘reserved’ words can be used as if they were names, for example\n",
       "     ‘TRUE’, ‘NA’ and ‘Inf’.\n",
       "\n",
       "     If multiple help files matching ‘topic’ are found, in interactive\n",
       "     use a menu is presented for the user to choose one: in batch use\n",
       "     the first on the search path is used.  (For HTML help the menu\n",
       "     will be an HTML page, otherwise a graphical menu if possible if\n",
       "     ‘getOption(\"menu.graphics\")’ is true, the default.)\n",
       "\n",
       "     Note that HTML help does not make use of ‘lib.loc’: it will always\n",
       "     look first in the loaded packages and then along ‘.libPaths()’.\n",
       "\n",
       "_\bO_\bf_\bf_\bl_\bi_\bn_\be _\bh_\be_\bl_\bp:\n",
       "\n",
       "     Typeset documentation is produced by running the LaTeX version of\n",
       "     the help page through ‘pdflatex’: this will produce a PDF file.\n",
       "\n",
       "     The appearance of the output can be customized through a file\n",
       "     ‘Rhelp.cfg’ somewhere in your LaTeX search path: this will be\n",
       "     input as a LaTeX style file after ‘Rd.sty’.  Some environment\n",
       "     variables are consulted, notably ‘R_PAPERSIZE’ (_via_\n",
       "     ‘getOption(\"papersize\")’) and ‘R_RD4PDF’ (see ‘Making manuals’ in\n",
       "     the ‘R Installation and Administration’ manual).\n",
       "\n",
       "     If there is a function ‘offline_help_helper’ in the workspace or\n",
       "     further down the search path it is used to do the typesetting,\n",
       "     otherwise the function of that name in the ‘utils’ namespace (to\n",
       "     which the first paragraph applies).  It should accept at least two\n",
       "     arguments, the name of the LaTeX file to be typeset and the type\n",
       "     (which is nowadays ignored).  It accepts a third argument,\n",
       "     ‘texinputs’, which will give the graphics path when the help\n",
       "     document contains figures, and will otherwise not be supplied.\n",
       "\n",
       "_\bN_\bo_\bt_\be:\n",
       "\n",
       "     Unless ‘lib.loc’ is specified explicitly, the loaded packages are\n",
       "     searched before those in the specified libraries.  This ensures\n",
       "     that if a library is loaded from a library not in the known\n",
       "     library trees, then the help from the loaded library is used.  If\n",
       "     ‘lib.loc’ is specified explicitly, the loaded packages are _not_\n",
       "     searched.\n",
       "\n",
       "     If this search fails and argument ‘try.all.packages’ is ‘TRUE’ and\n",
       "     neither ‘packages’ nor ‘lib.loc’ is specified, then all the\n",
       "     packages in the known library trees are searched for help on\n",
       "     ‘topic’ and a list of (any) packages where help may be found is\n",
       "     displayed (with hyperlinks for ‘help_type = \"html\"’).  *NB:*\n",
       "     searching all packages can be slow, especially the first time\n",
       "     (caching of files by the OS can expedite subsequent searches\n",
       "     dramatically).\n",
       "\n",
       "_\bR_\be_\bf_\be_\br_\be_\bn_\bc_\be_\bs:\n",
       "\n",
       "     Becker, R. A., Chambers, J. M. and Wilks, A. R. (1988) _The New S\n",
       "     Language_.  Wadsworth & Brooks/Cole.\n",
       "\n",
       "_\bS_\be_\be _\bA_\bl_\bs_\bo:\n",
       "\n",
       "     ‘?’ for shortcuts to help topics.\n",
       "\n",
       "     ‘help.search()’ or ‘??’ for finding help pages on a vague topic;\n",
       "     ‘help.start()’ which opens the HTML version of the R help pages;\n",
       "     ‘library()’ for listing available packages and the help objects\n",
       "     they contain; ‘data()’ for listing available data sets;\n",
       "     ‘methods()’.\n",
       "\n",
       "     Use ‘prompt()’ to get a prototype for writing ‘help’ pages of your\n",
       "     own package.\n",
       "\n",
       "_\bE_\bx_\ba_\bm_\bp_\bl_\be_\bs:\n",
       "\n",
       "     help()\n",
       "     help(help)              # the same\n",
       "     \n",
       "     help(lapply)\n",
       "     \n",
       "     help(\"for\")             # or ?\"for\", but quotes/backticks are needed\n",
       "     \n",
       "     try({# requires working TeX installation:\n",
       "      help(dgamma, help_type = \"pdf\")\n",
       "      ## -> nicely formatted pdf -- including math formula -- for help(dgamma):\n",
       "      system2(getOption(\"pdfviewer\"), \"dgamma.pdf\", wait = FALSE)\n",
       "     })\n",
       "     \n",
       "     help(package = \"splines\") # get help even when package is not loaded\n",
       "     \n",
       "     topi <- \"women\"\n",
       "     help(topi)\n",
       "     \n",
       "     try(help(\"bs\", try.all.packages = FALSE)) # reports not found (an error)\n",
       "     help(\"bs\", try.all.packages = TRUE)       # reports can be found\n",
       "                                               # in package 'splines'\n",
       "     \n",
       "     ## For programmatic use:\n",
       "     topic <- \"family\"; pkg_ref <- \"stats\"\n",
       "     help((topic), (pkg_ref))\n",
       "     "
      ]
     },
     "metadata": {},
     "output_type": "display_data"
    }
   ],
   "source": [
    "help()"
   ]
  },
  {
   "cell_type": "code",
   "execution_count": 4,
   "metadata": {},
   "outputs": [
    {
     "data": {
      "text/html": [
       "\n",
       "<table width=\"100%\" summary=\"page for plot.default {graphics}\"><tr><td>plot.default {graphics}</td><td style=\"text-align: right;\">R Documentation</td></tr></table>\n",
       "\n",
       "<h2>The Default Scatterplot Function</h2>\n",
       "\n",
       "<h3>Description</h3>\n",
       "\n",
       "<p>Draw a scatter plot with decorations such as axes and titles\n",
       "in the active graphics window.\n",
       "</p>\n",
       "\n",
       "\n",
       "<h3>Usage</h3>\n",
       "\n",
       "<pre>\n",
       "## Default S3 method:\n",
       "plot(x, y = NULL, type = \"p\",  xlim = NULL, ylim = NULL,\n",
       "     log = \"\", main = NULL, sub = NULL, xlab = NULL, ylab = NULL,\n",
       "     ann = par(\"ann\"), axes = TRUE, frame.plot = axes,\n",
       "     panel.first = NULL, panel.last = NULL, asp = NA,\n",
       "     xgap.axis = NA, ygap.axis = NA,\n",
       "     ...)\n",
       "</pre>\n",
       "\n",
       "\n",
       "<h3>Arguments</h3>\n",
       "\n",
       "<table summary=\"R argblock\">\n",
       "<tr valign=\"top\"><td><code>x, y</code></td>\n",
       "<td>\n",
       "<p>the <code>x</code> and <code>y</code> arguments provide the x and y\n",
       "coordinates for the plot.  Any reasonable way of defining the\n",
       "coordinates is acceptable.  See the function <code>xy.coords</code>\n",
       "for details.  If supplied separately, they must be of the same length.</p>\n",
       "</td></tr>\n",
       "<tr valign=\"top\"><td><code>type</code></td>\n",
       "<td>\n",
       "<p>1-character string giving the type of plot desired.  The\n",
       "following values are possible, for details, see <code>plot</code>:\n",
       "<code>\"p\"</code> for points, <code>\"l\"</code> for lines,\n",
       "<code>\"b\"</code> for both points and lines,\n",
       "<code>\"c\"</code> for empty points joined by lines,\n",
       "<code>\"o\"</code> for overplotted points and lines,\n",
       "<code>\"s\"</code> and <code>\"S\"</code> for stair steps and\n",
       "<code>\"h\"</code> for histogram-like vertical lines.  Finally,\n",
       "<code>\"n\"</code> does not produce any points or lines.</p>\n",
       "</td></tr>\n",
       "<tr valign=\"top\"><td><code>xlim</code></td>\n",
       "<td>\n",
       "<p>the x limits (x1, x2) of the plot.  Note that <code>x1 &gt; x2</code>\n",
       "is allowed and leads to a &lsquo;reversed axis&rsquo;.\n",
       "</p>\n",
       "<p>The default value, <code>NULL</code>, indicates that the range of the\n",
       "finite values to be plotted should be used.</p>\n",
       "</td></tr>\n",
       "<tr valign=\"top\"><td><code>ylim</code></td>\n",
       "<td>\n",
       "<p>the y limits of the plot.</p>\n",
       "</td></tr>\n",
       "<tr valign=\"top\"><td><code>log</code></td>\n",
       "<td>\n",
       "<p>a character string which contains <code>\"x\"</code> if the x axis\n",
       "is to be logarithmic, <code>\"y\"</code> if the y axis is to be logarithmic\n",
       "and <code>\"xy\"</code> or <code>\"yx\"</code> if both axes are to be logarithmic.</p>\n",
       "</td></tr>\n",
       "<tr valign=\"top\"><td><code>main</code></td>\n",
       "<td>\n",
       "<p>a main title for the plot, see also <code>title</code>.</p>\n",
       "</td></tr>\n",
       "<tr valign=\"top\"><td><code>sub</code></td>\n",
       "<td>\n",
       "<p>a sub title for the plot.</p>\n",
       "</td></tr>\n",
       "<tr valign=\"top\"><td><code>xlab</code></td>\n",
       "<td>\n",
       "<p>a label for the x axis, defaults to a description of <code>x</code>.</p>\n",
       "</td></tr>\n",
       "<tr valign=\"top\"><td><code>ylab</code></td>\n",
       "<td>\n",
       "<p>a label for the y axis, defaults to a description of <code>y</code>.</p>\n",
       "</td></tr>\n",
       "<tr valign=\"top\"><td><code>ann</code></td>\n",
       "<td>\n",
       "<p>a logical value indicating whether the default annotation\n",
       "(title and x and y axis labels) should appear on the plot.</p>\n",
       "</td></tr>\n",
       "<tr valign=\"top\"><td><code>axes</code></td>\n",
       "<td>\n",
       "<p>a logical value indicating whether both axes should be drawn on\n",
       "the plot.  Use graphical parameter <code>\"xaxt\"</code> or <code>\"yaxt\"</code>\n",
       "to suppress just one of the axes.</p>\n",
       "</td></tr>\n",
       "<tr valign=\"top\"><td><code>frame.plot</code></td>\n",
       "<td>\n",
       "<p>a logical indicating whether a box should be drawn\n",
       "around the plot.</p>\n",
       "</td></tr>\n",
       "<tr valign=\"top\"><td><code>panel.first</code></td>\n",
       "<td>\n",
       "<p>an &lsquo;expression&rsquo; to be evaluated after the\n",
       "plot axes are set up but before any plotting takes place.  This can\n",
       "be useful for drawing background grids or scatterplot smooths.  Note\n",
       "that this works by lazy evaluation: passing this argument from other\n",
       "<code>plot</code> methods may well not work since it may be evaluated too\n",
       "early.</p>\n",
       "</td></tr>\n",
       "<tr valign=\"top\"><td><code>panel.last</code></td>\n",
       "<td>\n",
       "<p>an expression to be evaluated after plotting has\n",
       "taken place but before the axes, title and box are added.  See the\n",
       "comments about <code>panel.first</code>.</p>\n",
       "</td></tr>\n",
       "<tr valign=\"top\"><td><code>asp</code></td>\n",
       "<td>\n",
       "<p>the <i>y/x</i> aspect ratio, see <code>plot.window</code>.</p>\n",
       "</td></tr>\n",
       "<tr valign=\"top\"><td><code>xgap.axis, ygap.axis</code></td>\n",
       "<td>\n",
       "<p>the <i>x/y</i> axis gap factors, passed as\n",
       "<code>gap.axis</code> to the two <code>axis()</code> calls (when\n",
       "<code>axes</code> is true, as per default).</p>\n",
       "</td></tr>\n",
       "<tr valign=\"top\"><td><code>...</code></td>\n",
       "<td>\n",
       "<p>other graphical parameters (see <code>par</code> and\n",
       "section &lsquo;Details&rsquo; below).</p>\n",
       "</td></tr>\n",
       "</table>\n",
       "\n",
       "\n",
       "<h3>Details</h3>\n",
       "\n",
       "<p>Commonly used graphical parameters are:\n",
       "</p>\n",
       "\n",
       "<dl>\n",
       "<dt><code>col</code></dt><dd><p>The colors for lines and points.  Multiple colors can be\n",
       "specified so that each point can be given its own color.  If there\n",
       "are fewer colors than points they are recycled in the standard\n",
       "fashion.  Lines will all be plotted in the first colour specified.</p>\n",
       "</dd>\n",
       "<dt><code>bg</code></dt><dd><p>a vector of background colors for open plot symbols, see\n",
       "<code>points</code>.  Note: this is <b>not</b> the same setting\n",
       "as <code>par(\"bg\")</code>.</p>\n",
       "</dd>\n",
       "<dt><code>pch</code></dt><dd><p>a vector of plotting characters or symbols:\n",
       "see <code>points</code>.</p>\n",
       "</dd>\n",
       "<dt><code>cex</code></dt><dd><p>a numerical vector giving the amount by which\n",
       "plotting characters and symbols should be scaled relative to the\n",
       "default.  This works as a multiple of <code>par(\"cex\")</code>.\n",
       "<code>NULL</code> and <code>NA</code> are equivalent to <code>1.0</code>.  Note that\n",
       "this does not affect annotation: see below.</p>\n",
       "</dd>\n",
       "<dt><code>lty</code></dt><dd><p>a vector of line types, see <code>par</code>.</p>\n",
       "</dd>\n",
       "<dt><code>cex.main</code>, <code>col.lab</code>, <code>font.sub</code>,\n",
       "etc</dt><dd><p>settings for main- and sub-title and axis annotation, see\n",
       "<code>title</code> and <code>par</code>.</p>\n",
       "</dd>\n",
       "<dt><code>lwd</code></dt><dd><p>a vector of line widths, see <code>par</code>.</p>\n",
       "</dd>\n",
       "</dl>\n",
       "\n",
       "\n",
       "\n",
       "<h3>Note</h3>\n",
       "\n",
       "<p>The presence of <code>panel.first</code> and <code>panel.last</code> is a\n",
       "historical anomaly: default plots do not have &lsquo;panels&rsquo;, unlike\n",
       "e.g. <code>pairs</code> plots.  For more control, use lower-level\n",
       "plotting functions: <code>plot.default</code> calls in turn some of\n",
       "<code>plot.new</code>, <code>plot.window</code>,\n",
       "<code>plot.xy</code>, <code>axis</code>, <code>box</code> and\n",
       "<code>title</code>, and plots can be built up by calling these\n",
       "individually, or by calling <code>plot(type = \"n\")</code> and adding further\n",
       "elements.\n",
       "</p>\n",
       "<p>The <code>plot</code> generic was moved from the <span class=\"pkg\">graphics</span> package to\n",
       "the <span class=\"pkg\">base</span> package in <span style=\"font-family: Courier New, Courier; color: #666666;\"><b>R</b></span> 4.0.0. It is currently re-exported from\n",
       "the <span class=\"pkg\">graphics</span> namespace to allow packages importing it from there\n",
       "to continue working, but this may change in future versions of <span style=\"font-family: Courier New, Courier; color: #666666;\"><b>R</b></span>.\n",
       "</p>\n",
       "\n",
       "\n",
       "<h3>References</h3>\n",
       "\n",
       "<p>Becker, R. A., Chambers, J. M. and Wilks, A. R. (1988)\n",
       "<em>The New S Language</em>.\n",
       "Wadsworth &amp; Brooks/Cole.\n",
       "</p>\n",
       "<p>Cleveland, W. S. (1985)\n",
       "<em>The Elements of Graphing Data.</em>\n",
       "Monterey, CA: Wadsworth.\n",
       "</p>\n",
       "<p>Murrell, P. (2005) <em>R Graphics</em>. Chapman &amp; Hall/CRC Press.\n",
       "</p>\n",
       "\n",
       "\n",
       "<h3>See Also</h3>\n",
       "\n",
       "<p><code>plot</code>, <code>plot.window</code>, <code>xy.coords</code>.\n",
       "For thousands of points, consider using <code>smoothScatter</code>\n",
       "instead.\n",
       "</p>\n",
       "\n",
       "\n",
       "<h3>Examples</h3>\n",
       "\n",
       "<pre>\n",
       "Speed &lt;- cars$speed\n",
       "Distance &lt;- cars$dist\n",
       "plot(Speed, Distance, panel.first = grid(8, 8),\n",
       "     pch = 0, cex = 1.2, col = \"blue\")\n",
       "plot(Speed, Distance,\n",
       "     panel.first = lines(stats::lowess(Speed, Distance), lty = \"dashed\"),\n",
       "     pch = 0, cex = 1.2, col = \"blue\")\n",
       "\n",
       "## Show the different plot types\n",
       "x &lt;- 0:12\n",
       "y &lt;- sin(pi/5 * x)\n",
       "op &lt;- par(mfrow = c(3,3), mar = .1+ c(2,2,3,1))\n",
       "for (tp in c(\"p\",\"l\",\"b\",  \"c\",\"o\",\"h\",  \"s\",\"S\",\"n\")) {\n",
       "   plot(y ~ x, type = tp, main = paste0(\"plot(*, type = \\\"\", tp, \"\\\")\"))\n",
       "   if(tp == \"S\") {\n",
       "      lines(x, y, type = \"s\", col = \"red\", lty = 2)\n",
       "      mtext(\"lines(*, type = \\\"s\\\", ...)\", col = \"red\", cex = 0.8)\n",
       "   }\n",
       "}\n",
       "par(op)\n",
       "\n",
       "##--- Log-Log Plot  with  custom axes\n",
       "lx &lt;- seq(1, 5, length.out = 41)\n",
       "yl &lt;- expression(e^{-frac(1,2) * {log[10](x)}^2})\n",
       "y &lt;- exp(-.5*lx^2)\n",
       "op &lt;- par(mfrow = c(2,1), mar = par(\"mar\")-c(1,0,2,0), mgp = c(2, .7, 0))\n",
       "plot(10^lx, y, log = \"xy\", type = \"l\", col = \"purple\",\n",
       "     main = \"Log-Log plot\", ylab = yl, xlab = \"x\")\n",
       "plot(10^lx, y, log = \"xy\", type = \"o\", pch = \".\", col = \"forestgreen\",\n",
       "     main = \"Log-Log plot with custom axes\", ylab = yl, xlab = \"x\",\n",
       "     axes = FALSE, frame.plot = TRUE)\n",
       "my.at &lt;- 10^(1:5)\n",
       "axis(1, at = my.at, labels = formatC(my.at, format = \"fg\"))\n",
       "e.y &lt;- -5:-1 ; at.y &lt;- 10^e.y\n",
       "axis(2, at = at.y, col.axis = \"red\", las = 1,\n",
       "     labels = as.expression(lapply(e.y, function(E) bquote(10^.(E)))))\n",
       "par(op)\n",
       "</pre>\n",
       "\n",
       "<hr /><div style=\"text-align: center;\">[Package <em>graphics</em> version 4.1.3 ]</div>"
      ],
      "text/latex": [
       "\\inputencoding{utf8}\n",
       "\\HeaderA{plot.default}{The Default Scatterplot Function}{plot.default}\n",
       "\\aliasA{plot}{plot.default}{plot}\n",
       "\\keyword{hplot}{plot.default}\n",
       "%\n",
       "\\begin{Description}\\relax\n",
       "Draw a scatter plot with decorations such as axes and titles\n",
       "in the active graphics window.\n",
       "\\end{Description}\n",
       "%\n",
       "\\begin{Usage}\n",
       "\\begin{verbatim}\n",
       "## Default S3 method:\n",
       "plot(x, y = NULL, type = \"p\",  xlim = NULL, ylim = NULL,\n",
       "     log = \"\", main = NULL, sub = NULL, xlab = NULL, ylab = NULL,\n",
       "     ann = par(\"ann\"), axes = TRUE, frame.plot = axes,\n",
       "     panel.first = NULL, panel.last = NULL, asp = NA,\n",
       "     xgap.axis = NA, ygap.axis = NA,\n",
       "     ...)\n",
       "\\end{verbatim}\n",
       "\\end{Usage}\n",
       "%\n",
       "\\begin{Arguments}\n",
       "\\begin{ldescription}\n",
       "\\item[\\code{x, y}] the \\code{x} and \\code{y} arguments provide the x and y\n",
       "coordinates for the plot.  Any reasonable way of defining the\n",
       "coordinates is acceptable.  See the function \\code{\\LinkA{xy.coords}{xy.coords}}\n",
       "for details.  If supplied separately, they must be of the same length.\n",
       "\\item[\\code{type}] 1-character string giving the type of plot desired.  The\n",
       "following values are possible, for details, see \\code{\\LinkA{plot}{plot}}:\n",
       "\\code{\"p\"} for points, \\code{\"l\"} for lines,\n",
       "\\code{\"b\"} for both points and lines,\n",
       "\\code{\"c\"} for empty points joined by lines,\n",
       "\\code{\"o\"} for overplotted points and lines,\n",
       "\\code{\"s\"} and \\code{\"S\"} for stair steps and\n",
       "\\code{\"h\"} for histogram-like vertical lines.  Finally,\n",
       "\\code{\"n\"} does not produce any points or lines.\n",
       "\\item[\\code{xlim}] the x limits (x1, x2) of the plot.  Note that \\code{x1 > x2}\n",
       "is allowed and leads to a `reversed axis'.\n",
       "\n",
       "The default value, \\code{NULL}, indicates that the range of the\n",
       "\\LinkA{finite}{finite} values to be plotted should be used.\n",
       "\\item[\\code{ylim}] the y limits of the plot.\n",
       "\\item[\\code{log}] a character string which contains \\code{\"x\"} if the x axis\n",
       "is to be logarithmic, \\code{\"y\"} if the y axis is to be logarithmic\n",
       "and \\code{\"xy\"} or \\code{\"yx\"} if both axes are to be logarithmic.\n",
       "\n",
       "\\item[\\code{main}] a main title for the plot, see also \\code{\\LinkA{title}{title}}.\n",
       "\\item[\\code{sub}] a sub title for the plot.\n",
       "\\item[\\code{xlab}] a label for the x axis, defaults to a description of \\code{x}.\n",
       "\\item[\\code{ylab}] a label for the y axis, defaults to a description of \\code{y}.\n",
       "\n",
       "\\item[\\code{ann}] a logical value indicating whether the default annotation\n",
       "(title and x and y axis labels) should appear on the plot.\n",
       "\\item[\\code{axes}] a logical value indicating whether both axes should be drawn on\n",
       "the plot.  Use \\LinkA{graphical parameter}{graphical parameter} \\code{\"xaxt\"} or \\code{\"yaxt\"}\n",
       "to suppress just one of the axes.\n",
       "\\item[\\code{frame.plot}] a logical indicating whether a box should be drawn\n",
       "around the plot.\n",
       "\n",
       "\\item[\\code{panel.first}] an `expression' to be evaluated after the\n",
       "plot axes are set up but before any plotting takes place.  This can\n",
       "be useful for drawing background grids or scatterplot smooths.  Note\n",
       "that this works by lazy evaluation: passing this argument from other\n",
       "\\code{plot} methods may well not work since it may be evaluated too\n",
       "early.\n",
       "\n",
       "\\item[\\code{panel.last}] an expression to be evaluated after plotting has\n",
       "taken place but before the axes, title and box are added.  See the\n",
       "comments about \\code{panel.first}.\n",
       "\n",
       "\\item[\\code{asp}] the \\eqn{y/x}{} aspect ratio, see \\code{\\LinkA{plot.window}{plot.window}}.\n",
       "\n",
       "\\item[\\code{xgap.axis, ygap.axis}] the \\eqn{x/y}{} axis gap factors, passed as\n",
       "\\code{gap.axis} to the two \\code{\\LinkA{axis}{axis}()} calls (when\n",
       "\\code{axes} is true, as per default).\n",
       "\n",
       "\\item[\\code{...}] other \\LinkA{graphical parameters}{graphical parameters} (see \\code{\\LinkA{par}{par}} and\n",
       "section `Details' below).\n",
       "\\end{ldescription}\n",
       "\\end{Arguments}\n",
       "%\n",
       "\\begin{Details}\\relax\n",
       "Commonly used \\LinkA{graphical parameters}{graphical parameters} are:\n",
       "\\begin{description}\n",
       "\n",
       "\\item[\\code{col}] The colors for lines and points.  Multiple colors can be\n",
       "specified so that each point can be given its own color.  If there\n",
       "are fewer colors than points they are recycled in the standard\n",
       "fashion.  Lines will all be plotted in the first colour specified.\n",
       "\\item[\\code{bg}] a vector of background colors for open plot symbols, see\n",
       "\\code{\\LinkA{points}{points}}.  Note: this is \\bold{not} the same setting\n",
       "as \\code{\\LinkA{par}{par}(\"bg\")}.\n",
       "\\item[\\code{pch}] a vector of plotting characters or symbols:\n",
       "see \\code{\\LinkA{points}{points}}.\n",
       "\\item[\\code{cex}] a numerical vector giving the amount by which\n",
       "plotting characters and symbols should be scaled relative to the\n",
       "default.  This works as a multiple of \\code{\\LinkA{par}{par}(\"cex\")}.\n",
       "\\code{NULL} and \\code{NA} are equivalent to \\code{1.0}.  Note that\n",
       "this does not affect annotation: see below.\n",
       "\\item[\\code{lty}] a vector of line types, see \\code{\\LinkA{par}{par}}.\n",
       "\\item[\\code{cex.main}, \\code{col.lab}, \\code{font.sub},\n",
       "etc] settings for main- and sub-title and axis annotation, see\n",
       "\\code{\\LinkA{title}{title}} and \\code{\\LinkA{par}{par}}.\n",
       "\\item[\\code{lwd}] a vector of line widths, see \\code{\\LinkA{par}{par}}.\n",
       "\n",
       "\\end{description}\n",
       "\n",
       "\\end{Details}\n",
       "%\n",
       "\\begin{Note}\\relax\n",
       "The presence of \\code{panel.first} and \\code{panel.last} is a\n",
       "historical anomaly: default plots do not have `panels', unlike\n",
       "e.g.~\\code{\\LinkA{pairs}{pairs}} plots.  For more control, use lower-level\n",
       "plotting functions: \\code{plot.default} calls in turn some of\n",
       "\\code{\\LinkA{plot.new}{plot.new}}, \\code{\\LinkA{plot.window}{plot.window}},\n",
       "\\code{\\LinkA{plot.xy}{plot.xy}}, \\code{\\LinkA{axis}{axis}}, \\code{\\LinkA{box}{box}} and\n",
       "\\code{\\LinkA{title}{title}}, and plots can be built up by calling these\n",
       "individually, or by calling \\code{plot(type = \"n\")} and adding further\n",
       "elements.\n",
       "\n",
       "The \\code{plot} generic was moved from the \\pkg{graphics} package to\n",
       "the \\pkg{base} package in \\R{} 4.0.0. It is currently re-exported from\n",
       "the \\pkg{graphics} namespace to allow packages importing it from there\n",
       "to continue working, but this may change in future versions of \\R{}.\n",
       "\\end{Note}\n",
       "%\n",
       "\\begin{References}\\relax\n",
       "Becker, R. A., Chambers, J. M. and Wilks, A. R. (1988)\n",
       "\\emph{The New S Language}.\n",
       "Wadsworth \\& Brooks/Cole.\n",
       "\n",
       "Cleveland, W. S. (1985)\n",
       "\\emph{The Elements of Graphing Data.}\n",
       "Monterey, CA: Wadsworth.\n",
       "\n",
       "Murrell, P. (2005) \\emph{R Graphics}. Chapman \\& Hall/CRC Press.\n",
       "\\end{References}\n",
       "%\n",
       "\\begin{SeeAlso}\\relax\n",
       "\\code{\\LinkA{plot}{plot}}, \\code{\\LinkA{plot.window}{plot.window}}, \\code{\\LinkA{xy.coords}{xy.coords}}.\n",
       "For thousands of points, consider using \\code{\\LinkA{smoothScatter}{smoothScatter}}\n",
       "instead.\n",
       "\\end{SeeAlso}\n",
       "%\n",
       "\\begin{Examples}\n",
       "\\begin{ExampleCode}\n",
       "Speed <- cars$speed\n",
       "Distance <- cars$dist\n",
       "plot(Speed, Distance, panel.first = grid(8, 8),\n",
       "     pch = 0, cex = 1.2, col = \"blue\")\n",
       "plot(Speed, Distance,\n",
       "     panel.first = lines(stats::lowess(Speed, Distance), lty = \"dashed\"),\n",
       "     pch = 0, cex = 1.2, col = \"blue\")\n",
       "\n",
       "## Show the different plot types\n",
       "x <- 0:12\n",
       "y <- sin(pi/5 * x)\n",
       "op <- par(mfrow = c(3,3), mar = .1+ c(2,2,3,1))\n",
       "for (tp in c(\"p\",\"l\",\"b\",  \"c\",\"o\",\"h\",  \"s\",\"S\",\"n\")) {\n",
       "   plot(y ~ x, type = tp, main = paste0(\"plot(*, type = \\\"\", tp, \"\\\")\"))\n",
       "   if(tp == \"S\") {\n",
       "      lines(x, y, type = \"s\", col = \"red\", lty = 2)\n",
       "      mtext(\"lines(*, type = \\\"s\\\", ...)\", col = \"red\", cex = 0.8)\n",
       "   }\n",
       "}\n",
       "par(op)\n",
       "\n",
       "##--- Log-Log Plot  with  custom axes\n",
       "lx <- seq(1, 5, length.out = 41)\n",
       "yl <- expression(e^{-frac(1,2) * {log[10](x)}^2})\n",
       "y <- exp(-.5*lx^2)\n",
       "op <- par(mfrow = c(2,1), mar = par(\"mar\")-c(1,0,2,0), mgp = c(2, .7, 0))\n",
       "plot(10^lx, y, log = \"xy\", type = \"l\", col = \"purple\",\n",
       "     main = \"Log-Log plot\", ylab = yl, xlab = \"x\")\n",
       "plot(10^lx, y, log = \"xy\", type = \"o\", pch = \".\", col = \"forestgreen\",\n",
       "     main = \"Log-Log plot with custom axes\", ylab = yl, xlab = \"x\",\n",
       "     axes = FALSE, frame.plot = TRUE)\n",
       "my.at <- 10^(1:5)\n",
       "axis(1, at = my.at, labels = formatC(my.at, format = \"fg\"))\n",
       "e.y <- -5:-1 ; at.y <- 10^e.y\n",
       "axis(2, at = at.y, col.axis = \"red\", las = 1,\n",
       "     labels = as.expression(lapply(e.y, function(E) bquote(10^.(E)))))\n",
       "par(op)\n",
       "\\end{ExampleCode}\n",
       "\\end{Examples}"
      ],
      "text/plain": [
       "plot.default             package:graphics              R Documentation\n",
       "\n",
       "_\bT_\bh_\be _\bD_\be_\bf_\ba_\bu_\bl_\bt _\bS_\bc_\ba_\bt_\bt_\be_\br_\bp_\bl_\bo_\bt _\bF_\bu_\bn_\bc_\bt_\bi_\bo_\bn\n",
       "\n",
       "_\bD_\be_\bs_\bc_\br_\bi_\bp_\bt_\bi_\bo_\bn:\n",
       "\n",
       "     Draw a scatter plot with decorations such as axes and titles in\n",
       "     the active graphics window.\n",
       "\n",
       "_\bU_\bs_\ba_\bg_\be:\n",
       "\n",
       "     ## Default S3 method:\n",
       "     plot(x, y = NULL, type = \"p\",  xlim = NULL, ylim = NULL,\n",
       "          log = \"\", main = NULL, sub = NULL, xlab = NULL, ylab = NULL,\n",
       "          ann = par(\"ann\"), axes = TRUE, frame.plot = axes,\n",
       "          panel.first = NULL, panel.last = NULL, asp = NA,\n",
       "          xgap.axis = NA, ygap.axis = NA,\n",
       "          ...)\n",
       "     \n",
       "_\bA_\br_\bg_\bu_\bm_\be_\bn_\bt_\bs:\n",
       "\n",
       "    x, y: the ‘x’ and ‘y’ arguments provide the x and y coordinates for\n",
       "          the plot.  Any reasonable way of defining the coordinates is\n",
       "          acceptable.  See the function ‘xy.coords’ for details.  If\n",
       "          supplied separately, they must be of the same length.\n",
       "\n",
       "    type: 1-character string giving the type of plot desired.  The\n",
       "          following values are possible, for details, see ‘plot’: ‘\"p\"’\n",
       "          for points, ‘\"l\"’ for lines, ‘\"b\"’ for both points and lines,\n",
       "          ‘\"c\"’ for empty points joined by lines, ‘\"o\"’ for overplotted\n",
       "          points and lines, ‘\"s\"’ and ‘\"S\"’ for stair steps and ‘\"h\"’\n",
       "          for histogram-like vertical lines.  Finally, ‘\"n\"’ does not\n",
       "          produce any points or lines.\n",
       "\n",
       "    xlim: the x limits (x1, x2) of the plot.  Note that ‘x1 > x2’ is\n",
       "          allowed and leads to a ‘reversed axis’.\n",
       "\n",
       "          The default value, ‘NULL’, indicates that the range of the\n",
       "          finite values to be plotted should be used.\n",
       "\n",
       "    ylim: the y limits of the plot.\n",
       "\n",
       "     log: a character string which contains ‘\"x\"’ if the x axis is to\n",
       "          be logarithmic, ‘\"y\"’ if the y axis is to be logarithmic and\n",
       "          ‘\"xy\"’ or ‘\"yx\"’ if both axes are to be logarithmic.\n",
       "\n",
       "    main: a main title for the plot, see also ‘title’.\n",
       "\n",
       "     sub: a sub title for the plot.\n",
       "\n",
       "    xlab: a label for the x axis, defaults to a description of ‘x’.\n",
       "\n",
       "    ylab: a label for the y axis, defaults to a description of ‘y’.\n",
       "\n",
       "     ann: a logical value indicating whether the default annotation\n",
       "          (title and x and y axis labels) should appear on the plot.\n",
       "\n",
       "    axes: a logical value indicating whether both axes should be drawn\n",
       "          on the plot.  Use graphical parameter ‘\"xaxt\"’ or ‘\"yaxt\"’ to\n",
       "          suppress just one of the axes.\n",
       "\n",
       "frame.plot: a logical indicating whether a box should be drawn around\n",
       "          the plot.\n",
       "\n",
       "panel.first: an ‘expression’ to be evaluated after the plot axes are\n",
       "          set up but before any plotting takes place.  This can be\n",
       "          useful for drawing background grids or scatterplot smooths.\n",
       "          Note that this works by lazy evaluation: passing this\n",
       "          argument from other ‘plot’ methods may well not work since it\n",
       "          may be evaluated too early.\n",
       "\n",
       "panel.last: an expression to be evaluated after plotting has taken\n",
       "          place but before the axes, title and box are added.  See the\n",
       "          comments about ‘panel.first’.\n",
       "\n",
       "     asp: the y/x aspect ratio, see ‘plot.window’.\n",
       "\n",
       "xgap.axis, ygap.axis: the x/y axis gap factors, passed as ‘gap.axis’ to\n",
       "          the two ‘axis()’ calls (when ‘axes’ is true, as per default).\n",
       "\n",
       "     ...: other graphical parameters (see ‘par’ and section ‘Details’\n",
       "          below).\n",
       "\n",
       "_\bD_\be_\bt_\ba_\bi_\bl_\bs:\n",
       "\n",
       "     Commonly used graphical parameters are:\n",
       "\n",
       "     ‘col’ The colors for lines and points.  Multiple colors can be\n",
       "          specified so that each point can be given its own color.  If\n",
       "          there are fewer colors than points they are recycled in the\n",
       "          standard fashion.  Lines will all be plotted in the first\n",
       "          colour specified.\n",
       "\n",
       "     ‘bg’ a vector of background colors for open plot symbols, see\n",
       "          ‘points’.  Note: this is *not* the same setting as\n",
       "          ‘par(\"bg\")’.\n",
       "\n",
       "     ‘pch’ a vector of plotting characters or symbols: see ‘points’.\n",
       "\n",
       "     ‘cex’ a numerical vector giving the amount by which plotting\n",
       "          characters and symbols should be scaled relative to the\n",
       "          default.  This works as a multiple of ‘par(\"cex\")’.  ‘NULL’\n",
       "          and ‘NA’ are equivalent to ‘1.0’.  Note that this does not\n",
       "          affect annotation: see below.\n",
       "\n",
       "     ‘lty’ a vector of line types, see ‘par’.\n",
       "\n",
       "     ‘cex.main’, ‘col.lab’, ‘font.sub’, etc settings for main- and\n",
       "          sub-title and axis annotation, see ‘title’ and ‘par’.\n",
       "\n",
       "     ‘lwd’ a vector of line widths, see ‘par’.\n",
       "\n",
       "_\bN_\bo_\bt_\be:\n",
       "\n",
       "     The presence of ‘panel.first’ and ‘panel.last’ is a historical\n",
       "     anomaly: default plots do not have ‘panels’, unlike e.g. ‘pairs’\n",
       "     plots.  For more control, use lower-level plotting functions:\n",
       "     ‘plot.default’ calls in turn some of ‘plot.new’, ‘plot.window’,\n",
       "     ‘plot.xy’, ‘axis’, ‘box’ and ‘title’, and plots can be built up by\n",
       "     calling these individually, or by calling ‘plot(type = \"n\")’ and\n",
       "     adding further elements.\n",
       "\n",
       "     The ‘plot’ generic was moved from the ‘graphics’ package to the\n",
       "     ‘base’ package in R 4.0.0. It is currently re-exported from the\n",
       "     ‘graphics’ namespace to allow packages importing it from there to\n",
       "     continue working, but this may change in future versions of R.\n",
       "\n",
       "_\bR_\be_\bf_\be_\br_\be_\bn_\bc_\be_\bs:\n",
       "\n",
       "     Becker, R. A., Chambers, J. M. and Wilks, A. R. (1988) _The New S\n",
       "     Language_.  Wadsworth & Brooks/Cole.\n",
       "\n",
       "     Cleveland, W. S. (1985) _The Elements of Graphing Data._ Monterey,\n",
       "     CA: Wadsworth.\n",
       "\n",
       "     Murrell, P. (2005) _R Graphics_. Chapman & Hall/CRC Press.\n",
       "\n",
       "_\bS_\be_\be _\bA_\bl_\bs_\bo:\n",
       "\n",
       "     ‘plot’, ‘plot.window’, ‘xy.coords’.  For thousands of points,\n",
       "     consider using ‘smoothScatter’ instead.\n",
       "\n",
       "_\bE_\bx_\ba_\bm_\bp_\bl_\be_\bs:\n",
       "\n",
       "     Speed <- cars$speed\n",
       "     Distance <- cars$dist\n",
       "     plot(Speed, Distance, panel.first = grid(8, 8),\n",
       "          pch = 0, cex = 1.2, col = \"blue\")\n",
       "     plot(Speed, Distance,\n",
       "          panel.first = lines(stats::lowess(Speed, Distance), lty = \"dashed\"),\n",
       "          pch = 0, cex = 1.2, col = \"blue\")\n",
       "     \n",
       "     ## Show the different plot types\n",
       "     x <- 0:12\n",
       "     y <- sin(pi/5 * x)\n",
       "     op <- par(mfrow = c(3,3), mar = .1+ c(2,2,3,1))\n",
       "     for (tp in c(\"p\",\"l\",\"b\",  \"c\",\"o\",\"h\",  \"s\",\"S\",\"n\")) {\n",
       "        plot(y ~ x, type = tp, main = paste0(\"plot(*, type = \\\"\", tp, \"\\\")\"))\n",
       "        if(tp == \"S\") {\n",
       "           lines(x, y, type = \"s\", col = \"red\", lty = 2)\n",
       "           mtext(\"lines(*, type = \\\"s\\\", ...)\", col = \"red\", cex = 0.8)\n",
       "        }\n",
       "     }\n",
       "     par(op)\n",
       "     \n",
       "     ##--- Log-Log Plot  with  custom axes\n",
       "     lx <- seq(1, 5, length.out = 41)\n",
       "     yl <- expression(e^{-frac(1,2) * {log[10](x)}^2})\n",
       "     y <- exp(-.5*lx^2)\n",
       "     op <- par(mfrow = c(2,1), mar = par(\"mar\")-c(1,0,2,0), mgp = c(2, .7, 0))\n",
       "     plot(10^lx, y, log = \"xy\", type = \"l\", col = \"purple\",\n",
       "          main = \"Log-Log plot\", ylab = yl, xlab = \"x\")\n",
       "     plot(10^lx, y, log = \"xy\", type = \"o\", pch = \".\", col = \"forestgreen\",\n",
       "          main = \"Log-Log plot with custom axes\", ylab = yl, xlab = \"x\",\n",
       "          axes = FALSE, frame.plot = TRUE)\n",
       "     my.at <- 10^(1:5)\n",
       "     axis(1, at = my.at, labels = formatC(my.at, format = \"fg\"))\n",
       "     e.y <- -5:-1 ; at.y <- 10^e.y\n",
       "     axis(2, at = at.y, col.axis = \"red\", las = 1,\n",
       "          labels = as.expression(lapply(e.y, function(E) bquote(10^.(E)))))\n",
       "     par(op)\n",
       "     "
      ]
     },
     "metadata": {},
     "output_type": "display_data"
    }
   ],
   "source": [
    "help(plot)"
   ]
  },
  {
   "cell_type": "markdown",
   "metadata": {},
   "source": [
    "bieżący katalog"
   ]
  },
  {
   "cell_type": "code",
   "execution_count": 5,
   "metadata": {},
   "outputs": [
    {
     "data": {
      "text/html": [
       "'/home/students/m/a/malejki/Computational-Methods/lab3'"
      ],
      "text/latex": [
       "'/home/students/m/a/malejki/Computational-Methods/lab3'"
      ],
      "text/markdown": [
       "'/home/students/m/a/malejki/Computational-Methods/lab3'"
      ],
      "text/plain": [
       "[1] \"/home/students/m/a/malejki/Computational-Methods/lab3\""
      ]
     },
     "metadata": {},
     "output_type": "display_data"
    }
   ],
   "source": [
    "getwd()"
   ]
  },
  {
   "cell_type": "markdown",
   "metadata": {},
   "source": [
    "zmiana katalogu bieżącego\n",
    "```\n",
    "setwd(\"~\")\n",
    "```"
   ]
  },
  {
   "cell_type": "markdown",
   "metadata": {},
   "source": [
    "#### Proste obliczenia"
   ]
  },
  {
   "cell_type": "code",
   "execution_count": 6,
   "metadata": {},
   "outputs": [
    {
     "data": {
      "text/html": [
       "4"
      ],
      "text/latex": [
       "4"
      ],
      "text/markdown": [
       "4"
      ],
      "text/plain": [
       "[1] 4"
      ]
     },
     "metadata": {},
     "output_type": "display_data"
    }
   ],
   "source": [
    "2+2"
   ]
  },
  {
   "cell_type": "markdown",
   "metadata": {},
   "source": [
    "Przypisanie \n",
    "\n",
    "więcej o rodzajach przypisania: http://stat.ethz.ch/R-manual/R-patched/library/base/html/assignOps.html"
   ]
  },
  {
   "cell_type": "code",
   "execution_count": 7,
   "metadata": {},
   "outputs": [],
   "source": [
    "a <- 2 # najczęściej stosowane"
   ]
  },
  {
   "cell_type": "code",
   "execution_count": 8,
   "metadata": {},
   "outputs": [],
   "source": [
    "a = 2"
   ]
  },
  {
   "cell_type": "markdown",
   "metadata": {},
   "source": [
    "Działanie:"
   ]
  },
  {
   "cell_type": "code",
   "execution_count": 9,
   "metadata": {},
   "outputs": [
    {
     "data": {
      "text/html": [
       "4"
      ],
      "text/latex": [
       "4"
      ],
      "text/markdown": [
       "4"
      ],
      "text/plain": [
       "[1] 4"
      ]
     },
     "metadata": {},
     "output_type": "display_data"
    }
   ],
   "source": [
    "a * 2"
   ]
  },
  {
   "cell_type": "markdown",
   "metadata": {},
   "source": [
    "#### Wektory\n",
    "\n",
    "Tworzenie wektorów - funkcja `c()` "
   ]
  },
  {
   "cell_type": "code",
   "execution_count": 10,
   "metadata": {},
   "outputs": [
    {
     "data": {
      "text/html": [
       "<style>\n",
       ".list-inline {list-style: none; margin:0; padding: 0}\n",
       ".list-inline>li {display: inline-block}\n",
       ".list-inline>li:not(:last-child)::after {content: \"\\00b7\"; padding: 0 .5ex}\n",
       "</style>\n",
       "<ol class=list-inline><li>2</li><li>4</li><li>6</li><li>8</li></ol>\n"
      ],
      "text/latex": [
       "\\begin{enumerate*}\n",
       "\\item 2\n",
       "\\item 4\n",
       "\\item 6\n",
       "\\item 8\n",
       "\\end{enumerate*}\n"
      ],
      "text/markdown": [
       "1. 2\n",
       "2. 4\n",
       "3. 6\n",
       "4. 8\n",
       "\n",
       "\n"
      ],
      "text/plain": [
       "[1] 2 4 6 8"
      ]
     },
     "metadata": {},
     "output_type": "display_data"
    }
   ],
   "source": [
    "x <- c(1,2,3,4)\n",
    "z <- x*2\n",
    "z"
   ]
  },
  {
   "cell_type": "code",
   "execution_count": 11,
   "metadata": {},
   "outputs": [
    {
     "data": {
      "text/html": [
       "<style>\n",
       ".list-inline {list-style: none; margin:0; padding: 0}\n",
       ".list-inline>li {display: inline-block}\n",
       ".list-inline>li:not(:last-child)::after {content: \"\\00b7\"; padding: 0 .5ex}\n",
       "</style>\n",
       "<ol class=list-inline><li>3</li><li>6</li><li>9</li><li>12</li></ol>\n"
      ],
      "text/latex": [
       "\\begin{enumerate*}\n",
       "\\item 3\n",
       "\\item 6\n",
       "\\item 9\n",
       "\\item 12\n",
       "\\end{enumerate*}\n"
      ],
      "text/markdown": [
       "1. 3\n",
       "2. 6\n",
       "3. 9\n",
       "4. 12\n",
       "\n",
       "\n"
      ],
      "text/plain": [
       "[1]  3  6  9 12"
      ]
     },
     "metadata": {},
     "output_type": "display_data"
    }
   ],
   "source": [
    "y <- 2*(1:4)\n",
    "x+y"
   ]
  },
  {
   "cell_type": "markdown",
   "metadata": {},
   "source": [
    "Funkcje"
   ]
  },
  {
   "cell_type": "code",
   "execution_count": 12,
   "metadata": {},
   "outputs": [
    {
     "data": {
      "text/html": [
       "<style>\n",
       ".list-inline {list-style: none; margin:0; padding: 0}\n",
       ".list-inline>li {display: inline-block}\n",
       ".list-inline>li:not(:last-child)::after {content: \"\\00b7\"; padding: 0 .5ex}\n",
       "</style>\n",
       "<ol class=list-inline><li>1</li><li>3</li><li>5</li><li>7</li><li>9</li></ol>\n"
      ],
      "text/latex": [
       "\\begin{enumerate*}\n",
       "\\item 1\n",
       "\\item 3\n",
       "\\item 5\n",
       "\\item 7\n",
       "\\item 9\n",
       "\\end{enumerate*}\n"
      ],
      "text/markdown": [
       "1. 1\n",
       "2. 3\n",
       "3. 5\n",
       "4. 7\n",
       "5. 9\n",
       "\n",
       "\n"
      ],
      "text/plain": [
       "[1] 1 3 5 7 9"
      ]
     },
     "metadata": {},
     "output_type": "display_data"
    }
   ],
   "source": [
    "seq(1, 10, 2) "
   ]
  },
  {
   "cell_type": "code",
   "execution_count": 13,
   "metadata": {},
   "outputs": [],
   "source": [
    "x <- seq(1, 10)"
   ]
  },
  {
   "cell_type": "code",
   "execution_count": 14,
   "metadata": {},
   "outputs": [
    {
     "data": {
      "text/html": [
       "55"
      ],
      "text/latex": [
       "55"
      ],
      "text/markdown": [
       "55"
      ],
      "text/plain": [
       "[1] 55"
      ]
     },
     "metadata": {},
     "output_type": "display_data"
    }
   ],
   "source": [
    "sum(x)"
   ]
  },
  {
   "cell_type": "code",
   "execution_count": 15,
   "metadata": {},
   "outputs": [
    {
     "data": {
      "text/html": [
       "<style>\n",
       ".list-inline {list-style: none; margin:0; padding: 0}\n",
       ".list-inline>li {display: inline-block}\n",
       ".list-inline>li:not(:last-child)::after {content: \"\\00b7\"; padding: 0 .5ex}\n",
       "</style>\n",
       "<ol class=list-inline><li>1</li><li>1.4142135623731</li><li>1.73205080756888</li><li>2</li><li>2.23606797749979</li><li>2.44948974278318</li><li>2.64575131106459</li><li>2.82842712474619</li><li>3</li><li>3.16227766016838</li></ol>\n"
      ],
      "text/latex": [
       "\\begin{enumerate*}\n",
       "\\item 1\n",
       "\\item 1.4142135623731\n",
       "\\item 1.73205080756888\n",
       "\\item 2\n",
       "\\item 2.23606797749979\n",
       "\\item 2.44948974278318\n",
       "\\item 2.64575131106459\n",
       "\\item 2.82842712474619\n",
       "\\item 3\n",
       "\\item 3.16227766016838\n",
       "\\end{enumerate*}\n"
      ],
      "text/markdown": [
       "1. 1\n",
       "2. 1.4142135623731\n",
       "3. 1.73205080756888\n",
       "4. 2\n",
       "5. 2.23606797749979\n",
       "6. 2.44948974278318\n",
       "7. 2.64575131106459\n",
       "8. 2.82842712474619\n",
       "9. 3\n",
       "10. 3.16227766016838\n",
       "\n",
       "\n"
      ],
      "text/plain": [
       " [1] 1.000000 1.414214 1.732051 2.000000 2.236068 2.449490 2.645751 2.828427\n",
       " [9] 3.000000 3.162278"
      ]
     },
     "metadata": {},
     "output_type": "display_data"
    }
   ],
   "source": [
    "sqrt(x)"
   ]
  },
  {
   "cell_type": "markdown",
   "metadata": {},
   "source": [
    "## Import i przekształcanie danych"
   ]
  },
  {
   "cell_type": "markdown",
   "metadata": {},
   "source": [
    "R umożliwia wczytywanie danych z baz danych i plików w różnych formatach.\n",
    "\n",
    "Przykład: import z pliku CSV.\n",
    "\n",
    "Do importu służy funkcja `read.csv`\n",
    "\n",
    "Przykładowy plik: [data1.txt](https://www.icsr.agh.edu.pl/~malawski/dydakt/mownit/R/data1.txt)\n",
    "\n",
    "Kolumny `t1` i `t2` zawierają wyniki \"pomiarów\" czasu dla 2 \"algorytmów\"."
   ]
  },
  {
   "cell_type": "code",
   "execution_count": 16,
   "metadata": {},
   "outputs": [],
   "source": [
    "results = read.csv(\"data1.txt\")"
   ]
  },
  {
   "cell_type": "markdown",
   "metadata": {},
   "source": [
    "Zaimportowane dane są w postaci tabeli (data frame)."
   ]
  },
  {
   "cell_type": "code",
   "execution_count": 17,
   "metadata": {},
   "outputs": [
    {
     "data": {
      "text/html": [
       "<table class=\"dataframe\">\n",
       "<caption>A data.frame: 10 × 3</caption>\n",
       "<thead>\n",
       "\t<tr><th scope=col>n</th><th scope=col>t1</th><th scope=col>t2</th></tr>\n",
       "\t<tr><th scope=col>&lt;int&gt;</th><th scope=col>&lt;dbl&gt;</th><th scope=col>&lt;dbl&gt;</th></tr>\n",
       "</thead>\n",
       "<tbody>\n",
       "\t<tr><td> 1</td><td> 1.1</td><td> 2.3</td></tr>\n",
       "\t<tr><td> 2</td><td> 2.0</td><td> 4.1</td></tr>\n",
       "\t<tr><td> 3</td><td> 2.8</td><td> 6.0</td></tr>\n",
       "\t<tr><td> 4</td><td> 4.2</td><td> 8.2</td></tr>\n",
       "\t<tr><td> 5</td><td> 5.1</td><td> 9.9</td></tr>\n",
       "\t<tr><td> 6</td><td> 5.9</td><td>12.1</td></tr>\n",
       "\t<tr><td> 7</td><td> 6.7</td><td>14.1</td></tr>\n",
       "\t<tr><td> 8</td><td> 8.0</td><td>15.9</td></tr>\n",
       "\t<tr><td> 9</td><td> 9.1</td><td>18.1</td></tr>\n",
       "\t<tr><td>10</td><td>10.1</td><td>19.9</td></tr>\n",
       "</tbody>\n",
       "</table>\n"
      ],
      "text/latex": [
       "A data.frame: 10 × 3\n",
       "\\begin{tabular}{lll}\n",
       " n & t1 & t2\\\\\n",
       " <int> & <dbl> & <dbl>\\\\\n",
       "\\hline\n",
       "\t  1 &  1.1 &  2.3\\\\\n",
       "\t  2 &  2.0 &  4.1\\\\\n",
       "\t  3 &  2.8 &  6.0\\\\\n",
       "\t  4 &  4.2 &  8.2\\\\\n",
       "\t  5 &  5.1 &  9.9\\\\\n",
       "\t  6 &  5.9 & 12.1\\\\\n",
       "\t  7 &  6.7 & 14.1\\\\\n",
       "\t  8 &  8.0 & 15.9\\\\\n",
       "\t  9 &  9.1 & 18.1\\\\\n",
       "\t 10 & 10.1 & 19.9\\\\\n",
       "\\end{tabular}\n"
      ],
      "text/markdown": [
       "\n",
       "A data.frame: 10 × 3\n",
       "\n",
       "| n &lt;int&gt; | t1 &lt;dbl&gt; | t2 &lt;dbl&gt; |\n",
       "|---|---|---|\n",
       "|  1 |  1.1 |  2.3 |\n",
       "|  2 |  2.0 |  4.1 |\n",
       "|  3 |  2.8 |  6.0 |\n",
       "|  4 |  4.2 |  8.2 |\n",
       "|  5 |  5.1 |  9.9 |\n",
       "|  6 |  5.9 | 12.1 |\n",
       "|  7 |  6.7 | 14.1 |\n",
       "|  8 |  8.0 | 15.9 |\n",
       "|  9 |  9.1 | 18.1 |\n",
       "| 10 | 10.1 | 19.9 |\n",
       "\n"
      ],
      "text/plain": [
       "   n  t1   t2  \n",
       "1   1  1.1  2.3\n",
       "2   2  2.0  4.1\n",
       "3   3  2.8  6.0\n",
       "4   4  4.2  8.2\n",
       "5   5  5.1  9.9\n",
       "6   6  5.9 12.1\n",
       "7   7  6.7 14.1\n",
       "8   8  8.0 15.9\n",
       "9   9  9.1 18.1\n",
       "10 10 10.1 19.9"
      ]
     },
     "metadata": {},
     "output_type": "display_data"
    }
   ],
   "source": [
    "results"
   ]
  },
  {
   "cell_type": "code",
   "execution_count": 18,
   "metadata": {},
   "outputs": [
    {
     "name": "stdout",
     "output_type": "stream",
     "text": [
      "    n   t1   t2\n",
      "1   1  1.1  2.3\n",
      "2   2  2.0  4.1\n",
      "3   3  2.8  6.0\n",
      "4   4  4.2  8.2\n",
      "5   5  5.1  9.9\n",
      "6   6  5.9 12.1\n",
      "7   7  6.7 14.1\n",
      "8   8  8.0 15.9\n",
      "9   9  9.1 18.1\n",
      "10 10 10.1 19.9\n"
     ]
    }
   ],
   "source": [
    "print(results)"
   ]
  },
  {
   "cell_type": "markdown",
   "metadata": {},
   "source": [
    "Pobranie kolumny (data frame):"
   ]
  },
  {
   "cell_type": "code",
   "execution_count": 19,
   "metadata": {},
   "outputs": [
    {
     "data": {
      "text/html": [
       "<table class=\"dataframe\">\n",
       "<caption>A data.frame: 10 × 1</caption>\n",
       "<thead>\n",
       "\t<tr><th scope=col>n</th></tr>\n",
       "\t<tr><th scope=col>&lt;int&gt;</th></tr>\n",
       "</thead>\n",
       "<tbody>\n",
       "\t<tr><td> 1</td></tr>\n",
       "\t<tr><td> 2</td></tr>\n",
       "\t<tr><td> 3</td></tr>\n",
       "\t<tr><td> 4</td></tr>\n",
       "\t<tr><td> 5</td></tr>\n",
       "\t<tr><td> 6</td></tr>\n",
       "\t<tr><td> 7</td></tr>\n",
       "\t<tr><td> 8</td></tr>\n",
       "\t<tr><td> 9</td></tr>\n",
       "\t<tr><td>10</td></tr>\n",
       "</tbody>\n",
       "</table>\n"
      ],
      "text/latex": [
       "A data.frame: 10 × 1\n",
       "\\begin{tabular}{l}\n",
       " n\\\\\n",
       " <int>\\\\\n",
       "\\hline\n",
       "\t  1\\\\\n",
       "\t  2\\\\\n",
       "\t  3\\\\\n",
       "\t  4\\\\\n",
       "\t  5\\\\\n",
       "\t  6\\\\\n",
       "\t  7\\\\\n",
       "\t  8\\\\\n",
       "\t  9\\\\\n",
       "\t 10\\\\\n",
       "\\end{tabular}\n"
      ],
      "text/markdown": [
       "\n",
       "A data.frame: 10 × 1\n",
       "\n",
       "| n &lt;int&gt; |\n",
       "|---|\n",
       "|  1 |\n",
       "|  2 |\n",
       "|  3 |\n",
       "|  4 |\n",
       "|  5 |\n",
       "|  6 |\n",
       "|  7 |\n",
       "|  8 |\n",
       "|  9 |\n",
       "| 10 |\n",
       "\n"
      ],
      "text/plain": [
       "   n \n",
       "1   1\n",
       "2   2\n",
       "3   3\n",
       "4   4\n",
       "5   5\n",
       "6   6\n",
       "7   7\n",
       "8   8\n",
       "9   9\n",
       "10 10"
      ]
     },
     "metadata": {},
     "output_type": "display_data"
    }
   ],
   "source": [
    "results[1]"
   ]
  },
  {
   "cell_type": "markdown",
   "metadata": {},
   "source": [
    "Pobranie kolumny jako wektor:"
   ]
  },
  {
   "cell_type": "code",
   "execution_count": 20,
   "metadata": {},
   "outputs": [
    {
     "data": {
      "text/html": [
       "<style>\n",
       ".list-inline {list-style: none; margin:0; padding: 0}\n",
       ".list-inline>li {display: inline-block}\n",
       ".list-inline>li:not(:last-child)::after {content: \"\\00b7\"; padding: 0 .5ex}\n",
       "</style>\n",
       "<ol class=list-inline><li>1</li><li>2</li><li>3</li><li>4</li><li>5</li><li>6</li><li>7</li><li>8</li><li>9</li><li>10</li></ol>\n"
      ],
      "text/latex": [
       "\\begin{enumerate*}\n",
       "\\item 1\n",
       "\\item 2\n",
       "\\item 3\n",
       "\\item 4\n",
       "\\item 5\n",
       "\\item 6\n",
       "\\item 7\n",
       "\\item 8\n",
       "\\item 9\n",
       "\\item 10\n",
       "\\end{enumerate*}\n"
      ],
      "text/markdown": [
       "1. 1\n",
       "2. 2\n",
       "3. 3\n",
       "4. 4\n",
       "5. 5\n",
       "6. 6\n",
       "7. 7\n",
       "8. 8\n",
       "9. 9\n",
       "10. 10\n",
       "\n",
       "\n"
      ],
      "text/plain": [
       " [1]  1  2  3  4  5  6  7  8  9 10"
      ]
     },
     "metadata": {},
     "output_type": "display_data"
    }
   ],
   "source": [
    "results[[1]]"
   ]
  },
  {
   "cell_type": "markdown",
   "metadata": {},
   "source": [
    "pobranie kolumny po nazwie:"
   ]
  },
  {
   "cell_type": "code",
   "execution_count": 21,
   "metadata": {},
   "outputs": [
    {
     "data": {
      "text/html": [
       "<table class=\"dataframe\">\n",
       "<caption>A data.frame: 10 × 1</caption>\n",
       "<thead>\n",
       "\t<tr><th scope=col>t1</th></tr>\n",
       "\t<tr><th scope=col>&lt;dbl&gt;</th></tr>\n",
       "</thead>\n",
       "<tbody>\n",
       "\t<tr><td> 1.1</td></tr>\n",
       "\t<tr><td> 2.0</td></tr>\n",
       "\t<tr><td> 2.8</td></tr>\n",
       "\t<tr><td> 4.2</td></tr>\n",
       "\t<tr><td> 5.1</td></tr>\n",
       "\t<tr><td> 5.9</td></tr>\n",
       "\t<tr><td> 6.7</td></tr>\n",
       "\t<tr><td> 8.0</td></tr>\n",
       "\t<tr><td> 9.1</td></tr>\n",
       "\t<tr><td>10.1</td></tr>\n",
       "</tbody>\n",
       "</table>\n"
      ],
      "text/latex": [
       "A data.frame: 10 × 1\n",
       "\\begin{tabular}{l}\n",
       " t1\\\\\n",
       " <dbl>\\\\\n",
       "\\hline\n",
       "\t  1.1\\\\\n",
       "\t  2.0\\\\\n",
       "\t  2.8\\\\\n",
       "\t  4.2\\\\\n",
       "\t  5.1\\\\\n",
       "\t  5.9\\\\\n",
       "\t  6.7\\\\\n",
       "\t  8.0\\\\\n",
       "\t  9.1\\\\\n",
       "\t 10.1\\\\\n",
       "\\end{tabular}\n"
      ],
      "text/markdown": [
       "\n",
       "A data.frame: 10 × 1\n",
       "\n",
       "| t1 &lt;dbl&gt; |\n",
       "|---|\n",
       "|  1.1 |\n",
       "|  2.0 |\n",
       "|  2.8 |\n",
       "|  4.2 |\n",
       "|  5.1 |\n",
       "|  5.9 |\n",
       "|  6.7 |\n",
       "|  8.0 |\n",
       "|  9.1 |\n",
       "| 10.1 |\n",
       "\n"
      ],
      "text/plain": [
       "   t1  \n",
       "1   1.1\n",
       "2   2.0\n",
       "3   2.8\n",
       "4   4.2\n",
       "5   5.1\n",
       "6   5.9\n",
       "7   6.7\n",
       "8   8.0\n",
       "9   9.1\n",
       "10 10.1"
      ]
     },
     "metadata": {},
     "output_type": "display_data"
    }
   ],
   "source": [
    "results[\"t1\"]"
   ]
  },
  {
   "cell_type": "markdown",
   "metadata": {},
   "source": [
    "Pobranie wiersza lub wierszy:"
   ]
  },
  {
   "cell_type": "code",
   "execution_count": 22,
   "metadata": {},
   "outputs": [
    {
     "data": {
      "text/html": [
       "<table class=\"dataframe\">\n",
       "<caption>A data.frame: 1 × 3</caption>\n",
       "<thead>\n",
       "\t<tr><th></th><th scope=col>n</th><th scope=col>t1</th><th scope=col>t2</th></tr>\n",
       "\t<tr><th></th><th scope=col>&lt;int&gt;</th><th scope=col>&lt;dbl&gt;</th><th scope=col>&lt;dbl&gt;</th></tr>\n",
       "</thead>\n",
       "<tbody>\n",
       "\t<tr><th scope=row>2</th><td>2</td><td>2</td><td>4.1</td></tr>\n",
       "</tbody>\n",
       "</table>\n"
      ],
      "text/latex": [
       "A data.frame: 1 × 3\n",
       "\\begin{tabular}{r|lll}\n",
       "  & n & t1 & t2\\\\\n",
       "  & <int> & <dbl> & <dbl>\\\\\n",
       "\\hline\n",
       "\t2 & 2 & 2 & 4.1\\\\\n",
       "\\end{tabular}\n"
      ],
      "text/markdown": [
       "\n",
       "A data.frame: 1 × 3\n",
       "\n",
       "| <!--/--> | n &lt;int&gt; | t1 &lt;dbl&gt; | t2 &lt;dbl&gt; |\n",
       "|---|---|---|---|\n",
       "| 2 | 2 | 2 | 4.1 |\n",
       "\n"
      ],
      "text/plain": [
       "  n t1 t2 \n",
       "2 2 2  4.1"
      ]
     },
     "metadata": {},
     "output_type": "display_data"
    }
   ],
   "source": [
    "results[2,] # drugi wiersz, wszystkie kolumny"
   ]
  },
  {
   "cell_type": "code",
   "execution_count": 23,
   "metadata": {},
   "outputs": [
    {
     "data": {
      "text/html": [
       "<table class=\"dataframe\">\n",
       "<caption>A data.frame: 3 × 3</caption>\n",
       "<thead>\n",
       "\t<tr><th></th><th scope=col>n</th><th scope=col>t1</th><th scope=col>t2</th></tr>\n",
       "\t<tr><th></th><th scope=col>&lt;int&gt;</th><th scope=col>&lt;dbl&gt;</th><th scope=col>&lt;dbl&gt;</th></tr>\n",
       "</thead>\n",
       "<tbody>\n",
       "\t<tr><th scope=row>2</th><td>2</td><td>2.0</td><td> 4.1</td></tr>\n",
       "\t<tr><th scope=row>4</th><td>4</td><td>4.2</td><td> 8.2</td></tr>\n",
       "\t<tr><th scope=row>6</th><td>6</td><td>5.9</td><td>12.1</td></tr>\n",
       "</tbody>\n",
       "</table>\n"
      ],
      "text/latex": [
       "A data.frame: 3 × 3\n",
       "\\begin{tabular}{r|lll}\n",
       "  & n & t1 & t2\\\\\n",
       "  & <int> & <dbl> & <dbl>\\\\\n",
       "\\hline\n",
       "\t2 & 2 & 2.0 &  4.1\\\\\n",
       "\t4 & 4 & 4.2 &  8.2\\\\\n",
       "\t6 & 6 & 5.9 & 12.1\\\\\n",
       "\\end{tabular}\n"
      ],
      "text/markdown": [
       "\n",
       "A data.frame: 3 × 3\n",
       "\n",
       "| <!--/--> | n &lt;int&gt; | t1 &lt;dbl&gt; | t2 &lt;dbl&gt; |\n",
       "|---|---|---|---|\n",
       "| 2 | 2 | 2.0 |  4.1 |\n",
       "| 4 | 4 | 4.2 |  8.2 |\n",
       "| 6 | 6 | 5.9 | 12.1 |\n",
       "\n"
      ],
      "text/plain": [
       "  n t1  t2  \n",
       "2 2 2.0  4.1\n",
       "4 4 4.2  8.2\n",
       "6 6 5.9 12.1"
      ]
     },
     "metadata": {},
     "output_type": "display_data"
    }
   ],
   "source": [
    "results[c(2,4,6),]"
   ]
  },
  {
   "cell_type": "markdown",
   "metadata": {},
   "source": [
    "`attach` (dodanie tabeli do kontekstu) pozwala na pojedyncze odwołania do kolumn (jako wektorów) bez odwoływania sie do calej tabeli:"
   ]
  },
  {
   "cell_type": "code",
   "execution_count": 24,
   "metadata": {},
   "outputs": [
    {
     "data": {
      "text/html": [
       "<style>\n",
       ".list-inline {list-style: none; margin:0; padding: 0}\n",
       ".list-inline>li {display: inline-block}\n",
       ".list-inline>li:not(:last-child)::after {content: \"\\00b7\"; padding: 0 .5ex}\n",
       "</style>\n",
       "<ol class=list-inline><li>1.1</li><li>2</li><li>2.8</li><li>4.2</li><li>5.1</li><li>5.9</li><li>6.7</li><li>8</li><li>9.1</li><li>10.1</li></ol>\n"
      ],
      "text/latex": [
       "\\begin{enumerate*}\n",
       "\\item 1.1\n",
       "\\item 2\n",
       "\\item 2.8\n",
       "\\item 4.2\n",
       "\\item 5.1\n",
       "\\item 5.9\n",
       "\\item 6.7\n",
       "\\item 8\n",
       "\\item 9.1\n",
       "\\item 10.1\n",
       "\\end{enumerate*}\n"
      ],
      "text/markdown": [
       "1. 1.1\n",
       "2. 2\n",
       "3. 2.8\n",
       "4. 4.2\n",
       "5. 5.1\n",
       "6. 5.9\n",
       "7. 6.7\n",
       "8. 8\n",
       "9. 9.1\n",
       "10. 10.1\n",
       "\n",
       "\n"
      ],
      "text/plain": [
       " [1]  1.1  2.0  2.8  4.2  5.1  5.9  6.7  8.0  9.1 10.1"
      ]
     },
     "metadata": {},
     "output_type": "display_data"
    }
   ],
   "source": [
    "attach(results)\n",
    "\n",
    "t1"
   ]
  },
  {
   "cell_type": "code",
   "execution_count": 25,
   "metadata": {},
   "outputs": [
    {
     "data": {
      "text/html": [
       "<style>\n",
       ".list-inline {list-style: none; margin:0; padding: 0}\n",
       ".list-inline>li {display: inline-block}\n",
       ".list-inline>li:not(:last-child)::after {content: \"\\00b7\"; padding: 0 .5ex}\n",
       "</style>\n",
       "<ol class=list-inline><li>2.3</li><li>4.1</li><li>6</li><li>8.2</li><li>9.9</li><li>12.1</li><li>14.1</li><li>15.9</li><li>18.1</li><li>19.9</li></ol>\n"
      ],
      "text/latex": [
       "\\begin{enumerate*}\n",
       "\\item 2.3\n",
       "\\item 4.1\n",
       "\\item 6\n",
       "\\item 8.2\n",
       "\\item 9.9\n",
       "\\item 12.1\n",
       "\\item 14.1\n",
       "\\item 15.9\n",
       "\\item 18.1\n",
       "\\item 19.9\n",
       "\\end{enumerate*}\n"
      ],
      "text/markdown": [
       "1. 2.3\n",
       "2. 4.1\n",
       "3. 6\n",
       "4. 8.2\n",
       "5. 9.9\n",
       "6. 12.1\n",
       "7. 14.1\n",
       "8. 15.9\n",
       "9. 18.1\n",
       "10. 19.9\n",
       "\n",
       "\n"
      ],
      "text/plain": [
       " [1]  2.3  4.1  6.0  8.2  9.9 12.1 14.1 15.9 18.1 19.9"
      ]
     },
     "metadata": {},
     "output_type": "display_data"
    }
   ],
   "source": [
    "t2"
   ]
  },
  {
   "cell_type": "code",
   "execution_count": 26,
   "metadata": {},
   "outputs": [
    {
     "data": {
      "text/html": [
       "<style>\n",
       ".list-inline {list-style: none; margin:0; padding: 0}\n",
       ".list-inline>li {display: inline-block}\n",
       ".list-inline>li:not(:last-child)::after {content: \"\\00b7\"; padding: 0 .5ex}\n",
       "</style>\n",
       "<ol class=list-inline><li>1</li><li>2</li><li>3</li><li>4</li><li>5</li><li>6</li><li>7</li><li>8</li><li>9</li><li>10</li></ol>\n"
      ],
      "text/latex": [
       "\\begin{enumerate*}\n",
       "\\item 1\n",
       "\\item 2\n",
       "\\item 3\n",
       "\\item 4\n",
       "\\item 5\n",
       "\\item 6\n",
       "\\item 7\n",
       "\\item 8\n",
       "\\item 9\n",
       "\\item 10\n",
       "\\end{enumerate*}\n"
      ],
      "text/markdown": [
       "1. 1\n",
       "2. 2\n",
       "3. 3\n",
       "4. 4\n",
       "5. 5\n",
       "6. 6\n",
       "7. 7\n",
       "8. 8\n",
       "9. 9\n",
       "10. 10\n",
       "\n",
       "\n"
      ],
      "text/plain": [
       " [1]  1  2  3  4  5  6  7  8  9 10"
      ]
     },
     "metadata": {},
     "output_type": "display_data"
    }
   ],
   "source": [
    "n"
   ]
  },
  {
   "cell_type": "code",
   "execution_count": 27,
   "metadata": {},
   "outputs": [],
   "source": [
    "detach(results)"
   ]
  },
  {
   "cell_type": "code",
   "execution_count": 28,
   "metadata": {},
   "outputs": [
    {
     "ename": "ERROR",
     "evalue": "Error in eval(expr, envir, enclos): object 't1' not found\n",
     "output_type": "error",
     "traceback": [
      "Error in eval(expr, envir, enclos): object 't1' not found\nTraceback:\n"
     ]
    }
   ],
   "source": [
    "# generuje blad \n",
    "t1"
   ]
  },
  {
   "cell_type": "markdown",
   "metadata": {},
   "source": [
    "### Wczytywanie w tidyverse"
   ]
  },
  {
   "cell_type": "markdown",
   "metadata": {},
   "source": [
    "W tidyverse dane wczytywane są do `tibble` - \"ulepszony\" data.frame"
   ]
  },
  {
   "cell_type": "code",
   "execution_count": 29,
   "metadata": {},
   "outputs": [
    {
     "name": "stderr",
     "output_type": "stream",
     "text": [
      "\u001b[1mRows: \u001b[22m\u001b[34m10\u001b[39m \u001b[1mColumns: \u001b[22m\u001b[34m3\u001b[39m\n",
      "\u001b[36m──\u001b[39m \u001b[1mColumn specification\u001b[22m \u001b[36m────────────────────────────────────────────────────────\u001b[39m\n",
      "\u001b[1mDelimiter:\u001b[22m \",\"\n",
      "\u001b[32mdbl\u001b[39m (3): n, t1, t2\n",
      "\n",
      "\u001b[36mℹ\u001b[39m Use `spec()` to retrieve the full column specification for this data.\n",
      "\u001b[36mℹ\u001b[39m Specify the column types or set `show_col_types = FALSE` to quiet this message.\n"
     ]
    }
   ],
   "source": [
    "# proszę zwrócić uwagę na _ zamiast .\n",
    "results2 = read_csv(\"data1.txt\")"
   ]
  },
  {
   "cell_type": "code",
   "execution_count": 30,
   "metadata": {},
   "outputs": [
    {
     "data": {
      "text/html": [
       "<table class=\"dataframe\">\n",
       "<caption>A spec_tbl_df: 10 × 3</caption>\n",
       "<thead>\n",
       "\t<tr><th scope=col>n</th><th scope=col>t1</th><th scope=col>t2</th></tr>\n",
       "\t<tr><th scope=col>&lt;dbl&gt;</th><th scope=col>&lt;dbl&gt;</th><th scope=col>&lt;dbl&gt;</th></tr>\n",
       "</thead>\n",
       "<tbody>\n",
       "\t<tr><td> 1</td><td> 1.1</td><td> 2.3</td></tr>\n",
       "\t<tr><td> 2</td><td> 2.0</td><td> 4.1</td></tr>\n",
       "\t<tr><td> 3</td><td> 2.8</td><td> 6.0</td></tr>\n",
       "\t<tr><td> 4</td><td> 4.2</td><td> 8.2</td></tr>\n",
       "\t<tr><td> 5</td><td> 5.1</td><td> 9.9</td></tr>\n",
       "\t<tr><td> 6</td><td> 5.9</td><td>12.1</td></tr>\n",
       "\t<tr><td> 7</td><td> 6.7</td><td>14.1</td></tr>\n",
       "\t<tr><td> 8</td><td> 8.0</td><td>15.9</td></tr>\n",
       "\t<tr><td> 9</td><td> 9.1</td><td>18.1</td></tr>\n",
       "\t<tr><td>10</td><td>10.1</td><td>19.9</td></tr>\n",
       "</tbody>\n",
       "</table>\n"
      ],
      "text/latex": [
       "A spec\\_tbl\\_df: 10 × 3\n",
       "\\begin{tabular}{lll}\n",
       " n & t1 & t2\\\\\n",
       " <dbl> & <dbl> & <dbl>\\\\\n",
       "\\hline\n",
       "\t  1 &  1.1 &  2.3\\\\\n",
       "\t  2 &  2.0 &  4.1\\\\\n",
       "\t  3 &  2.8 &  6.0\\\\\n",
       "\t  4 &  4.2 &  8.2\\\\\n",
       "\t  5 &  5.1 &  9.9\\\\\n",
       "\t  6 &  5.9 & 12.1\\\\\n",
       "\t  7 &  6.7 & 14.1\\\\\n",
       "\t  8 &  8.0 & 15.9\\\\\n",
       "\t  9 &  9.1 & 18.1\\\\\n",
       "\t 10 & 10.1 & 19.9\\\\\n",
       "\\end{tabular}\n"
      ],
      "text/markdown": [
       "\n",
       "A spec_tbl_df: 10 × 3\n",
       "\n",
       "| n &lt;dbl&gt; | t1 &lt;dbl&gt; | t2 &lt;dbl&gt; |\n",
       "|---|---|---|\n",
       "|  1 |  1.1 |  2.3 |\n",
       "|  2 |  2.0 |  4.1 |\n",
       "|  3 |  2.8 |  6.0 |\n",
       "|  4 |  4.2 |  8.2 |\n",
       "|  5 |  5.1 |  9.9 |\n",
       "|  6 |  5.9 | 12.1 |\n",
       "|  7 |  6.7 | 14.1 |\n",
       "|  8 |  8.0 | 15.9 |\n",
       "|  9 |  9.1 | 18.1 |\n",
       "| 10 | 10.1 | 19.9 |\n",
       "\n"
      ],
      "text/plain": [
       "   n  t1   t2  \n",
       "1   1  1.1  2.3\n",
       "2   2  2.0  4.1\n",
       "3   3  2.8  6.0\n",
       "4   4  4.2  8.2\n",
       "5   5  5.1  9.9\n",
       "6   6  5.9 12.1\n",
       "7   7  6.7 14.1\n",
       "8   8  8.0 15.9\n",
       "9   9  9.1 18.1\n",
       "10 10 10.1 19.9"
      ]
     },
     "metadata": {},
     "output_type": "display_data"
    }
   ],
   "source": [
    "results2\n",
    "# to samo co data.frame"
   ]
  },
  {
   "cell_type": "code",
   "execution_count": 31,
   "metadata": {},
   "outputs": [
    {
     "name": "stdout",
     "output_type": "stream",
     "text": [
      "\u001b[90m# A tibble: 10 × 3\u001b[39m\n",
      "       n    t1    t2\n",
      "   \u001b[3m\u001b[90m<dbl>\u001b[39m\u001b[23m \u001b[3m\u001b[90m<dbl>\u001b[39m\u001b[23m \u001b[3m\u001b[90m<dbl>\u001b[39m\u001b[23m\n",
      "\u001b[90m 1\u001b[39m     1   1.1   2.3\n",
      "\u001b[90m 2\u001b[39m     2   2     4.1\n",
      "\u001b[90m 3\u001b[39m     3   2.8   6  \n",
      "\u001b[90m 4\u001b[39m     4   4.2   8.2\n",
      "\u001b[90m 5\u001b[39m     5   5.1   9.9\n",
      "\u001b[90m 6\u001b[39m     6   5.9  12.1\n",
      "\u001b[90m 7\u001b[39m     7   6.7  14.1\n",
      "\u001b[90m 8\u001b[39m     8   8    15.9\n",
      "\u001b[90m 9\u001b[39m     9   9.1  18.1\n",
      "\u001b[90m10\u001b[39m    10  10.1  19.9\n"
     ]
    }
   ],
   "source": [
    "print(results2)\n",
    "# zawiera rozmiar i informacje o typach"
   ]
  },
  {
   "cell_type": "markdown",
   "metadata": {},
   "source": [
    "## Rysowanie wykresów"
   ]
  },
  {
   "cell_type": "code",
   "execution_count": 32,
   "metadata": {
    "scrolled": true
   },
   "outputs": [
    {
     "data": {
      "text/html": [
       "<table class=\"dataframe\">\n",
       "<caption>A data.frame: 10 × 3</caption>\n",
       "<thead>\n",
       "\t<tr><th scope=col>n</th><th scope=col>t1</th><th scope=col>t2</th></tr>\n",
       "\t<tr><th scope=col>&lt;int&gt;</th><th scope=col>&lt;dbl&gt;</th><th scope=col>&lt;dbl&gt;</th></tr>\n",
       "</thead>\n",
       "<tbody>\n",
       "\t<tr><td> 1</td><td> 1.1</td><td> 2.3</td></tr>\n",
       "\t<tr><td> 2</td><td> 2.0</td><td> 4.1</td></tr>\n",
       "\t<tr><td> 3</td><td> 2.8</td><td> 6.0</td></tr>\n",
       "\t<tr><td> 4</td><td> 4.2</td><td> 8.2</td></tr>\n",
       "\t<tr><td> 5</td><td> 5.1</td><td> 9.9</td></tr>\n",
       "\t<tr><td> 6</td><td> 5.9</td><td>12.1</td></tr>\n",
       "\t<tr><td> 7</td><td> 6.7</td><td>14.1</td></tr>\n",
       "\t<tr><td> 8</td><td> 8.0</td><td>15.9</td></tr>\n",
       "\t<tr><td> 9</td><td> 9.1</td><td>18.1</td></tr>\n",
       "\t<tr><td>10</td><td>10.1</td><td>19.9</td></tr>\n",
       "</tbody>\n",
       "</table>\n"
      ],
      "text/latex": [
       "A data.frame: 10 × 3\n",
       "\\begin{tabular}{lll}\n",
       " n & t1 & t2\\\\\n",
       " <int> & <dbl> & <dbl>\\\\\n",
       "\\hline\n",
       "\t  1 &  1.1 &  2.3\\\\\n",
       "\t  2 &  2.0 &  4.1\\\\\n",
       "\t  3 &  2.8 &  6.0\\\\\n",
       "\t  4 &  4.2 &  8.2\\\\\n",
       "\t  5 &  5.1 &  9.9\\\\\n",
       "\t  6 &  5.9 & 12.1\\\\\n",
       "\t  7 &  6.7 & 14.1\\\\\n",
       "\t  8 &  8.0 & 15.9\\\\\n",
       "\t  9 &  9.1 & 18.1\\\\\n",
       "\t 10 & 10.1 & 19.9\\\\\n",
       "\\end{tabular}\n"
      ],
      "text/markdown": [
       "\n",
       "A data.frame: 10 × 3\n",
       "\n",
       "| n &lt;int&gt; | t1 &lt;dbl&gt; | t2 &lt;dbl&gt; |\n",
       "|---|---|---|\n",
       "|  1 |  1.1 |  2.3 |\n",
       "|  2 |  2.0 |  4.1 |\n",
       "|  3 |  2.8 |  6.0 |\n",
       "|  4 |  4.2 |  8.2 |\n",
       "|  5 |  5.1 |  9.9 |\n",
       "|  6 |  5.9 | 12.1 |\n",
       "|  7 |  6.7 | 14.1 |\n",
       "|  8 |  8.0 | 15.9 |\n",
       "|  9 |  9.1 | 18.1 |\n",
       "| 10 | 10.1 | 19.9 |\n",
       "\n"
      ],
      "text/plain": [
       "   n  t1   t2  \n",
       "1   1  1.1  2.3\n",
       "2   2  2.0  4.1\n",
       "3   3  2.8  6.0\n",
       "4   4  4.2  8.2\n",
       "5   5  5.1  9.9\n",
       "6   6  5.9 12.1\n",
       "7   7  6.7 14.1\n",
       "8   8  8.0 15.9\n",
       "9   9  9.1 18.1\n",
       "10 10 10.1 19.9"
      ]
     },
     "metadata": {},
     "output_type": "display_data"
    }
   ],
   "source": [
    "results"
   ]
  },
  {
   "cell_type": "code",
   "execution_count": 33,
   "metadata": {},
   "outputs": [
    {
     "data": {
      "image/png": "[encoded data removed]",
      "text/plain": [
       "plot without title"
      ]
     },
     "metadata": {
      "image/png": {
       "height": 420,
       "width": 420
      }
     },
     "output_type": "display_data"
    }
   ],
   "source": [
    "a <- ggplot(results, aes(x=n, y=t2)) + geom_point()\n",
    "a\n",
    "# nie używamy \"\" w aes!"
   ]
  },
  {
   "cell_type": "code",
   "execution_count": 34,
   "metadata": {},
   "outputs": [
    {
     "data": {
      "image/png": "[encoded data removed]",
      "text/plain": [
       "plot without title"
      ]
     },
     "metadata": {
      "image/png": {
       "height": 420,
       "width": 420
      }
     },
     "output_type": "display_data"
    }
   ],
   "source": [
    "a + geom_line()\n",
    "# nie podano nic do geom_line więc wykorzystano argumenty do ggplot(...)"
   ]
  },
  {
   "cell_type": "code",
   "execution_count": 35,
   "metadata": {},
   "outputs": [
    {
     "data": {
      "image/png": "[encoded data removed]",
      "text/plain": [
       "plot without title"
      ]
     },
     "metadata": {
      "image/png": {
       "height": 420,
       "width": 420
      }
     },
     "output_type": "display_data"
    }
   ],
   "source": [
    "last_plot() + geom_line(aes(x=n, y=t1))\n",
    "# tutaj podano inny aes, ale dalej odnosimy się do \"results\""
   ]
  },
  {
   "cell_type": "markdown",
   "metadata": {},
   "source": [
    "## Przykład analizy danych w czystym R"
   ]
  },
  {
   "cell_type": "markdown",
   "metadata": {},
   "source": [
    "Przetwarzanie danych w tabeli\n",
    "\n",
    "Dane w pliku [data2.txt](https://www.icsr.agh.edu.pl/~malawski/dydakt/mownit/R/data2.txt) mają postać tabeli faktów, w której wiersze są wynikami pomiarów. \n",
    "\n",
    "Przykładowo, zmierzono czas (time) dla różnych algorytmów (t1, t2).\n",
    "\n",
    "Kolumna `alg` jest typu `factor` - jest to typ wyliczeniowy w R."
   ]
  },
  {
   "cell_type": "code",
   "execution_count": 36,
   "metadata": {},
   "outputs": [
    {
     "data": {
      "text/html": [
       "<table class=\"dataframe\">\n",
       "<caption>A data.frame: 100 × 4</caption>\n",
       "<thead>\n",
       "\t<tr><th scope=col>n</th><th scope=col>alg</th><th scope=col>time</th><th scope=col>error</th></tr>\n",
       "\t<tr><th scope=col>&lt;int&gt;</th><th scope=col>&lt;chr&gt;</th><th scope=col>&lt;dbl&gt;</th><th scope=col>&lt;dbl&gt;</th></tr>\n",
       "</thead>\n",
       "<tbody>\n",
       "\t<tr><td> 1</td><td>t1</td><td> 1.010572</td><td> 0.010572148</td></tr>\n",
       "\t<tr><td> 2</td><td>t1</td><td> 1.981689</td><td>-0.018310993</td></tr>\n",
       "\t<tr><td> 3</td><td>t1</td><td> 3.066268</td><td> 0.066268043</td></tr>\n",
       "\t<tr><td> 4</td><td>t1</td><td> 4.060221</td><td> 0.060220570</td></tr>\n",
       "\t<tr><td> 5</td><td>t1</td><td> 5.029502</td><td> 0.029502051</td></tr>\n",
       "\t<tr><td> 6</td><td>t1</td><td> 6.045928</td><td> 0.045927536</td></tr>\n",
       "\t<tr><td> 7</td><td>t1</td><td> 6.957461</td><td>-0.042538559</td></tr>\n",
       "\t<tr><td> 8</td><td>t1</td><td> 8.009891</td><td> 0.009891313</td></tr>\n",
       "\t<tr><td> 9</td><td>t1</td><td> 9.053959</td><td> 0.053959370</td></tr>\n",
       "\t<tr><td>10</td><td>t1</td><td> 9.982560</td><td>-0.017439984</td></tr>\n",
       "\t<tr><td> 1</td><td>t2</td><td> 1.997585</td><td>-0.002414813</td></tr>\n",
       "\t<tr><td> 2</td><td>t2</td><td> 3.953772</td><td>-0.046227795</td></tr>\n",
       "\t<tr><td> 3</td><td>t2</td><td> 5.978172</td><td>-0.021827928</td></tr>\n",
       "\t<tr><td> 4</td><td>t2</td><td> 8.052453</td><td> 0.052453117</td></tr>\n",
       "\t<tr><td> 5</td><td>t2</td><td>10.072778</td><td> 0.072777961</td></tr>\n",
       "\t<tr><td> 6</td><td>t2</td><td>11.957002</td><td>-0.042997938</td></tr>\n",
       "\t<tr><td> 7</td><td>t2</td><td>14.002079</td><td> 0.002078900</td></tr>\n",
       "\t<tr><td> 8</td><td>t2</td><td>16.031059</td><td> 0.031058822</td></tr>\n",
       "\t<tr><td> 9</td><td>t2</td><td>18.046717</td><td> 0.046716672</td></tr>\n",
       "\t<tr><td>10</td><td>t2</td><td>20.046959</td><td> 0.046959194</td></tr>\n",
       "\t<tr><td> 1</td><td>t1</td><td> 1.079367</td><td> 0.079366812</td></tr>\n",
       "\t<tr><td> 2</td><td>t1</td><td> 2.034495</td><td> 0.034494559</td></tr>\n",
       "\t<tr><td> 3</td><td>t1</td><td> 2.942990</td><td>-0.057010017</td></tr>\n",
       "\t<tr><td> 4</td><td>t1</td><td> 3.936265</td><td>-0.063734966</td></tr>\n",
       "\t<tr><td> 5</td><td>t1</td><td> 4.971931</td><td>-0.028069105</td></tr>\n",
       "\t<tr><td> 6</td><td>t1</td><td> 5.935258</td><td>-0.064741864</td></tr>\n",
       "\t<tr><td> 7</td><td>t1</td><td> 6.930239</td><td>-0.069760726</td></tr>\n",
       "\t<tr><td> 8</td><td>t1</td><td> 8.088869</td><td> 0.088868510</td></tr>\n",
       "\t<tr><td> 9</td><td>t1</td><td> 8.949670</td><td>-0.050330255</td></tr>\n",
       "\t<tr><td>10</td><td>t1</td><td> 9.963969</td><td>-0.036030556</td></tr>\n",
       "\t<tr><td>⋮</td><td>⋮</td><td>⋮</td><td>⋮</td></tr>\n",
       "\t<tr><td> 1</td><td>t2</td><td> 2.0298945</td><td> 0.029894485</td></tr>\n",
       "\t<tr><td> 2</td><td>t2</td><td> 3.9258667</td><td>-0.074133292</td></tr>\n",
       "\t<tr><td> 3</td><td>t2</td><td> 6.0798658</td><td> 0.079865815</td></tr>\n",
       "\t<tr><td> 4</td><td>t2</td><td> 8.0427000</td><td> 0.042699961</td></tr>\n",
       "\t<tr><td> 5</td><td>t2</td><td>10.0047110</td><td> 0.004710953</td></tr>\n",
       "\t<tr><td> 6</td><td>t2</td><td>12.0451718</td><td> 0.045171754</td></tr>\n",
       "\t<tr><td> 7</td><td>t2</td><td>14.0277883</td><td> 0.027788304</td></tr>\n",
       "\t<tr><td> 8</td><td>t2</td><td>15.9948606</td><td>-0.005139422</td></tr>\n",
       "\t<tr><td> 9</td><td>t2</td><td>17.9814433</td><td>-0.018556727</td></tr>\n",
       "\t<tr><td>10</td><td>t2</td><td>20.0706583</td><td> 0.070658276</td></tr>\n",
       "\t<tr><td> 1</td><td>t1</td><td> 0.9608387</td><td>-0.039161259</td></tr>\n",
       "\t<tr><td> 2</td><td>t1</td><td> 2.0267897</td><td> 0.026789747</td></tr>\n",
       "\t<tr><td> 3</td><td>t1</td><td> 2.9177290</td><td>-0.082271013</td></tr>\n",
       "\t<tr><td> 4</td><td>t1</td><td> 3.9467534</td><td>-0.053246569</td></tr>\n",
       "\t<tr><td> 5</td><td>t1</td><td> 5.0340156</td><td> 0.034015561</td></tr>\n",
       "\t<tr><td> 6</td><td>t1</td><td> 6.0447867</td><td> 0.044786676</td></tr>\n",
       "\t<tr><td> 7</td><td>t1</td><td> 6.9471870</td><td>-0.052813046</td></tr>\n",
       "\t<tr><td> 8</td><td>t1</td><td> 8.0205163</td><td> 0.020516265</td></tr>\n",
       "\t<tr><td> 9</td><td>t1</td><td> 8.9359922</td><td>-0.064007769</td></tr>\n",
       "\t<tr><td>10</td><td>t1</td><td>10.0013729</td><td> 0.001372936</td></tr>\n",
       "\t<tr><td> 1</td><td>t2</td><td> 1.9076066</td><td>-0.092393352</td></tr>\n",
       "\t<tr><td> 2</td><td>t2</td><td> 3.9216544</td><td>-0.078345629</td></tr>\n",
       "\t<tr><td> 3</td><td>t2</td><td> 5.9047371</td><td>-0.095262873</td></tr>\n",
       "\t<tr><td> 4</td><td>t2</td><td> 7.9451692</td><td>-0.054830831</td></tr>\n",
       "\t<tr><td> 5</td><td>t2</td><td>10.0706839</td><td> 0.070683864</td></tr>\n",
       "\t<tr><td> 6</td><td>t2</td><td>11.9154638</td><td>-0.084536184</td></tr>\n",
       "\t<tr><td> 7</td><td>t2</td><td>13.9948929</td><td>-0.005107067</td></tr>\n",
       "\t<tr><td> 8</td><td>t2</td><td>15.9483586</td><td>-0.051641405</td></tr>\n",
       "\t<tr><td> 9</td><td>t2</td><td>17.9686723</td><td>-0.031327676</td></tr>\n",
       "\t<tr><td>10</td><td>t2</td><td>19.9371683</td><td>-0.062831726</td></tr>\n",
       "</tbody>\n",
       "</table>\n"
      ],
      "text/latex": [
       "A data.frame: 100 × 4\n",
       "\\begin{tabular}{llll}\n",
       " n & alg & time & error\\\\\n",
       " <int> & <chr> & <dbl> & <dbl>\\\\\n",
       "\\hline\n",
       "\t  1 & t1 &  1.010572 &  0.010572148\\\\\n",
       "\t  2 & t1 &  1.981689 & -0.018310993\\\\\n",
       "\t  3 & t1 &  3.066268 &  0.066268043\\\\\n",
       "\t  4 & t1 &  4.060221 &  0.060220570\\\\\n",
       "\t  5 & t1 &  5.029502 &  0.029502051\\\\\n",
       "\t  6 & t1 &  6.045928 &  0.045927536\\\\\n",
       "\t  7 & t1 &  6.957461 & -0.042538559\\\\\n",
       "\t  8 & t1 &  8.009891 &  0.009891313\\\\\n",
       "\t  9 & t1 &  9.053959 &  0.053959370\\\\\n",
       "\t 10 & t1 &  9.982560 & -0.017439984\\\\\n",
       "\t  1 & t2 &  1.997585 & -0.002414813\\\\\n",
       "\t  2 & t2 &  3.953772 & -0.046227795\\\\\n",
       "\t  3 & t2 &  5.978172 & -0.021827928\\\\\n",
       "\t  4 & t2 &  8.052453 &  0.052453117\\\\\n",
       "\t  5 & t2 & 10.072778 &  0.072777961\\\\\n",
       "\t  6 & t2 & 11.957002 & -0.042997938\\\\\n",
       "\t  7 & t2 & 14.002079 &  0.002078900\\\\\n",
       "\t  8 & t2 & 16.031059 &  0.031058822\\\\\n",
       "\t  9 & t2 & 18.046717 &  0.046716672\\\\\n",
       "\t 10 & t2 & 20.046959 &  0.046959194\\\\\n",
       "\t  1 & t1 &  1.079367 &  0.079366812\\\\\n",
       "\t  2 & t1 &  2.034495 &  0.034494559\\\\\n",
       "\t  3 & t1 &  2.942990 & -0.057010017\\\\\n",
       "\t  4 & t1 &  3.936265 & -0.063734966\\\\\n",
       "\t  5 & t1 &  4.971931 & -0.028069105\\\\\n",
       "\t  6 & t1 &  5.935258 & -0.064741864\\\\\n",
       "\t  7 & t1 &  6.930239 & -0.069760726\\\\\n",
       "\t  8 & t1 &  8.088869 &  0.088868510\\\\\n",
       "\t  9 & t1 &  8.949670 & -0.050330255\\\\\n",
       "\t 10 & t1 &  9.963969 & -0.036030556\\\\\n",
       "\t ⋮ & ⋮ & ⋮ & ⋮\\\\\n",
       "\t  1 & t2 &  2.0298945 &  0.029894485\\\\\n",
       "\t  2 & t2 &  3.9258667 & -0.074133292\\\\\n",
       "\t  3 & t2 &  6.0798658 &  0.079865815\\\\\n",
       "\t  4 & t2 &  8.0427000 &  0.042699961\\\\\n",
       "\t  5 & t2 & 10.0047110 &  0.004710953\\\\\n",
       "\t  6 & t2 & 12.0451718 &  0.045171754\\\\\n",
       "\t  7 & t2 & 14.0277883 &  0.027788304\\\\\n",
       "\t  8 & t2 & 15.9948606 & -0.005139422\\\\\n",
       "\t  9 & t2 & 17.9814433 & -0.018556727\\\\\n",
       "\t 10 & t2 & 20.0706583 &  0.070658276\\\\\n",
       "\t  1 & t1 &  0.9608387 & -0.039161259\\\\\n",
       "\t  2 & t1 &  2.0267897 &  0.026789747\\\\\n",
       "\t  3 & t1 &  2.9177290 & -0.082271013\\\\\n",
       "\t  4 & t1 &  3.9467534 & -0.053246569\\\\\n",
       "\t  5 & t1 &  5.0340156 &  0.034015561\\\\\n",
       "\t  6 & t1 &  6.0447867 &  0.044786676\\\\\n",
       "\t  7 & t1 &  6.9471870 & -0.052813046\\\\\n",
       "\t  8 & t1 &  8.0205163 &  0.020516265\\\\\n",
       "\t  9 & t1 &  8.9359922 & -0.064007769\\\\\n",
       "\t 10 & t1 & 10.0013729 &  0.001372936\\\\\n",
       "\t  1 & t2 &  1.9076066 & -0.092393352\\\\\n",
       "\t  2 & t2 &  3.9216544 & -0.078345629\\\\\n",
       "\t  3 & t2 &  5.9047371 & -0.095262873\\\\\n",
       "\t  4 & t2 &  7.9451692 & -0.054830831\\\\\n",
       "\t  5 & t2 & 10.0706839 &  0.070683864\\\\\n",
       "\t  6 & t2 & 11.9154638 & -0.084536184\\\\\n",
       "\t  7 & t2 & 13.9948929 & -0.005107067\\\\\n",
       "\t  8 & t2 & 15.9483586 & -0.051641405\\\\\n",
       "\t  9 & t2 & 17.9686723 & -0.031327676\\\\\n",
       "\t 10 & t2 & 19.9371683 & -0.062831726\\\\\n",
       "\\end{tabular}\n"
      ],
      "text/markdown": [
       "\n",
       "A data.frame: 100 × 4\n",
       "\n",
       "| n &lt;int&gt; | alg &lt;chr&gt; | time &lt;dbl&gt; | error &lt;dbl&gt; |\n",
       "|---|---|---|---|\n",
       "|  1 | t1 |  1.010572 |  0.010572148 |\n",
       "|  2 | t1 |  1.981689 | -0.018310993 |\n",
       "|  3 | t1 |  3.066268 |  0.066268043 |\n",
       "|  4 | t1 |  4.060221 |  0.060220570 |\n",
       "|  5 | t1 |  5.029502 |  0.029502051 |\n",
       "|  6 | t1 |  6.045928 |  0.045927536 |\n",
       "|  7 | t1 |  6.957461 | -0.042538559 |\n",
       "|  8 | t1 |  8.009891 |  0.009891313 |\n",
       "|  9 | t1 |  9.053959 |  0.053959370 |\n",
       "| 10 | t1 |  9.982560 | -0.017439984 |\n",
       "|  1 | t2 |  1.997585 | -0.002414813 |\n",
       "|  2 | t2 |  3.953772 | -0.046227795 |\n",
       "|  3 | t2 |  5.978172 | -0.021827928 |\n",
       "|  4 | t2 |  8.052453 |  0.052453117 |\n",
       "|  5 | t2 | 10.072778 |  0.072777961 |\n",
       "|  6 | t2 | 11.957002 | -0.042997938 |\n",
       "|  7 | t2 | 14.002079 |  0.002078900 |\n",
       "|  8 | t2 | 16.031059 |  0.031058822 |\n",
       "|  9 | t2 | 18.046717 |  0.046716672 |\n",
       "| 10 | t2 | 20.046959 |  0.046959194 |\n",
       "|  1 | t1 |  1.079367 |  0.079366812 |\n",
       "|  2 | t1 |  2.034495 |  0.034494559 |\n",
       "|  3 | t1 |  2.942990 | -0.057010017 |\n",
       "|  4 | t1 |  3.936265 | -0.063734966 |\n",
       "|  5 | t1 |  4.971931 | -0.028069105 |\n",
       "|  6 | t1 |  5.935258 | -0.064741864 |\n",
       "|  7 | t1 |  6.930239 | -0.069760726 |\n",
       "|  8 | t1 |  8.088869 |  0.088868510 |\n",
       "|  9 | t1 |  8.949670 | -0.050330255 |\n",
       "| 10 | t1 |  9.963969 | -0.036030556 |\n",
       "| ⋮ | ⋮ | ⋮ | ⋮ |\n",
       "|  1 | t2 |  2.0298945 |  0.029894485 |\n",
       "|  2 | t2 |  3.9258667 | -0.074133292 |\n",
       "|  3 | t2 |  6.0798658 |  0.079865815 |\n",
       "|  4 | t2 |  8.0427000 |  0.042699961 |\n",
       "|  5 | t2 | 10.0047110 |  0.004710953 |\n",
       "|  6 | t2 | 12.0451718 |  0.045171754 |\n",
       "|  7 | t2 | 14.0277883 |  0.027788304 |\n",
       "|  8 | t2 | 15.9948606 | -0.005139422 |\n",
       "|  9 | t2 | 17.9814433 | -0.018556727 |\n",
       "| 10 | t2 | 20.0706583 |  0.070658276 |\n",
       "|  1 | t1 |  0.9608387 | -0.039161259 |\n",
       "|  2 | t1 |  2.0267897 |  0.026789747 |\n",
       "|  3 | t1 |  2.9177290 | -0.082271013 |\n",
       "|  4 | t1 |  3.9467534 | -0.053246569 |\n",
       "|  5 | t1 |  5.0340156 |  0.034015561 |\n",
       "|  6 | t1 |  6.0447867 |  0.044786676 |\n",
       "|  7 | t1 |  6.9471870 | -0.052813046 |\n",
       "|  8 | t1 |  8.0205163 |  0.020516265 |\n",
       "|  9 | t1 |  8.9359922 | -0.064007769 |\n",
       "| 10 | t1 | 10.0013729 |  0.001372936 |\n",
       "|  1 | t2 |  1.9076066 | -0.092393352 |\n",
       "|  2 | t2 |  3.9216544 | -0.078345629 |\n",
       "|  3 | t2 |  5.9047371 | -0.095262873 |\n",
       "|  4 | t2 |  7.9451692 | -0.054830831 |\n",
       "|  5 | t2 | 10.0706839 |  0.070683864 |\n",
       "|  6 | t2 | 11.9154638 | -0.084536184 |\n",
       "|  7 | t2 | 13.9948929 | -0.005107067 |\n",
       "|  8 | t2 | 15.9483586 | -0.051641405 |\n",
       "|  9 | t2 | 17.9686723 | -0.031327676 |\n",
       "| 10 | t2 | 19.9371683 | -0.062831726 |\n",
       "\n"
      ],
      "text/plain": [
       "    n  alg time       error       \n",
       "1    1 t1   1.010572   0.010572148\n",
       "2    2 t1   1.981689  -0.018310993\n",
       "3    3 t1   3.066268   0.066268043\n",
       "4    4 t1   4.060221   0.060220570\n",
       "5    5 t1   5.029502   0.029502051\n",
       "6    6 t1   6.045928   0.045927536\n",
       "7    7 t1   6.957461  -0.042538559\n",
       "8    8 t1   8.009891   0.009891313\n",
       "9    9 t1   9.053959   0.053959370\n",
       "10  10 t1   9.982560  -0.017439984\n",
       "11   1 t2   1.997585  -0.002414813\n",
       "12   2 t2   3.953772  -0.046227795\n",
       "13   3 t2   5.978172  -0.021827928\n",
       "14   4 t2   8.052453   0.052453117\n",
       "15   5 t2  10.072778   0.072777961\n",
       "16   6 t2  11.957002  -0.042997938\n",
       "17   7 t2  14.002079   0.002078900\n",
       "18   8 t2  16.031059   0.031058822\n",
       "19   9 t2  18.046717   0.046716672\n",
       "20  10 t2  20.046959   0.046959194\n",
       "21   1 t1   1.079367   0.079366812\n",
       "22   2 t1   2.034495   0.034494559\n",
       "23   3 t1   2.942990  -0.057010017\n",
       "24   4 t1   3.936265  -0.063734966\n",
       "25   5 t1   4.971931  -0.028069105\n",
       "26   6 t1   5.935258  -0.064741864\n",
       "27   7 t1   6.930239  -0.069760726\n",
       "28   8 t1   8.088869   0.088868510\n",
       "29   9 t1   8.949670  -0.050330255\n",
       "30  10 t1   9.963969  -0.036030556\n",
       "⋮   ⋮  ⋮   ⋮          ⋮           \n",
       "71   1 t2   2.0298945  0.029894485\n",
       "72   2 t2   3.9258667 -0.074133292\n",
       "73   3 t2   6.0798658  0.079865815\n",
       "74   4 t2   8.0427000  0.042699961\n",
       "75   5 t2  10.0047110  0.004710953\n",
       "76   6 t2  12.0451718  0.045171754\n",
       "77   7 t2  14.0277883  0.027788304\n",
       "78   8 t2  15.9948606 -0.005139422\n",
       "79   9 t2  17.9814433 -0.018556727\n",
       "80  10 t2  20.0706583  0.070658276\n",
       "81   1 t1   0.9608387 -0.039161259\n",
       "82   2 t1   2.0267897  0.026789747\n",
       "83   3 t1   2.9177290 -0.082271013\n",
       "84   4 t1   3.9467534 -0.053246569\n",
       "85   5 t1   5.0340156  0.034015561\n",
       "86   6 t1   6.0447867  0.044786676\n",
       "87   7 t1   6.9471870 -0.052813046\n",
       "88   8 t1   8.0205163  0.020516265\n",
       "89   9 t1   8.9359922 -0.064007769\n",
       "90  10 t1  10.0013729  0.001372936\n",
       "91   1 t2   1.9076066 -0.092393352\n",
       "92   2 t2   3.9216544 -0.078345629\n",
       "93   3 t2   5.9047371 -0.095262873\n",
       "94   4 t2   7.9451692 -0.054830831\n",
       "95   5 t2  10.0706839  0.070683864\n",
       "96   6 t2  11.9154638 -0.084536184\n",
       "97   7 t2  13.9948929 -0.005107067\n",
       "98   8 t2  15.9483586 -0.051641405\n",
       "99   9 t2  17.9686723 -0.031327676\n",
       "100 10 t2  19.9371683 -0.062831726"
      ]
     },
     "metadata": {},
     "output_type": "display_data"
    }
   ],
   "source": [
    "results <- read.csv(\"data2.txt\")\n",
    "\n",
    "results"
   ]
  },
  {
   "cell_type": "markdown",
   "metadata": {},
   "source": [
    "Dodanie nowej kolumny:"
   ]
  },
  {
   "cell_type": "code",
   "execution_count": 37,
   "metadata": {
    "scrolled": true
   },
   "outputs": [
    {
     "data": {
      "text/html": [
       "<table class=\"dataframe\">\n",
       "<caption>A data.frame: 100 × 5</caption>\n",
       "<thead>\n",
       "\t<tr><th scope=col>n</th><th scope=col>alg</th><th scope=col>time</th><th scope=col>error</th><th scope=col>speed</th></tr>\n",
       "\t<tr><th scope=col>&lt;int&gt;</th><th scope=col>&lt;chr&gt;</th><th scope=col>&lt;dbl&gt;</th><th scope=col>&lt;dbl&gt;</th><th scope=col>&lt;dbl&gt;</th></tr>\n",
       "</thead>\n",
       "<tbody>\n",
       "\t<tr><td> 1</td><td>t1</td><td> 1.010572</td><td> 0.010572148</td><td>0.9895385</td></tr>\n",
       "\t<tr><td> 2</td><td>t1</td><td> 1.981689</td><td>-0.018310993</td><td>1.0092401</td></tr>\n",
       "\t<tr><td> 3</td><td>t1</td><td> 3.066268</td><td> 0.066268043</td><td>0.9783880</td></tr>\n",
       "\t<tr><td> 4</td><td>t1</td><td> 4.060221</td><td> 0.060220570</td><td>0.9851682</td></tr>\n",
       "\t<tr><td> 5</td><td>t1</td><td> 5.029502</td><td> 0.029502051</td><td>0.9941342</td></tr>\n",
       "\t<tr><td> 6</td><td>t1</td><td> 6.045928</td><td> 0.045927536</td><td>0.9924036</td></tr>\n",
       "\t<tr><td> 7</td><td>t1</td><td> 6.957461</td><td>-0.042538559</td><td>1.0061141</td></tr>\n",
       "\t<tr><td> 8</td><td>t1</td><td> 8.009891</td><td> 0.009891313</td><td>0.9987651</td></tr>\n",
       "\t<tr><td> 9</td><td>t1</td><td> 9.053959</td><td> 0.053959370</td><td>0.9940402</td></tr>\n",
       "\t<tr><td>10</td><td>t1</td><td> 9.982560</td><td>-0.017439984</td><td>1.0017470</td></tr>\n",
       "\t<tr><td> 1</td><td>t2</td><td> 1.997585</td><td>-0.002414813</td><td>0.5006044</td></tr>\n",
       "\t<tr><td> 2</td><td>t2</td><td> 3.953772</td><td>-0.046227795</td><td>0.5058460</td></tr>\n",
       "\t<tr><td> 3</td><td>t2</td><td> 5.978172</td><td>-0.021827928</td><td>0.5018256</td></tr>\n",
       "\t<tr><td> 4</td><td>t2</td><td> 8.052453</td><td> 0.052453117</td><td>0.4967430</td></tr>\n",
       "\t<tr><td> 5</td><td>t2</td><td>10.072778</td><td> 0.072777961</td><td>0.4963874</td></tr>\n",
       "\t<tr><td> 6</td><td>t2</td><td>11.957002</td><td>-0.042997938</td><td>0.5017980</td></tr>\n",
       "\t<tr><td> 7</td><td>t2</td><td>14.002079</td><td> 0.002078900</td><td>0.4999258</td></tr>\n",
       "\t<tr><td> 8</td><td>t2</td><td>16.031059</td><td> 0.031058822</td><td>0.4990313</td></tr>\n",
       "\t<tr><td> 9</td><td>t2</td><td>18.046717</td><td> 0.046716672</td><td>0.4987057</td></tr>\n",
       "\t<tr><td>10</td><td>t2</td><td>20.046959</td><td> 0.046959194</td><td>0.4988288</td></tr>\n",
       "\t<tr><td> 1</td><td>t1</td><td> 1.079367</td><td> 0.079366812</td><td>0.9264691</td></tr>\n",
       "\t<tr><td> 2</td><td>t1</td><td> 2.034495</td><td> 0.034494559</td><td>0.9830451</td></tr>\n",
       "\t<tr><td> 3</td><td>t1</td><td> 2.942990</td><td>-0.057010017</td><td>1.0193715</td></tr>\n",
       "\t<tr><td> 4</td><td>t1</td><td> 3.936265</td><td>-0.063734966</td><td>1.0161917</td></tr>\n",
       "\t<tr><td> 5</td><td>t1</td><td> 4.971931</td><td>-0.028069105</td><td>1.0056455</td></tr>\n",
       "\t<tr><td> 6</td><td>t1</td><td> 5.935258</td><td>-0.064741864</td><td>1.0109080</td></tr>\n",
       "\t<tr><td> 7</td><td>t1</td><td> 6.930239</td><td>-0.069760726</td><td>1.0100661</td></tr>\n",
       "\t<tr><td> 8</td><td>t1</td><td> 8.088869</td><td> 0.088868510</td><td>0.9890135</td></tr>\n",
       "\t<tr><td> 9</td><td>t1</td><td> 8.949670</td><td>-0.050330255</td><td>1.0056237</td></tr>\n",
       "\t<tr><td>10</td><td>t1</td><td> 9.963969</td><td>-0.036030556</td><td>1.0036161</td></tr>\n",
       "\t<tr><td>⋮</td><td>⋮</td><td>⋮</td><td>⋮</td><td>⋮</td></tr>\n",
       "\t<tr><td> 1</td><td>t2</td><td> 2.0298945</td><td> 0.029894485</td><td>0.4926364</td></tr>\n",
       "\t<tr><td> 2</td><td>t2</td><td> 3.9258667</td><td>-0.074133292</td><td>0.5094416</td></tr>\n",
       "\t<tr><td> 3</td><td>t2</td><td> 6.0798658</td><td> 0.079865815</td><td>0.4934319</td></tr>\n",
       "\t<tr><td> 4</td><td>t2</td><td> 8.0427000</td><td> 0.042699961</td><td>0.4973454</td></tr>\n",
       "\t<tr><td> 5</td><td>t2</td><td>10.0047110</td><td> 0.004710953</td><td>0.4997646</td></tr>\n",
       "\t<tr><td> 6</td><td>t2</td><td>12.0451718</td><td> 0.045171754</td><td>0.4981249</td></tr>\n",
       "\t<tr><td> 7</td><td>t2</td><td>14.0277883</td><td> 0.027788304</td><td>0.4990095</td></tr>\n",
       "\t<tr><td> 8</td><td>t2</td><td>15.9948606</td><td>-0.005139422</td><td>0.5001607</td></tr>\n",
       "\t<tr><td> 9</td><td>t2</td><td>17.9814433</td><td>-0.018556727</td><td>0.5005160</td></tr>\n",
       "\t<tr><td>10</td><td>t2</td><td>20.0706583</td><td> 0.070658276</td><td>0.4982398</td></tr>\n",
       "\t<tr><td> 1</td><td>t1</td><td> 0.9608387</td><td>-0.039161259</td><td>1.0407574</td></tr>\n",
       "\t<tr><td> 2</td><td>t1</td><td> 2.0267897</td><td> 0.026789747</td><td>0.9867822</td></tr>\n",
       "\t<tr><td> 3</td><td>t1</td><td> 2.9177290</td><td>-0.082271013</td><td>1.0281969</td></tr>\n",
       "\t<tr><td> 4</td><td>t1</td><td> 3.9467534</td><td>-0.053246569</td><td>1.0134912</td></tr>\n",
       "\t<tr><td> 5</td><td>t1</td><td> 5.0340156</td><td> 0.034015561</td><td>0.9932429</td></tr>\n",
       "\t<tr><td> 6</td><td>t1</td><td> 6.0447867</td><td> 0.044786676</td><td>0.9925909</td></tr>\n",
       "\t<tr><td> 7</td><td>t1</td><td> 6.9471870</td><td>-0.052813046</td><td>1.0076021</td></tr>\n",
       "\t<tr><td> 8</td><td>t1</td><td> 8.0205163</td><td> 0.020516265</td><td>0.9974420</td></tr>\n",
       "\t<tr><td> 9</td><td>t1</td><td> 8.9359922</td><td>-0.064007769</td><td>1.0071629</td></tr>\n",
       "\t<tr><td>10</td><td>t1</td><td>10.0013729</td><td> 0.001372936</td><td>0.9998627</td></tr>\n",
       "\t<tr><td> 1</td><td>t2</td><td> 1.9076066</td><td>-0.092393352</td><td>0.5242171</td></tr>\n",
       "\t<tr><td> 2</td><td>t2</td><td> 3.9216544</td><td>-0.078345629</td><td>0.5099888</td></tr>\n",
       "\t<tr><td> 3</td><td>t2</td><td> 5.9047371</td><td>-0.095262873</td><td>0.5080666</td></tr>\n",
       "\t<tr><td> 4</td><td>t2</td><td> 7.9451692</td><td>-0.054830831</td><td>0.5034506</td></tr>\n",
       "\t<tr><td> 5</td><td>t2</td><td>10.0706839</td><td> 0.070683864</td><td>0.4964906</td></tr>\n",
       "\t<tr><td> 6</td><td>t2</td><td>11.9154638</td><td>-0.084536184</td><td>0.5035473</td></tr>\n",
       "\t<tr><td> 7</td><td>t2</td><td>13.9948929</td><td>-0.005107067</td><td>0.5001825</td></tr>\n",
       "\t<tr><td> 8</td><td>t2</td><td>15.9483586</td><td>-0.051641405</td><td>0.5016190</td></tr>\n",
       "\t<tr><td> 9</td><td>t2</td><td>17.9686723</td><td>-0.031327676</td><td>0.5008717</td></tr>\n",
       "\t<tr><td>10</td><td>t2</td><td>19.9371683</td><td>-0.062831726</td><td>0.5015757</td></tr>\n",
       "</tbody>\n",
       "</table>\n"
      ],
      "text/latex": [
       "A data.frame: 100 × 5\n",
       "\\begin{tabular}{lllll}\n",
       " n & alg & time & error & speed\\\\\n",
       " <int> & <chr> & <dbl> & <dbl> & <dbl>\\\\\n",
       "\\hline\n",
       "\t  1 & t1 &  1.010572 &  0.010572148 & 0.9895385\\\\\n",
       "\t  2 & t1 &  1.981689 & -0.018310993 & 1.0092401\\\\\n",
       "\t  3 & t1 &  3.066268 &  0.066268043 & 0.9783880\\\\\n",
       "\t  4 & t1 &  4.060221 &  0.060220570 & 0.9851682\\\\\n",
       "\t  5 & t1 &  5.029502 &  0.029502051 & 0.9941342\\\\\n",
       "\t  6 & t1 &  6.045928 &  0.045927536 & 0.9924036\\\\\n",
       "\t  7 & t1 &  6.957461 & -0.042538559 & 1.0061141\\\\\n",
       "\t  8 & t1 &  8.009891 &  0.009891313 & 0.9987651\\\\\n",
       "\t  9 & t1 &  9.053959 &  0.053959370 & 0.9940402\\\\\n",
       "\t 10 & t1 &  9.982560 & -0.017439984 & 1.0017470\\\\\n",
       "\t  1 & t2 &  1.997585 & -0.002414813 & 0.5006044\\\\\n",
       "\t  2 & t2 &  3.953772 & -0.046227795 & 0.5058460\\\\\n",
       "\t  3 & t2 &  5.978172 & -0.021827928 & 0.5018256\\\\\n",
       "\t  4 & t2 &  8.052453 &  0.052453117 & 0.4967430\\\\\n",
       "\t  5 & t2 & 10.072778 &  0.072777961 & 0.4963874\\\\\n",
       "\t  6 & t2 & 11.957002 & -0.042997938 & 0.5017980\\\\\n",
       "\t  7 & t2 & 14.002079 &  0.002078900 & 0.4999258\\\\\n",
       "\t  8 & t2 & 16.031059 &  0.031058822 & 0.4990313\\\\\n",
       "\t  9 & t2 & 18.046717 &  0.046716672 & 0.4987057\\\\\n",
       "\t 10 & t2 & 20.046959 &  0.046959194 & 0.4988288\\\\\n",
       "\t  1 & t1 &  1.079367 &  0.079366812 & 0.9264691\\\\\n",
       "\t  2 & t1 &  2.034495 &  0.034494559 & 0.9830451\\\\\n",
       "\t  3 & t1 &  2.942990 & -0.057010017 & 1.0193715\\\\\n",
       "\t  4 & t1 &  3.936265 & -0.063734966 & 1.0161917\\\\\n",
       "\t  5 & t1 &  4.971931 & -0.028069105 & 1.0056455\\\\\n",
       "\t  6 & t1 &  5.935258 & -0.064741864 & 1.0109080\\\\\n",
       "\t  7 & t1 &  6.930239 & -0.069760726 & 1.0100661\\\\\n",
       "\t  8 & t1 &  8.088869 &  0.088868510 & 0.9890135\\\\\n",
       "\t  9 & t1 &  8.949670 & -0.050330255 & 1.0056237\\\\\n",
       "\t 10 & t1 &  9.963969 & -0.036030556 & 1.0036161\\\\\n",
       "\t ⋮ & ⋮ & ⋮ & ⋮ & ⋮\\\\\n",
       "\t  1 & t2 &  2.0298945 &  0.029894485 & 0.4926364\\\\\n",
       "\t  2 & t2 &  3.9258667 & -0.074133292 & 0.5094416\\\\\n",
       "\t  3 & t2 &  6.0798658 &  0.079865815 & 0.4934319\\\\\n",
       "\t  4 & t2 &  8.0427000 &  0.042699961 & 0.4973454\\\\\n",
       "\t  5 & t2 & 10.0047110 &  0.004710953 & 0.4997646\\\\\n",
       "\t  6 & t2 & 12.0451718 &  0.045171754 & 0.4981249\\\\\n",
       "\t  7 & t2 & 14.0277883 &  0.027788304 & 0.4990095\\\\\n",
       "\t  8 & t2 & 15.9948606 & -0.005139422 & 0.5001607\\\\\n",
       "\t  9 & t2 & 17.9814433 & -0.018556727 & 0.5005160\\\\\n",
       "\t 10 & t2 & 20.0706583 &  0.070658276 & 0.4982398\\\\\n",
       "\t  1 & t1 &  0.9608387 & -0.039161259 & 1.0407574\\\\\n",
       "\t  2 & t1 &  2.0267897 &  0.026789747 & 0.9867822\\\\\n",
       "\t  3 & t1 &  2.9177290 & -0.082271013 & 1.0281969\\\\\n",
       "\t  4 & t1 &  3.9467534 & -0.053246569 & 1.0134912\\\\\n",
       "\t  5 & t1 &  5.0340156 &  0.034015561 & 0.9932429\\\\\n",
       "\t  6 & t1 &  6.0447867 &  0.044786676 & 0.9925909\\\\\n",
       "\t  7 & t1 &  6.9471870 & -0.052813046 & 1.0076021\\\\\n",
       "\t  8 & t1 &  8.0205163 &  0.020516265 & 0.9974420\\\\\n",
       "\t  9 & t1 &  8.9359922 & -0.064007769 & 1.0071629\\\\\n",
       "\t 10 & t1 & 10.0013729 &  0.001372936 & 0.9998627\\\\\n",
       "\t  1 & t2 &  1.9076066 & -0.092393352 & 0.5242171\\\\\n",
       "\t  2 & t2 &  3.9216544 & -0.078345629 & 0.5099888\\\\\n",
       "\t  3 & t2 &  5.9047371 & -0.095262873 & 0.5080666\\\\\n",
       "\t  4 & t2 &  7.9451692 & -0.054830831 & 0.5034506\\\\\n",
       "\t  5 & t2 & 10.0706839 &  0.070683864 & 0.4964906\\\\\n",
       "\t  6 & t2 & 11.9154638 & -0.084536184 & 0.5035473\\\\\n",
       "\t  7 & t2 & 13.9948929 & -0.005107067 & 0.5001825\\\\\n",
       "\t  8 & t2 & 15.9483586 & -0.051641405 & 0.5016190\\\\\n",
       "\t  9 & t2 & 17.9686723 & -0.031327676 & 0.5008717\\\\\n",
       "\t 10 & t2 & 19.9371683 & -0.062831726 & 0.5015757\\\\\n",
       "\\end{tabular}\n"
      ],
      "text/markdown": [
       "\n",
       "A data.frame: 100 × 5\n",
       "\n",
       "| n &lt;int&gt; | alg &lt;chr&gt; | time &lt;dbl&gt; | error &lt;dbl&gt; | speed &lt;dbl&gt; |\n",
       "|---|---|---|---|---|\n",
       "|  1 | t1 |  1.010572 |  0.010572148 | 0.9895385 |\n",
       "|  2 | t1 |  1.981689 | -0.018310993 | 1.0092401 |\n",
       "|  3 | t1 |  3.066268 |  0.066268043 | 0.9783880 |\n",
       "|  4 | t1 |  4.060221 |  0.060220570 | 0.9851682 |\n",
       "|  5 | t1 |  5.029502 |  0.029502051 | 0.9941342 |\n",
       "|  6 | t1 |  6.045928 |  0.045927536 | 0.9924036 |\n",
       "|  7 | t1 |  6.957461 | -0.042538559 | 1.0061141 |\n",
       "|  8 | t1 |  8.009891 |  0.009891313 | 0.9987651 |\n",
       "|  9 | t1 |  9.053959 |  0.053959370 | 0.9940402 |\n",
       "| 10 | t1 |  9.982560 | -0.017439984 | 1.0017470 |\n",
       "|  1 | t2 |  1.997585 | -0.002414813 | 0.5006044 |\n",
       "|  2 | t2 |  3.953772 | -0.046227795 | 0.5058460 |\n",
       "|  3 | t2 |  5.978172 | -0.021827928 | 0.5018256 |\n",
       "|  4 | t2 |  8.052453 |  0.052453117 | 0.4967430 |\n",
       "|  5 | t2 | 10.072778 |  0.072777961 | 0.4963874 |\n",
       "|  6 | t2 | 11.957002 | -0.042997938 | 0.5017980 |\n",
       "|  7 | t2 | 14.002079 |  0.002078900 | 0.4999258 |\n",
       "|  8 | t2 | 16.031059 |  0.031058822 | 0.4990313 |\n",
       "|  9 | t2 | 18.046717 |  0.046716672 | 0.4987057 |\n",
       "| 10 | t2 | 20.046959 |  0.046959194 | 0.4988288 |\n",
       "|  1 | t1 |  1.079367 |  0.079366812 | 0.9264691 |\n",
       "|  2 | t1 |  2.034495 |  0.034494559 | 0.9830451 |\n",
       "|  3 | t1 |  2.942990 | -0.057010017 | 1.0193715 |\n",
       "|  4 | t1 |  3.936265 | -0.063734966 | 1.0161917 |\n",
       "|  5 | t1 |  4.971931 | -0.028069105 | 1.0056455 |\n",
       "|  6 | t1 |  5.935258 | -0.064741864 | 1.0109080 |\n",
       "|  7 | t1 |  6.930239 | -0.069760726 | 1.0100661 |\n",
       "|  8 | t1 |  8.088869 |  0.088868510 | 0.9890135 |\n",
       "|  9 | t1 |  8.949670 | -0.050330255 | 1.0056237 |\n",
       "| 10 | t1 |  9.963969 | -0.036030556 | 1.0036161 |\n",
       "| ⋮ | ⋮ | ⋮ | ⋮ | ⋮ |\n",
       "|  1 | t2 |  2.0298945 |  0.029894485 | 0.4926364 |\n",
       "|  2 | t2 |  3.9258667 | -0.074133292 | 0.5094416 |\n",
       "|  3 | t2 |  6.0798658 |  0.079865815 | 0.4934319 |\n",
       "|  4 | t2 |  8.0427000 |  0.042699961 | 0.4973454 |\n",
       "|  5 | t2 | 10.0047110 |  0.004710953 | 0.4997646 |\n",
       "|  6 | t2 | 12.0451718 |  0.045171754 | 0.4981249 |\n",
       "|  7 | t2 | 14.0277883 |  0.027788304 | 0.4990095 |\n",
       "|  8 | t2 | 15.9948606 | -0.005139422 | 0.5001607 |\n",
       "|  9 | t2 | 17.9814433 | -0.018556727 | 0.5005160 |\n",
       "| 10 | t2 | 20.0706583 |  0.070658276 | 0.4982398 |\n",
       "|  1 | t1 |  0.9608387 | -0.039161259 | 1.0407574 |\n",
       "|  2 | t1 |  2.0267897 |  0.026789747 | 0.9867822 |\n",
       "|  3 | t1 |  2.9177290 | -0.082271013 | 1.0281969 |\n",
       "|  4 | t1 |  3.9467534 | -0.053246569 | 1.0134912 |\n",
       "|  5 | t1 |  5.0340156 |  0.034015561 | 0.9932429 |\n",
       "|  6 | t1 |  6.0447867 |  0.044786676 | 0.9925909 |\n",
       "|  7 | t1 |  6.9471870 | -0.052813046 | 1.0076021 |\n",
       "|  8 | t1 |  8.0205163 |  0.020516265 | 0.9974420 |\n",
       "|  9 | t1 |  8.9359922 | -0.064007769 | 1.0071629 |\n",
       "| 10 | t1 | 10.0013729 |  0.001372936 | 0.9998627 |\n",
       "|  1 | t2 |  1.9076066 | -0.092393352 | 0.5242171 |\n",
       "|  2 | t2 |  3.9216544 | -0.078345629 | 0.5099888 |\n",
       "|  3 | t2 |  5.9047371 | -0.095262873 | 0.5080666 |\n",
       "|  4 | t2 |  7.9451692 | -0.054830831 | 0.5034506 |\n",
       "|  5 | t2 | 10.0706839 |  0.070683864 | 0.4964906 |\n",
       "|  6 | t2 | 11.9154638 | -0.084536184 | 0.5035473 |\n",
       "|  7 | t2 | 13.9948929 | -0.005107067 | 0.5001825 |\n",
       "|  8 | t2 | 15.9483586 | -0.051641405 | 0.5016190 |\n",
       "|  9 | t2 | 17.9686723 | -0.031327676 | 0.5008717 |\n",
       "| 10 | t2 | 19.9371683 | -0.062831726 | 0.5015757 |\n",
       "\n"
      ],
      "text/plain": [
       "    n  alg time       error        speed    \n",
       "1    1 t1   1.010572   0.010572148 0.9895385\n",
       "2    2 t1   1.981689  -0.018310993 1.0092401\n",
       "3    3 t1   3.066268   0.066268043 0.9783880\n",
       "4    4 t1   4.060221   0.060220570 0.9851682\n",
       "5    5 t1   5.029502   0.029502051 0.9941342\n",
       "6    6 t1   6.045928   0.045927536 0.9924036\n",
       "7    7 t1   6.957461  -0.042538559 1.0061141\n",
       "8    8 t1   8.009891   0.009891313 0.9987651\n",
       "9    9 t1   9.053959   0.053959370 0.9940402\n",
       "10  10 t1   9.982560  -0.017439984 1.0017470\n",
       "11   1 t2   1.997585  -0.002414813 0.5006044\n",
       "12   2 t2   3.953772  -0.046227795 0.5058460\n",
       "13   3 t2   5.978172  -0.021827928 0.5018256\n",
       "14   4 t2   8.052453   0.052453117 0.4967430\n",
       "15   5 t2  10.072778   0.072777961 0.4963874\n",
       "16   6 t2  11.957002  -0.042997938 0.5017980\n",
       "17   7 t2  14.002079   0.002078900 0.4999258\n",
       "18   8 t2  16.031059   0.031058822 0.4990313\n",
       "19   9 t2  18.046717   0.046716672 0.4987057\n",
       "20  10 t2  20.046959   0.046959194 0.4988288\n",
       "21   1 t1   1.079367   0.079366812 0.9264691\n",
       "22   2 t1   2.034495   0.034494559 0.9830451\n",
       "23   3 t1   2.942990  -0.057010017 1.0193715\n",
       "24   4 t1   3.936265  -0.063734966 1.0161917\n",
       "25   5 t1   4.971931  -0.028069105 1.0056455\n",
       "26   6 t1   5.935258  -0.064741864 1.0109080\n",
       "27   7 t1   6.930239  -0.069760726 1.0100661\n",
       "28   8 t1   8.088869   0.088868510 0.9890135\n",
       "29   9 t1   8.949670  -0.050330255 1.0056237\n",
       "30  10 t1   9.963969  -0.036030556 1.0036161\n",
       "⋮   ⋮  ⋮   ⋮          ⋮            ⋮        \n",
       "71   1 t2   2.0298945  0.029894485 0.4926364\n",
       "72   2 t2   3.9258667 -0.074133292 0.5094416\n",
       "73   3 t2   6.0798658  0.079865815 0.4934319\n",
       "74   4 t2   8.0427000  0.042699961 0.4973454\n",
       "75   5 t2  10.0047110  0.004710953 0.4997646\n",
       "76   6 t2  12.0451718  0.045171754 0.4981249\n",
       "77   7 t2  14.0277883  0.027788304 0.4990095\n",
       "78   8 t2  15.9948606 -0.005139422 0.5001607\n",
       "79   9 t2  17.9814433 -0.018556727 0.5005160\n",
       "80  10 t2  20.0706583  0.070658276 0.4982398\n",
       "81   1 t1   0.9608387 -0.039161259 1.0407574\n",
       "82   2 t1   2.0267897  0.026789747 0.9867822\n",
       "83   3 t1   2.9177290 -0.082271013 1.0281969\n",
       "84   4 t1   3.9467534 -0.053246569 1.0134912\n",
       "85   5 t1   5.0340156  0.034015561 0.9932429\n",
       "86   6 t1   6.0447867  0.044786676 0.9925909\n",
       "87   7 t1   6.9471870 -0.052813046 1.0076021\n",
       "88   8 t1   8.0205163  0.020516265 0.9974420\n",
       "89   9 t1   8.9359922 -0.064007769 1.0071629\n",
       "90  10 t1  10.0013729  0.001372936 0.9998627\n",
       "91   1 t2   1.9076066 -0.092393352 0.5242171\n",
       "92   2 t2   3.9216544 -0.078345629 0.5099888\n",
       "93   3 t2   5.9047371 -0.095262873 0.5080666\n",
       "94   4 t2   7.9451692 -0.054830831 0.5034506\n",
       "95   5 t2  10.0706839  0.070683864 0.4964906\n",
       "96   6 t2  11.9154638 -0.084536184 0.5035473\n",
       "97   7 t2  13.9948929 -0.005107067 0.5001825\n",
       "98   8 t2  15.9483586 -0.051641405 0.5016190\n",
       "99   9 t2  17.9686723 -0.031327676 0.5008717\n",
       "100 10 t2  19.9371683 -0.062831726 0.5015757"
      ]
     },
     "metadata": {},
     "output_type": "display_data"
    }
   ],
   "source": [
    "results$speed <- results$n / results$time\n",
    "\n",
    "results"
   ]
  },
  {
   "cell_type": "markdown",
   "metadata": {},
   "source": [
    "Grupowanie (agregacja)\n",
    "\n",
    "Przyklad: zastosowanie funkcji FUN (tutaj: mean czyli obliczającej średnią) do wszystkich wartosci time dla takich samych n i alg:"
   ]
  },
  {
   "cell_type": "code",
   "execution_count": 38,
   "metadata": {},
   "outputs": [
    {
     "data": {
      "text/html": [
       "<table class=\"dataframe\">\n",
       "<caption>A data.frame: 20 × 3</caption>\n",
       "<thead>\n",
       "\t<tr><th scope=col>n</th><th scope=col>alg</th><th scope=col>time</th></tr>\n",
       "\t<tr><th scope=col>&lt;int&gt;</th><th scope=col>&lt;chr&gt;</th><th scope=col>&lt;dbl&gt;</th></tr>\n",
       "</thead>\n",
       "<tbody>\n",
       "\t<tr><td> 1</td><td>t1</td><td> 0.9990494</td></tr>\n",
       "\t<tr><td> 2</td><td>t1</td><td> 2.0152520</td></tr>\n",
       "\t<tr><td> 3</td><td>t1</td><td> 2.9867132</td></tr>\n",
       "\t<tr><td> 4</td><td>t1</td><td> 3.9869472</td></tr>\n",
       "\t<tr><td> 5</td><td>t1</td><td> 4.9716765</td></tr>\n",
       "\t<tr><td> 6</td><td>t1</td><td> 6.0127196</td></tr>\n",
       "\t<tr><td> 7</td><td>t1</td><td> 6.9400184</td></tr>\n",
       "\t<tr><td> 8</td><td>t1</td><td> 8.0313431</td></tr>\n",
       "\t<tr><td> 9</td><td>t1</td><td> 8.9836556</td></tr>\n",
       "\t<tr><td>10</td><td>t1</td><td> 9.9948604</td></tr>\n",
       "\t<tr><td> 1</td><td>t2</td><td> 1.9878299</td></tr>\n",
       "\t<tr><td> 2</td><td>t2</td><td> 3.9599609</td></tr>\n",
       "\t<tr><td> 3</td><td>t2</td><td> 5.9861750</td></tr>\n",
       "\t<tr><td> 4</td><td>t2</td><td> 8.0300291</td></tr>\n",
       "\t<tr><td> 5</td><td>t2</td><td>10.0251302</td></tr>\n",
       "\t<tr><td> 6</td><td>t2</td><td>11.9724193</td></tr>\n",
       "\t<tr><td> 7</td><td>t2</td><td>14.0112964</td></tr>\n",
       "\t<tr><td> 8</td><td>t2</td><td>16.0212972</td></tr>\n",
       "\t<tr><td> 9</td><td>t2</td><td>17.9699109</td></tr>\n",
       "\t<tr><td>10</td><td>t2</td><td>19.9883028</td></tr>\n",
       "</tbody>\n",
       "</table>\n"
      ],
      "text/latex": [
       "A data.frame: 20 × 3\n",
       "\\begin{tabular}{lll}\n",
       " n & alg & time\\\\\n",
       " <int> & <chr> & <dbl>\\\\\n",
       "\\hline\n",
       "\t  1 & t1 &  0.9990494\\\\\n",
       "\t  2 & t1 &  2.0152520\\\\\n",
       "\t  3 & t1 &  2.9867132\\\\\n",
       "\t  4 & t1 &  3.9869472\\\\\n",
       "\t  5 & t1 &  4.9716765\\\\\n",
       "\t  6 & t1 &  6.0127196\\\\\n",
       "\t  7 & t1 &  6.9400184\\\\\n",
       "\t  8 & t1 &  8.0313431\\\\\n",
       "\t  9 & t1 &  8.9836556\\\\\n",
       "\t 10 & t1 &  9.9948604\\\\\n",
       "\t  1 & t2 &  1.9878299\\\\\n",
       "\t  2 & t2 &  3.9599609\\\\\n",
       "\t  3 & t2 &  5.9861750\\\\\n",
       "\t  4 & t2 &  8.0300291\\\\\n",
       "\t  5 & t2 & 10.0251302\\\\\n",
       "\t  6 & t2 & 11.9724193\\\\\n",
       "\t  7 & t2 & 14.0112964\\\\\n",
       "\t  8 & t2 & 16.0212972\\\\\n",
       "\t  9 & t2 & 17.9699109\\\\\n",
       "\t 10 & t2 & 19.9883028\\\\\n",
       "\\end{tabular}\n"
      ],
      "text/markdown": [
       "\n",
       "A data.frame: 20 × 3\n",
       "\n",
       "| n &lt;int&gt; | alg &lt;chr&gt; | time &lt;dbl&gt; |\n",
       "|---|---|---|\n",
       "|  1 | t1 |  0.9990494 |\n",
       "|  2 | t1 |  2.0152520 |\n",
       "|  3 | t1 |  2.9867132 |\n",
       "|  4 | t1 |  3.9869472 |\n",
       "|  5 | t1 |  4.9716765 |\n",
       "|  6 | t1 |  6.0127196 |\n",
       "|  7 | t1 |  6.9400184 |\n",
       "|  8 | t1 |  8.0313431 |\n",
       "|  9 | t1 |  8.9836556 |\n",
       "| 10 | t1 |  9.9948604 |\n",
       "|  1 | t2 |  1.9878299 |\n",
       "|  2 | t2 |  3.9599609 |\n",
       "|  3 | t2 |  5.9861750 |\n",
       "|  4 | t2 |  8.0300291 |\n",
       "|  5 | t2 | 10.0251302 |\n",
       "|  6 | t2 | 11.9724193 |\n",
       "|  7 | t2 | 14.0112964 |\n",
       "|  8 | t2 | 16.0212972 |\n",
       "|  9 | t2 | 17.9699109 |\n",
       "| 10 | t2 | 19.9883028 |\n",
       "\n"
      ],
      "text/plain": [
       "   n  alg time      \n",
       "1   1 t1   0.9990494\n",
       "2   2 t1   2.0152520\n",
       "3   3 t1   2.9867132\n",
       "4   4 t1   3.9869472\n",
       "5   5 t1   4.9716765\n",
       "6   6 t1   6.0127196\n",
       "7   7 t1   6.9400184\n",
       "8   8 t1   8.0313431\n",
       "9   9 t1   8.9836556\n",
       "10 10 t1   9.9948604\n",
       "11  1 t2   1.9878299\n",
       "12  2 t2   3.9599609\n",
       "13  3 t2   5.9861750\n",
       "14  4 t2   8.0300291\n",
       "15  5 t2  10.0251302\n",
       "16  6 t2  11.9724193\n",
       "17  7 t2  14.0112964\n",
       "18  8 t2  16.0212972\n",
       "19  9 t2  17.9699109\n",
       "20 10 t2  19.9883028"
      ]
     },
     "metadata": {},
     "output_type": "display_data"
    }
   ],
   "source": [
    "avg_results <- aggregate(time ~ n:alg, data=results, FUN=mean)\n",
    "\n",
    "avg_results"
   ]
  },
  {
   "cell_type": "markdown",
   "metadata": {},
   "source": [
    "Dołączenie kolumny z obliczonym odchyleniem standardowym (sd) do tabeli:"
   ]
  },
  {
   "cell_type": "code",
   "execution_count": 39,
   "metadata": {},
   "outputs": [],
   "source": [
    "avg_results$sd <- aggregate(time ~ n:alg, data=results, FUN=sd)$time"
   ]
  },
  {
   "cell_type": "code",
   "execution_count": 40,
   "metadata": {},
   "outputs": [
    {
     "data": {
      "text/html": [
       "<table class=\"dataframe\">\n",
       "<caption>A data.frame: 20 × 4</caption>\n",
       "<thead>\n",
       "\t<tr><th scope=col>n</th><th scope=col>alg</th><th scope=col>time</th><th scope=col>sd</th></tr>\n",
       "\t<tr><th scope=col>&lt;int&gt;</th><th scope=col>&lt;chr&gt;</th><th scope=col>&lt;dbl&gt;</th><th scope=col>&lt;dbl&gt;</th></tr>\n",
       "</thead>\n",
       "<tbody>\n",
       "\t<tr><td> 1</td><td>t1</td><td> 0.9990494</td><td>0.04902917</td></tr>\n",
       "\t<tr><td> 2</td><td>t1</td><td> 2.0152520</td><td>0.04664671</td></tr>\n",
       "\t<tr><td> 3</td><td>t1</td><td> 2.9867132</td><td>0.07417292</td></tr>\n",
       "\t<tr><td> 4</td><td>t1</td><td> 3.9869472</td><td>0.08150832</td></tr>\n",
       "\t<tr><td> 5</td><td>t1</td><td> 4.9716765</td><td>0.06018547</td></tr>\n",
       "\t<tr><td> 6</td><td>t1</td><td> 6.0127196</td><td>0.04730261</td></tr>\n",
       "\t<tr><td> 7</td><td>t1</td><td> 6.9400184</td><td>0.01562886</td></tr>\n",
       "\t<tr><td> 8</td><td>t1</td><td> 8.0313431</td><td>0.05328619</td></tr>\n",
       "\t<tr><td> 9</td><td>t1</td><td> 8.9836556</td><td>0.04886179</td></tr>\n",
       "\t<tr><td>10</td><td>t1</td><td> 9.9948604</td><td>0.06245583</td></tr>\n",
       "\t<tr><td> 1</td><td>t2</td><td> 1.9878299</td><td>0.06654991</td></tr>\n",
       "\t<tr><td> 2</td><td>t2</td><td> 3.9599609</td><td>0.04418932</td></tr>\n",
       "\t<tr><td> 3</td><td>t2</td><td> 5.9861750</td><td>0.06413231</td></tr>\n",
       "\t<tr><td> 4</td><td>t2</td><td> 8.0300291</td><td>0.04983246</td></tr>\n",
       "\t<tr><td> 5</td><td>t2</td><td>10.0251302</td><td>0.04548820</td></tr>\n",
       "\t<tr><td> 6</td><td>t2</td><td>11.9724193</td><td>0.05267832</td></tr>\n",
       "\t<tr><td> 7</td><td>t2</td><td>14.0112964</td><td>0.05988583</td></tr>\n",
       "\t<tr><td> 8</td><td>t2</td><td>16.0212972</td><td>0.05359947</td></tr>\n",
       "\t<tr><td> 9</td><td>t2</td><td>17.9699109</td><td>0.05270112</td></tr>\n",
       "\t<tr><td>10</td><td>t2</td><td>19.9883028</td><td>0.07047764</td></tr>\n",
       "</tbody>\n",
       "</table>\n"
      ],
      "text/latex": [
       "A data.frame: 20 × 4\n",
       "\\begin{tabular}{llll}\n",
       " n & alg & time & sd\\\\\n",
       " <int> & <chr> & <dbl> & <dbl>\\\\\n",
       "\\hline\n",
       "\t  1 & t1 &  0.9990494 & 0.04902917\\\\\n",
       "\t  2 & t1 &  2.0152520 & 0.04664671\\\\\n",
       "\t  3 & t1 &  2.9867132 & 0.07417292\\\\\n",
       "\t  4 & t1 &  3.9869472 & 0.08150832\\\\\n",
       "\t  5 & t1 &  4.9716765 & 0.06018547\\\\\n",
       "\t  6 & t1 &  6.0127196 & 0.04730261\\\\\n",
       "\t  7 & t1 &  6.9400184 & 0.01562886\\\\\n",
       "\t  8 & t1 &  8.0313431 & 0.05328619\\\\\n",
       "\t  9 & t1 &  8.9836556 & 0.04886179\\\\\n",
       "\t 10 & t1 &  9.9948604 & 0.06245583\\\\\n",
       "\t  1 & t2 &  1.9878299 & 0.06654991\\\\\n",
       "\t  2 & t2 &  3.9599609 & 0.04418932\\\\\n",
       "\t  3 & t2 &  5.9861750 & 0.06413231\\\\\n",
       "\t  4 & t2 &  8.0300291 & 0.04983246\\\\\n",
       "\t  5 & t2 & 10.0251302 & 0.04548820\\\\\n",
       "\t  6 & t2 & 11.9724193 & 0.05267832\\\\\n",
       "\t  7 & t2 & 14.0112964 & 0.05988583\\\\\n",
       "\t  8 & t2 & 16.0212972 & 0.05359947\\\\\n",
       "\t  9 & t2 & 17.9699109 & 0.05270112\\\\\n",
       "\t 10 & t2 & 19.9883028 & 0.07047764\\\\\n",
       "\\end{tabular}\n"
      ],
      "text/markdown": [
       "\n",
       "A data.frame: 20 × 4\n",
       "\n",
       "| n &lt;int&gt; | alg &lt;chr&gt; | time &lt;dbl&gt; | sd &lt;dbl&gt; |\n",
       "|---|---|---|---|\n",
       "|  1 | t1 |  0.9990494 | 0.04902917 |\n",
       "|  2 | t1 |  2.0152520 | 0.04664671 |\n",
       "|  3 | t1 |  2.9867132 | 0.07417292 |\n",
       "|  4 | t1 |  3.9869472 | 0.08150832 |\n",
       "|  5 | t1 |  4.9716765 | 0.06018547 |\n",
       "|  6 | t1 |  6.0127196 | 0.04730261 |\n",
       "|  7 | t1 |  6.9400184 | 0.01562886 |\n",
       "|  8 | t1 |  8.0313431 | 0.05328619 |\n",
       "|  9 | t1 |  8.9836556 | 0.04886179 |\n",
       "| 10 | t1 |  9.9948604 | 0.06245583 |\n",
       "|  1 | t2 |  1.9878299 | 0.06654991 |\n",
       "|  2 | t2 |  3.9599609 | 0.04418932 |\n",
       "|  3 | t2 |  5.9861750 | 0.06413231 |\n",
       "|  4 | t2 |  8.0300291 | 0.04983246 |\n",
       "|  5 | t2 | 10.0251302 | 0.04548820 |\n",
       "|  6 | t2 | 11.9724193 | 0.05267832 |\n",
       "|  7 | t2 | 14.0112964 | 0.05988583 |\n",
       "|  8 | t2 | 16.0212972 | 0.05359947 |\n",
       "|  9 | t2 | 17.9699109 | 0.05270112 |\n",
       "| 10 | t2 | 19.9883028 | 0.07047764 |\n",
       "\n"
      ],
      "text/plain": [
       "   n  alg time       sd        \n",
       "1   1 t1   0.9990494 0.04902917\n",
       "2   2 t1   2.0152520 0.04664671\n",
       "3   3 t1   2.9867132 0.07417292\n",
       "4   4 t1   3.9869472 0.08150832\n",
       "5   5 t1   4.9716765 0.06018547\n",
       "6   6 t1   6.0127196 0.04730261\n",
       "7   7 t1   6.9400184 0.01562886\n",
       "8   8 t1   8.0313431 0.05328619\n",
       "9   9 t1   8.9836556 0.04886179\n",
       "10 10 t1   9.9948604 0.06245583\n",
       "11  1 t2   1.9878299 0.06654991\n",
       "12  2 t2   3.9599609 0.04418932\n",
       "13  3 t2   5.9861750 0.06413231\n",
       "14  4 t2   8.0300291 0.04983246\n",
       "15  5 t2  10.0251302 0.04548820\n",
       "16  6 t2  11.9724193 0.05267832\n",
       "17  7 t2  14.0112964 0.05988583\n",
       "18  8 t2  16.0212972 0.05359947\n",
       "19  9 t2  17.9699109 0.05270112\n",
       "20 10 t2  19.9883028 0.07047764"
      ]
     },
     "metadata": {},
     "output_type": "display_data"
    }
   ],
   "source": [
    "avg_results"
   ]
  },
  {
   "cell_type": "markdown",
   "metadata": {},
   "source": [
    "Agregacja kilku wielkości:"
   ]
  },
  {
   "cell_type": "code",
   "execution_count": 41,
   "metadata": {},
   "outputs": [],
   "source": [
    "avg_results <- aggregate(cbind(time,speed) ~ n:alg, data=results, FUN=mean) "
   ]
  },
  {
   "cell_type": "code",
   "execution_count": 42,
   "metadata": {},
   "outputs": [
    {
     "data": {
      "text/html": [
       "<table class=\"dataframe\">\n",
       "<caption>A data.frame: 20 × 4</caption>\n",
       "<thead>\n",
       "\t<tr><th scope=col>n</th><th scope=col>alg</th><th scope=col>time</th><th scope=col>speed</th></tr>\n",
       "\t<tr><th scope=col>&lt;int&gt;</th><th scope=col>&lt;chr&gt;</th><th scope=col>&lt;dbl&gt;</th><th scope=col>&lt;dbl&gt;</th></tr>\n",
       "</thead>\n",
       "<tbody>\n",
       "\t<tr><td> 1</td><td>t1</td><td> 0.9990494</td><td>1.0028054</td></tr>\n",
       "\t<tr><td> 2</td><td>t1</td><td> 2.0152520</td><td>0.9928574</td></tr>\n",
       "\t<tr><td> 3</td><td>t1</td><td> 2.9867132</td><td>1.0049406</td></tr>\n",
       "\t<tr><td> 4</td><td>t1</td><td> 3.9869472</td><td>1.0036074</td></tr>\n",
       "\t<tr><td> 5</td><td>t1</td><td> 4.9716765</td><td>1.0058149</td></tr>\n",
       "\t<tr><td> 6</td><td>t1</td><td> 6.0127196</td><td>0.9979343</td></tr>\n",
       "\t<tr><td> 7</td><td>t1</td><td> 6.9400184</td><td>1.0086470</td></tr>\n",
       "\t<tr><td> 8</td><td>t1</td><td> 8.0313431</td><td>0.9961325</td></tr>\n",
       "\t<tr><td> 9</td><td>t1</td><td> 8.9836556</td><td>1.0018430</td></tr>\n",
       "\t<tr><td>10</td><td>t1</td><td> 9.9948604</td><td>1.0005453</td></tr>\n",
       "\t<tr><td> 1</td><td>t2</td><td> 1.9878299</td><td>0.5035135</td></tr>\n",
       "\t<tr><td> 2</td><td>t2</td><td> 3.9599609</td><td>0.5051054</td></tr>\n",
       "\t<tr><td> 3</td><td>t2</td><td> 5.9861750</td><td>0.5012006</td></tr>\n",
       "\t<tr><td> 4</td><td>t2</td><td> 8.0300291</td><td>0.4981456</td></tr>\n",
       "\t<tr><td> 5</td><td>t2</td><td>10.0251302</td><td>0.4987549</td></tr>\n",
       "\t<tr><td> 6</td><td>t2</td><td>11.9724193</td><td>0.5011596</td></tr>\n",
       "\t<tr><td> 7</td><td>t2</td><td>14.0112964</td><td>0.4996042</td></tr>\n",
       "\t<tr><td> 8</td><td>t2</td><td>16.0212972</td><td>0.4993398</td></tr>\n",
       "\t<tr><td> 9</td><td>t2</td><td>17.9699109</td><td>0.5008407</td></tr>\n",
       "\t<tr><td>10</td><td>t2</td><td>19.9883028</td><td>0.5002976</td></tr>\n",
       "</tbody>\n",
       "</table>\n"
      ],
      "text/latex": [
       "A data.frame: 20 × 4\n",
       "\\begin{tabular}{llll}\n",
       " n & alg & time & speed\\\\\n",
       " <int> & <chr> & <dbl> & <dbl>\\\\\n",
       "\\hline\n",
       "\t  1 & t1 &  0.9990494 & 1.0028054\\\\\n",
       "\t  2 & t1 &  2.0152520 & 0.9928574\\\\\n",
       "\t  3 & t1 &  2.9867132 & 1.0049406\\\\\n",
       "\t  4 & t1 &  3.9869472 & 1.0036074\\\\\n",
       "\t  5 & t1 &  4.9716765 & 1.0058149\\\\\n",
       "\t  6 & t1 &  6.0127196 & 0.9979343\\\\\n",
       "\t  7 & t1 &  6.9400184 & 1.0086470\\\\\n",
       "\t  8 & t1 &  8.0313431 & 0.9961325\\\\\n",
       "\t  9 & t1 &  8.9836556 & 1.0018430\\\\\n",
       "\t 10 & t1 &  9.9948604 & 1.0005453\\\\\n",
       "\t  1 & t2 &  1.9878299 & 0.5035135\\\\\n",
       "\t  2 & t2 &  3.9599609 & 0.5051054\\\\\n",
       "\t  3 & t2 &  5.9861750 & 0.5012006\\\\\n",
       "\t  4 & t2 &  8.0300291 & 0.4981456\\\\\n",
       "\t  5 & t2 & 10.0251302 & 0.4987549\\\\\n",
       "\t  6 & t2 & 11.9724193 & 0.5011596\\\\\n",
       "\t  7 & t2 & 14.0112964 & 0.4996042\\\\\n",
       "\t  8 & t2 & 16.0212972 & 0.4993398\\\\\n",
       "\t  9 & t2 & 17.9699109 & 0.5008407\\\\\n",
       "\t 10 & t2 & 19.9883028 & 0.5002976\\\\\n",
       "\\end{tabular}\n"
      ],
      "text/markdown": [
       "\n",
       "A data.frame: 20 × 4\n",
       "\n",
       "| n &lt;int&gt; | alg &lt;chr&gt; | time &lt;dbl&gt; | speed &lt;dbl&gt; |\n",
       "|---|---|---|---|\n",
       "|  1 | t1 |  0.9990494 | 1.0028054 |\n",
       "|  2 | t1 |  2.0152520 | 0.9928574 |\n",
       "|  3 | t1 |  2.9867132 | 1.0049406 |\n",
       "|  4 | t1 |  3.9869472 | 1.0036074 |\n",
       "|  5 | t1 |  4.9716765 | 1.0058149 |\n",
       "|  6 | t1 |  6.0127196 | 0.9979343 |\n",
       "|  7 | t1 |  6.9400184 | 1.0086470 |\n",
       "|  8 | t1 |  8.0313431 | 0.9961325 |\n",
       "|  9 | t1 |  8.9836556 | 1.0018430 |\n",
       "| 10 | t1 |  9.9948604 | 1.0005453 |\n",
       "|  1 | t2 |  1.9878299 | 0.5035135 |\n",
       "|  2 | t2 |  3.9599609 | 0.5051054 |\n",
       "|  3 | t2 |  5.9861750 | 0.5012006 |\n",
       "|  4 | t2 |  8.0300291 | 0.4981456 |\n",
       "|  5 | t2 | 10.0251302 | 0.4987549 |\n",
       "|  6 | t2 | 11.9724193 | 0.5011596 |\n",
       "|  7 | t2 | 14.0112964 | 0.4996042 |\n",
       "|  8 | t2 | 16.0212972 | 0.4993398 |\n",
       "|  9 | t2 | 17.9699109 | 0.5008407 |\n",
       "| 10 | t2 | 19.9883028 | 0.5002976 |\n",
       "\n"
      ],
      "text/plain": [
       "   n  alg time       speed    \n",
       "1   1 t1   0.9990494 1.0028054\n",
       "2   2 t1   2.0152520 0.9928574\n",
       "3   3 t1   2.9867132 1.0049406\n",
       "4   4 t1   3.9869472 1.0036074\n",
       "5   5 t1   4.9716765 1.0058149\n",
       "6   6 t1   6.0127196 0.9979343\n",
       "7   7 t1   6.9400184 1.0086470\n",
       "8   8 t1   8.0313431 0.9961325\n",
       "9   9 t1   8.9836556 1.0018430\n",
       "10 10 t1   9.9948604 1.0005453\n",
       "11  1 t2   1.9878299 0.5035135\n",
       "12  2 t2   3.9599609 0.5051054\n",
       "13  3 t2   5.9861750 0.5012006\n",
       "14  4 t2   8.0300291 0.4981456\n",
       "15  5 t2  10.0251302 0.4987549\n",
       "16  6 t2  11.9724193 0.5011596\n",
       "17  7 t2  14.0112964 0.4996042\n",
       "18  8 t2  16.0212972 0.4993398\n",
       "19  9 t2  17.9699109 0.5008407\n",
       "20 10 t2  19.9883028 0.5002976"
      ]
     },
     "metadata": {},
     "output_type": "display_data"
    }
   ],
   "source": [
    "avg_results"
   ]
  },
  {
   "cell_type": "markdown",
   "metadata": {},
   "source": [
    "Filtrowanie danych:"
   ]
  },
  {
   "cell_type": "code",
   "execution_count": 43,
   "metadata": {},
   "outputs": [
    {
     "data": {
      "text/html": [
       "<style>\n",
       ".list-inline {list-style: none; margin:0; padding: 0}\n",
       ".list-inline>li {display: inline-block}\n",
       ".list-inline>li:not(:last-child)::after {content: \"\\00b7\"; padding: 0 .5ex}\n",
       "</style>\n",
       "<ol class=list-inline><li>TRUE</li><li>TRUE</li><li>TRUE</li><li>TRUE</li><li>TRUE</li><li>TRUE</li><li>TRUE</li><li>TRUE</li><li>TRUE</li><li>TRUE</li><li>FALSE</li><li>FALSE</li><li>FALSE</li><li>FALSE</li><li>FALSE</li><li>FALSE</li><li>FALSE</li><li>FALSE</li><li>FALSE</li><li>FALSE</li></ol>\n"
      ],
      "text/latex": [
       "\\begin{enumerate*}\n",
       "\\item TRUE\n",
       "\\item TRUE\n",
       "\\item TRUE\n",
       "\\item TRUE\n",
       "\\item TRUE\n",
       "\\item TRUE\n",
       "\\item TRUE\n",
       "\\item TRUE\n",
       "\\item TRUE\n",
       "\\item TRUE\n",
       "\\item FALSE\n",
       "\\item FALSE\n",
       "\\item FALSE\n",
       "\\item FALSE\n",
       "\\item FALSE\n",
       "\\item FALSE\n",
       "\\item FALSE\n",
       "\\item FALSE\n",
       "\\item FALSE\n",
       "\\item FALSE\n",
       "\\end{enumerate*}\n"
      ],
      "text/markdown": [
       "1. TRUE\n",
       "2. TRUE\n",
       "3. TRUE\n",
       "4. TRUE\n",
       "5. TRUE\n",
       "6. TRUE\n",
       "7. TRUE\n",
       "8. TRUE\n",
       "9. TRUE\n",
       "10. TRUE\n",
       "11. FALSE\n",
       "12. FALSE\n",
       "13. FALSE\n",
       "14. FALSE\n",
       "15. FALSE\n",
       "16. FALSE\n",
       "17. FALSE\n",
       "18. FALSE\n",
       "19. FALSE\n",
       "20. FALSE\n",
       "\n",
       "\n"
      ],
      "text/plain": [
       " [1]  TRUE  TRUE  TRUE  TRUE  TRUE  TRUE  TRUE  TRUE  TRUE  TRUE FALSE FALSE\n",
       "[13] FALSE FALSE FALSE FALSE FALSE FALSE FALSE FALSE"
      ]
     },
     "metadata": {},
     "output_type": "display_data"
    }
   ],
   "source": [
    "avg_results$alg==\"t1\""
   ]
  },
  {
   "cell_type": "code",
   "execution_count": 44,
   "metadata": {},
   "outputs": [
    {
     "data": {
      "text/html": [
       "<table class=\"dataframe\">\n",
       "<caption>A data.frame: 10 × 4</caption>\n",
       "<thead>\n",
       "\t<tr><th></th><th scope=col>n</th><th scope=col>alg</th><th scope=col>time</th><th scope=col>speed</th></tr>\n",
       "\t<tr><th></th><th scope=col>&lt;int&gt;</th><th scope=col>&lt;chr&gt;</th><th scope=col>&lt;dbl&gt;</th><th scope=col>&lt;dbl&gt;</th></tr>\n",
       "</thead>\n",
       "<tbody>\n",
       "\t<tr><th scope=row>1</th><td> 1</td><td>t1</td><td>0.9990494</td><td>1.0028054</td></tr>\n",
       "\t<tr><th scope=row>2</th><td> 2</td><td>t1</td><td>2.0152520</td><td>0.9928574</td></tr>\n",
       "\t<tr><th scope=row>3</th><td> 3</td><td>t1</td><td>2.9867132</td><td>1.0049406</td></tr>\n",
       "\t<tr><th scope=row>4</th><td> 4</td><td>t1</td><td>3.9869472</td><td>1.0036074</td></tr>\n",
       "\t<tr><th scope=row>5</th><td> 5</td><td>t1</td><td>4.9716765</td><td>1.0058149</td></tr>\n",
       "\t<tr><th scope=row>6</th><td> 6</td><td>t1</td><td>6.0127196</td><td>0.9979343</td></tr>\n",
       "\t<tr><th scope=row>7</th><td> 7</td><td>t1</td><td>6.9400184</td><td>1.0086470</td></tr>\n",
       "\t<tr><th scope=row>8</th><td> 8</td><td>t1</td><td>8.0313431</td><td>0.9961325</td></tr>\n",
       "\t<tr><th scope=row>9</th><td> 9</td><td>t1</td><td>8.9836556</td><td>1.0018430</td></tr>\n",
       "\t<tr><th scope=row>10</th><td>10</td><td>t1</td><td>9.9948604</td><td>1.0005453</td></tr>\n",
       "</tbody>\n",
       "</table>\n"
      ],
      "text/latex": [
       "A data.frame: 10 × 4\n",
       "\\begin{tabular}{r|llll}\n",
       "  & n & alg & time & speed\\\\\n",
       "  & <int> & <chr> & <dbl> & <dbl>\\\\\n",
       "\\hline\n",
       "\t1 &  1 & t1 & 0.9990494 & 1.0028054\\\\\n",
       "\t2 &  2 & t1 & 2.0152520 & 0.9928574\\\\\n",
       "\t3 &  3 & t1 & 2.9867132 & 1.0049406\\\\\n",
       "\t4 &  4 & t1 & 3.9869472 & 1.0036074\\\\\n",
       "\t5 &  5 & t1 & 4.9716765 & 1.0058149\\\\\n",
       "\t6 &  6 & t1 & 6.0127196 & 0.9979343\\\\\n",
       "\t7 &  7 & t1 & 6.9400184 & 1.0086470\\\\\n",
       "\t8 &  8 & t1 & 8.0313431 & 0.9961325\\\\\n",
       "\t9 &  9 & t1 & 8.9836556 & 1.0018430\\\\\n",
       "\t10 & 10 & t1 & 9.9948604 & 1.0005453\\\\\n",
       "\\end{tabular}\n"
      ],
      "text/markdown": [
       "\n",
       "A data.frame: 10 × 4\n",
       "\n",
       "| <!--/--> | n &lt;int&gt; | alg &lt;chr&gt; | time &lt;dbl&gt; | speed &lt;dbl&gt; |\n",
       "|---|---|---|---|---|\n",
       "| 1 |  1 | t1 | 0.9990494 | 1.0028054 |\n",
       "| 2 |  2 | t1 | 2.0152520 | 0.9928574 |\n",
       "| 3 |  3 | t1 | 2.9867132 | 1.0049406 |\n",
       "| 4 |  4 | t1 | 3.9869472 | 1.0036074 |\n",
       "| 5 |  5 | t1 | 4.9716765 | 1.0058149 |\n",
       "| 6 |  6 | t1 | 6.0127196 | 0.9979343 |\n",
       "| 7 |  7 | t1 | 6.9400184 | 1.0086470 |\n",
       "| 8 |  8 | t1 | 8.0313431 | 0.9961325 |\n",
       "| 9 |  9 | t1 | 8.9836556 | 1.0018430 |\n",
       "| 10 | 10 | t1 | 9.9948604 | 1.0005453 |\n",
       "\n"
      ],
      "text/plain": [
       "   n  alg time      speed    \n",
       "1   1 t1  0.9990494 1.0028054\n",
       "2   2 t1  2.0152520 0.9928574\n",
       "3   3 t1  2.9867132 1.0049406\n",
       "4   4 t1  3.9869472 1.0036074\n",
       "5   5 t1  4.9716765 1.0058149\n",
       "6   6 t1  6.0127196 0.9979343\n",
       "7   7 t1  6.9400184 1.0086470\n",
       "8   8 t1  8.0313431 0.9961325\n",
       "9   9 t1  8.9836556 1.0018430\n",
       "10 10 t1  9.9948604 1.0005453"
      ]
     },
     "metadata": {},
     "output_type": "display_data"
    }
   ],
   "source": [
    "avg_results[avg_results$alg==\"t1\",]"
   ]
  },
  {
   "cell_type": "markdown",
   "metadata": {},
   "source": [
    "Rysowanie wykresów.\n",
    "\n",
    "Wykres time w funkcji n:"
   ]
  },
  {
   "cell_type": "code",
   "execution_count": 45,
   "metadata": {},
   "outputs": [
    {
     "data": {
      "image/png": "[encoded data removed]",
      "text/plain": [
       "plot without title"
      ]
     },
     "metadata": {
      "image/png": {
       "height": 420,
       "width": 420
      }
     },
     "output_type": "display_data"
    }
   ],
   "source": [
    "ggplot(avg_results, aes(n,time)) + geom_point()"
   ]
  },
  {
   "cell_type": "markdown",
   "metadata": {},
   "source": [
    "Przykład skryptu rysującego wykres. "
   ]
  },
  {
   "cell_type": "code",
   "execution_count": 46,
   "metadata": {},
   "outputs": [
    {
     "data": {
      "image/png": "[encoded data removed]",
      "text/plain": [
       "plot without title"
      ]
     },
     "metadata": {
      "image/png": {
       "height": 420,
       "width": 420
      }
     },
     "output_type": "display_data"
    }
   ],
   "source": [
    "results <- read.csv(\"data2.txt\")\n",
    "results$speed <- results$n / results$time\n",
    "avg_results <- aggregate( cbind(time,speed) ~ n:alg, data=results, FUN=mean) \n",
    "ggplot(avg_results, aes(n,time,color=alg)) + geom_point() + ylab(\"Computing time in seconds\")"
   ]
  },
  {
   "cell_type": "markdown",
   "metadata": {},
   "source": [
    "Możemy też uruchomić kod tworzący wykres z osobnego pliku"
   ]
  },
  {
   "cell_type": "code",
   "execution_count": 47,
   "metadata": {},
   "outputs": [
    {
     "name": "stderr",
     "output_type": "stream",
     "text": [
      "Saving 6.67 x 6.67 in image\n",
      "\n"
     ]
    }
   ],
   "source": [
    "source(\"data2_plot.R\")"
   ]
  },
  {
   "cell_type": "markdown",
   "metadata": {},
   "source": [
    "w bashu za pomoca polecenia:"
   ]
  },
  {
   "cell_type": "markdown",
   "metadata": {},
   "source": [
    "```Rscript data2_plot.R```"
   ]
  },
  {
   "cell_type": "markdown",
   "metadata": {},
   "source": [
    "W wyniku powstaje plik [myplot.png](myplot.png)"
   ]
  },
  {
   "cell_type": "markdown",
   "metadata": {},
   "source": [
    "### Powyższy przykład z wykorzystaniem tidyverse"
   ]
  },
  {
   "cell_type": "code",
   "execution_count": 48,
   "metadata": {
    "scrolled": true
   },
   "outputs": [
    {
     "name": "stderr",
     "output_type": "stream",
     "text": [
      "\u001b[1mRows: \u001b[22m\u001b[34m100\u001b[39m \u001b[1mColumns: \u001b[22m\u001b[34m4\u001b[39m\n",
      "\u001b[36m──\u001b[39m \u001b[1mColumn specification\u001b[22m \u001b[36m────────────────────────────────────────────────────────\u001b[39m\n",
      "\u001b[1mDelimiter:\u001b[22m \",\"\n",
      "\u001b[31mchr\u001b[39m (1): alg\n",
      "\u001b[32mdbl\u001b[39m (3): n, time, error\n",
      "\n",
      "\u001b[36mℹ\u001b[39m Use `spec()` to retrieve the full column specification for this data.\n",
      "\u001b[36mℹ\u001b[39m Specify the column types or set `show_col_types = FALSE` to quiet this message.\n"
     ]
    }
   ],
   "source": [
    "results <- read_csv(\"data2.txt\")"
   ]
  },
  {
   "cell_type": "markdown",
   "metadata": {},
   "source": [
    "Operator `%>%` pozwala przekazywać wyjście z jednej funkcji jako wejście kolejnej, co pozwala na tworzenie łańcucha wywołań funkcji (analogiczne do '|' w bashu)."
   ]
  },
  {
   "cell_type": "code",
   "execution_count": 49,
   "metadata": {},
   "outputs": [
    {
     "name": "stderr",
     "output_type": "stream",
     "text": [
      "\u001b[1m\u001b[22m`summarise()` has grouped output by 'n'. You can override using the `.groups`\n",
      "argument.\n"
     ]
    }
   ],
   "source": [
    "avg_dplyr <- results %>% \n",
    "    mutate(speed = n/time) %>% # tylko aby pokazać mutate, nie wykorzystujemy do plota\n",
    "    group_by(n, alg) %>%\n",
    "    summarise(\n",
    "        time_sd = sd(time),\n",
    "        time = mean(time),\n",
    "        speed = mean(speed)\n",
    "    )  %>% \n",
    "    arrange(alg, n) #sortowanie\n",
    "    \n",
    "    "
   ]
  },
  {
   "cell_type": "code",
   "execution_count": 50,
   "metadata": {},
   "outputs": [
    {
     "data": {
      "text/html": [
       "<table class=\"dataframe\">\n",
       "<caption>A grouped_df: 20 × 5</caption>\n",
       "<thead>\n",
       "\t<tr><th scope=col>n</th><th scope=col>alg</th><th scope=col>time_sd</th><th scope=col>time</th><th scope=col>speed</th></tr>\n",
       "\t<tr><th scope=col>&lt;dbl&gt;</th><th scope=col>&lt;chr&gt;</th><th scope=col>&lt;dbl&gt;</th><th scope=col>&lt;dbl&gt;</th><th scope=col>&lt;dbl&gt;</th></tr>\n",
       "</thead>\n",
       "<tbody>\n",
       "\t<tr><td> 1</td><td>t1</td><td>0.04902917</td><td> 0.9990494</td><td>1.0028054</td></tr>\n",
       "\t<tr><td> 2</td><td>t1</td><td>0.04664671</td><td> 2.0152520</td><td>0.9928574</td></tr>\n",
       "\t<tr><td> 3</td><td>t1</td><td>0.07417292</td><td> 2.9867132</td><td>1.0049406</td></tr>\n",
       "\t<tr><td> 4</td><td>t1</td><td>0.08150832</td><td> 3.9869472</td><td>1.0036074</td></tr>\n",
       "\t<tr><td> 5</td><td>t1</td><td>0.06018547</td><td> 4.9716765</td><td>1.0058149</td></tr>\n",
       "\t<tr><td> 6</td><td>t1</td><td>0.04730261</td><td> 6.0127196</td><td>0.9979343</td></tr>\n",
       "\t<tr><td> 7</td><td>t1</td><td>0.01562886</td><td> 6.9400184</td><td>1.0086470</td></tr>\n",
       "\t<tr><td> 8</td><td>t1</td><td>0.05328619</td><td> 8.0313431</td><td>0.9961325</td></tr>\n",
       "\t<tr><td> 9</td><td>t1</td><td>0.04886179</td><td> 8.9836556</td><td>1.0018430</td></tr>\n",
       "\t<tr><td>10</td><td>t1</td><td>0.06245583</td><td> 9.9948604</td><td>1.0005453</td></tr>\n",
       "\t<tr><td> 1</td><td>t2</td><td>0.06654991</td><td> 1.9878299</td><td>0.5035135</td></tr>\n",
       "\t<tr><td> 2</td><td>t2</td><td>0.04418932</td><td> 3.9599609</td><td>0.5051054</td></tr>\n",
       "\t<tr><td> 3</td><td>t2</td><td>0.06413231</td><td> 5.9861750</td><td>0.5012006</td></tr>\n",
       "\t<tr><td> 4</td><td>t2</td><td>0.04983246</td><td> 8.0300291</td><td>0.4981456</td></tr>\n",
       "\t<tr><td> 5</td><td>t2</td><td>0.04548820</td><td>10.0251302</td><td>0.4987549</td></tr>\n",
       "\t<tr><td> 6</td><td>t2</td><td>0.05267832</td><td>11.9724193</td><td>0.5011596</td></tr>\n",
       "\t<tr><td> 7</td><td>t2</td><td>0.05988583</td><td>14.0112964</td><td>0.4996042</td></tr>\n",
       "\t<tr><td> 8</td><td>t2</td><td>0.05359947</td><td>16.0212972</td><td>0.4993398</td></tr>\n",
       "\t<tr><td> 9</td><td>t2</td><td>0.05270112</td><td>17.9699109</td><td>0.5008407</td></tr>\n",
       "\t<tr><td>10</td><td>t2</td><td>0.07047764</td><td>19.9883028</td><td>0.5002976</td></tr>\n",
       "</tbody>\n",
       "</table>\n"
      ],
      "text/latex": [
       "A grouped\\_df: 20 × 5\n",
       "\\begin{tabular}{lllll}\n",
       " n & alg & time\\_sd & time & speed\\\\\n",
       " <dbl> & <chr> & <dbl> & <dbl> & <dbl>\\\\\n",
       "\\hline\n",
       "\t  1 & t1 & 0.04902917 &  0.9990494 & 1.0028054\\\\\n",
       "\t  2 & t1 & 0.04664671 &  2.0152520 & 0.9928574\\\\\n",
       "\t  3 & t1 & 0.07417292 &  2.9867132 & 1.0049406\\\\\n",
       "\t  4 & t1 & 0.08150832 &  3.9869472 & 1.0036074\\\\\n",
       "\t  5 & t1 & 0.06018547 &  4.9716765 & 1.0058149\\\\\n",
       "\t  6 & t1 & 0.04730261 &  6.0127196 & 0.9979343\\\\\n",
       "\t  7 & t1 & 0.01562886 &  6.9400184 & 1.0086470\\\\\n",
       "\t  8 & t1 & 0.05328619 &  8.0313431 & 0.9961325\\\\\n",
       "\t  9 & t1 & 0.04886179 &  8.9836556 & 1.0018430\\\\\n",
       "\t 10 & t1 & 0.06245583 &  9.9948604 & 1.0005453\\\\\n",
       "\t  1 & t2 & 0.06654991 &  1.9878299 & 0.5035135\\\\\n",
       "\t  2 & t2 & 0.04418932 &  3.9599609 & 0.5051054\\\\\n",
       "\t  3 & t2 & 0.06413231 &  5.9861750 & 0.5012006\\\\\n",
       "\t  4 & t2 & 0.04983246 &  8.0300291 & 0.4981456\\\\\n",
       "\t  5 & t2 & 0.04548820 & 10.0251302 & 0.4987549\\\\\n",
       "\t  6 & t2 & 0.05267832 & 11.9724193 & 0.5011596\\\\\n",
       "\t  7 & t2 & 0.05988583 & 14.0112964 & 0.4996042\\\\\n",
       "\t  8 & t2 & 0.05359947 & 16.0212972 & 0.4993398\\\\\n",
       "\t  9 & t2 & 0.05270112 & 17.9699109 & 0.5008407\\\\\n",
       "\t 10 & t2 & 0.07047764 & 19.9883028 & 0.5002976\\\\\n",
       "\\end{tabular}\n"
      ],
      "text/markdown": [
       "\n",
       "A grouped_df: 20 × 5\n",
       "\n",
       "| n &lt;dbl&gt; | alg &lt;chr&gt; | time_sd &lt;dbl&gt; | time &lt;dbl&gt; | speed &lt;dbl&gt; |\n",
       "|---|---|---|---|---|\n",
       "|  1 | t1 | 0.04902917 |  0.9990494 | 1.0028054 |\n",
       "|  2 | t1 | 0.04664671 |  2.0152520 | 0.9928574 |\n",
       "|  3 | t1 | 0.07417292 |  2.9867132 | 1.0049406 |\n",
       "|  4 | t1 | 0.08150832 |  3.9869472 | 1.0036074 |\n",
       "|  5 | t1 | 0.06018547 |  4.9716765 | 1.0058149 |\n",
       "|  6 | t1 | 0.04730261 |  6.0127196 | 0.9979343 |\n",
       "|  7 | t1 | 0.01562886 |  6.9400184 | 1.0086470 |\n",
       "|  8 | t1 | 0.05328619 |  8.0313431 | 0.9961325 |\n",
       "|  9 | t1 | 0.04886179 |  8.9836556 | 1.0018430 |\n",
       "| 10 | t1 | 0.06245583 |  9.9948604 | 1.0005453 |\n",
       "|  1 | t2 | 0.06654991 |  1.9878299 | 0.5035135 |\n",
       "|  2 | t2 | 0.04418932 |  3.9599609 | 0.5051054 |\n",
       "|  3 | t2 | 0.06413231 |  5.9861750 | 0.5012006 |\n",
       "|  4 | t2 | 0.04983246 |  8.0300291 | 0.4981456 |\n",
       "|  5 | t2 | 0.04548820 | 10.0251302 | 0.4987549 |\n",
       "|  6 | t2 | 0.05267832 | 11.9724193 | 0.5011596 |\n",
       "|  7 | t2 | 0.05988583 | 14.0112964 | 0.4996042 |\n",
       "|  8 | t2 | 0.05359947 | 16.0212972 | 0.4993398 |\n",
       "|  9 | t2 | 0.05270112 | 17.9699109 | 0.5008407 |\n",
       "| 10 | t2 | 0.07047764 | 19.9883028 | 0.5002976 |\n",
       "\n"
      ],
      "text/plain": [
       "   n  alg time_sd    time       speed    \n",
       "1   1 t1  0.04902917  0.9990494 1.0028054\n",
       "2   2 t1  0.04664671  2.0152520 0.9928574\n",
       "3   3 t1  0.07417292  2.9867132 1.0049406\n",
       "4   4 t1  0.08150832  3.9869472 1.0036074\n",
       "5   5 t1  0.06018547  4.9716765 1.0058149\n",
       "6   6 t1  0.04730261  6.0127196 0.9979343\n",
       "7   7 t1  0.01562886  6.9400184 1.0086470\n",
       "8   8 t1  0.05328619  8.0313431 0.9961325\n",
       "9   9 t1  0.04886179  8.9836556 1.0018430\n",
       "10 10 t1  0.06245583  9.9948604 1.0005453\n",
       "11  1 t2  0.06654991  1.9878299 0.5035135\n",
       "12  2 t2  0.04418932  3.9599609 0.5051054\n",
       "13  3 t2  0.06413231  5.9861750 0.5012006\n",
       "14  4 t2  0.04983246  8.0300291 0.4981456\n",
       "15  5 t2  0.04548820 10.0251302 0.4987549\n",
       "16  6 t2  0.05267832 11.9724193 0.5011596\n",
       "17  7 t2  0.05988583 14.0112964 0.4996042\n",
       "18  8 t2  0.05359947 16.0212972 0.4993398\n",
       "19  9 t2  0.05270112 17.9699109 0.5008407\n",
       "20 10 t2  0.07047764 19.9883028 0.5002976"
      ]
     },
     "metadata": {},
     "output_type": "display_data"
    }
   ],
   "source": [
    "avg_dplyr"
   ]
  },
  {
   "cell_type": "markdown",
   "metadata": {},
   "source": [
    "Kolejność operacji w `summarise` ma znaczenie!"
   ]
  },
  {
   "cell_type": "code",
   "execution_count": 51,
   "metadata": {},
   "outputs": [
    {
     "name": "stderr",
     "output_type": "stream",
     "text": [
      "\u001b[1m\u001b[22m`summarise()` has grouped output by 'n'. You can override using the `.groups`\n",
      "argument.\n"
     ]
    },
    {
     "data": {
      "text/html": [
       "<table class=\"dataframe\">\n",
       "<caption>A grouped_df: 20 × 4</caption>\n",
       "<thead>\n",
       "\t<tr><th scope=col>n</th><th scope=col>alg</th><th scope=col>time</th><th scope=col>time_sd</th></tr>\n",
       "\t<tr><th scope=col>&lt;dbl&gt;</th><th scope=col>&lt;chr&gt;</th><th scope=col>&lt;dbl&gt;</th><th scope=col>&lt;dbl&gt;</th></tr>\n",
       "</thead>\n",
       "<tbody>\n",
       "\t<tr><td> 1</td><td>t1</td><td> 0.9990494</td><td>NA</td></tr>\n",
       "\t<tr><td> 2</td><td>t1</td><td> 2.0152520</td><td>NA</td></tr>\n",
       "\t<tr><td> 3</td><td>t1</td><td> 2.9867132</td><td>NA</td></tr>\n",
       "\t<tr><td> 4</td><td>t1</td><td> 3.9869472</td><td>NA</td></tr>\n",
       "\t<tr><td> 5</td><td>t1</td><td> 4.9716765</td><td>NA</td></tr>\n",
       "\t<tr><td> 6</td><td>t1</td><td> 6.0127196</td><td>NA</td></tr>\n",
       "\t<tr><td> 7</td><td>t1</td><td> 6.9400184</td><td>NA</td></tr>\n",
       "\t<tr><td> 8</td><td>t1</td><td> 8.0313431</td><td>NA</td></tr>\n",
       "\t<tr><td> 9</td><td>t1</td><td> 8.9836556</td><td>NA</td></tr>\n",
       "\t<tr><td>10</td><td>t1</td><td> 9.9948604</td><td>NA</td></tr>\n",
       "\t<tr><td> 1</td><td>t2</td><td> 1.9878299</td><td>NA</td></tr>\n",
       "\t<tr><td> 2</td><td>t2</td><td> 3.9599609</td><td>NA</td></tr>\n",
       "\t<tr><td> 3</td><td>t2</td><td> 5.9861750</td><td>NA</td></tr>\n",
       "\t<tr><td> 4</td><td>t2</td><td> 8.0300291</td><td>NA</td></tr>\n",
       "\t<tr><td> 5</td><td>t2</td><td>10.0251302</td><td>NA</td></tr>\n",
       "\t<tr><td> 6</td><td>t2</td><td>11.9724193</td><td>NA</td></tr>\n",
       "\t<tr><td> 7</td><td>t2</td><td>14.0112964</td><td>NA</td></tr>\n",
       "\t<tr><td> 8</td><td>t2</td><td>16.0212972</td><td>NA</td></tr>\n",
       "\t<tr><td> 9</td><td>t2</td><td>17.9699109</td><td>NA</td></tr>\n",
       "\t<tr><td>10</td><td>t2</td><td>19.9883028</td><td>NA</td></tr>\n",
       "</tbody>\n",
       "</table>\n"
      ],
      "text/latex": [
       "A grouped\\_df: 20 × 4\n",
       "\\begin{tabular}{llll}\n",
       " n & alg & time & time\\_sd\\\\\n",
       " <dbl> & <chr> & <dbl> & <dbl>\\\\\n",
       "\\hline\n",
       "\t  1 & t1 &  0.9990494 & NA\\\\\n",
       "\t  2 & t1 &  2.0152520 & NA\\\\\n",
       "\t  3 & t1 &  2.9867132 & NA\\\\\n",
       "\t  4 & t1 &  3.9869472 & NA\\\\\n",
       "\t  5 & t1 &  4.9716765 & NA\\\\\n",
       "\t  6 & t1 &  6.0127196 & NA\\\\\n",
       "\t  7 & t1 &  6.9400184 & NA\\\\\n",
       "\t  8 & t1 &  8.0313431 & NA\\\\\n",
       "\t  9 & t1 &  8.9836556 & NA\\\\\n",
       "\t 10 & t1 &  9.9948604 & NA\\\\\n",
       "\t  1 & t2 &  1.9878299 & NA\\\\\n",
       "\t  2 & t2 &  3.9599609 & NA\\\\\n",
       "\t  3 & t2 &  5.9861750 & NA\\\\\n",
       "\t  4 & t2 &  8.0300291 & NA\\\\\n",
       "\t  5 & t2 & 10.0251302 & NA\\\\\n",
       "\t  6 & t2 & 11.9724193 & NA\\\\\n",
       "\t  7 & t2 & 14.0112964 & NA\\\\\n",
       "\t  8 & t2 & 16.0212972 & NA\\\\\n",
       "\t  9 & t2 & 17.9699109 & NA\\\\\n",
       "\t 10 & t2 & 19.9883028 & NA\\\\\n",
       "\\end{tabular}\n"
      ],
      "text/markdown": [
       "\n",
       "A grouped_df: 20 × 4\n",
       "\n",
       "| n &lt;dbl&gt; | alg &lt;chr&gt; | time &lt;dbl&gt; | time_sd &lt;dbl&gt; |\n",
       "|---|---|---|---|\n",
       "|  1 | t1 |  0.9990494 | NA |\n",
       "|  2 | t1 |  2.0152520 | NA |\n",
       "|  3 | t1 |  2.9867132 | NA |\n",
       "|  4 | t1 |  3.9869472 | NA |\n",
       "|  5 | t1 |  4.9716765 | NA |\n",
       "|  6 | t1 |  6.0127196 | NA |\n",
       "|  7 | t1 |  6.9400184 | NA |\n",
       "|  8 | t1 |  8.0313431 | NA |\n",
       "|  9 | t1 |  8.9836556 | NA |\n",
       "| 10 | t1 |  9.9948604 | NA |\n",
       "|  1 | t2 |  1.9878299 | NA |\n",
       "|  2 | t2 |  3.9599609 | NA |\n",
       "|  3 | t2 |  5.9861750 | NA |\n",
       "|  4 | t2 |  8.0300291 | NA |\n",
       "|  5 | t2 | 10.0251302 | NA |\n",
       "|  6 | t2 | 11.9724193 | NA |\n",
       "|  7 | t2 | 14.0112964 | NA |\n",
       "|  8 | t2 | 16.0212972 | NA |\n",
       "|  9 | t2 | 17.9699109 | NA |\n",
       "| 10 | t2 | 19.9883028 | NA |\n",
       "\n"
      ],
      "text/plain": [
       "   n  alg time       time_sd\n",
       "1   1 t1   0.9990494 NA     \n",
       "2   2 t1   2.0152520 NA     \n",
       "3   3 t1   2.9867132 NA     \n",
       "4   4 t1   3.9869472 NA     \n",
       "5   5 t1   4.9716765 NA     \n",
       "6   6 t1   6.0127196 NA     \n",
       "7   7 t1   6.9400184 NA     \n",
       "8   8 t1   8.0313431 NA     \n",
       "9   9 t1   8.9836556 NA     \n",
       "10 10 t1   9.9948604 NA     \n",
       "11  1 t2   1.9878299 NA     \n",
       "12  2 t2   3.9599609 NA     \n",
       "13  3 t2   5.9861750 NA     \n",
       "14  4 t2   8.0300291 NA     \n",
       "15  5 t2  10.0251302 NA     \n",
       "16  6 t2  11.9724193 NA     \n",
       "17  7 t2  14.0112964 NA     \n",
       "18  8 t2  16.0212972 NA     \n",
       "19  9 t2  17.9699109 NA     \n",
       "20 10 t2  19.9883028 NA     "
      ]
     },
     "metadata": {},
     "output_type": "display_data"
    }
   ],
   "source": [
    "# zamieniona kolejność mean i sd\n",
    "results %>%\n",
    "    group_by(n, alg) %>%\n",
    "    summarise(\n",
    "        time = mean(time),\n",
    "        time_sd = sd(time) # sd jest liczone dla jednego wiersza po agregracji, stad NA w wynikach\n",
    "    )  %>% \n",
    "    arrange(alg, n)"
   ]
  },
  {
   "cell_type": "markdown",
   "metadata": {},
   "source": [
    "Wykres rysowany jak poprzednio"
   ]
  },
  {
   "cell_type": "code",
   "execution_count": 52,
   "metadata": {},
   "outputs": [
    {
     "data": {
      "image/png": "[encoded data removed]",
      "text/plain": [
       "plot without title"
      ]
     },
     "metadata": {
      "image/png": {
       "height": 420,
       "width": 420
      }
     },
     "output_type": "display_data"
    }
   ],
   "source": [
    "ggplot(avg_dplyr, aes(n, time, color=alg)) + geom_point() + ylab(\"Computing time in seconds\") + \n",
    "    geom_errorbar(aes(ymin = time-time_sd, ymax = time+time_sd, width=.25))"
   ]
  },
  {
   "cell_type": "markdown",
   "metadata": {},
   "source": [
    "Przykład filtrowania i wybierania kolumn"
   ]
  },
  {
   "cell_type": "code",
   "execution_count": 53,
   "metadata": {},
   "outputs": [
    {
     "data": {
      "text/html": [
       "<table class=\"dataframe\">\n",
       "<caption>A grouped_df: 10 × 5</caption>\n",
       "<thead>\n",
       "\t<tr><th scope=col>n</th><th scope=col>alg</th><th scope=col>time_sd</th><th scope=col>time</th><th scope=col>speed</th></tr>\n",
       "\t<tr><th scope=col>&lt;dbl&gt;</th><th scope=col>&lt;chr&gt;</th><th scope=col>&lt;dbl&gt;</th><th scope=col>&lt;dbl&gt;</th><th scope=col>&lt;dbl&gt;</th></tr>\n",
       "</thead>\n",
       "<tbody>\n",
       "\t<tr><td> 1</td><td>t1</td><td>0.04902917</td><td>0.9990494</td><td>1.0028054</td></tr>\n",
       "\t<tr><td> 2</td><td>t1</td><td>0.04664671</td><td>2.0152520</td><td>0.9928574</td></tr>\n",
       "\t<tr><td> 3</td><td>t1</td><td>0.07417292</td><td>2.9867132</td><td>1.0049406</td></tr>\n",
       "\t<tr><td> 4</td><td>t1</td><td>0.08150832</td><td>3.9869472</td><td>1.0036074</td></tr>\n",
       "\t<tr><td> 5</td><td>t1</td><td>0.06018547</td><td>4.9716765</td><td>1.0058149</td></tr>\n",
       "\t<tr><td> 6</td><td>t1</td><td>0.04730261</td><td>6.0127196</td><td>0.9979343</td></tr>\n",
       "\t<tr><td> 7</td><td>t1</td><td>0.01562886</td><td>6.9400184</td><td>1.0086470</td></tr>\n",
       "\t<tr><td> 8</td><td>t1</td><td>0.05328619</td><td>8.0313431</td><td>0.9961325</td></tr>\n",
       "\t<tr><td> 9</td><td>t1</td><td>0.04886179</td><td>8.9836556</td><td>1.0018430</td></tr>\n",
       "\t<tr><td>10</td><td>t1</td><td>0.06245583</td><td>9.9948604</td><td>1.0005453</td></tr>\n",
       "</tbody>\n",
       "</table>\n"
      ],
      "text/latex": [
       "A grouped\\_df: 10 × 5\n",
       "\\begin{tabular}{lllll}\n",
       " n & alg & time\\_sd & time & speed\\\\\n",
       " <dbl> & <chr> & <dbl> & <dbl> & <dbl>\\\\\n",
       "\\hline\n",
       "\t  1 & t1 & 0.04902917 & 0.9990494 & 1.0028054\\\\\n",
       "\t  2 & t1 & 0.04664671 & 2.0152520 & 0.9928574\\\\\n",
       "\t  3 & t1 & 0.07417292 & 2.9867132 & 1.0049406\\\\\n",
       "\t  4 & t1 & 0.08150832 & 3.9869472 & 1.0036074\\\\\n",
       "\t  5 & t1 & 0.06018547 & 4.9716765 & 1.0058149\\\\\n",
       "\t  6 & t1 & 0.04730261 & 6.0127196 & 0.9979343\\\\\n",
       "\t  7 & t1 & 0.01562886 & 6.9400184 & 1.0086470\\\\\n",
       "\t  8 & t1 & 0.05328619 & 8.0313431 & 0.9961325\\\\\n",
       "\t  9 & t1 & 0.04886179 & 8.9836556 & 1.0018430\\\\\n",
       "\t 10 & t1 & 0.06245583 & 9.9948604 & 1.0005453\\\\\n",
       "\\end{tabular}\n"
      ],
      "text/markdown": [
       "\n",
       "A grouped_df: 10 × 5\n",
       "\n",
       "| n &lt;dbl&gt; | alg &lt;chr&gt; | time_sd &lt;dbl&gt; | time &lt;dbl&gt; | speed &lt;dbl&gt; |\n",
       "|---|---|---|---|---|\n",
       "|  1 | t1 | 0.04902917 | 0.9990494 | 1.0028054 |\n",
       "|  2 | t1 | 0.04664671 | 2.0152520 | 0.9928574 |\n",
       "|  3 | t1 | 0.07417292 | 2.9867132 | 1.0049406 |\n",
       "|  4 | t1 | 0.08150832 | 3.9869472 | 1.0036074 |\n",
       "|  5 | t1 | 0.06018547 | 4.9716765 | 1.0058149 |\n",
       "|  6 | t1 | 0.04730261 | 6.0127196 | 0.9979343 |\n",
       "|  7 | t1 | 0.01562886 | 6.9400184 | 1.0086470 |\n",
       "|  8 | t1 | 0.05328619 | 8.0313431 | 0.9961325 |\n",
       "|  9 | t1 | 0.04886179 | 8.9836556 | 1.0018430 |\n",
       "| 10 | t1 | 0.06245583 | 9.9948604 | 1.0005453 |\n",
       "\n"
      ],
      "text/plain": [
       "   n  alg time_sd    time      speed    \n",
       "1   1 t1  0.04902917 0.9990494 1.0028054\n",
       "2   2 t1  0.04664671 2.0152520 0.9928574\n",
       "3   3 t1  0.07417292 2.9867132 1.0049406\n",
       "4   4 t1  0.08150832 3.9869472 1.0036074\n",
       "5   5 t1  0.06018547 4.9716765 1.0058149\n",
       "6   6 t1  0.04730261 6.0127196 0.9979343\n",
       "7   7 t1  0.01562886 6.9400184 1.0086470\n",
       "8   8 t1  0.05328619 8.0313431 0.9961325\n",
       "9   9 t1  0.04886179 8.9836556 1.0018430\n",
       "10 10 t1  0.06245583 9.9948604 1.0005453"
      ]
     },
     "metadata": {},
     "output_type": "display_data"
    }
   ],
   "source": [
    "# wybieranie wierszy spełniających warunek\n",
    "avg_dplyr %>% filter(alg==\"t1\")"
   ]
  },
  {
   "cell_type": "code",
   "execution_count": 54,
   "metadata": {},
   "outputs": [
    {
     "data": {
      "text/html": [
       "<table class=\"dataframe\">\n",
       "<caption>A grouped_df: 20 × 5</caption>\n",
       "<thead>\n",
       "\t<tr><th scope=col>n</th><th scope=col>alg</th><th scope=col>time_sd</th><th scope=col>time</th><th scope=col>speed</th></tr>\n",
       "\t<tr><th scope=col>&lt;dbl&gt;</th><th scope=col>&lt;chr&gt;</th><th scope=col>&lt;dbl&gt;</th><th scope=col>&lt;dbl&gt;</th><th scope=col>&lt;dbl&gt;</th></tr>\n",
       "</thead>\n",
       "<tbody>\n",
       "\t<tr><td> 1</td><td>t1</td><td>0.04902917</td><td> 0.9990494</td><td>1.0028054</td></tr>\n",
       "\t<tr><td> 2</td><td>t1</td><td>0.04664671</td><td> 2.0152520</td><td>0.9928574</td></tr>\n",
       "\t<tr><td> 3</td><td>t1</td><td>0.07417292</td><td> 2.9867132</td><td>1.0049406</td></tr>\n",
       "\t<tr><td> 4</td><td>t1</td><td>0.08150832</td><td> 3.9869472</td><td>1.0036074</td></tr>\n",
       "\t<tr><td> 5</td><td>t1</td><td>0.06018547</td><td> 4.9716765</td><td>1.0058149</td></tr>\n",
       "\t<tr><td> 6</td><td>t1</td><td>0.04730261</td><td> 6.0127196</td><td>0.9979343</td></tr>\n",
       "\t<tr><td> 7</td><td>t1</td><td>0.01562886</td><td> 6.9400184</td><td>1.0086470</td></tr>\n",
       "\t<tr><td> 8</td><td>t1</td><td>0.05328619</td><td> 8.0313431</td><td>0.9961325</td></tr>\n",
       "\t<tr><td> 9</td><td>t1</td><td>0.04886179</td><td> 8.9836556</td><td>1.0018430</td></tr>\n",
       "\t<tr><td>10</td><td>t1</td><td>0.06245583</td><td> 9.9948604</td><td>1.0005453</td></tr>\n",
       "\t<tr><td> 1</td><td>t2</td><td>0.06654991</td><td> 1.9878299</td><td>0.5035135</td></tr>\n",
       "\t<tr><td> 2</td><td>t2</td><td>0.04418932</td><td> 3.9599609</td><td>0.5051054</td></tr>\n",
       "\t<tr><td> 3</td><td>t2</td><td>0.06413231</td><td> 5.9861750</td><td>0.5012006</td></tr>\n",
       "\t<tr><td> 4</td><td>t2</td><td>0.04983246</td><td> 8.0300291</td><td>0.4981456</td></tr>\n",
       "\t<tr><td> 5</td><td>t2</td><td>0.04548820</td><td>10.0251302</td><td>0.4987549</td></tr>\n",
       "\t<tr><td> 6</td><td>t2</td><td>0.05267832</td><td>11.9724193</td><td>0.5011596</td></tr>\n",
       "\t<tr><td> 7</td><td>t2</td><td>0.05988583</td><td>14.0112964</td><td>0.4996042</td></tr>\n",
       "\t<tr><td> 8</td><td>t2</td><td>0.05359947</td><td>16.0212972</td><td>0.4993398</td></tr>\n",
       "\t<tr><td> 9</td><td>t2</td><td>0.05270112</td><td>17.9699109</td><td>0.5008407</td></tr>\n",
       "\t<tr><td>10</td><td>t2</td><td>0.07047764</td><td>19.9883028</td><td>0.5002976</td></tr>\n",
       "</tbody>\n",
       "</table>\n"
      ],
      "text/latex": [
       "A grouped\\_df: 20 × 5\n",
       "\\begin{tabular}{lllll}\n",
       " n & alg & time\\_sd & time & speed\\\\\n",
       " <dbl> & <chr> & <dbl> & <dbl> & <dbl>\\\\\n",
       "\\hline\n",
       "\t  1 & t1 & 0.04902917 &  0.9990494 & 1.0028054\\\\\n",
       "\t  2 & t1 & 0.04664671 &  2.0152520 & 0.9928574\\\\\n",
       "\t  3 & t1 & 0.07417292 &  2.9867132 & 1.0049406\\\\\n",
       "\t  4 & t1 & 0.08150832 &  3.9869472 & 1.0036074\\\\\n",
       "\t  5 & t1 & 0.06018547 &  4.9716765 & 1.0058149\\\\\n",
       "\t  6 & t1 & 0.04730261 &  6.0127196 & 0.9979343\\\\\n",
       "\t  7 & t1 & 0.01562886 &  6.9400184 & 1.0086470\\\\\n",
       "\t  8 & t1 & 0.05328619 &  8.0313431 & 0.9961325\\\\\n",
       "\t  9 & t1 & 0.04886179 &  8.9836556 & 1.0018430\\\\\n",
       "\t 10 & t1 & 0.06245583 &  9.9948604 & 1.0005453\\\\\n",
       "\t  1 & t2 & 0.06654991 &  1.9878299 & 0.5035135\\\\\n",
       "\t  2 & t2 & 0.04418932 &  3.9599609 & 0.5051054\\\\\n",
       "\t  3 & t2 & 0.06413231 &  5.9861750 & 0.5012006\\\\\n",
       "\t  4 & t2 & 0.04983246 &  8.0300291 & 0.4981456\\\\\n",
       "\t  5 & t2 & 0.04548820 & 10.0251302 & 0.4987549\\\\\n",
       "\t  6 & t2 & 0.05267832 & 11.9724193 & 0.5011596\\\\\n",
       "\t  7 & t2 & 0.05988583 & 14.0112964 & 0.4996042\\\\\n",
       "\t  8 & t2 & 0.05359947 & 16.0212972 & 0.4993398\\\\\n",
       "\t  9 & t2 & 0.05270112 & 17.9699109 & 0.5008407\\\\\n",
       "\t 10 & t2 & 0.07047764 & 19.9883028 & 0.5002976\\\\\n",
       "\\end{tabular}\n"
      ],
      "text/markdown": [
       "\n",
       "A grouped_df: 20 × 5\n",
       "\n",
       "| n &lt;dbl&gt; | alg &lt;chr&gt; | time_sd &lt;dbl&gt; | time &lt;dbl&gt; | speed &lt;dbl&gt; |\n",
       "|---|---|---|---|---|\n",
       "|  1 | t1 | 0.04902917 |  0.9990494 | 1.0028054 |\n",
       "|  2 | t1 | 0.04664671 |  2.0152520 | 0.9928574 |\n",
       "|  3 | t1 | 0.07417292 |  2.9867132 | 1.0049406 |\n",
       "|  4 | t1 | 0.08150832 |  3.9869472 | 1.0036074 |\n",
       "|  5 | t1 | 0.06018547 |  4.9716765 | 1.0058149 |\n",
       "|  6 | t1 | 0.04730261 |  6.0127196 | 0.9979343 |\n",
       "|  7 | t1 | 0.01562886 |  6.9400184 | 1.0086470 |\n",
       "|  8 | t1 | 0.05328619 |  8.0313431 | 0.9961325 |\n",
       "|  9 | t1 | 0.04886179 |  8.9836556 | 1.0018430 |\n",
       "| 10 | t1 | 0.06245583 |  9.9948604 | 1.0005453 |\n",
       "|  1 | t2 | 0.06654991 |  1.9878299 | 0.5035135 |\n",
       "|  2 | t2 | 0.04418932 |  3.9599609 | 0.5051054 |\n",
       "|  3 | t2 | 0.06413231 |  5.9861750 | 0.5012006 |\n",
       "|  4 | t2 | 0.04983246 |  8.0300291 | 0.4981456 |\n",
       "|  5 | t2 | 0.04548820 | 10.0251302 | 0.4987549 |\n",
       "|  6 | t2 | 0.05267832 | 11.9724193 | 0.5011596 |\n",
       "|  7 | t2 | 0.05988583 | 14.0112964 | 0.4996042 |\n",
       "|  8 | t2 | 0.05359947 | 16.0212972 | 0.4993398 |\n",
       "|  9 | t2 | 0.05270112 | 17.9699109 | 0.5008407 |\n",
       "| 10 | t2 | 0.07047764 | 19.9883028 | 0.5002976 |\n",
       "\n"
      ],
      "text/plain": [
       "   n  alg time_sd    time       speed    \n",
       "1   1 t1  0.04902917  0.9990494 1.0028054\n",
       "2   2 t1  0.04664671  2.0152520 0.9928574\n",
       "3   3 t1  0.07417292  2.9867132 1.0049406\n",
       "4   4 t1  0.08150832  3.9869472 1.0036074\n",
       "5   5 t1  0.06018547  4.9716765 1.0058149\n",
       "6   6 t1  0.04730261  6.0127196 0.9979343\n",
       "7   7 t1  0.01562886  6.9400184 1.0086470\n",
       "8   8 t1  0.05328619  8.0313431 0.9961325\n",
       "9   9 t1  0.04886179  8.9836556 1.0018430\n",
       "10 10 t1  0.06245583  9.9948604 1.0005453\n",
       "11  1 t2  0.06654991  1.9878299 0.5035135\n",
       "12  2 t2  0.04418932  3.9599609 0.5051054\n",
       "13  3 t2  0.06413231  5.9861750 0.5012006\n",
       "14  4 t2  0.04983246  8.0300291 0.4981456\n",
       "15  5 t2  0.04548820 10.0251302 0.4987549\n",
       "16  6 t2  0.05267832 11.9724193 0.5011596\n",
       "17  7 t2  0.05988583 14.0112964 0.4996042\n",
       "18  8 t2  0.05359947 16.0212972 0.4993398\n",
       "19  9 t2  0.05270112 17.9699109 0.5008407\n",
       "20 10 t2  0.07047764 19.9883028 0.5002976"
      ]
     },
     "metadata": {},
     "output_type": "display_data"
    }
   ],
   "source": [
    "avg_dplyr"
   ]
  },
  {
   "cell_type": "code",
   "execution_count": 55,
   "metadata": {},
   "outputs": [
    {
     "data": {
      "text/html": [
       "<table class=\"dataframe\">\n",
       "<caption>A tibble: 6 × 2</caption>\n",
       "<thead>\n",
       "\t<tr><th scope=col>time</th><th scope=col>speed</th></tr>\n",
       "\t<tr><th scope=col>&lt;dbl&gt;</th><th scope=col>&lt;dbl&gt;</th></tr>\n",
       "</thead>\n",
       "<tbody>\n",
       "\t<tr><td>0.9990494</td><td>1.0028054</td></tr>\n",
       "\t<tr><td>2.0152520</td><td>0.9928574</td></tr>\n",
       "\t<tr><td>2.9867132</td><td>1.0049406</td></tr>\n",
       "\t<tr><td>3.9869472</td><td>1.0036074</td></tr>\n",
       "\t<tr><td>4.9716765</td><td>1.0058149</td></tr>\n",
       "\t<tr><td>6.0127196</td><td>0.9979343</td></tr>\n",
       "</tbody>\n",
       "</table>\n"
      ],
      "text/latex": [
       "A tibble: 6 × 2\n",
       "\\begin{tabular}{ll}\n",
       " time & speed\\\\\n",
       " <dbl> & <dbl>\\\\\n",
       "\\hline\n",
       "\t 0.9990494 & 1.0028054\\\\\n",
       "\t 2.0152520 & 0.9928574\\\\\n",
       "\t 2.9867132 & 1.0049406\\\\\n",
       "\t 3.9869472 & 1.0036074\\\\\n",
       "\t 4.9716765 & 1.0058149\\\\\n",
       "\t 6.0127196 & 0.9979343\\\\\n",
       "\\end{tabular}\n"
      ],
      "text/markdown": [
       "\n",
       "A tibble: 6 × 2\n",
       "\n",
       "| time &lt;dbl&gt; | speed &lt;dbl&gt; |\n",
       "|---|---|\n",
       "| 0.9990494 | 1.0028054 |\n",
       "| 2.0152520 | 0.9928574 |\n",
       "| 2.9867132 | 1.0049406 |\n",
       "| 3.9869472 | 1.0036074 |\n",
       "| 4.9716765 | 1.0058149 |\n",
       "| 6.0127196 | 0.9979343 |\n",
       "\n"
      ],
      "text/plain": [
       "  time      speed    \n",
       "1 0.9990494 1.0028054\n",
       "2 2.0152520 0.9928574\n",
       "3 2.9867132 1.0049406\n",
       "4 3.9869472 1.0036074\n",
       "5 4.9716765 1.0058149\n",
       "6 6.0127196 0.9979343"
      ]
     },
     "metadata": {},
     "output_type": "display_data"
    }
   ],
   "source": [
    "# wybór kolumn\n",
    "avg_dplyr %>% ungroup() %>% select(time, speed) %>% head()"
   ]
  },
  {
   "cell_type": "markdown",
   "metadata": {},
   "source": [
    "## Zadanie"
   ]
  },
  {
   "cell_type": "markdown",
   "metadata": {},
   "source": [
    "Za pomocą języka R przeanalizować dowolne dane z poprzednich laboratoriów. Elementy obowiązkowe:\n",
    "\n",
    "1. W jednej tabeli języka R należy umieścić wyniki dwóch różnych eksperymentów (t.j. czas działania dwóch różnych funkcji) dla różnych parametrów (t.j. rozmiarów wektora(macierzy)). Tabela powinna zawierać dane z 10-krotnego uruchomienia tego samego eksperymentu dla tych samych parametrów (dla każdego takiego zestawu)  **(1p.)**\n",
    "2. Należy przedstawić wykresy średnich czasów obliczenia wybranych funkcji w zależności od rozmiaru wektora (macierzy) **(1p.)**\n",
    "3. Wykresy powinny zawierać informację o odchyleniu standardowym dla uzyskanych wyników (słupki błędów)  **(1p.)**"
   ]
  },
  {
   "cell_type": "markdown",
   "metadata": {},
   "source": [
    "### Wczytanie potrzebnych bibliotek"
   ]
  },
  {
   "cell_type": "markdown",
   "metadata": {},
   "source": [
    "## Eksperymenty - czas działania, wektory, datasety\n",
    "### Wczytanie Bibliotek"
   ]
  },
  {
   "cell_type": "code",
   "execution_count": 21,
   "metadata": {},
   "outputs": [],
   "source": [
    "library(ggplot2)\n",
    "library(dplyr)\n",
    "library(tidyr)\n",
    "library(knitr)"
   ]
  },
  {
   "cell_type": "markdown",
   "metadata": {},
   "source": [
    "### Funkcja 1: Obliczanie średniej z wektora przy użyciu pętli"
   ]
  },
  {
   "cell_type": "code",
   "execution_count": 22,
   "metadata": {},
   "outputs": [],
   "source": [
    "mean_loop <- function(x) {\n",
    "  sum <- 0\n",
    "  for (i in 1:length(x)) {\n",
    "    sum <- sum + x[i]\n",
    "  }\n",
    "  return(sum / length(x))\n",
    "}"
   ]
  },
  {
   "cell_type": "markdown",
   "metadata": {},
   "source": [
    "### Funkcja 2: Obliczanie średniej z wektora przy użyciu wbudowanej funkcji"
   ]
  },
  {
   "cell_type": "code",
   "execution_count": 23,
   "metadata": {},
   "outputs": [],
   "source": [
    "mean_builtin <- function(x) {\n",
    "  return(mean(x))\n",
    "}\n",
    "\n",
    "# wektory do testowania\n",
    "sizes <- c(1000, 10000, 100000, 1000000)"
   ]
  },
  {
   "cell_type": "markdown",
   "metadata": {},
   "source": [
    "### Funkcja do wykonania pomiaru czasu"
   ]
  },
  {
   "cell_type": "code",
   "execution_count": 24,
   "metadata": {},
   "outputs": [],
   "source": [
    "measure_time <- function(fun, data) {\n",
    "  start_time <- Sys.time()\n",
    "  result <- fun(data)\n",
    "  end_time <- Sys.time()\n",
    "  return(as.numeric(end_time - start_time) * 1000)  # Konwersja na milisekundy\n",
    "}"
   ]
  },
  {
   "cell_type": "markdown",
   "metadata": {},
   "source": [
    "### Funkcja do przeprowadzenia eksperymentu"
   ]
  },
  {
   "cell_type": "code",
   "execution_count": 25,
   "metadata": {},
   "outputs": [],
   "source": [
    "run_experiment <- function() {\n",
    "  results <- data.frame()\n",
    "  \n",
    "  for (size in sizes) {\n",
    "    # losowe liczby\n",
    "    data_vector <- runif(size)\n",
    "    \n",
    "    # wykonanie loop\n",
    "    loop_times <- numeric(10)\n",
    "    for (i in 1:10) {\n",
    "      loop_times[i] <- measure_time(mean_loop, data_vector)\n",
    "    }\n",
    "    loop_results <- data.frame(\n",
    "      rozmiar = size,\n",
    "      funkcja = \"mean_loop\",\n",
    "      powtorzenie = 1:10,\n",
    "      czas_ms = loop_times\n",
    "    )\n",
    "    \n",
    "    # wykonanie builtin\n",
    "    builtin_times <- numeric(10)\n",
    "    for (i in 1:10) {\n",
    "      builtin_times[i] <- measure_time(mean_builtin, data_vector)\n",
    "    }\n",
    "    builtin_results <- data.frame(\n",
    "      rozmiar = size,\n",
    "      funkcja = \"mean_builtin\",\n",
    "      powtorzenie = 1:10,\n",
    "      czas_ms = builtin_times\n",
    "    )\n",
    "    \n",
    "    results <- rbind(results, loop_results, builtin_results)\n",
    "  }\n",
    "  \n",
    "  return(results)\n",
    "}"
   ]
  },
  {
   "cell_type": "markdown",
   "metadata": {},
   "source": [
    "### Eksperyment"
   ]
  },
  {
   "cell_type": "code",
   "execution_count": 26,
   "metadata": {},
   "outputs": [],
   "source": [
    "set.seed(123)\n",
    "wyniki_eksperymentow <- run_experiment()"
   ]
  },
  {
   "cell_type": "markdown",
   "metadata": {},
   "source": [
    "### Tabela"
   ]
  },
  {
   "cell_type": "code",
   "execution_count": 28,
   "metadata": {},
   "outputs": [
    {
     "data": {
      "text/plain": [
       "\n",
       "\n",
       "Table: Wyniki eksperymentów - pierwsze 20 wierszy\n",
       "\n",
       "| rozmiar|funkcja      | powtorzenie|   czas_ms|\n",
       "|-------:|:------------|-----------:|---------:|\n",
       "|    1000|mean_loop    |           1| 3.7271976|\n",
       "|    1000|mean_loop    |           2| 0.0433922|\n",
       "|    1000|mean_loop    |           3| 0.0391006|\n",
       "|    1000|mean_loop    |           4| 0.0376701|\n",
       "|    1000|mean_loop    |           5| 0.0367165|\n",
       "|    1000|mean_loop    |           6| 0.0364780|\n",
       "|    1000|mean_loop    |           7| 0.0374317|\n",
       "|    1000|mean_loop    |           8| 0.0367165|\n",
       "|    1000|mean_loop    |           9| 0.0371933|\n",
       "|    1000|mean_loop    |          10| 0.0364780|\n",
       "|    1000|mean_builtin |           1| 0.0212193|\n",
       "|    1000|mean_builtin |           2| 5.9609413|\n",
       "|    1000|mean_builtin |           3| 0.0095367|\n",
       "|    1000|mean_builtin |           4| 0.0088215|\n",
       "|    1000|mean_builtin |           5| 0.0071526|\n",
       "|    1000|mean_builtin |           6| 0.0064373|\n",
       "|    1000|mean_builtin |           7| 0.0073910|\n",
       "|    1000|mean_builtin |           8| 0.0066757|\n",
       "|    1000|mean_builtin |           9| 0.0088215|\n",
       "|    1000|mean_builtin |          10| 0.0085831|"
      ]
     },
     "metadata": {},
     "output_type": "display_data"
    }
   ],
   "source": [
    "kable(head(wyniki_eksperymentow, 20), caption = \"Wyniki eksperymentów - pierwsze 20 wierszy\")"
   ]
  },
  {
   "cell_type": "markdown",
   "metadata": {},
   "source": [
    "### Srednie i odchylenia"
   ]
  },
  {
   "cell_type": "code",
   "execution_count": 29,
   "metadata": {},
   "outputs": [],
   "source": [
    "podsumowanie <- wyniki_eksperymentow %>%\n",
    "  group_by(rozmiar, funkcja) %>%\n",
    "  summarise(\n",
    "    sredni_czas = mean(czas_ms),\n",
    "    odchylenie_std = sd(czas_ms),\n",
    "    .groups = 'drop'\n",
    "  )"
   ]
  },
  {
   "cell_type": "markdown",
   "metadata": {},
   "source": [
    "### Wykres slupkowy"
   ]
  },
  {
   "cell_type": "code",
   "execution_count": 30,
   "metadata": {},
   "outputs": [
    {
     "data": {
      "image/png": "[encoded data removed]",
      "text/plain": [
       "plot without title"
      ]
     },
     "metadata": {
      "image/png": {
       "height": 420,
       "width": 420
      }
     },
     "output_type": "display_data"
    }
   ],
   "source": [
    "wykres <- ggplot(podsumowanie, aes(x = as.factor(rozmiar), y = sredni_czas, fill = funkcja)) +\n",
    "  geom_bar(stat = \"identity\", position = position_dodge(width = 0.9)) +\n",
    "  geom_errorbar(\n",
    "    aes(ymin = sredni_czas - odchylenie_std, ymax = sredni_czas + odchylenie_std),\n",
    "    width = 0.2,\n",
    "    position = position_dodge(width = 0.9)\n",
    "  ) +\n",
    "  labs(\n",
    "    title = \"Porównanie średnich czasów wykonania funkcji\",\n",
    "    x = \"Rozmiar wektora\",\n",
    "    y = \"Średni czas wykonania (ms)\",\n",
    "    fill = \"Funkcja\"\n",
    "  ) +\n",
    "  scale_fill_brewer(palette = \"Set1\") +\n",
    "  theme_minimal()\n",
    "\n",
    "print(wykres)"
   ]
  },
  {
   "cell_type": "markdown",
   "metadata": {},
   "source": [
    "## Analiza danych wina\n",
    "### Wczytanie danych"
   ]
  },
  {
   "cell_type": "code",
   "execution_count": 31,
   "metadata": {},
   "outputs": [],
   "source": [
    "dane <- read.csv(\"dataframe1.csv\", header = TRUE)\n",
    "\n",
    "dane_rozwiniete <- dane %>%\n",
    "  uncount(liczba)  # Tworzy tyle wierszy dla każdej obserwacji, ile jest w kolumnie liczba\n",
    "\n",
    "# Obliczanie czasu wykonania dla dwóch różnych funkcji analizy danych wina\n",
    "wyniki_wino <- data.frame()"
   ]
  },
  {
   "cell_type": "markdown",
   "metadata": {},
   "source": [
    "### Funkcja 1: Grupowanie i obliczanie średnich przy użyciu base R"
   ]
  },
  {
   "cell_type": "code",
   "execution_count": 32,
   "metadata": {},
   "outputs": [],
   "source": [
    "analiza_base_r <- function(data) {\n",
    "  result <- aggregate(alcohol ~ quality, data = data, FUN = mean)\n",
    "  return(result)\n",
    "}"
   ]
  },
  {
   "cell_type": "markdown",
   "metadata": {},
   "source": [
    "### Funkcja 2: Grupowanie i obliczanie średnich przy użyciu dplyr"
   ]
  },
  {
   "cell_type": "code",
   "execution_count": 33,
   "metadata": {},
   "outputs": [],
   "source": [
    "analiza_dplyr <- function(data) {\n",
    "  result <- data %>%\n",
    "    group_by(quality) %>%\n",
    "    summarise(mean_alcohol = mean(alcohol))\n",
    "  return(result)\n",
    "}\n",
    "\n",
    "for (i in 1:10) {\n",
    "  czas_base_r <- measure_time(function(x) analiza_base_r(x), dane_rozwiniete)\n",
    "  \n",
    "  czas_dplyr <- measure_time(function(x) analiza_dplyr(x), dane_rozwiniete)\n",
    "  \n",
    "  wyniki_wino <- rbind(wyniki_wino, \n",
    "                       data.frame(funkcja = \"base_R\", powtorzenie = i, czas_ms = czas_base_r),\n",
    "                       data.frame(funkcja = \"dplyr\", powtorzenie = i, czas_ms = czas_dplyr))\n",
    "}"
   ]
  },
  {
   "cell_type": "markdown",
   "metadata": {},
   "source": [
    "### Analiza danych pomiarowych"
   ]
  },
  {
   "cell_type": "code",
   "execution_count": 34,
   "metadata": {},
   "outputs": [],
   "source": [
    "podsumowanie_wino <- wyniki_wino %>%\n",
    "  group_by(funkcja) %>%\n",
    "  summarise(\n",
    "    sredni_czas = mean(czas_ms),\n",
    "    odchylenie_std = sd(czas_ms),\n",
    "    .groups = 'drop'\n",
    "  )"
   ]
  },
  {
   "cell_type": "markdown",
   "metadata": {},
   "source": [
    "### Wykres 1:"
   ]
  },
  {
   "cell_type": "code",
   "execution_count": 35,
   "metadata": {},
   "outputs": [
    {
     "data": {
      "image/png": "[encoded data removed]",
      "text/plain": [
       "plot without title"
      ]
     },
     "metadata": {
      "image/png": {
       "height": 420,
       "width": 420
      }
     },
     "output_type": "display_data"
    }
   ],
   "source": [
    "wykres_wino <- ggplot(podsumowanie_wino, aes(x = funkcja, y = sredni_czas, fill = funkcja)) +\n",
    "  geom_bar(stat = \"identity\", position = position_dodge(width = 0.9)) +\n",
    "  geom_errorbar(\n",
    "    aes(ymin = sredni_czas - odchylenie_std, ymax = sredni_czas + odchylenie_std),\n",
    "    width = 0.2,\n",
    "    position = position_dodge(width = 0.9)\n",
    "  ) +\n",
    "  labs(\n",
    "    title = \"Porównanie średnich czasów wykonania różnych metod analizy danych wina\",\n",
    "    x = \"Metoda analizy\",\n",
    "    y = \"Średni czas wykonania (ms)\",\n",
    "    fill = \"Funkcja\"\n",
    "  ) +\n",
    "  scale_fill_brewer(palette = \"Set1\") +\n",
    "  theme_minimal()\n",
    "\n",
    "print(wykres_wino)"
   ]
  },
  {
   "cell_type": "markdown",
   "metadata": {},
   "source": [
    "### Wykres 2:"
   ]
  },
  {
   "cell_type": "code",
   "execution_count": 36,
   "metadata": {},
   "outputs": [
    {
     "data": {
      "image/png": "[encoded data removed]",
      "text/plain": [
       "plot without title"
      ]
     },
     "metadata": {
      "image/png": {
       "height": 420,
       "width": 420
      }
     },
     "output_type": "display_data"
    }
   ],
   "source": [
    "wyniki_jakosci <- dane_rozwiniete %>%\n",
    "  group_by(quality) %>%\n",
    "  summarise(\n",
    "    srednia_alkohol = mean(alcohol),\n",
    "    odchylenie_std = sd(alcohol),\n",
    "    liczba_prob = n(),\n",
    "    .groups = 'drop'\n",
    "  )\n",
    "\n",
    "wykres_alkohol <- ggplot(wyniki_jakosci, aes(x = as.factor(quality), y = srednia_alkohol)) +\n",
    "  geom_bar(stat = \"identity\", fill = \"steelblue\") +\n",
    "  geom_errorbar(\n",
    "    aes(ymin = srednia_alkohol - odchylenie_std, ymax = srednia_alkohol + odchylenie_std),\n",
    "    width = 0.2\n",
    "  ) +\n",
    "  labs(\n",
    "    title = \"Średnia zawartość alkoholu według jakości wina\",\n",
    "    x = \"Jakość wina\",\n",
    "    y = \"Średnia zawartość alkoholu (%)\"\n",
    "  ) +\n",
    "  theme_minimal()\n",
    "\n",
    "print(wykres_alkohol)"
   ]
  },
  {
   "cell_type": "markdown",
   "metadata": {},
   "source": [
    "### Podsumowanie wyników wszystkich eksperymentów"
   ]
  },
  {
   "cell_type": "code",
   "execution_count": 37,
   "metadata": {},
   "outputs": [
    {
     "data": {
      "text/plain": [
       "\n",
       "\n",
       "Table: Podsumowanie wyników eksperymentów dla funkcji obliczania średniej\n",
       "\n",
       "| rozmiar|funkcja      | sredni_czas| odchylenie_std|\n",
       "|-------:|:------------|-----------:|--------------:|\n",
       "|   1e+03|mean_builtin |   0.6045580|      1.8820462|\n",
       "|   1e+03|mean_loop    |   0.4068375|      1.1666575|\n",
       "|   1e+04|mean_builtin |   0.0262976|      0.0028721|\n",
       "|   1e+04|mean_loop    |   0.3623724|      0.0253991|\n",
       "|   1e+05|mean_builtin |   0.1732111|      0.0072936|\n",
       "|   1e+05|mean_loop    |   3.0716658|      0.0718006|\n",
       "|   1e+06|mean_builtin |   1.6436577|      0.0325565|\n",
       "|   1e+06|mean_loop    |  30.1381350|      0.2837058|"
      ]
     },
     "metadata": {},
     "output_type": "display_data"
    },
    {
     "data": {
      "text/plain": [
       "\n",
       "\n",
       "Table: Podsumowanie wyników eksperymentów dla metod analizy danych wina\n",
       "\n",
       "|funkcja | sredni_czas| odchylenie_std|\n",
       "|:-------|-----------:|--------------:|\n",
       "|base_R  |    1.389289|       0.787134|\n",
       "|dplyr   |    3.718209|       1.173605|"
      ]
     },
     "metadata": {},
     "output_type": "display_data"
    }
   ],
   "source": [
    "kable(podsumowanie, caption = \"Podsumowanie wyników eksperymentów dla funkcji obliczania średniej\")\n",
    "kable(podsumowanie_wino, caption = \"Podsumowanie wyników eksperymentów dla metod analizy danych wina\")"
   ]
  }
 ],
 "metadata": {
  "kernelspec": {
   "display_name": "R",
   "language": "R",
   "name": "ir"
  },
  "language_info": {
   "codemirror_mode": "r",
   "file_extension": ".r",
   "mimetype": "text/x-r-source",
   "name": "R",
   "pygments_lexer": "r",
   "version": "4.4.3"
  }
 },
 "nbformat": 4,
 "nbformat_minor": 4
}
