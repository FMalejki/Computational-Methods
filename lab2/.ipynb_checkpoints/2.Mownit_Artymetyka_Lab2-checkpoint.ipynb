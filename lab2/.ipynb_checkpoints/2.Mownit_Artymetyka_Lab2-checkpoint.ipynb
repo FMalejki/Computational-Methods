{
 "cells": [
  {
   "cell_type": "markdown",
   "metadata": {},
   "source": [
    "Kalkulatory IEEE-754:\n",
    "* https://www.h-schmidt.net/FloatConverter/IEEE754.html"
   ]
  },
  {
   "cell_type": "code",
   "execution_count": 1,
   "metadata": {},
   "outputs": [
    {
     "data": {
      "text/plain": [
       "decode (generic function with 1 method)"
      ]
     },
     "execution_count": 1,
     "metadata": {},
     "output_type": "execute_result"
    }
   ],
   "source": [
    "# znak, cecha, mantysa\n",
    "# uwaga - w Julii tablice indeksujemy od 1\n",
    "# uwaga: ukryta jedynka nie jest pamiętana\n",
    "# uwaga: cecha jest pamiętana w kodzie z nadmiarem (tutaj BIAS=127)\n",
    "decode(x::Float32) = (b=bitstring(x); (b[1], b[2:9], b[10:32]))"
   ]
  },
  {
   "cell_type": "markdown",
   "metadata": {},
   "source": [
    "## Trochę teorii o IEEE-754"
   ]
  },
  {
   "cell_type": "markdown",
   "metadata": {},
   "source": [
    "Liczby zmienno przecinkowe są zapisywane w standardzie jako:\n",
    "\n",
    "$L = (-1)^{znak} * mantysa * 2^{cecha}$ \n",
    "\n",
    "* znak - 0 oznacza liczbę dodatnią, 1 ujemną\n",
    "* mantysa - wpływa na precyzje\n",
    "* cecha - wpływa na zakres, składająca się z samych 0 albo 1 ma specjalne znaczenie"
   ]
  },
  {
   "cell_type": "markdown",
   "metadata": {},
   "source": [
    "| Nazwa     | Liczba bitów | Bity znaku | Bity cechy | Bity mantysy | Bias  | Dokładność (cyfry znaczące) | Uwagi                                 |\n",
    "|-----------|--------------|------------|------------|--------------|-------|-----------------------------|---------------------------------------|\n",
    "| half      | 16           | 1          | 5          | 10           | 15    | 4                           |                                       |\n",
    "| single    | 32           | 1          | 8          | 23           | 127   | 7                           |                                       |\n",
    "| double    | 64           | 1          | 11         | 52           | 1023  | 16                          |                                       |\n",
    "| quadruple | 128          | 1          | 15         | 112          | 16383 | 34                          | Wprowadzone w 2008, niezbyt popularne |"
   ]
  },
  {
   "cell_type": "markdown",
   "metadata": {},
   "source": [
    "### Liczby znormalizowane"
   ]
  },
  {
   "cell_type": "markdown",
   "metadata": {},
   "source": [
    "Mantysa ma wartość z przedziału [1,2) - pierwszy bit ma zawsze wartość 1, więc nie trzeba go zapisywać (jest on tam \"domyślnie\")\n",
    "$L = (-1)^{znak} * 1.mantysa * 2^{cecha-bias}$"
   ]
  },
  {
   "cell_type": "code",
   "execution_count": 2,
   "metadata": {
    "scrolled": true
   },
   "outputs": [
    {
     "data": {
      "text/plain": [
       "('0', \"10000000\", \"01000000000000000000000\")"
      ]
     },
     "execution_count": 2,
     "metadata": {},
     "output_type": "execute_result"
    }
   ],
   "source": [
    "decode(Float32(2.5))"
   ]
  },
  {
   "cell_type": "markdown",
   "metadata": {},
   "source": [
    "Policzenie wartości na podstawie reprezentacji bitowej."
   ]
  },
  {
   "cell_type": "code",
   "execution_count": 3,
   "metadata": {},
   "outputs": [
    {
     "data": {
      "text/plain": [
       "(1, 1.25)"
      ]
     },
     "execution_count": 3,
     "metadata": {},
     "output_type": "execute_result"
    }
   ],
   "source": [
    "cecha = 2^7-127\n",
    "mantysa = 2^-2 + 1\n",
    "cecha, mantysa"
   ]
  },
  {
   "cell_type": "code",
   "execution_count": 4,
   "metadata": {},
   "outputs": [
    {
     "data": {
      "text/plain": [
       "2.5"
      ]
     },
     "execution_count": 4,
     "metadata": {},
     "output_type": "execute_result"
    }
   ],
   "source": [
    "L = 1 * mantysa * 2^cecha"
   ]
  },
  {
   "cell_type": "markdown",
   "metadata": {},
   "source": [
    "### Liczba 0"
   ]
  },
  {
   "cell_type": "markdown",
   "metadata": {},
   "source": [
    "Wartości 0 nie da się zapisać w postaci znormalizowanej. Jeżeli zarówno mantysa jak i cecha zawierają same 0, to reprezentowana jest wartość 0.\n",
    "\n",
    "Ze względu na bit znaku, istnieją dwie możliwości 0: +0 oraz -0."
   ]
  },
  {
   "cell_type": "code",
   "execution_count": 5,
   "metadata": {},
   "outputs": [
    {
     "data": {
      "text/plain": [
       "('1', \"00000000\", \"00000000000000000000000\")"
      ]
     },
     "execution_count": 5,
     "metadata": {},
     "output_type": "execute_result"
    }
   ],
   "source": [
    "decode(Float32(-0.0))"
   ]
  },
  {
   "cell_type": "code",
   "execution_count": 6,
   "metadata": {},
   "outputs": [
    {
     "data": {
      "text/plain": [
       "('0', \"00000000\", \"00000000000000000000000\")"
      ]
     },
     "execution_count": 6,
     "metadata": {},
     "output_type": "execute_result"
    }
   ],
   "source": [
    "decode(Float32(+0.0))"
   ]
  },
  {
   "cell_type": "code",
   "execution_count": 7,
   "metadata": {},
   "outputs": [
    {
     "data": {
      "text/plain": [
       "true"
      ]
     },
     "execution_count": 7,
     "metadata": {},
     "output_type": "execute_result"
    }
   ],
   "source": [
    "Float32(-0.0) == Float32(+0.0) # Oba zera są równe"
   ]
  },
  {
   "cell_type": "markdown",
   "metadata": {},
   "source": [
    "### Liczby zdenormalizowane\n",
    "\n",
    "Jeżeli cecha składa się z samych 0 to liczba jest *zdenormalizowana* i mantysa nie posiada \"domyślnego\" bitu. Pozwala to na reprezentacje liczb bliskich 0, które bez denormalizacji byłyby 0.\n",
    "\n",
    "$L = (-1)^{znak} * 0.mantysa * 2^{-bias+1}$\n",
    "\n",
    "Uwaga: Liczba 0 nie jest określana jako zdenormalizowana, pomimo, że cecha ma same 0!"
   ]
  },
  {
   "cell_type": "code",
   "execution_count": 9,
   "metadata": {},
   "outputs": [
    {
     "data": {
      "text/plain": [
       "(('0', \"00000000\", \"00000000000001011001010\"), true)"
      ]
     },
     "execution_count": 9,
     "metadata": {},
     "output_type": "execute_result"
    }
   ],
   "source": [
    "L = Float32(1e-42)\n",
    "decode(Float32(L)), issubnormal(L)"
   ]
  },
  {
   "cell_type": "markdown",
   "metadata": {},
   "source": [
    "### Wartości specjalne"
   ]
  },
  {
   "cell_type": "markdown",
   "metadata": {},
   "source": [
    "####  Nieskończoność\n",
    "\n",
    "Reprezentowana jest przez cechę z samych 1 oraz mantysę z samych 0. W zależności od znaku można wyróżnić $-\\infty$ oraz $+\\infty$."
   ]
  },
  {
   "cell_type": "code",
   "execution_count": 10,
   "metadata": {},
   "outputs": [
    {
     "data": {
      "text/plain": [
       "('0', \"11111111\", \"00000000000000000000000\")"
      ]
     },
     "execution_count": 10,
     "metadata": {},
     "output_type": "execute_result"
    }
   ],
   "source": [
    "decode(Inf32)"
   ]
  },
  {
   "cell_type": "code",
   "execution_count": 11,
   "metadata": {},
   "outputs": [
    {
     "data": {
      "text/plain": [
       "('1', \"11111111\", \"00000000000000000000000\")"
      ]
     },
     "execution_count": 11,
     "metadata": {},
     "output_type": "execute_result"
    }
   ],
   "source": [
    "decode(-Inf32)"
   ]
  },
  {
   "cell_type": "markdown",
   "metadata": {},
   "source": [
    "#### NaN\n",
    "\n",
    "Reprezentowana jest przez cechę z samych 1 oraz mantysę różną od 0.\n",
    "\n",
    "`NaN`ami są np. 0/0, $\\infty - \\infty$"
   ]
  },
  {
   "cell_type": "code",
   "execution_count": 12,
   "metadata": {},
   "outputs": [
    {
     "data": {
      "text/plain": [
       "NaN32"
      ]
     },
     "execution_count": 12,
     "metadata": {},
     "output_type": "execute_result"
    }
   ],
   "source": [
    "Float32(0)/Float32(0)"
   ]
  },
  {
   "cell_type": "code",
   "execution_count": 13,
   "metadata": {},
   "outputs": [
    {
     "data": {
      "text/plain": [
       "NaN32"
      ]
     },
     "execution_count": 13,
     "metadata": {},
     "output_type": "execute_result"
    }
   ],
   "source": [
    "Inf32 - Inf32"
   ]
  },
  {
   "cell_type": "code",
   "execution_count": 14,
   "metadata": {},
   "outputs": [
    {
     "data": {
      "text/plain": [
       "('0', \"11111111\", \"10000000000000000000000\")"
      ]
     },
     "execution_count": 14,
     "metadata": {},
     "output_type": "execute_result"
    }
   ],
   "source": [
    "decode(NaN32)"
   ]
  },
  {
   "cell_type": "markdown",
   "metadata": {},
   "source": [
    "### Praktyczne wskazówki"
   ]
  },
  {
   "cell_type": "markdown",
   "metadata": {},
   "source": [
    "Kolejność działań ma znaczenie:"
   ]
  },
  {
   "cell_type": "code",
   "execution_count": 15,
   "metadata": {},
   "outputs": [
    {
     "data": {
      "text/plain": [
       "5.9604645f-8"
      ]
     },
     "execution_count": 15,
     "metadata": {},
     "output_type": "execute_result"
    }
   ],
   "source": [
    "e = eps(Float32)/2"
   ]
  },
  {
   "cell_type": "code",
   "execution_count": 16,
   "metadata": {
    "scrolled": true
   },
   "outputs": [
    {
     "data": {
      "text/plain": [
       "1.0f0"
      ]
     },
     "execution_count": 16,
     "metadata": {},
     "output_type": "execute_result"
    }
   ],
   "source": [
    "(Float32(1.0) + e) + e"
   ]
  },
  {
   "cell_type": "code",
   "execution_count": 17,
   "metadata": {},
   "outputs": [
    {
     "data": {
      "text/plain": [
       "1.0000001f0"
      ]
     },
     "execution_count": 17,
     "metadata": {},
     "output_type": "execute_result"
    }
   ],
   "source": [
    "Float32(1.0) + (e + e)"
   ]
  },
  {
   "cell_type": "markdown",
   "metadata": {},
   "source": [
    "Wniosek: Sumujemy od najmniejszych"
   ]
  },
  {
   "cell_type": "markdown",
   "metadata": {},
   "source": [
    "Nie powinno się porównywać floatów bezpośrednio. Większość języków posiada funkcje do porówywania liczb zmiennoprzecinkowych z tolerancją, np. `isapprox` w Julii, `numpy.isclose` w Pythonie etc."
   ]
  },
  {
   "cell_type": "code",
   "execution_count": 18,
   "metadata": {},
   "outputs": [
    {
     "data": {
      "text/plain": [
       "false"
      ]
     },
     "execution_count": 18,
     "metadata": {},
     "output_type": "execute_result"
    }
   ],
   "source": [
    "0.1 + 0.2 == 0.3"
   ]
  },
  {
   "cell_type": "code",
   "execution_count": 19,
   "metadata": {},
   "outputs": [
    {
     "data": {
      "text/plain": [
       "true"
      ]
     },
     "execution_count": 19,
     "metadata": {},
     "output_type": "execute_result"
    }
   ],
   "source": [
    "isapprox(0.1 + 0.2, 0.3)"
   ]
  },
  {
   "cell_type": "markdown",
   "metadata": {},
   "source": [
    "## Przykłady"
   ]
  },
  {
   "cell_type": "code",
   "execution_count": 20,
   "metadata": {},
   "outputs": [
    {
     "data": {
      "text/plain": [
       "\"00111101110011001100110011001101\""
      ]
     },
     "execution_count": 20,
     "metadata": {},
     "output_type": "execute_result"
    }
   ],
   "source": [
    "bitstring(Float32(.1))"
   ]
  },
  {
   "cell_type": "code",
   "execution_count": 21,
   "metadata": {
    "scrolled": true
   },
   "outputs": [
    {
     "data": {
      "text/plain": [
       "\"00111111100000000000000000000000\""
      ]
     },
     "execution_count": 21,
     "metadata": {},
     "output_type": "execute_result"
    }
   ],
   "source": [
    "bitstring(Float32(1.0))"
   ]
  },
  {
   "cell_type": "code",
   "execution_count": 22,
   "metadata": {},
   "outputs": [
    {
     "data": {
      "text/plain": [
       "\"0011111111110000000000000000000000000000000000000000000000000000\""
      ]
     },
     "execution_count": 22,
     "metadata": {},
     "output_type": "execute_result"
    }
   ],
   "source": [
    "bitstring(Float64(1.0))"
   ]
  },
  {
   "cell_type": "code",
   "execution_count": 23,
   "metadata": {},
   "outputs": [
    {
     "data": {
      "text/plain": [
       "\"0011111111110000000000000000000000000000000000000000000000000000\""
      ]
     },
     "execution_count": 23,
     "metadata": {},
     "output_type": "execute_result"
    }
   ],
   "source": [
    "# domyślnie Float64\n",
    "bitstring(1.0)"
   ]
  },
  {
   "cell_type": "code",
   "execution_count": 24,
   "metadata": {},
   "outputs": [
    {
     "data": {
      "text/plain": [
       "\"0011110000000000\""
      ]
     },
     "execution_count": 24,
     "metadata": {},
     "output_type": "execute_result"
    }
   ],
   "source": [
    "# Float16\n",
    "bitstring(Float16(1.0))"
   ]
  },
  {
   "cell_type": "code",
   "execution_count": 25,
   "metadata": {},
   "outputs": [
    {
     "name": "stdout",
     "output_type": "stream",
     "text": [
      "1.2*2^0\n"
     ]
    }
   ],
   "source": [
    "println(significand(Float32(1.2)), \"*2^\", exponent(Float32(1.20)))"
   ]
  },
  {
   "cell_type": "code",
   "execution_count": 26,
   "metadata": {},
   "outputs": [
    {
     "data": {
      "text/plain": [
       "10-element Vector{String}:\n",
       " \"00111111100000000000000000000000\"\n",
       " \"00111111100000000000000000000001\"\n",
       " \"00111111100000000000000000000010\"\n",
       " \"00111111100000000000000000000011\"\n",
       " \"00111111100000000000000000000100\"\n",
       " \"00111111100000000000000000000101\"\n",
       " \"00111111100000000000000000000110\"\n",
       " \"00111111100000000000000000000111\"\n",
       " \"00111111100000000000000000001000\"\n",
       " \"00111111100000000000000000001001\""
      ]
     },
     "execution_count": 26,
     "metadata": {},
     "output_type": "execute_result"
    }
   ],
   "source": [
    "# co ile liczby sa reprezentowane \n",
    "c=Float32[]\n",
    "a=Float32(1.0)\n",
    "r=1:10\n",
    "for i=r\n",
    "    push!(c, a)\n",
    "    a=nextfloat(a)\n",
    "end\n",
    "map(x-> bitstring(x),c)"
   ]
  },
  {
   "cell_type": "code",
   "execution_count": 27,
   "metadata": {},
   "outputs": [
    {
     "data": {
      "text/plain": [
       "1.1920929f-7"
      ]
     },
     "execution_count": 27,
     "metadata": {},
     "output_type": "execute_result"
    }
   ],
   "source": [
    "# Maszynowe epsilon mówi, jaki jest odstęp między kolejnymi liczbami zmiennoprzecinkowymi reprezentowanymi w komputerze\n",
    "eps(Float32(1))"
   ]
  },
  {
   "cell_type": "code",
   "execution_count": 28,
   "metadata": {},
   "outputs": [
    {
     "data": {
      "text/plain": [
       "2.3841858f-7"
      ]
     },
     "execution_count": 28,
     "metadata": {},
     "output_type": "execute_result"
    }
   ],
   "source": [
    "eps(Float32(2))"
   ]
  },
  {
   "cell_type": "code",
   "execution_count": 29,
   "metadata": {
    "nbgrader": {
     "grade": true,
     "grade_id": "cell-510e2987d5b4ebfc",
     "locked": false,
     "points": 2,
     "schema_version": 1,
     "solution": true
    }
   },
   "outputs": [
    {
     "name": "stdout",
     "output_type": "stream",
     "text": [
      "5.0e-34('0', \"00010000\", \"01001100010011101001100\") false\n",
      "2.5e-34('0', \"00001111\", \"01001100010011101001100\") false\n",
      "1.25e-34('0', \"00001110\", \"01001100010011101001100\") false\n",
      "6.25e-35('0', \"00001101\", \"01001100010011101001100\") false\n",
      "3.125e-35('0', \"00001100\", \"01001100010011101001100\") false\n",
      "1.5625e-35('0', \"00001011\", \"01001100010011101001100\") false\n",
      "7.8125e-36('0', \"00001010\", \"01001100010011101001100\") false\n",
      "3.90625e-36('0', \"00001001\", \"01001100010011101001100\") false\n",
      "1.953125e-36('0', \"00001000\", \"01001100010011101001100\") false\n",
      "9.765625e-37('0', \"00000111\", \"01001100010011101001100\") false\n",
      "4.8828126e-37('0', \"00000110\", \"01001100010011101001100\") false\n",
      "2.4414063e-37('0', \"00000101\", \"01001100010011101001100\") false\n",
      "1.2207032e-37('0', \"00000100\", \"01001100010011101001100\") false\n",
      "6.103516e-38('0', \"00000011\", \"01001100010011101001100\") false\n",
      "3.051758e-38('0', \"00000010\", \"01001100010011101001100\") false\n",
      "1.525879e-38('0', \"00000001\", \"01001100010011101001100\") false\n",
      "7.629395e-39('0', \"00000000\", \"10100110001001110100110\") true\n",
      "3.814697e-39('0', \"00000000\", \"01010011000100111010011\") true\n",
      "1.90735e-39('0', \"00000000\", \"00101001100010011101010\") true\n",
      "9.53675e-40('0', \"00000000\", \"00010100110001001110101\") true\n",
      "4.76837e-40('0', \"00000000\", \"00001010011000100111010\") true\n",
      "2.38418e-40('0', \"00000000\", \"00000101001100010011101\") true\n",
      "1.19208e-40('0', \"00000000\", \"00000010100110001001110\") true\n",
      "5.9604e-41('0', \"00000000\", \"00000001010011000100111\") true\n",
      "2.9803e-41('0', \"00000000\", \"00000000101001100010100\") true\n",
      "1.4901e-41('0', \"00000000\", \"00000000010100110001010\") true\n",
      "7.451e-42('0', \"00000000\", \"00000000001010011000101\") true\n",
      "3.725e-42('0', \"00000000\", \"00000000000101001100010\") true\n",
      "1.862e-42('0', \"00000000\", \"00000000000010100110001\") true\n",
      "9.3e-43('0', \"00000000\", \"00000000000001010011000\") true\n",
      "4.65e-43('0', \"00000000\", \"00000000000000101001100\") true\n",
      "2.33e-43('0', \"00000000\", \"00000000000000010100110\") true\n",
      "1.16e-43('0', \"00000000\", \"00000000000000001010011\") true\n",
      "5.9e-44('0', \"00000000\", \"00000000000000000101010\") true\n",
      "3.0e-44('0', \"00000000\", \"00000000000000000010101\") true\n",
      "1.4e-44('0', \"00000000\", \"00000000000000000001010\") true\n",
      "7.0e-45('0', \"00000000\", \"00000000000000000000101\") true\n",
      "3.0e-45('0', \"00000000\", \"00000000000000000000010\") true\n",
      "1.0e-45('0', \"00000000\", \"00000000000000000000001\") true\n",
      "0.0('0', \"00000000\", \"00000000000000000000000\") false\n"
     ]
    }
   ],
   "source": [
    "# Badanie postaci zdenormalizowanej. Co się dzieje, jak liczby są coraz mniejsze?\n",
    "a = Float32(1e-33)\n",
    "while a > 0\n",
    "    a = a/Float32(2.0)\n",
    "    println(a, decode(a),  \" \", issubnormal(a))\n",
    "end"
   ]
  },
  {
   "cell_type": "code",
   "execution_count": 30,
   "metadata": {},
   "outputs": [],
   "source": [
    "# Rysowanie wykresów\n",
    "#using Pkg\n",
    "#Pkg.add(\"Plots\")\n",
    "# http://docs.juliaplots.org/latest/tutorial/\n",
    "using Plots"
   ]
  },
  {
   "cell_type": "code",
   "execution_count": 31,
   "metadata": {},
   "outputs": [
    {
     "data": {
      "image/png": "[encoded data removed]",
      "image/svg+xml": [
       "<?xml version=\"1.0\" encoding=\"utf-8\"?>\n",
       "<svg xmlns=\"http://www.w3.org/2000/svg\" xmlns:xlink=\"http://www.w3.org/1999/xlink\" width=\"600\" height=\"400\" viewBox=\"0 0 2400 1600\">\n",
       "<defs>\n",
       "  <clipPath id=\"clip630\">\n",
       "    <rect x=\"0\" y=\"0\" width=\"2400\" height=\"1600\"/>\n",
       "  </clipPath>\n",
       "</defs>\n",
       "<path clip-path=\"url(#clip630)\" d=\"M0 1600 L2400 1600 L2400 8.88178e-14 L0 8.88178e-14  Z\" fill=\"#ffffff\" fill-rule=\"evenodd\" fill-opacity=\"1\"/>\n",
       "<defs>\n",
       "  <clipPath id=\"clip631\">\n",
       "    <rect x=\"480\" y=\"0\" width=\"1681\" height=\"1600\"/>\n",
       "  </clipPath>\n",
       "</defs>\n",
       "<path clip-path=\"url(#clip630)\" d=\"M112.177 1486.45 L2352.76 1486.45 L2352.76 47.2441 L112.177 47.2441  Z\" fill=\"#ffffff\" fill-rule=\"evenodd\" fill-opacity=\"1\"/>\n",
       "<defs>\n",
       "  <clipPath id=\"clip632\">\n",
       "    <rect x=\"112\" y=\"47\" width=\"2242\" height=\"1440\"/>\n",
       "  </clipPath>\n",
       "</defs>\n",
       "<polyline clip-path=\"url(#clip632)\" style=\"stroke:#000000; stroke-linecap:round; stroke-linejoin:round; stroke-width:2; stroke-opacity:0.1; fill:none\" points=\"175.59,1486.45 175.59,47.2441 \"/>\n",
       "<polyline clip-path=\"url(#clip632)\" style=\"stroke:#000000; stroke-linecap:round; stroke-linejoin:round; stroke-width:2; stroke-opacity:0.1; fill:none\" points=\"704.028,1486.45 704.028,47.2441 \"/>\n",
       "<polyline clip-path=\"url(#clip632)\" style=\"stroke:#000000; stroke-linecap:round; stroke-linejoin:round; stroke-width:2; stroke-opacity:0.1; fill:none\" points=\"1232.47,1486.45 1232.47,47.2441 \"/>\n",
       "<polyline clip-path=\"url(#clip632)\" style=\"stroke:#000000; stroke-linecap:round; stroke-linejoin:round; stroke-width:2; stroke-opacity:0.1; fill:none\" points=\"1760.9,1486.45 1760.9,47.2441 \"/>\n",
       "<polyline clip-path=\"url(#clip632)\" style=\"stroke:#000000; stroke-linecap:round; stroke-linejoin:round; stroke-width:2; stroke-opacity:0.1; fill:none\" points=\"2289.34,1486.45 2289.34,47.2441 \"/>\n",
       "<polyline clip-path=\"url(#clip632)\" style=\"stroke:#000000; stroke-linecap:round; stroke-linejoin:round; stroke-width:2; stroke-opacity:0.1; fill:none\" points=\"112.177,1445.72 2352.76,1445.72 \"/>\n",
       "<polyline clip-path=\"url(#clip632)\" style=\"stroke:#000000; stroke-linecap:round; stroke-linejoin:round; stroke-width:2; stroke-opacity:0.1; fill:none\" points=\"112.177,993.136 2352.76,993.136 \"/>\n",
       "<polyline clip-path=\"url(#clip632)\" style=\"stroke:#000000; stroke-linecap:round; stroke-linejoin:round; stroke-width:2; stroke-opacity:0.1; fill:none\" points=\"112.177,540.556 2352.76,540.556 \"/>\n",
       "<polyline clip-path=\"url(#clip632)\" style=\"stroke:#000000; stroke-linecap:round; stroke-linejoin:round; stroke-width:2; stroke-opacity:0.1; fill:none\" points=\"112.177,87.9763 2352.76,87.9763 \"/>\n",
       "<polyline clip-path=\"url(#clip630)\" style=\"stroke:#000000; stroke-linecap:round; stroke-linejoin:round; stroke-width:4; stroke-opacity:1; fill:none\" points=\"112.177,1486.45 2352.76,1486.45 \"/>\n",
       "<polyline clip-path=\"url(#clip630)\" style=\"stroke:#000000; stroke-linecap:round; stroke-linejoin:round; stroke-width:4; stroke-opacity:1; fill:none\" points=\"175.59,1486.45 175.59,1467.55 \"/>\n",
       "<polyline clip-path=\"url(#clip630)\" style=\"stroke:#000000; stroke-linecap:round; stroke-linejoin:round; stroke-width:4; stroke-opacity:1; fill:none\" points=\"704.028,1486.45 704.028,1467.55 \"/>\n",
       "<polyline clip-path=\"url(#clip630)\" style=\"stroke:#000000; stroke-linecap:round; stroke-linejoin:round; stroke-width:4; stroke-opacity:1; fill:none\" points=\"1232.47,1486.45 1232.47,1467.55 \"/>\n",
       "<polyline clip-path=\"url(#clip630)\" style=\"stroke:#000000; stroke-linecap:round; stroke-linejoin:round; stroke-width:4; stroke-opacity:1; fill:none\" points=\"1760.9,1486.45 1760.9,1467.55 \"/>\n",
       "<polyline clip-path=\"url(#clip630)\" style=\"stroke:#000000; stroke-linecap:round; stroke-linejoin:round; stroke-width:4; stroke-opacity:1; fill:none\" points=\"2289.34,1486.45 2289.34,1467.55 \"/>\n",
       "<path clip-path=\"url(#clip630)\" d=\"M165.972 1544.91 L173.611 1544.91 L173.611 1518.55 L165.3 1520.21 L165.3 1515.95 L173.564 1514.29 L178.24 1514.29 L178.24 1544.91 L185.879 1544.91 L185.879 1548.85 L165.972 1548.85 L165.972 1544.91 Z\" fill=\"#000000\" fill-rule=\"nonzero\" fill-opacity=\"1\" /><path clip-path=\"url(#clip630)\" d=\"M698.681 1544.91 L715 1544.91 L715 1548.85 L693.056 1548.85 L693.056 1544.91 Q695.718 1542.16 700.301 1537.53 Q704.908 1532.88 706.088 1531.53 Q708.334 1529.01 709.213 1527.27 Q710.116 1525.51 710.116 1523.82 Q710.116 1521.07 708.172 1519.33 Q706.25 1517.6 703.149 1517.6 Q700.949 1517.6 698.496 1518.36 Q696.065 1519.13 693.287 1520.68 L693.287 1515.95 Q696.112 1514.82 698.565 1514.24 Q701.019 1513.66 703.056 1513.66 Q708.426 1513.66 711.621 1516.35 Q714.815 1519.03 714.815 1523.52 Q714.815 1525.65 714.005 1527.57 Q713.218 1529.47 711.111 1532.07 Q710.533 1532.74 707.431 1535.95 Q704.329 1539.15 698.681 1544.91 Z\" fill=\"#000000\" fill-rule=\"nonzero\" fill-opacity=\"1\" /><path clip-path=\"url(#clip630)\" d=\"M1236.71 1530.21 Q1240.07 1530.93 1241.95 1533.2 Q1243.84 1535.47 1243.84 1538.8 Q1243.84 1543.92 1240.33 1546.72 Q1236.81 1549.52 1230.33 1549.52 Q1228.15 1549.52 1225.83 1549.08 Q1223.54 1548.66 1221.09 1547.81 L1221.09 1543.29 Q1223.03 1544.43 1225.35 1545.01 Q1227.66 1545.58 1230.19 1545.58 Q1234.58 1545.58 1236.88 1543.85 Q1239.19 1542.11 1239.19 1538.8 Q1239.19 1535.75 1237.04 1534.03 Q1234.91 1532.3 1231.09 1532.3 L1227.06 1532.3 L1227.06 1528.45 L1231.27 1528.45 Q1234.72 1528.45 1236.55 1527.09 Q1238.38 1525.7 1238.38 1523.11 Q1238.38 1520.45 1236.48 1519.03 Q1234.61 1517.6 1231.09 1517.6 Q1229.17 1517.6 1226.97 1518.01 Q1224.77 1518.43 1222.13 1519.31 L1222.13 1515.14 Q1224.79 1514.4 1227.11 1514.03 Q1229.45 1513.66 1231.51 1513.66 Q1236.83 1513.66 1239.93 1516.09 Q1243.03 1518.5 1243.03 1522.62 Q1243.03 1525.49 1241.39 1527.48 Q1239.75 1529.45 1236.71 1530.21 Z\" fill=\"#000000\" fill-rule=\"nonzero\" fill-opacity=\"1\" /><path clip-path=\"url(#clip630)\" d=\"M1763.91 1518.36 L1752.11 1536.81 L1763.91 1536.81 L1763.91 1518.36 M1762.69 1514.29 L1768.57 1514.29 L1768.57 1536.81 L1773.5 1536.81 L1773.5 1540.7 L1768.57 1540.7 L1768.57 1548.85 L1763.91 1548.85 L1763.91 1540.7 L1748.31 1540.7 L1748.31 1536.19 L1762.69 1514.29 Z\" fill=\"#000000\" fill-rule=\"nonzero\" fill-opacity=\"1\" /><path clip-path=\"url(#clip630)\" d=\"M2279.62 1514.29 L2297.98 1514.29 L2297.98 1518.22 L2283.9 1518.22 L2283.9 1526.7 Q2284.92 1526.35 2285.94 1526.19 Q2286.96 1526 2287.98 1526 Q2293.76 1526 2297.14 1529.17 Q2300.52 1532.34 2300.52 1537.76 Q2300.52 1543.34 2297.05 1546.44 Q2293.58 1549.52 2287.26 1549.52 Q2285.08 1549.52 2282.82 1549.15 Q2280.57 1548.78 2278.16 1548.04 L2278.16 1543.34 Q2280.25 1544.47 2282.47 1545.03 Q2284.69 1545.58 2287.17 1545.58 Q2291.17 1545.58 2293.51 1543.48 Q2295.85 1541.37 2295.85 1537.76 Q2295.85 1534.15 2293.51 1532.04 Q2291.17 1529.94 2287.17 1529.94 Q2285.29 1529.94 2283.42 1530.35 Q2281.57 1530.77 2279.62 1531.65 L2279.62 1514.29 Z\" fill=\"#000000\" fill-rule=\"nonzero\" fill-opacity=\"1\" /><polyline clip-path=\"url(#clip630)\" style=\"stroke:#000000; stroke-linecap:round; stroke-linejoin:round; stroke-width:4; stroke-opacity:1; fill:none\" points=\"112.177,1486.45 112.177,47.2441 \"/>\n",
       "<polyline clip-path=\"url(#clip630)\" style=\"stroke:#000000; stroke-linecap:round; stroke-linejoin:round; stroke-width:4; stroke-opacity:1; fill:none\" points=\"112.177,1445.72 131.075,1445.72 \"/>\n",
       "<polyline clip-path=\"url(#clip630)\" style=\"stroke:#000000; stroke-linecap:round; stroke-linejoin:round; stroke-width:4; stroke-opacity:1; fill:none\" points=\"112.177,993.136 131.075,993.136 \"/>\n",
       "<polyline clip-path=\"url(#clip630)\" style=\"stroke:#000000; stroke-linecap:round; stroke-linejoin:round; stroke-width:4; stroke-opacity:1; fill:none\" points=\"112.177,540.556 131.075,540.556 \"/>\n",
       "<polyline clip-path=\"url(#clip630)\" style=\"stroke:#000000; stroke-linecap:round; stroke-linejoin:round; stroke-width:4; stroke-opacity:1; fill:none\" points=\"112.177,87.9763 131.075,87.9763 \"/>\n",
       "<path clip-path=\"url(#clip630)\" d=\"M59.8578 1459.06 L76.1772 1459.06 L76.1772 1463 L54.2328 1463 L54.2328 1459.06 Q56.8949 1456.31 61.4782 1451.68 Q66.0846 1447.02 67.2652 1445.68 Q69.5105 1443.16 70.3902 1441.42 Q71.2929 1439.66 71.2929 1437.97 Q71.2929 1435.22 69.3485 1433.48 Q67.4272 1431.75 64.3254 1431.75 Q62.1263 1431.75 59.6726 1432.51 Q57.2421 1433.27 54.4643 1434.82 L54.4643 1430.1 Q57.2884 1428.97 59.7421 1428.39 Q62.1958 1427.81 64.2328 1427.81 Q69.6031 1427.81 72.7976 1430.5 Q75.992 1433.18 75.992 1437.67 Q75.992 1439.8 75.1818 1441.72 Q74.3948 1443.62 72.2883 1446.21 Q71.7096 1446.88 68.6078 1450.1 Q65.5059 1453.3 59.8578 1459.06 Z\" fill=\"#000000\" fill-rule=\"nonzero\" fill-opacity=\"1\" /><path clip-path=\"url(#clip630)\" d=\"M69.0476 991.782 Q72.404 992.499 74.279 994.768 Q76.1772 997.036 76.1772 1000.37 Q76.1772 1005.49 72.6587 1008.29 Q69.1402 1011.09 62.6587 1011.09 Q60.4828 1011.09 58.168 1010.65 Q55.8764 1010.23 53.4227 1009.37 L53.4227 1004.86 Q55.3671 1005.99 57.6819 1006.57 Q59.9967 1007.15 62.5198 1007.15 Q66.918 1007.15 69.2096 1005.42 Q71.5244 1003.68 71.5244 1000.37 Q71.5244 997.314 69.3717 995.601 Q67.242 993.865 63.4226 993.865 L59.3949 993.865 L59.3949 990.022 L63.6078 990.022 Q67.0569 990.022 68.8855 988.657 Q70.7142 987.268 70.7142 984.675 Q70.7142 982.013 68.8161 980.601 Q66.9411 979.166 63.4226 979.166 Q61.5013 979.166 59.3023 979.583 Q57.1032 979.999 54.4643 980.879 L54.4643 976.712 Q57.1264 975.972 59.4412 975.601 Q61.7791 975.231 63.8393 975.231 Q69.1633 975.231 72.2652 977.661 Q75.367 980.069 75.367 984.189 Q75.367 987.06 73.7235 989.05 Q72.08 991.018 69.0476 991.782 Z\" fill=\"#000000\" fill-rule=\"nonzero\" fill-opacity=\"1\" /><path clip-path=\"url(#clip630)\" d=\"M66.5939 527.35 L54.7884 545.799 L66.5939 545.799 L66.5939 527.35 M65.367 523.276 L71.2466 523.276 L71.2466 545.799 L76.1772 545.799 L76.1772 549.688 L71.2466 549.688 L71.2466 557.836 L66.5939 557.836 L66.5939 549.688 L50.9921 549.688 L50.9921 545.174 L65.367 523.276 Z\" fill=\"#000000\" fill-rule=\"nonzero\" fill-opacity=\"1\" /><path clip-path=\"url(#clip630)\" d=\"M55.2745 70.6963 L73.6309 70.6963 L73.6309 74.6314 L59.5569 74.6314 L59.5569 83.1036 Q60.5754 82.7564 61.5939 82.5944 Q62.6124 82.4092 63.6309 82.4092 Q69.418 82.4092 72.7976 85.5805 Q76.1772 88.7517 76.1772 94.1684 Q76.1772 99.747 72.705 102.849 Q69.2328 105.928 62.9134 105.928 Q60.7374 105.928 58.4689 105.557 Q56.2236 105.187 53.8162 104.446 L53.8162 99.747 Q55.8995 100.881 58.1217 101.437 Q60.3439 101.992 62.8208 101.992 Q66.8254 101.992 69.1633 99.8859 Q71.5013 97.7795 71.5013 94.1684 Q71.5013 90.5573 69.1633 88.4508 Q66.8254 86.3443 62.8208 86.3443 Q60.9458 86.3443 59.0708 86.761 Q57.2189 87.1777 55.2745 88.0573 L55.2745 70.6963 Z\" fill=\"#000000\" fill-rule=\"nonzero\" fill-opacity=\"1\" /><circle clip-path=\"url(#clip632)\" cx=\"175.59\" cy=\"1445.72\" r=\"14.4\" fill=\"#009af9\" fill-rule=\"evenodd\" fill-opacity=\"1\" stroke=\"#000000\" stroke-opacity=\"1\" stroke-width=\"3.2\"/>\n",
       "<circle clip-path=\"url(#clip632)\" cx=\"704.028\" cy=\"1445.72\" r=\"14.4\" fill=\"#009af9\" fill-rule=\"evenodd\" fill-opacity=\"1\" stroke=\"#000000\" stroke-opacity=\"1\" stroke-width=\"3.2\"/>\n",
       "<circle clip-path=\"url(#clip632)\" cx=\"1232.47\" cy=\"993.136\" r=\"14.4\" fill=\"#009af9\" fill-rule=\"evenodd\" fill-opacity=\"1\" stroke=\"#000000\" stroke-opacity=\"1\" stroke-width=\"3.2\"/>\n",
       "<circle clip-path=\"url(#clip632)\" cx=\"1760.9\" cy=\"993.136\" r=\"14.4\" fill=\"#009af9\" fill-rule=\"evenodd\" fill-opacity=\"1\" stroke=\"#000000\" stroke-opacity=\"1\" stroke-width=\"3.2\"/>\n",
       "<circle clip-path=\"url(#clip632)\" cx=\"2289.34\" cy=\"87.9763\" r=\"14.4\" fill=\"#009af9\" fill-rule=\"evenodd\" fill-opacity=\"1\" stroke=\"#000000\" stroke-opacity=\"1\" stroke-width=\"3.2\"/>\n",
       "<path clip-path=\"url(#clip630)\" d=\"M186.863 198.898 L463.351 198.898 L463.351 95.2176 L186.863 95.2176  Z\" fill=\"#ffffff\" fill-rule=\"evenodd\" fill-opacity=\"1\"/>\n",
       "<polyline clip-path=\"url(#clip630)\" style=\"stroke:#000000; stroke-linecap:round; stroke-linejoin:round; stroke-width:4; stroke-opacity:1; fill:none\" points=\"186.863,198.898 463.351,198.898 463.351,95.2176 186.863,95.2176 186.863,198.898 \"/>\n",
       "<circle clip-path=\"url(#clip630)\" cx=\"286.444\" cy=\"147.058\" r=\"20.48\" fill=\"#009af9\" fill-rule=\"evenodd\" fill-opacity=\"1\" stroke=\"#000000\" stroke-opacity=\"1\" stroke-width=\"4.55111\"/>\n",
       "<path clip-path=\"url(#clip630)\" d=\"M399.868 166.745 Q398.063 171.375 396.35 172.787 Q394.637 174.199 391.766 174.199 L388.364 174.199 L388.364 170.634 L390.864 170.634 Q392.623 170.634 393.595 169.8 Q394.567 168.967 395.748 165.865 L396.512 163.921 L386.026 138.412 L390.54 138.412 L398.641 158.689 L406.743 138.412 L411.257 138.412 L399.868 166.745 Z\" fill=\"#000000\" fill-rule=\"nonzero\" fill-opacity=\"1\" /><path clip-path=\"url(#clip630)\" d=\"M418.549 160.402 L426.188 160.402 L426.188 134.037 L417.877 135.703 L417.877 131.444 L426.141 129.778 L430.817 129.778 L430.817 160.402 L438.456 160.402 L438.456 164.338 L418.549 164.338 L418.549 160.402 Z\" fill=\"#000000\" fill-rule=\"nonzero\" fill-opacity=\"1\" /></svg>\n"
      ],
      "text/html": [
       "<?xml version=\"1.0\" encoding=\"utf-8\"?>\n",
       "<svg xmlns=\"http://www.w3.org/2000/svg\" xmlns:xlink=\"http://www.w3.org/1999/xlink\" width=\"600\" height=\"400\" viewBox=\"0 0 2400 1600\">\n",
       "<defs>\n",
       "  <clipPath id=\"clip680\">\n",
       "    <rect x=\"0\" y=\"0\" width=\"2400\" height=\"1600\"/>\n",
       "  </clipPath>\n",
       "</defs>\n",
       "<path clip-path=\"url(#clip680)\" d=\"M0 1600 L2400 1600 L2400 8.88178e-14 L0 8.88178e-14  Z\" fill=\"#ffffff\" fill-rule=\"evenodd\" fill-opacity=\"1\"/>\n",
       "<defs>\n",
       "  <clipPath id=\"clip681\">\n",
       "    <rect x=\"480\" y=\"0\" width=\"1681\" height=\"1600\"/>\n",
       "  </clipPath>\n",
       "</defs>\n",
       "<path clip-path=\"url(#clip680)\" d=\"M112.177 1486.45 L2352.76 1486.45 L2352.76 47.2441 L112.177 47.2441  Z\" fill=\"#ffffff\" fill-rule=\"evenodd\" fill-opacity=\"1\"/>\n",
       "<defs>\n",
       "  <clipPath id=\"clip682\">\n",
       "    <rect x=\"112\" y=\"47\" width=\"2242\" height=\"1440\"/>\n",
       "  </clipPath>\n",
       "</defs>\n",
       "<polyline clip-path=\"url(#clip682)\" style=\"stroke:#000000; stroke-linecap:round; stroke-linejoin:round; stroke-width:2; stroke-opacity:0.1; fill:none\" points=\"175.59,1486.45 175.59,47.2441 \"/>\n",
       "<polyline clip-path=\"url(#clip682)\" style=\"stroke:#000000; stroke-linecap:round; stroke-linejoin:round; stroke-width:2; stroke-opacity:0.1; fill:none\" points=\"704.028,1486.45 704.028,47.2441 \"/>\n",
       "<polyline clip-path=\"url(#clip682)\" style=\"stroke:#000000; stroke-linecap:round; stroke-linejoin:round; stroke-width:2; stroke-opacity:0.1; fill:none\" points=\"1232.47,1486.45 1232.47,47.2441 \"/>\n",
       "<polyline clip-path=\"url(#clip682)\" style=\"stroke:#000000; stroke-linecap:round; stroke-linejoin:round; stroke-width:2; stroke-opacity:0.1; fill:none\" points=\"1760.9,1486.45 1760.9,47.2441 \"/>\n",
       "<polyline clip-path=\"url(#clip682)\" style=\"stroke:#000000; stroke-linecap:round; stroke-linejoin:round; stroke-width:2; stroke-opacity:0.1; fill:none\" points=\"2289.34,1486.45 2289.34,47.2441 \"/>\n",
       "<polyline clip-path=\"url(#clip682)\" style=\"stroke:#000000; stroke-linecap:round; stroke-linejoin:round; stroke-width:2; stroke-opacity:0.1; fill:none\" points=\"112.177,1445.72 2352.76,1445.72 \"/>\n",
       "<polyline clip-path=\"url(#clip682)\" style=\"stroke:#000000; stroke-linecap:round; stroke-linejoin:round; stroke-width:2; stroke-opacity:0.1; fill:none\" points=\"112.177,993.136 2352.76,993.136 \"/>\n",
       "<polyline clip-path=\"url(#clip682)\" style=\"stroke:#000000; stroke-linecap:round; stroke-linejoin:round; stroke-width:2; stroke-opacity:0.1; fill:none\" points=\"112.177,540.556 2352.76,540.556 \"/>\n",
       "<polyline clip-path=\"url(#clip682)\" style=\"stroke:#000000; stroke-linecap:round; stroke-linejoin:round; stroke-width:2; stroke-opacity:0.1; fill:none\" points=\"112.177,87.9763 2352.76,87.9763 \"/>\n",
       "<polyline clip-path=\"url(#clip680)\" style=\"stroke:#000000; stroke-linecap:round; stroke-linejoin:round; stroke-width:4; stroke-opacity:1; fill:none\" points=\"112.177,1486.45 2352.76,1486.45 \"/>\n",
       "<polyline clip-path=\"url(#clip680)\" style=\"stroke:#000000; stroke-linecap:round; stroke-linejoin:round; stroke-width:4; stroke-opacity:1; fill:none\" points=\"175.59,1486.45 175.59,1467.55 \"/>\n",
       "<polyline clip-path=\"url(#clip680)\" style=\"stroke:#000000; stroke-linecap:round; stroke-linejoin:round; stroke-width:4; stroke-opacity:1; fill:none\" points=\"704.028,1486.45 704.028,1467.55 \"/>\n",
       "<polyline clip-path=\"url(#clip680)\" style=\"stroke:#000000; stroke-linecap:round; stroke-linejoin:round; stroke-width:4; stroke-opacity:1; fill:none\" points=\"1232.47,1486.45 1232.47,1467.55 \"/>\n",
       "<polyline clip-path=\"url(#clip680)\" style=\"stroke:#000000; stroke-linecap:round; stroke-linejoin:round; stroke-width:4; stroke-opacity:1; fill:none\" points=\"1760.9,1486.45 1760.9,1467.55 \"/>\n",
       "<polyline clip-path=\"url(#clip680)\" style=\"stroke:#000000; stroke-linecap:round; stroke-linejoin:round; stroke-width:4; stroke-opacity:1; fill:none\" points=\"2289.34,1486.45 2289.34,1467.55 \"/>\n",
       "<path clip-path=\"url(#clip680)\" d=\"M165.972 1544.91 L173.611 1544.91 L173.611 1518.55 L165.3 1520.21 L165.3 1515.95 L173.564 1514.29 L178.24 1514.29 L178.24 1544.91 L185.879 1544.91 L185.879 1548.85 L165.972 1548.85 L165.972 1544.91 Z\" fill=\"#000000\" fill-rule=\"nonzero\" fill-opacity=\"1\" /><path clip-path=\"url(#clip680)\" d=\"M698.681 1544.91 L715 1544.91 L715 1548.85 L693.056 1548.85 L693.056 1544.91 Q695.718 1542.16 700.301 1537.53 Q704.908 1532.88 706.088 1531.53 Q708.334 1529.01 709.213 1527.27 Q710.116 1525.51 710.116 1523.82 Q710.116 1521.07 708.172 1519.33 Q706.25 1517.6 703.149 1517.6 Q700.949 1517.6 698.496 1518.36 Q696.065 1519.13 693.287 1520.68 L693.287 1515.95 Q696.112 1514.82 698.565 1514.24 Q701.019 1513.66 703.056 1513.66 Q708.426 1513.66 711.621 1516.35 Q714.815 1519.03 714.815 1523.52 Q714.815 1525.65 714.005 1527.57 Q713.218 1529.47 711.111 1532.07 Q710.533 1532.74 707.431 1535.95 Q704.329 1539.15 698.681 1544.91 Z\" fill=\"#000000\" fill-rule=\"nonzero\" fill-opacity=\"1\" /><path clip-path=\"url(#clip680)\" d=\"M1236.71 1530.21 Q1240.07 1530.93 1241.95 1533.2 Q1243.84 1535.47 1243.84 1538.8 Q1243.84 1543.92 1240.33 1546.72 Q1236.81 1549.52 1230.33 1549.52 Q1228.15 1549.52 1225.83 1549.08 Q1223.54 1548.66 1221.09 1547.81 L1221.09 1543.29 Q1223.03 1544.43 1225.35 1545.01 Q1227.66 1545.58 1230.19 1545.58 Q1234.58 1545.58 1236.88 1543.85 Q1239.19 1542.11 1239.19 1538.8 Q1239.19 1535.75 1237.04 1534.03 Q1234.91 1532.3 1231.09 1532.3 L1227.06 1532.3 L1227.06 1528.45 L1231.27 1528.45 Q1234.72 1528.45 1236.55 1527.09 Q1238.38 1525.7 1238.38 1523.11 Q1238.38 1520.45 1236.48 1519.03 Q1234.61 1517.6 1231.09 1517.6 Q1229.17 1517.6 1226.97 1518.01 Q1224.77 1518.43 1222.13 1519.31 L1222.13 1515.14 Q1224.79 1514.4 1227.11 1514.03 Q1229.45 1513.66 1231.51 1513.66 Q1236.83 1513.66 1239.93 1516.09 Q1243.03 1518.5 1243.03 1522.62 Q1243.03 1525.49 1241.39 1527.48 Q1239.75 1529.45 1236.71 1530.21 Z\" fill=\"#000000\" fill-rule=\"nonzero\" fill-opacity=\"1\" /><path clip-path=\"url(#clip680)\" d=\"M1763.91 1518.36 L1752.11 1536.81 L1763.91 1536.81 L1763.91 1518.36 M1762.69 1514.29 L1768.57 1514.29 L1768.57 1536.81 L1773.5 1536.81 L1773.5 1540.7 L1768.57 1540.7 L1768.57 1548.85 L1763.91 1548.85 L1763.91 1540.7 L1748.31 1540.7 L1748.31 1536.19 L1762.69 1514.29 Z\" fill=\"#000000\" fill-rule=\"nonzero\" fill-opacity=\"1\" /><path clip-path=\"url(#clip680)\" d=\"M2279.62 1514.29 L2297.98 1514.29 L2297.98 1518.22 L2283.9 1518.22 L2283.9 1526.7 Q2284.92 1526.35 2285.94 1526.19 Q2286.96 1526 2287.98 1526 Q2293.76 1526 2297.14 1529.17 Q2300.52 1532.34 2300.52 1537.76 Q2300.52 1543.34 2297.05 1546.44 Q2293.58 1549.52 2287.26 1549.52 Q2285.08 1549.52 2282.82 1549.15 Q2280.57 1548.78 2278.16 1548.04 L2278.16 1543.34 Q2280.25 1544.47 2282.47 1545.03 Q2284.69 1545.58 2287.17 1545.58 Q2291.17 1545.58 2293.51 1543.48 Q2295.85 1541.37 2295.85 1537.76 Q2295.85 1534.15 2293.51 1532.04 Q2291.17 1529.94 2287.17 1529.94 Q2285.29 1529.94 2283.42 1530.35 Q2281.57 1530.77 2279.62 1531.65 L2279.62 1514.29 Z\" fill=\"#000000\" fill-rule=\"nonzero\" fill-opacity=\"1\" /><polyline clip-path=\"url(#clip680)\" style=\"stroke:#000000; stroke-linecap:round; stroke-linejoin:round; stroke-width:4; stroke-opacity:1; fill:none\" points=\"112.177,1486.45 112.177,47.2441 \"/>\n",
       "<polyline clip-path=\"url(#clip680)\" style=\"stroke:#000000; stroke-linecap:round; stroke-linejoin:round; stroke-width:4; stroke-opacity:1; fill:none\" points=\"112.177,1445.72 131.075,1445.72 \"/>\n",
       "<polyline clip-path=\"url(#clip680)\" style=\"stroke:#000000; stroke-linecap:round; stroke-linejoin:round; stroke-width:4; stroke-opacity:1; fill:none\" points=\"112.177,993.136 131.075,993.136 \"/>\n",
       "<polyline clip-path=\"url(#clip680)\" style=\"stroke:#000000; stroke-linecap:round; stroke-linejoin:round; stroke-width:4; stroke-opacity:1; fill:none\" points=\"112.177,540.556 131.075,540.556 \"/>\n",
       "<polyline clip-path=\"url(#clip680)\" style=\"stroke:#000000; stroke-linecap:round; stroke-linejoin:round; stroke-width:4; stroke-opacity:1; fill:none\" points=\"112.177,87.9763 131.075,87.9763 \"/>\n",
       "<path clip-path=\"url(#clip680)\" d=\"M59.8578 1459.06 L76.1772 1459.06 L76.1772 1463 L54.2328 1463 L54.2328 1459.06 Q56.8949 1456.31 61.4782 1451.68 Q66.0846 1447.02 67.2652 1445.68 Q69.5105 1443.16 70.3902 1441.42 Q71.2929 1439.66 71.2929 1437.97 Q71.2929 1435.22 69.3485 1433.48 Q67.4272 1431.75 64.3254 1431.75 Q62.1263 1431.75 59.6726 1432.51 Q57.2421 1433.27 54.4643 1434.82 L54.4643 1430.1 Q57.2884 1428.97 59.7421 1428.39 Q62.1958 1427.81 64.2328 1427.81 Q69.6031 1427.81 72.7976 1430.5 Q75.992 1433.18 75.992 1437.67 Q75.992 1439.8 75.1818 1441.72 Q74.3948 1443.62 72.2883 1446.21 Q71.7096 1446.88 68.6078 1450.1 Q65.5059 1453.3 59.8578 1459.06 Z\" fill=\"#000000\" fill-rule=\"nonzero\" fill-opacity=\"1\" /><path clip-path=\"url(#clip680)\" d=\"M69.0476 991.782 Q72.404 992.499 74.279 994.768 Q76.1772 997.036 76.1772 1000.37 Q76.1772 1005.49 72.6587 1008.29 Q69.1402 1011.09 62.6587 1011.09 Q60.4828 1011.09 58.168 1010.65 Q55.8764 1010.23 53.4227 1009.37 L53.4227 1004.86 Q55.3671 1005.99 57.6819 1006.57 Q59.9967 1007.15 62.5198 1007.15 Q66.918 1007.15 69.2096 1005.42 Q71.5244 1003.68 71.5244 1000.37 Q71.5244 997.314 69.3717 995.601 Q67.242 993.865 63.4226 993.865 L59.3949 993.865 L59.3949 990.022 L63.6078 990.022 Q67.0569 990.022 68.8855 988.657 Q70.7142 987.268 70.7142 984.675 Q70.7142 982.013 68.8161 980.601 Q66.9411 979.166 63.4226 979.166 Q61.5013 979.166 59.3023 979.583 Q57.1032 979.999 54.4643 980.879 L54.4643 976.712 Q57.1264 975.972 59.4412 975.601 Q61.7791 975.231 63.8393 975.231 Q69.1633 975.231 72.2652 977.661 Q75.367 980.069 75.367 984.189 Q75.367 987.06 73.7235 989.05 Q72.08 991.018 69.0476 991.782 Z\" fill=\"#000000\" fill-rule=\"nonzero\" fill-opacity=\"1\" /><path clip-path=\"url(#clip680)\" d=\"M66.5939 527.35 L54.7884 545.799 L66.5939 545.799 L66.5939 527.35 M65.367 523.276 L71.2466 523.276 L71.2466 545.799 L76.1772 545.799 L76.1772 549.688 L71.2466 549.688 L71.2466 557.836 L66.5939 557.836 L66.5939 549.688 L50.9921 549.688 L50.9921 545.174 L65.367 523.276 Z\" fill=\"#000000\" fill-rule=\"nonzero\" fill-opacity=\"1\" /><path clip-path=\"url(#clip680)\" d=\"M55.2745 70.6963 L73.6309 70.6963 L73.6309 74.6314 L59.5569 74.6314 L59.5569 83.1036 Q60.5754 82.7564 61.5939 82.5944 Q62.6124 82.4092 63.6309 82.4092 Q69.418 82.4092 72.7976 85.5805 Q76.1772 88.7517 76.1772 94.1684 Q76.1772 99.747 72.705 102.849 Q69.2328 105.928 62.9134 105.928 Q60.7374 105.928 58.4689 105.557 Q56.2236 105.187 53.8162 104.446 L53.8162 99.747 Q55.8995 100.881 58.1217 101.437 Q60.3439 101.992 62.8208 101.992 Q66.8254 101.992 69.1633 99.8859 Q71.5013 97.7795 71.5013 94.1684 Q71.5013 90.5573 69.1633 88.4508 Q66.8254 86.3443 62.8208 86.3443 Q60.9458 86.3443 59.0708 86.761 Q57.2189 87.1777 55.2745 88.0573 L55.2745 70.6963 Z\" fill=\"#000000\" fill-rule=\"nonzero\" fill-opacity=\"1\" /><circle clip-path=\"url(#clip682)\" cx=\"175.59\" cy=\"1445.72\" r=\"14.4\" fill=\"#009af9\" fill-rule=\"evenodd\" fill-opacity=\"1\" stroke=\"#000000\" stroke-opacity=\"1\" stroke-width=\"3.2\"/>\n",
       "<circle clip-path=\"url(#clip682)\" cx=\"704.028\" cy=\"1445.72\" r=\"14.4\" fill=\"#009af9\" fill-rule=\"evenodd\" fill-opacity=\"1\" stroke=\"#000000\" stroke-opacity=\"1\" stroke-width=\"3.2\"/>\n",
       "<circle clip-path=\"url(#clip682)\" cx=\"1232.47\" cy=\"993.136\" r=\"14.4\" fill=\"#009af9\" fill-rule=\"evenodd\" fill-opacity=\"1\" stroke=\"#000000\" stroke-opacity=\"1\" stroke-width=\"3.2\"/>\n",
       "<circle clip-path=\"url(#clip682)\" cx=\"1760.9\" cy=\"993.136\" r=\"14.4\" fill=\"#009af9\" fill-rule=\"evenodd\" fill-opacity=\"1\" stroke=\"#000000\" stroke-opacity=\"1\" stroke-width=\"3.2\"/>\n",
       "<circle clip-path=\"url(#clip682)\" cx=\"2289.34\" cy=\"87.9763\" r=\"14.4\" fill=\"#009af9\" fill-rule=\"evenodd\" fill-opacity=\"1\" stroke=\"#000000\" stroke-opacity=\"1\" stroke-width=\"3.2\"/>\n",
       "<path clip-path=\"url(#clip680)\" d=\"M186.863 198.898 L463.351 198.898 L463.351 95.2176 L186.863 95.2176  Z\" fill=\"#ffffff\" fill-rule=\"evenodd\" fill-opacity=\"1\"/>\n",
       "<polyline clip-path=\"url(#clip680)\" style=\"stroke:#000000; stroke-linecap:round; stroke-linejoin:round; stroke-width:4; stroke-opacity:1; fill:none\" points=\"186.863,198.898 463.351,198.898 463.351,95.2176 186.863,95.2176 186.863,198.898 \"/>\n",
       "<circle clip-path=\"url(#clip680)\" cx=\"286.444\" cy=\"147.058\" r=\"20.48\" fill=\"#009af9\" fill-rule=\"evenodd\" fill-opacity=\"1\" stroke=\"#000000\" stroke-opacity=\"1\" stroke-width=\"4.55111\"/>\n",
       "<path clip-path=\"url(#clip680)\" d=\"M399.868 166.745 Q398.063 171.375 396.35 172.787 Q394.637 174.199 391.766 174.199 L388.364 174.199 L388.364 170.634 L390.864 170.634 Q392.623 170.634 393.595 169.8 Q394.567 168.967 395.748 165.865 L396.512 163.921 L386.026 138.412 L390.54 138.412 L398.641 158.689 L406.743 138.412 L411.257 138.412 L399.868 166.745 Z\" fill=\"#000000\" fill-rule=\"nonzero\" fill-opacity=\"1\" /><path clip-path=\"url(#clip680)\" d=\"M418.549 160.402 L426.188 160.402 L426.188 134.037 L417.877 135.703 L417.877 131.444 L426.141 129.778 L430.817 129.778 L430.817 160.402 L438.456 160.402 L438.456 164.338 L418.549 164.338 L418.549 160.402 Z\" fill=\"#000000\" fill-rule=\"nonzero\" fill-opacity=\"1\" /></svg>\n"
      ]
     },
     "execution_count": 31,
     "metadata": {},
     "output_type": "execute_result"
    }
   ],
   "source": [
    "scatter(1:1:5, [2,2,3,3,5])"
   ]
  },
  {
   "cell_type": "markdown",
   "metadata": {},
   "source": [
    "## Bonus"
   ]
  },
  {
   "cell_type": "markdown",
   "metadata": {},
   "source": [
    "Ciekawe zastosowanie znajomości IEEE-754 do obliczania odwrotności pierwiastka, wykorzystane w grze Quake 3: [filmik](https://youtu.be/p8u_k2LIZyo)"
   ]
  },
  {
   "cell_type": "markdown",
   "metadata": {},
   "source": [
    "# Zadania"
   ]
  },
  {
   "cell_type": "markdown",
   "metadata": {},
   "source": [
    "### Zadanie 1"
   ]
  },
  {
   "cell_type": "markdown",
   "metadata": {},
   "source": [
    "Porównać w języku Julia reprezentację bitową liczby 1/3 dla `Float16`, `Float32`, `Float64` oraz liczby, \n",
    "która jest inicjalizowana jako `Float16`, a potem rzutowana na `Float64`."
   ]
  },
  {
   "cell_type": "code",
   "execution_count": 32,
   "metadata": {},
   "outputs": [
    {
     "name": "stdout",
     "output_type": "stream",
     "text": [
      "Float16: 0011111111010101010101000000000000000000000000000000000000000000\n",
      "Float32: 0011111111010101010101010101010101100000000000000000000000000000\n",
      "Float64: 0011111111010101010101010101010101010101010101010101010101010101\n",
      "Float16 -> Float64: 0011111111010101010101000000000000000000000000000000000000000000\n"
     ]
    }
   ],
   "source": [
    "function bit_representation()\n",
    "    vals = [Float16(1/3), Float32(1/3), Float64(1/3), Float64(Float16(1/3))]\n",
    "    types = [\"Float16\", \"Float32\", \"Float64\", \"Float16 -> Float64\"]\n",
    "    for (t, v) in zip(types, vals)\n",
    "        println(\"$t: \", bitstring(v))\n",
    "    end\n",
    "end\n",
    "\n",
    "bit_representation()"
   ]
  },
  {
   "cell_type": "markdown",
   "metadata": {},
   "source": [
    "### Zadanie 2"
   ]
  },
  {
   "cell_type": "markdown",
   "metadata": {},
   "source": [
    "Zbadać, jak zmienia się odległość między kolejnymi liczbami zminnoprzecinkowymi \n",
    "reprezentowanymi w komputerze za pomocą języka Julia. \n",
    "Narysować wykres używając Plots zależności odległości od wartości liczby dla zakresu  od 1.0 do 1000000.0."
   ]
  },
  {
   "cell_type": "code",
   "execution_count": 33,
   "metadata": {},
   "outputs": [
    {
     "data": {
      "image/png": "[encoded data removed]",
      "image/svg+xml": [
       "<?xml version=\"1.0\" encoding=\"utf-8\"?>\n",
       "<svg xmlns=\"http://www.w3.org/2000/svg\" xmlns:xlink=\"http://www.w3.org/1999/xlink\" width=\"600\" height=\"400\" viewBox=\"0 0 2400 1600\">\n",
       "<defs>\n",
       "  <clipPath id=\"clip720\">\n",
       "    <rect x=\"0\" y=\"0\" width=\"2400\" height=\"1600\"/>\n",
       "  </clipPath>\n",
       "</defs>\n",
       "<path clip-path=\"url(#clip720)\" d=\"M0 1600 L2400 1600 L2400 8.88178e-14 L0 8.88178e-14  Z\" fill=\"#ffffff\" fill-rule=\"evenodd\" fill-opacity=\"1\"/>\n",
       "<defs>\n",
       "  <clipPath id=\"clip721\">\n",
       "    <rect x=\"480\" y=\"0\" width=\"1681\" height=\"1600\"/>\n",
       "  </clipPath>\n",
       "</defs>\n",
       "<path clip-path=\"url(#clip720)\" d=\"M276.067 1410.9 L2352.76 1410.9 L2352.76 123.472 L276.067 123.472  Z\" fill=\"#ffffff\" fill-rule=\"evenodd\" fill-opacity=\"1\"/>\n",
       "<defs>\n",
       "  <clipPath id=\"clip722\">\n",
       "    <rect x=\"276\" y=\"123\" width=\"2078\" height=\"1288\"/>\n",
       "  </clipPath>\n",
       "</defs>\n",
       "<polyline clip-path=\"url(#clip722)\" style=\"stroke:#000000; stroke-linecap:round; stroke-linejoin:round; stroke-width:2; stroke-opacity:0.1; fill:none\" points=\"334.841,1410.9 334.841,123.472 \"/>\n",
       "<polyline clip-path=\"url(#clip722)\" style=\"stroke:#000000; stroke-linecap:round; stroke-linejoin:round; stroke-width:2; stroke-opacity:0.1; fill:none\" points=\"661.364,1410.9 661.364,123.472 \"/>\n",
       "<polyline clip-path=\"url(#clip722)\" style=\"stroke:#000000; stroke-linecap:round; stroke-linejoin:round; stroke-width:2; stroke-opacity:0.1; fill:none\" points=\"987.888,1410.9 987.888,123.472 \"/>\n",
       "<polyline clip-path=\"url(#clip722)\" style=\"stroke:#000000; stroke-linecap:round; stroke-linejoin:round; stroke-width:2; stroke-opacity:0.1; fill:none\" points=\"1314.41,1410.9 1314.41,123.472 \"/>\n",
       "<polyline clip-path=\"url(#clip722)\" style=\"stroke:#000000; stroke-linecap:round; stroke-linejoin:round; stroke-width:2; stroke-opacity:0.1; fill:none\" points=\"1640.93,1410.9 1640.93,123.472 \"/>\n",
       "<polyline clip-path=\"url(#clip722)\" style=\"stroke:#000000; stroke-linecap:round; stroke-linejoin:round; stroke-width:2; stroke-opacity:0.1; fill:none\" points=\"1967.46,1410.9 1967.46,123.472 \"/>\n",
       "<polyline clip-path=\"url(#clip722)\" style=\"stroke:#000000; stroke-linecap:round; stroke-linejoin:round; stroke-width:2; stroke-opacity:0.1; fill:none\" points=\"2293.98,1410.9 2293.98,123.472 \"/>\n",
       "<polyline clip-path=\"url(#clip722)\" style=\"stroke:#000000; stroke-linecap:round; stroke-linejoin:round; stroke-width:2; stroke-opacity:0.1; fill:none\" points=\"276.067,1235.68 2352.76,1235.68 \"/>\n",
       "<polyline clip-path=\"url(#clip722)\" style=\"stroke:#000000; stroke-linecap:round; stroke-linejoin:round; stroke-width:2; stroke-opacity:0.1; fill:none\" points=\"276.067,598.626 2352.76,598.626 \"/>\n",
       "<polyline clip-path=\"url(#clip720)\" style=\"stroke:#000000; stroke-linecap:round; stroke-linejoin:round; stroke-width:4; stroke-opacity:1; fill:none\" points=\"276.067,1410.9 2352.76,1410.9 \"/>\n",
       "<polyline clip-path=\"url(#clip720)\" style=\"stroke:#000000; stroke-linecap:round; stroke-linejoin:round; stroke-width:4; stroke-opacity:1; fill:none\" points=\"334.841,1410.9 334.841,1392 \"/>\n",
       "<polyline clip-path=\"url(#clip720)\" style=\"stroke:#000000; stroke-linecap:round; stroke-linejoin:round; stroke-width:4; stroke-opacity:1; fill:none\" points=\"661.364,1410.9 661.364,1392 \"/>\n",
       "<polyline clip-path=\"url(#clip720)\" style=\"stroke:#000000; stroke-linecap:round; stroke-linejoin:round; stroke-width:4; stroke-opacity:1; fill:none\" points=\"987.888,1410.9 987.888,1392 \"/>\n",
       "<polyline clip-path=\"url(#clip720)\" style=\"stroke:#000000; stroke-linecap:round; stroke-linejoin:round; stroke-width:4; stroke-opacity:1; fill:none\" points=\"1314.41,1410.9 1314.41,1392 \"/>\n",
       "<polyline clip-path=\"url(#clip720)\" style=\"stroke:#000000; stroke-linecap:round; stroke-linejoin:round; stroke-width:4; stroke-opacity:1; fill:none\" points=\"1640.93,1410.9 1640.93,1392 \"/>\n",
       "<polyline clip-path=\"url(#clip720)\" style=\"stroke:#000000; stroke-linecap:round; stroke-linejoin:round; stroke-width:4; stroke-opacity:1; fill:none\" points=\"1967.46,1410.9 1967.46,1392 \"/>\n",
       "<polyline clip-path=\"url(#clip720)\" style=\"stroke:#000000; stroke-linecap:round; stroke-linejoin:round; stroke-width:4; stroke-opacity:1; fill:none\" points=\"2293.98,1410.9 2293.98,1392 \"/>\n",
       "<path clip-path=\"url(#clip720)\" d=\"M299.824 1485.02 L307.463 1485.02 L307.463 1458.66 L299.153 1460.32 L299.153 1456.06 L307.416 1454.4 L312.092 1454.4 L312.092 1485.02 L319.731 1485.02 L319.731 1488.96 L299.824 1488.96 L299.824 1485.02 Z\" fill=\"#000000\" fill-rule=\"nonzero\" fill-opacity=\"1\" /><path clip-path=\"url(#clip720)\" d=\"M339.175 1457.48 Q335.564 1457.48 333.736 1461.04 Q331.93 1464.58 331.93 1471.71 Q331.93 1478.82 333.736 1482.38 Q335.564 1485.92 339.175 1485.92 Q342.81 1485.92 344.615 1482.38 Q346.444 1478.82 346.444 1471.71 Q346.444 1464.58 344.615 1461.04 Q342.81 1457.48 339.175 1457.48 M339.175 1453.77 Q344.986 1453.77 348.041 1458.38 Q351.12 1462.96 351.12 1471.71 Q351.12 1480.44 348.041 1485.04 Q344.986 1489.63 339.175 1489.63 Q333.365 1489.63 330.287 1485.04 Q327.231 1480.44 327.231 1471.71 Q327.231 1462.96 330.287 1458.38 Q333.365 1453.77 339.175 1453.77 Z\" fill=\"#000000\" fill-rule=\"nonzero\" fill-opacity=\"1\" /><path clip-path=\"url(#clip720)\" d=\"M360.825 1435.97 Q357.891 1435.97 356.405 1438.86 Q354.938 1441.74 354.938 1447.53 Q354.938 1453.31 356.405 1456.2 Q357.891 1459.08 360.825 1459.08 Q363.777 1459.08 365.244 1456.2 Q366.73 1453.31 366.73 1447.53 Q366.73 1441.74 365.244 1438.86 Q363.777 1435.97 360.825 1435.97 M360.825 1432.96 Q365.545 1432.96 368.028 1436.7 Q370.529 1440.43 370.529 1447.53 Q370.529 1454.62 368.028 1458.37 Q365.545 1462.09 360.825 1462.09 Q356.104 1462.09 353.602 1458.37 Q351.12 1454.62 351.12 1447.53 Q351.12 1440.43 353.602 1436.7 Q356.104 1432.96 360.825 1432.96 Z\" fill=\"#000000\" fill-rule=\"nonzero\" fill-opacity=\"1\" /><path clip-path=\"url(#clip720)\" d=\"M627.692 1485.02 L635.331 1485.02 L635.331 1458.66 L627.021 1460.32 L627.021 1456.06 L635.285 1454.4 L639.96 1454.4 L639.96 1485.02 L647.599 1485.02 L647.599 1488.96 L627.692 1488.96 L627.692 1485.02 Z\" fill=\"#000000\" fill-rule=\"nonzero\" fill-opacity=\"1\" /><path clip-path=\"url(#clip720)\" d=\"M667.044 1457.48 Q663.433 1457.48 661.604 1461.04 Q659.798 1464.58 659.798 1471.71 Q659.798 1478.82 661.604 1482.38 Q663.433 1485.92 667.044 1485.92 Q670.678 1485.92 672.483 1482.38 Q674.312 1478.82 674.312 1471.71 Q674.312 1464.58 672.483 1461.04 Q670.678 1457.48 667.044 1457.48 M667.044 1453.77 Q672.854 1453.77 675.909 1458.38 Q678.988 1462.96 678.988 1471.71 Q678.988 1480.44 675.909 1485.04 Q672.854 1489.63 667.044 1489.63 Q661.234 1489.63 658.155 1485.04 Q655.099 1480.44 655.099 1471.71 Q655.099 1462.96 658.155 1458.38 Q661.234 1453.77 667.044 1453.77 Z\" fill=\"#000000\" fill-rule=\"nonzero\" fill-opacity=\"1\" /><path clip-path=\"url(#clip720)\" d=\"M679.533 1458.35 L685.74 1458.35 L685.74 1436.93 L678.988 1438.28 L678.988 1434.82 L685.702 1433.47 L689.502 1433.47 L689.502 1458.35 L695.708 1458.35 L695.708 1461.55 L679.533 1461.55 L679.533 1458.35 Z\" fill=\"#000000\" fill-rule=\"nonzero\" fill-opacity=\"1\" /><path clip-path=\"url(#clip720)\" d=\"M953.661 1485.02 L961.299 1485.02 L961.299 1458.66 L952.989 1460.32 L952.989 1456.06 L961.253 1454.4 L965.929 1454.4 L965.929 1485.02 L973.568 1485.02 L973.568 1488.96 L953.661 1488.96 L953.661 1485.02 Z\" fill=\"#000000\" fill-rule=\"nonzero\" fill-opacity=\"1\" /><path clip-path=\"url(#clip720)\" d=\"M993.012 1457.48 Q989.401 1457.48 987.573 1461.04 Q985.767 1464.58 985.767 1471.71 Q985.767 1478.82 987.573 1482.38 Q989.401 1485.92 993.012 1485.92 Q996.647 1485.92 998.452 1482.38 Q1000.28 1478.82 1000.28 1471.71 Q1000.28 1464.58 998.452 1461.04 Q996.647 1457.48 993.012 1457.48 M993.012 1453.77 Q998.822 1453.77 1001.88 1458.38 Q1004.96 1462.96 1004.96 1471.71 Q1004.96 1480.44 1001.88 1485.04 Q998.822 1489.63 993.012 1489.63 Q987.202 1489.63 984.123 1485.04 Q981.068 1480.44 981.068 1471.71 Q981.068 1462.96 984.123 1458.38 Q987.202 1453.77 993.012 1453.77 Z\" fill=\"#000000\" fill-rule=\"nonzero\" fill-opacity=\"1\" /><path clip-path=\"url(#clip720)\" d=\"M1009.53 1458.35 L1022.79 1458.35 L1022.79 1461.55 L1004.96 1461.55 L1004.96 1458.35 Q1007.12 1456.11 1010.84 1452.35 Q1014.59 1448.57 1015.55 1447.48 Q1017.37 1445.43 1018.08 1444.02 Q1018.82 1442.59 1018.82 1441.22 Q1018.82 1438.98 1017.24 1437.57 Q1015.68 1436.16 1013.16 1436.16 Q1011.37 1436.16 1009.38 1436.78 Q1007.4 1437.4 1005.14 1438.66 L1005.14 1434.82 Q1007.44 1433.9 1009.43 1433.43 Q1011.43 1432.96 1013.08 1432.96 Q1017.45 1432.96 1020.04 1435.14 Q1022.64 1437.32 1022.64 1440.97 Q1022.64 1442.7 1021.98 1444.26 Q1021.34 1445.8 1019.63 1447.91 Q1019.16 1448.46 1016.64 1451.07 Q1014.12 1453.67 1009.53 1458.35 Z\" fill=\"#000000\" fill-rule=\"nonzero\" fill-opacity=\"1\" /><path clip-path=\"url(#clip720)\" d=\"M1279.85 1485.02 L1287.49 1485.02 L1287.49 1458.66 L1279.18 1460.32 L1279.18 1456.06 L1287.45 1454.4 L1292.12 1454.4 L1292.12 1485.02 L1299.76 1485.02 L1299.76 1488.96 L1279.85 1488.96 L1279.85 1485.02 Z\" fill=\"#000000\" fill-rule=\"nonzero\" fill-opacity=\"1\" /><path clip-path=\"url(#clip720)\" d=\"M1319.21 1457.48 Q1315.6 1457.48 1313.77 1461.04 Q1311.96 1464.58 1311.96 1471.71 Q1311.96 1478.82 1313.77 1482.38 Q1315.6 1485.92 1319.21 1485.92 Q1322.84 1485.92 1324.65 1482.38 Q1326.48 1478.82 1326.48 1471.71 Q1326.48 1464.58 1324.65 1461.04 Q1322.84 1457.48 1319.21 1457.48 M1319.21 1453.77 Q1325.02 1453.77 1328.07 1458.38 Q1331.15 1462.96 1331.15 1471.71 Q1331.15 1480.44 1328.07 1485.04 Q1325.02 1489.63 1319.21 1489.63 Q1313.4 1489.63 1310.32 1485.04 Q1307.26 1480.44 1307.26 1471.71 Q1307.26 1462.96 1310.32 1458.38 Q1313.4 1453.77 1319.21 1453.77 Z\" fill=\"#000000\" fill-rule=\"nonzero\" fill-opacity=\"1\" /><path clip-path=\"url(#clip720)\" d=\"M1343.85 1446.41 Q1346.57 1446.99 1348.1 1448.83 Q1349.64 1450.68 1349.64 1453.38 Q1349.64 1457.54 1346.78 1459.82 Q1343.92 1462.09 1338.66 1462.09 Q1336.89 1462.09 1335.01 1461.73 Q1333.14 1461.4 1331.15 1460.7 L1331.15 1457.03 Q1332.73 1457.95 1334.61 1458.42 Q1336.49 1458.89 1338.54 1458.89 Q1342.12 1458.89 1343.98 1457.48 Q1345.86 1456.07 1345.86 1453.38 Q1345.86 1450.9 1344.11 1449.51 Q1342.38 1448.1 1339.28 1448.1 L1336 1448.1 L1336 1444.98 L1339.43 1444.98 Q1342.23 1444.98 1343.71 1443.87 Q1345.2 1442.74 1345.2 1440.63 Q1345.2 1438.47 1343.66 1437.32 Q1342.13 1436.16 1339.28 1436.16 Q1337.71 1436.16 1335.93 1436.49 Q1334.14 1436.83 1332 1437.55 L1332 1434.16 Q1334.16 1433.56 1336.04 1433.26 Q1337.94 1432.96 1339.61 1432.96 Q1343.94 1432.96 1346.46 1434.93 Q1348.98 1436.89 1348.98 1440.24 Q1348.98 1442.57 1347.65 1444.19 Q1346.31 1445.79 1343.85 1446.41 Z\" fill=\"#000000\" fill-rule=\"nonzero\" fill-opacity=\"1\" /><path clip-path=\"url(#clip720)\" d=\"M1605.39 1485.02 L1613.03 1485.02 L1613.03 1458.66 L1604.72 1460.32 L1604.72 1456.06 L1612.98 1454.4 L1617.66 1454.4 L1617.66 1485.02 L1625.3 1485.02 L1625.3 1488.96 L1605.39 1488.96 L1605.39 1485.02 Z\" fill=\"#000000\" fill-rule=\"nonzero\" fill-opacity=\"1\" /><path clip-path=\"url(#clip720)\" d=\"M1644.74 1457.48 Q1641.13 1457.48 1639.3 1461.04 Q1637.5 1464.58 1637.5 1471.71 Q1637.5 1478.82 1639.3 1482.38 Q1641.13 1485.92 1644.74 1485.92 Q1648.38 1485.92 1650.18 1482.38 Q1652.01 1478.82 1652.01 1471.71 Q1652.01 1464.58 1650.18 1461.04 Q1648.38 1457.48 1644.74 1457.48 M1644.74 1453.77 Q1650.55 1453.77 1653.61 1458.38 Q1656.69 1462.96 1656.69 1471.71 Q1656.69 1480.44 1653.61 1485.04 Q1650.55 1489.63 1644.74 1489.63 Q1638.93 1489.63 1635.85 1485.04 Q1632.8 1480.44 1632.8 1471.71 Q1632.8 1462.96 1635.85 1458.38 Q1638.93 1453.77 1644.74 1453.77 Z\" fill=\"#000000\" fill-rule=\"nonzero\" fill-opacity=\"1\" /><path clip-path=\"url(#clip720)\" d=\"M1669.36 1436.78 L1659.77 1451.77 L1669.36 1451.77 L1669.36 1436.78 M1668.37 1433.47 L1673.14 1433.47 L1673.14 1451.77 L1677.15 1451.77 L1677.15 1454.93 L1673.14 1454.93 L1673.14 1461.55 L1669.36 1461.55 L1669.36 1454.93 L1656.69 1454.93 L1656.69 1451.26 L1668.37 1433.47 Z\" fill=\"#000000\" fill-rule=\"nonzero\" fill-opacity=\"1\" /><path clip-path=\"url(#clip720)\" d=\"M1933.06 1485.02 L1940.7 1485.02 L1940.7 1458.66 L1932.39 1460.32 L1932.39 1456.06 L1940.65 1454.4 L1945.33 1454.4 L1945.33 1485.02 L1952.97 1485.02 L1952.97 1488.96 L1933.06 1488.96 L1933.06 1485.02 Z\" fill=\"#000000\" fill-rule=\"nonzero\" fill-opacity=\"1\" /><path clip-path=\"url(#clip720)\" d=\"M1972.41 1457.48 Q1968.8 1457.48 1966.97 1461.04 Q1965.17 1464.58 1965.17 1471.71 Q1965.17 1478.82 1966.97 1482.38 Q1968.8 1485.92 1972.41 1485.92 Q1976.05 1485.92 1977.85 1482.38 Q1979.68 1478.82 1979.68 1471.71 Q1979.68 1464.58 1977.85 1461.04 Q1976.05 1457.48 1972.41 1457.48 M1972.41 1453.77 Q1978.22 1453.77 1981.28 1458.38 Q1984.36 1462.96 1984.36 1471.71 Q1984.36 1480.44 1981.28 1485.04 Q1978.22 1489.63 1972.41 1489.63 Q1966.6 1489.63 1963.52 1485.04 Q1960.47 1480.44 1960.47 1471.71 Q1960.47 1462.96 1963.52 1458.38 Q1966.6 1453.77 1972.41 1453.77 Z\" fill=\"#000000\" fill-rule=\"nonzero\" fill-opacity=\"1\" /><path clip-path=\"url(#clip720)\" d=\"M1985.54 1433.47 L2000.46 1433.47 L2000.46 1436.66 L1989.02 1436.66 L1989.02 1443.55 Q1989.85 1443.27 1990.68 1443.13 Q1991.5 1442.98 1992.33 1442.98 Q1997.03 1442.98 1999.78 1445.56 Q2002.53 1448.14 2002.53 1452.54 Q2002.53 1457.07 1999.7 1459.59 Q1996.88 1462.09 1991.75 1462.09 Q1989.98 1462.09 1988.14 1461.79 Q1986.31 1461.49 1984.36 1460.89 L1984.36 1457.07 Q1986.05 1457.99 1987.86 1458.44 Q1989.66 1458.89 1991.67 1458.89 Q1994.93 1458.89 1996.83 1457.18 Q1998.73 1455.47 1998.73 1452.54 Q1998.73 1449.6 1996.83 1447.89 Q1994.93 1446.18 1991.67 1446.18 Q1990.15 1446.18 1988.63 1446.52 Q1987.12 1446.86 1985.54 1447.57 L1985.54 1433.47 Z\" fill=\"#000000\" fill-rule=\"nonzero\" fill-opacity=\"1\" /><path clip-path=\"url(#clip720)\" d=\"M2258.97 1485.02 L2266.61 1485.02 L2266.61 1458.66 L2258.3 1460.32 L2258.3 1456.06 L2266.57 1454.4 L2271.24 1454.4 L2271.24 1485.02 L2278.88 1485.02 L2278.88 1488.96 L2258.97 1488.96 L2258.97 1485.02 Z\" fill=\"#000000\" fill-rule=\"nonzero\" fill-opacity=\"1\" /><path clip-path=\"url(#clip720)\" d=\"M2298.33 1457.48 Q2294.71 1457.48 2292.89 1461.04 Q2291.08 1464.58 2291.08 1471.71 Q2291.08 1478.82 2292.89 1482.38 Q2294.71 1485.92 2298.33 1485.92 Q2301.96 1485.92 2303.77 1482.38 Q2305.59 1478.82 2305.59 1471.71 Q2305.59 1464.58 2303.77 1461.04 Q2301.96 1457.48 2298.33 1457.48 M2298.33 1453.77 Q2304.14 1453.77 2307.19 1458.38 Q2310.27 1462.96 2310.27 1471.71 Q2310.27 1480.44 2307.19 1485.04 Q2304.14 1489.63 2298.33 1489.63 Q2292.52 1489.63 2289.44 1485.04 Q2286.38 1480.44 2286.38 1471.71 Q2286.38 1462.96 2289.44 1458.38 Q2292.52 1453.77 2298.33 1453.77 Z\" fill=\"#000000\" fill-rule=\"nonzero\" fill-opacity=\"1\" /><path clip-path=\"url(#clip720)\" d=\"M2320.29 1445.99 Q2317.74 1445.99 2316.23 1447.74 Q2314.75 1449.49 2314.75 1452.54 Q2314.75 1455.57 2316.23 1457.33 Q2317.74 1459.08 2320.29 1459.08 Q2322.85 1459.08 2324.34 1457.33 Q2325.84 1455.57 2325.84 1452.54 Q2325.84 1449.49 2324.34 1447.74 Q2322.85 1445.99 2320.29 1445.99 M2327.84 1434.09 L2327.84 1437.55 Q2326.41 1436.87 2324.94 1436.51 Q2323.49 1436.16 2322.06 1436.16 Q2318.3 1436.16 2316.31 1438.69 Q2314.33 1441.23 2314.05 1446.37 Q2315.16 1444.73 2316.83 1443.87 Q2318.51 1442.98 2320.52 1442.98 Q2324.75 1442.98 2327.2 1445.56 Q2329.66 1448.12 2329.66 1452.54 Q2329.66 1456.86 2327.1 1459.48 Q2324.55 1462.09 2320.29 1462.09 Q2315.42 1462.09 2312.85 1458.37 Q2310.27 1454.62 2310.27 1447.53 Q2310.27 1440.88 2313.43 1436.93 Q2316.59 1432.96 2321.91 1432.96 Q2323.34 1432.96 2324.79 1433.24 Q2326.26 1433.52 2327.84 1434.09 Z\" fill=\"#000000\" fill-rule=\"nonzero\" fill-opacity=\"1\" /><path clip-path=\"url(#clip720)\" d=\"M1081.86 1526.67 L1088.35 1526.67 L1098.34 1566.83 L1108.31 1526.67 L1115.53 1526.67 L1125.52 1566.83 L1135.49 1526.67 L1142.01 1526.67 L1130.08 1574.19 L1121.99 1574.19 L1111.97 1532.94 L1101.84 1574.19 L1093.76 1574.19 L1081.86 1526.67 Z\" fill=\"#000000\" fill-rule=\"nonzero\" fill-opacity=\"1\" /><path clip-path=\"url(#clip720)\" d=\"M1162.32 1556.27 Q1155.22 1556.27 1152.48 1557.89 Q1149.75 1559.51 1149.75 1563.43 Q1149.75 1566.55 1151.78 1568.39 Q1153.85 1570.21 1157.39 1570.21 Q1162.26 1570.21 1165.18 1566.77 Q1168.14 1563.3 1168.14 1557.57 L1168.14 1556.27 L1162.32 1556.27 M1174 1553.85 L1174 1574.19 L1168.14 1574.19 L1168.14 1568.77 Q1166.14 1572.02 1163.15 1573.58 Q1160.15 1575.11 1155.83 1575.11 Q1150.35 1575.11 1147.1 1572.05 Q1143.89 1568.97 1143.89 1563.81 Q1143.89 1557.79 1147.9 1554.74 Q1151.94 1551.68 1159.93 1551.68 L1168.14 1551.68 L1168.14 1551.11 Q1168.14 1547.07 1165.47 1544.87 Q1162.83 1542.64 1158.02 1542.64 Q1154.97 1542.64 1152.07 1543.38 Q1149.17 1544.11 1146.5 1545.57 L1146.5 1540.16 Q1149.71 1538.92 1152.74 1538.31 Q1155.76 1537.68 1158.63 1537.68 Q1166.36 1537.68 1170.18 1541.69 Q1174 1545.7 1174 1553.85 Z\" fill=\"#000000\" fill-rule=\"nonzero\" fill-opacity=\"1\" /><path clip-path=\"url(#clip720)\" d=\"M1206.72 1544.01 Q1205.73 1543.44 1204.56 1543.18 Q1203.41 1542.9 1202.01 1542.9 Q1197.04 1542.9 1194.37 1546.14 Q1191.73 1549.36 1191.73 1555.41 L1191.73 1574.19 L1185.84 1574.19 L1185.84 1538.54 L1191.73 1538.54 L1191.73 1544.08 Q1193.57 1540.83 1196.53 1539.27 Q1199.49 1537.68 1203.73 1537.68 Q1204.33 1537.68 1205.06 1537.77 Q1205.8 1537.84 1206.69 1538 L1206.72 1544.01 Z\" fill=\"#000000\" fill-rule=\"nonzero\" fill-opacity=\"1\" /><path clip-path=\"url(#clip720)\" d=\"M1218.66 1528.42 L1218.66 1538.54 L1230.72 1538.54 L1230.72 1543.09 L1218.66 1543.09 L1218.66 1562.44 Q1218.66 1566.8 1219.83 1568.04 Q1221.04 1569.28 1224.7 1569.28 L1230.72 1569.28 L1230.72 1574.19 L1224.7 1574.19 Q1217.92 1574.19 1215.35 1571.67 Q1212.77 1569.12 1212.77 1562.44 L1212.77 1543.09 L1208.47 1543.09 L1208.47 1538.54 L1212.77 1538.54 L1212.77 1528.42 L1218.66 1528.42 Z\" fill=\"#000000\" fill-rule=\"nonzero\" fill-opacity=\"1\" /><path clip-path=\"url(#clip720)\" d=\"M1252.23 1542.64 Q1247.52 1542.64 1244.79 1546.34 Q1242.05 1550 1242.05 1556.39 Q1242.05 1562.79 1244.75 1566.48 Q1247.49 1570.14 1252.23 1570.14 Q1256.91 1570.14 1259.65 1566.45 Q1262.39 1562.76 1262.39 1556.39 Q1262.39 1550.06 1259.65 1546.37 Q1256.91 1542.64 1252.23 1542.64 M1252.23 1537.68 Q1259.87 1537.68 1264.23 1542.64 Q1268.59 1547.61 1268.59 1556.39 Q1268.59 1565.15 1264.23 1570.14 Q1259.87 1575.11 1252.23 1575.11 Q1244.56 1575.11 1240.2 1570.14 Q1235.87 1565.15 1235.87 1556.39 Q1235.87 1547.61 1240.2 1542.64 Q1244.56 1537.68 1252.23 1537.68 Z\" fill=\"#000000\" fill-rule=\"nonzero\" fill-opacity=\"1\" /><path clip-path=\"url(#clip720)\" d=\"M1294.98 1521.83 L1301.31 1521.83 L1290.94 1533.8 L1286.07 1533.8 L1294.98 1521.83 M1301.03 1539.59 L1301.03 1545.13 Q1298.54 1543.85 1295.87 1543.22 Q1293.2 1542.58 1290.33 1542.58 Q1285.97 1542.58 1283.78 1543.92 Q1281.61 1545.25 1281.61 1547.93 Q1281.61 1549.96 1283.17 1551.14 Q1284.73 1552.29 1289.44 1553.34 L1291.45 1553.78 Q1297.69 1555.12 1300.3 1557.57 Q1302.94 1559.99 1302.94 1564.35 Q1302.94 1569.32 1298.99 1572.21 Q1295.08 1575.11 1288.2 1575.11 Q1285.34 1575.11 1282.22 1574.54 Q1279.13 1573.99 1275.69 1572.88 L1275.69 1566.83 Q1278.94 1568.52 1282.09 1569.38 Q1285.24 1570.21 1288.33 1570.21 Q1292.47 1570.21 1294.69 1568.81 Q1296.92 1567.37 1296.92 1564.8 Q1296.92 1562.41 1295.3 1561.14 Q1293.71 1559.86 1288.26 1558.68 L1286.23 1558.21 Q1280.78 1557.06 1278.37 1554.71 Q1275.95 1552.32 1275.95 1548.18 Q1275.95 1543.15 1279.51 1540.42 Q1283.08 1537.68 1289.63 1537.68 Q1292.88 1537.68 1295.74 1538.16 Q1298.61 1538.63 1301.03 1539.59 Z\" fill=\"#000000\" fill-rule=\"nonzero\" fill-opacity=\"1\" /><path clip-path=\"url(#clip720)\" d=\"M1337.92 1539.91 L1337.92 1545.38 Q1335.43 1544.01 1332.92 1543.34 Q1330.44 1542.64 1327.89 1542.64 Q1322.19 1542.64 1319.04 1546.27 Q1315.89 1549.87 1315.89 1556.39 Q1315.89 1562.92 1319.04 1566.55 Q1322.19 1570.14 1327.89 1570.14 Q1330.44 1570.14 1332.92 1569.47 Q1335.43 1568.77 1337.92 1567.41 L1337.92 1572.82 Q1335.47 1573.96 1332.82 1574.54 Q1330.21 1575.11 1327.25 1575.11 Q1319.2 1575.11 1314.46 1570.05 Q1309.72 1564.99 1309.72 1556.39 Q1309.72 1547.67 1314.49 1542.68 Q1319.3 1537.68 1327.64 1537.68 Q1330.34 1537.68 1332.92 1538.25 Q1335.5 1538.79 1337.92 1539.91 M1331.2 1522.05 L1337.53 1522.05 L1327.16 1534.02 L1322.29 1534.02 L1331.2 1522.05 Z\" fill=\"#000000\" fill-rule=\"nonzero\" fill-opacity=\"1\" /><path clip-path=\"url(#clip720)\" d=\"M1368.82 1524.66 L1374.68 1524.66 L1374.68 1574.19 L1368.82 1574.19 L1368.82 1524.66 Z\" fill=\"#000000\" fill-rule=\"nonzero\" fill-opacity=\"1\" /><path clip-path=\"url(#clip720)\" d=\"M1386.93 1538.54 L1392.79 1538.54 L1392.79 1574.19 L1386.93 1574.19 L1386.93 1538.54 M1386.93 1524.66 L1392.79 1524.66 L1392.79 1532.08 L1386.93 1532.08 L1386.93 1524.66 Z\" fill=\"#000000\" fill-rule=\"nonzero\" fill-opacity=\"1\" /><path clip-path=\"url(#clip720)\" d=\"M1430.7 1539.91 L1430.7 1545.38 Q1428.21 1544.01 1425.7 1543.34 Q1423.22 1542.64 1420.67 1542.64 Q1414.97 1542.64 1411.82 1546.27 Q1408.67 1549.87 1408.67 1556.39 Q1408.67 1562.92 1411.82 1566.55 Q1414.97 1570.14 1420.67 1570.14 Q1423.22 1570.14 1425.7 1569.47 Q1428.21 1568.77 1430.7 1567.41 L1430.7 1572.82 Q1428.25 1573.96 1425.6 1574.54 Q1422.99 1575.11 1420.03 1575.11 Q1411.98 1575.11 1407.24 1570.05 Q1402.5 1564.99 1402.5 1556.39 Q1402.5 1547.67 1407.27 1542.68 Q1412.08 1537.68 1420.42 1537.68 Q1423.12 1537.68 1425.7 1538.25 Q1428.28 1538.79 1430.7 1539.91 Z\" fill=\"#000000\" fill-rule=\"nonzero\" fill-opacity=\"1\" /><path clip-path=\"url(#clip720)\" d=\"M1438.34 1538.54 L1466.15 1538.54 L1466.15 1543.88 L1444.13 1569.51 L1466.15 1569.51 L1466.15 1574.19 L1437.54 1574.19 L1437.54 1568.84 L1459.57 1543.22 L1438.34 1543.22 L1438.34 1538.54 Z\" fill=\"#000000\" fill-rule=\"nonzero\" fill-opacity=\"1\" /><path clip-path=\"url(#clip720)\" d=\"M1500.69 1556.39 Q1500.69 1549.93 1498.01 1546.27 Q1495.37 1542.58 1490.73 1542.58 Q1486.08 1542.58 1483.4 1546.27 Q1480.76 1549.93 1480.76 1556.39 Q1480.76 1562.85 1483.4 1566.55 Q1486.08 1570.21 1490.73 1570.21 Q1495.37 1570.21 1498.01 1566.55 Q1500.69 1562.85 1500.69 1556.39 M1480.76 1543.95 Q1482.61 1540.77 1485.41 1539.24 Q1488.24 1537.68 1492.16 1537.68 Q1498.65 1537.68 1502.69 1542.83 Q1506.77 1547.99 1506.77 1556.39 Q1506.77 1564.8 1502.69 1569.95 Q1498.65 1575.11 1492.16 1575.11 Q1488.24 1575.11 1485.41 1573.58 Q1482.61 1572.02 1480.76 1568.84 L1480.76 1574.19 L1474.87 1574.19 L1474.87 1524.66 L1480.76 1524.66 L1480.76 1543.95 Z\" fill=\"#000000\" fill-rule=\"nonzero\" fill-opacity=\"1\" /><path clip-path=\"url(#clip720)\" d=\"M1531.31 1577.5 Q1528.82 1583.86 1526.47 1585.8 Q1524.11 1587.74 1520.17 1587.74 L1515.49 1587.74 L1515.49 1582.84 L1518.93 1582.84 Q1521.34 1582.84 1522.68 1581.7 Q1524.02 1580.55 1525.64 1576.29 L1526.69 1573.61 L1512.27 1538.54 L1518.48 1538.54 L1529.62 1566.42 L1540.76 1538.54 L1546.97 1538.54 L1531.31 1577.5 Z\" fill=\"#000000\" fill-rule=\"nonzero\" fill-opacity=\"1\" /><polyline clip-path=\"url(#clip720)\" style=\"stroke:#000000; stroke-linecap:round; stroke-linejoin:round; stroke-width:4; stroke-opacity:1; fill:none\" points=\"276.067,1410.9 276.067,123.472 \"/>\n",
       "<polyline clip-path=\"url(#clip720)\" style=\"stroke:#000000; stroke-linecap:round; stroke-linejoin:round; stroke-width:4; stroke-opacity:1; fill:none\" points=\"276.067,1235.68 294.964,1235.68 \"/>\n",
       "<polyline clip-path=\"url(#clip720)\" style=\"stroke:#000000; stroke-linecap:round; stroke-linejoin:round; stroke-width:4; stroke-opacity:1; fill:none\" points=\"276.067,598.626 294.964,598.626 \"/>\n",
       "<path clip-path=\"url(#clip720)\" d=\"M114.931 1255.47 L122.57 1255.47 L122.57 1229.1 L114.26 1230.77 L114.26 1226.51 L122.524 1224.84 L127.2 1224.84 L127.2 1255.47 L134.839 1255.47 L134.839 1259.4 L114.931 1259.4 L114.931 1255.47 Z\" fill=\"#000000\" fill-rule=\"nonzero\" fill-opacity=\"1\" /><path clip-path=\"url(#clip720)\" d=\"M154.283 1227.92 Q150.672 1227.92 148.843 1231.49 Q147.038 1235.03 147.038 1242.16 Q147.038 1249.27 148.843 1252.83 Q150.672 1256.37 154.283 1256.37 Q157.917 1256.37 159.723 1252.83 Q161.552 1249.27 161.552 1242.16 Q161.552 1235.03 159.723 1231.49 Q157.917 1227.92 154.283 1227.92 M154.283 1224.22 Q160.093 1224.22 163.149 1228.83 Q166.227 1233.41 166.227 1242.16 Q166.227 1250.89 163.149 1255.49 Q160.093 1260.08 154.283 1260.08 Q148.473 1260.08 145.394 1255.49 Q142.339 1250.89 142.339 1242.16 Q142.339 1233.41 145.394 1228.83 Q148.473 1224.22 154.283 1224.22 Z\" fill=\"#000000\" fill-rule=\"nonzero\" fill-opacity=\"1\" /><path clip-path=\"url(#clip720)\" d=\"M166.227 1218.32 L190.339 1218.32 L190.339 1221.52 L166.227 1221.52 L166.227 1218.32 Z\" fill=\"#000000\" fill-rule=\"nonzero\" fill-opacity=\"1\" /><path clip-path=\"url(#clip720)\" d=\"M199.197 1228.8 L205.404 1228.8 L205.404 1207.37 L198.652 1208.73 L198.652 1205.27 L205.366 1203.91 L209.166 1203.91 L209.166 1228.8 L215.372 1228.8 L215.372 1231.99 L199.197 1231.99 L199.197 1228.8 Z\" fill=\"#000000\" fill-rule=\"nonzero\" fill-opacity=\"1\" /><path clip-path=\"url(#clip720)\" d=\"M223.083 1203.91 L237.998 1203.91 L237.998 1207.11 L226.563 1207.11 L226.563 1213.99 Q227.39 1213.71 228.218 1213.58 Q229.045 1213.43 229.873 1213.43 Q234.575 1213.43 237.321 1216.01 Q240.067 1218.58 240.067 1222.98 Q240.067 1227.52 237.246 1230.04 Q234.424 1232.54 229.29 1232.54 Q227.522 1232.54 225.679 1232.24 Q223.854 1231.94 221.898 1231.34 L221.898 1227.52 Q223.591 1228.44 225.397 1228.89 Q227.202 1229.34 229.215 1229.34 Q232.468 1229.34 234.368 1227.63 Q236.268 1225.92 236.268 1222.98 Q236.268 1220.05 234.368 1218.34 Q232.468 1216.63 229.215 1216.63 Q227.691 1216.63 226.168 1216.97 Q224.663 1217.3 223.083 1218.02 L223.083 1203.91 Z\" fill=\"#000000\" fill-rule=\"nonzero\" fill-opacity=\"1\" /><path clip-path=\"url(#clip720)\" d=\"M115.42 618.419 L123.059 618.419 L123.059 592.053 L114.749 593.72 L114.749 589.46 L123.013 587.794 L127.689 587.794 L127.689 618.419 L135.328 618.419 L135.328 622.354 L115.42 622.354 L115.42 618.419 Z\" fill=\"#000000\" fill-rule=\"nonzero\" fill-opacity=\"1\" /><path clip-path=\"url(#clip720)\" d=\"M154.772 590.872 Q151.161 590.872 149.332 594.437 Q147.527 597.979 147.527 605.109 Q147.527 612.215 149.332 615.78 Q151.161 619.321 154.772 619.321 Q158.406 619.321 160.212 615.78 Q162.041 612.215 162.041 605.109 Q162.041 597.979 160.212 594.437 Q158.406 590.872 154.772 590.872 M154.772 587.169 Q160.582 587.169 163.638 591.775 Q166.716 596.359 166.716 605.109 Q166.716 613.835 163.638 618.442 Q160.582 623.025 154.772 623.025 Q148.962 623.025 145.883 618.442 Q142.828 613.835 142.828 605.109 Q142.828 596.359 145.883 591.775 Q148.962 587.169 154.772 587.169 Z\" fill=\"#000000\" fill-rule=\"nonzero\" fill-opacity=\"1\" /><path clip-path=\"url(#clip720)\" d=\"M166.716 581.27 L190.828 581.27 L190.828 584.467 L166.716 584.467 L166.716 581.27 Z\" fill=\"#000000\" fill-rule=\"nonzero\" fill-opacity=\"1\" /><path clip-path=\"url(#clip720)\" d=\"M199.686 591.746 L205.893 591.746 L205.893 570.324 L199.141 571.678 L199.141 568.218 L205.855 566.863 L209.655 566.863 L209.655 591.746 L215.861 591.746 L215.861 594.943 L199.686 594.943 L199.686 591.746 Z\" fill=\"#000000\" fill-rule=\"nonzero\" fill-opacity=\"1\" /><path clip-path=\"url(#clip720)\" d=\"M226.807 591.746 L240.067 591.746 L240.067 594.943 L222.237 594.943 L222.237 591.746 Q224.4 589.508 228.124 585.746 Q231.867 581.966 232.826 580.875 Q234.65 578.825 235.365 577.415 Q236.098 575.985 236.098 574.612 Q236.098 572.374 234.518 570.963 Q232.957 569.553 230.437 569.553 Q228.65 569.553 226.657 570.174 Q224.682 570.794 222.425 572.054 L222.425 568.218 Q224.72 567.296 226.713 566.826 Q228.707 566.356 230.362 566.356 Q234.725 566.356 237.321 568.537 Q239.916 570.719 239.916 574.368 Q239.916 576.098 239.258 577.659 Q238.619 579.201 236.907 581.308 Q236.437 581.853 233.917 584.467 Q231.396 587.063 226.807 591.746 Z\" fill=\"#000000\" fill-rule=\"nonzero\" fill-opacity=\"1\" /><path clip-path=\"url(#clip720)\" d=\"M20.8447 1173.78 Q20.8447 1180.78 26.0645 1184.92 Q31.2844 1189.02 40.2919 1189.02 Q49.2675 1189.02 54.4874 1184.92 Q59.7073 1180.78 59.7073 1173.78 Q59.7073 1166.78 54.4874 1162.7 Q49.2675 1158.6 40.2919 1158.6 Q31.2844 1158.6 26.0645 1162.7 Q20.8447 1166.78 20.8447 1173.78 M15.6248 1173.78 Q15.6248 1163.78 22.3406 1157.8 Q29.0246 1151.82 40.2919 1151.82 Q51.5274 1151.82 58.2432 1157.8 Q64.9272 1163.78 64.9272 1173.78 Q64.9272 1183.8 58.2432 1189.82 Q51.5592 1195.8 40.2919 1195.8 Q29.0246 1195.8 22.3406 1189.82 Q15.6248 1183.8 15.6248 1173.78 Z\" fill=\"#000000\" fill-rule=\"nonzero\" fill-opacity=\"1\" /><path clip-path=\"url(#clip720)\" d=\"M33.7671 1118.56 L14.479 1118.56 L14.479 1112.7 L64.0042 1112.7 L64.0042 1118.56 L58.657 1118.56 Q61.8398 1120.4 63.3994 1123.23 Q64.9272 1126.04 64.9272 1129.98 Q64.9272 1136.44 59.771 1140.52 Q54.6147 1144.56 46.212 1144.56 Q37.8093 1144.56 32.6531 1140.52 Q27.4968 1136.44 27.4968 1129.98 Q27.4968 1126.04 29.0564 1123.23 Q30.5842 1120.4 33.7671 1118.56 M46.212 1138.51 Q52.6732 1138.51 56.3653 1135.87 Q60.0256 1133.2 60.0256 1128.55 Q60.0256 1123.9 56.3653 1121.23 Q52.6732 1118.56 46.212 1118.56 Q39.7508 1118.56 36.0905 1121.23 Q32.3984 1123.9 32.3984 1128.55 Q32.3984 1133.2 36.0905 1135.87 Q39.7508 1138.51 46.212 1138.51 Z\" fill=\"#000000\" fill-rule=\"nonzero\" fill-opacity=\"1\" /><path clip-path=\"url(#clip720)\" d=\"M14.479 1100.64 L14.479 1094.78 L64.0042 1094.78 L64.0042 1100.64 L14.479 1100.64 Z\" fill=\"#000000\" fill-rule=\"nonzero\" fill-opacity=\"1\" /><path clip-path=\"url(#clip720)\" d=\"M44.7161 1052.03 L47.5806 1052.03 L47.5806 1078.96 Q53.6281 1078.58 56.8109 1075.33 Q59.9619 1072.05 59.9619 1066.23 Q59.9619 1062.86 59.1344 1059.7 Q58.3069 1056.52 56.6518 1053.4 L62.1899 1053.4 Q63.5267 1056.55 64.227 1059.86 Q64.9272 1063.17 64.9272 1066.58 Q64.9272 1075.11 59.9619 1080.11 Q54.9967 1085.07 46.5303 1085.07 Q37.7774 1085.07 32.6531 1080.36 Q27.4968 1075.62 27.4968 1067.6 Q27.4968 1060.4 32.1438 1056.24 Q36.7589 1052.03 44.7161 1052.03 M42.9973 1057.89 Q38.1912 1057.95 35.3266 1060.6 Q32.4621 1063.21 32.4621 1067.53 Q32.4621 1072.44 35.2312 1075.4 Q38.0002 1078.32 43.0292 1078.77 L42.9973 1057.89 Z\" fill=\"#000000\" fill-rule=\"nonzero\" fill-opacity=\"1\" /><path clip-path=\"url(#clip720)\" d=\"M45.7664 1018.96 Q39.4007 1018.96 35.8996 1021.61 Q32.3984 1024.22 32.3984 1028.96 Q32.3984 1033.67 35.8996 1036.31 Q39.4007 1038.92 45.7664 1038.92 Q52.1003 1038.92 55.6014 1036.31 Q59.1026 1033.67 59.1026 1028.96 Q59.1026 1024.22 55.6014 1021.61 Q52.1003 1018.96 45.7664 1018.96 M59.58 1013.11 Q68.683 1013.11 73.1071 1017.15 Q77.5631 1021.19 77.5631 1029.53 Q77.5631 1032.62 77.0857 1035.36 Q76.6401 1038.09 75.6852 1040.67 L69.9879 1040.67 Q71.3884 1038.09 72.0568 1035.58 Q72.7252 1033.06 72.7252 1030.45 Q72.7252 1024.69 69.7015 1021.83 Q66.7096 1018.96 60.6303 1018.96 L57.7339 1018.96 Q60.885 1020.78 62.4446 1023.61 Q64.0042 1026.44 64.0042 1030.39 Q64.0042 1036.95 59.0071 1040.96 Q54.01 1044.97 45.7664 1044.97 Q37.491 1044.97 32.4939 1040.96 Q27.4968 1036.95 27.4968 1030.39 Q27.4968 1026.44 29.0564 1023.61 Q30.616 1020.78 33.7671 1018.96 L28.3562 1018.96 L28.3562 1013.11 L59.58 1013.11 Z\" fill=\"#000000\" fill-rule=\"nonzero\" fill-opacity=\"1\" /><path clip-path=\"url(#clip720)\" d=\"M14.479 1000.85 L14.479 994.997 L33.6397 994.997 L30.7752 991.019 L34.149 988.6 L38.6368 994.997 L64.0042 994.997 L64.0042 1000.85 L42.8064 1000.85 L45.6073 1004.77 L42.2334 1007.12 L37.7456 1000.85 L14.479 1000.85 Z\" fill=\"#000000\" fill-rule=\"nonzero\" fill-opacity=\"1\" /><path clip-path=\"url(#clip720)\" d=\"M32.4621 968.707 Q32.4621 973.417 36.1542 976.155 Q39.8145 978.892 46.212 978.892 Q52.6095 978.892 56.3017 976.186 Q59.9619 973.449 59.9619 968.707 Q59.9619 964.028 56.2698 961.291 Q52.5777 958.553 46.212 958.553 Q39.8781 958.553 36.186 961.291 Q32.4621 964.028 32.4621 968.707 M27.4968 968.707 Q27.4968 961.068 32.4621 956.707 Q37.4273 952.347 46.212 952.347 Q54.9649 952.347 59.9619 956.707 Q64.9272 961.068 64.9272 968.707 Q64.9272 976.377 59.9619 980.738 Q54.9649 985.067 46.212 985.067 Q37.4273 985.067 32.4621 980.738 Q27.4968 976.377 27.4968 968.707 Z\" fill=\"#000000\" fill-rule=\"nonzero\" fill-opacity=\"1\" /><path clip-path=\"url(#clip720)\" d=\"M11.6462 925.961 L11.6462 919.627 L23.6137 930.003 L23.6137 934.873 L11.6462 925.961 M29.4065 919.914 L34.9447 919.914 Q33.6716 922.396 33.035 925.07 Q32.3984 927.743 32.3984 930.608 Q32.3984 934.968 33.7352 937.165 Q35.072 939.329 37.7456 939.329 Q39.7826 939.329 40.9603 937.769 Q42.1061 936.21 43.1565 931.499 L43.6021 929.494 Q44.9389 923.256 47.3897 920.646 Q49.8086 918.004 54.1691 918.004 Q59.1344 918.004 62.0308 921.951 Q64.9272 925.866 64.9272 932.74 Q64.9272 935.605 64.3543 938.724 Q63.8132 941.812 62.6992 945.249 L56.6518 945.249 Q58.3387 942.003 59.198 938.852 Q60.0256 935.701 60.0256 932.613 Q60.0256 928.475 58.6251 926.247 Q57.1929 924.019 54.6147 924.019 Q52.2276 924.019 50.9545 925.643 Q49.6813 927.234 48.5037 932.677 L48.0262 934.714 Q46.8804 940.157 44.5251 942.576 Q42.138 944.994 38.0002 944.994 Q32.9713 944.994 30.2341 941.43 Q27.4968 937.865 27.4968 931.308 Q27.4968 928.062 27.9743 925.197 Q28.4517 922.333 29.4065 919.914 Z\" fill=\"#000000\" fill-rule=\"nonzero\" fill-opacity=\"1\" /><path clip-path=\"url(#clip720)\" d=\"M29.7248 883.024 L35.1993 883.024 Q33.8307 885.507 33.1623 888.021 Q32.4621 890.504 32.4621 893.05 Q32.4621 898.748 36.0905 901.899 Q39.6872 905.05 46.212 905.05 Q52.7369 905.05 56.3653 901.899 Q59.9619 898.748 59.9619 893.05 Q59.9619 890.504 59.2935 888.021 Q58.5933 885.507 57.2247 883.024 L62.6355 883.024 Q63.7814 885.475 64.3543 888.117 Q64.9272 890.727 64.9272 893.687 Q64.9272 901.74 59.8664 906.482 Q54.8057 911.224 46.212 911.224 Q37.491 911.224 32.4939 906.45 Q27.4968 901.644 27.4968 893.305 Q27.4968 890.6 28.0697 888.021 Q28.6108 885.443 29.7248 883.024 M11.869 889.74 L11.869 883.406 L23.8365 893.782 L23.8365 898.652 L11.869 889.74 Z\" fill=\"#000000\" fill-rule=\"nonzero\" fill-opacity=\"1\" /><path clip-path=\"url(#clip720)\" d=\"M35.1993 824.364 Q31.2526 822.168 29.3747 819.113 Q27.4968 816.057 27.4968 811.919 Q27.4968 806.349 31.4117 803.326 Q35.2948 800.302 42.4881 800.302 L64.0042 800.302 L64.0042 806.19 L42.679 806.19 Q37.5546 806.19 35.072 808.004 Q32.5894 809.819 32.5894 813.543 Q32.5894 818.094 35.6131 820.736 Q38.6368 823.378 43.8567 823.378 L64.0042 823.378 L64.0042 829.266 L42.679 829.266 Q37.5228 829.266 35.072 831.08 Q32.5894 832.894 32.5894 836.682 Q32.5894 841.17 35.6449 843.812 Q38.6686 846.453 43.8567 846.453 L64.0042 846.453 L64.0042 852.342 L28.3562 852.342 L28.3562 846.453 L33.8944 846.453 Q30.616 844.448 29.0564 841.647 Q27.4968 838.846 27.4968 834.995 Q27.4968 831.112 29.4702 828.407 Q31.4436 825.669 35.1993 824.364 Z\" fill=\"#000000\" fill-rule=\"nonzero\" fill-opacity=\"1\" /><path clip-path=\"url(#clip720)\" d=\"M28.3562 788.621 L28.3562 782.764 L64.0042 782.764 L64.0042 788.621 L28.3562 788.621 M14.479 788.621 L14.479 782.764 L21.895 782.764 L21.895 788.621 L14.479 788.621 Z\" fill=\"#000000\" fill-rule=\"nonzero\" fill-opacity=\"1\" /><path clip-path=\"url(#clip720)\" d=\"M44.7161 740.019 L47.5806 740.019 L47.5806 766.946 Q53.6281 766.564 56.8109 763.317 Q59.9619 760.039 59.9619 754.214 Q59.9619 750.84 59.1344 747.689 Q58.3069 744.507 56.6518 741.387 L62.1899 741.387 Q63.5267 744.538 64.227 747.849 Q64.9272 751.159 64.9272 754.564 Q64.9272 763.094 59.9619 768.091 Q54.9967 773.057 46.5303 773.057 Q37.7774 773.057 32.6531 768.346 Q27.4968 763.604 27.4968 755.583 Q27.4968 748.39 32.1438 744.22 Q36.7589 740.019 44.7161 740.019 M42.9973 745.875 Q38.1912 745.939 35.3266 748.581 Q32.4621 751.191 32.4621 755.519 Q32.4621 760.421 35.2312 763.381 Q38.0002 766.309 43.0292 766.755 L42.9973 745.875 M64.0042 750.681 L64.0042 746.894 Q65.9457 748.326 67.3462 749.026 Q68.7466 749.695 69.7333 749.695 Q71.1974 749.695 71.9295 748.835 Q72.6615 747.944 72.6615 746.225 Q72.6615 745.207 72.4069 744.22 Q72.1841 743.233 71.7067 742.247 L75.9399 742.247 Q76.2581 743.456 76.4173 744.538 Q76.5764 745.621 76.5764 746.575 Q76.5764 750.458 75.176 752.305 Q73.8073 754.119 70.8473 754.119 Q69.3195 754.119 67.6326 753.291 Q65.9775 752.432 64.0042 750.681 Z\" fill=\"#000000\" fill-rule=\"nonzero\" fill-opacity=\"1\" /><path clip-path=\"url(#clip720)\" d=\"M33.7671 706.949 L14.479 706.949 L14.479 701.092 L64.0042 701.092 L64.0042 706.949 L58.657 706.949 Q61.8398 708.795 63.3994 711.628 Q64.9272 714.429 64.9272 718.375 Q64.9272 724.837 59.771 728.911 Q54.6147 732.953 46.212 732.953 Q37.8093 732.953 32.6531 728.911 Q27.4968 724.837 27.4968 718.375 Q27.4968 714.429 29.0564 711.628 Q30.5842 708.795 33.7671 706.949 M46.212 726.905 Q52.6732 726.905 56.3653 724.264 Q60.0256 721.59 60.0256 716.943 Q60.0256 712.296 56.3653 709.622 Q52.6732 706.949 46.212 706.949 Q39.7508 706.949 36.0905 709.622 Q32.3984 712.296 32.3984 716.943 Q32.3984 721.59 36.0905 724.264 Q39.7508 726.905 46.212 726.905 Z\" fill=\"#000000\" fill-rule=\"nonzero\" fill-opacity=\"1\" /><path clip-path=\"url(#clip720)\" d=\"M28.3562 691.576 L28.3562 663.758 L33.7034 663.758 L59.3254 685.783 L59.3254 663.758 L64.0042 663.758 L64.0042 692.371 L58.657 692.371 L33.035 670.346 L33.035 691.576 L28.3562 691.576 Z\" fill=\"#000000\" fill-rule=\"nonzero\" fill-opacity=\"1\" /><path clip-path=\"url(#clip720)\" d=\"M67.3143 639.982 Q73.68 642.464 75.6216 644.82 Q77.5631 647.175 77.5631 651.122 L77.5631 655.8 L72.6615 655.8 L72.6615 652.363 Q72.6615 649.944 71.5157 648.607 Q70.3699 647.27 66.1048 645.647 L63.4312 644.597 L28.3562 659.015 L28.3562 652.809 L56.238 641.669 L28.3562 630.529 L28.3562 624.322 L67.3143 639.982 Z\" fill=\"#000000\" fill-rule=\"nonzero\" fill-opacity=\"1\" /><path clip-path=\"url(#clip720)\" d=\"M14.479 595.517 L14.479 589.661 L64.0042 589.661 L64.0042 595.517 L14.479 595.517 Z\" fill=\"#000000\" fill-rule=\"nonzero\" fill-opacity=\"1\" /><path clip-path=\"url(#clip720)\" d=\"M28.3562 577.407 L28.3562 571.55 L64.0042 571.55 L64.0042 577.407 L28.3562 577.407 M14.479 577.407 L14.479 571.55 L21.895 571.55 L21.895 577.407 L14.479 577.407 Z\" fill=\"#000000\" fill-rule=\"nonzero\" fill-opacity=\"1\" /><path clip-path=\"url(#clip720)\" d=\"M29.7248 533.643 L35.1993 533.643 Q33.8307 536.125 33.1623 538.64 Q32.4621 541.122 32.4621 543.669 Q32.4621 549.366 36.0905 552.517 Q39.6872 555.668 46.212 555.668 Q52.7369 555.668 56.3653 552.517 Q59.9619 549.366 59.9619 543.669 Q59.9619 541.122 59.2935 538.64 Q58.5933 536.125 57.2247 533.643 L62.6355 533.643 Q63.7814 536.093 64.3543 538.735 Q64.9272 541.345 64.9272 544.305 Q64.9272 552.358 59.8664 557.1 Q54.8057 561.843 46.212 561.843 Q37.491 561.843 32.4939 557.068 Q27.4968 552.262 27.4968 543.923 Q27.4968 541.218 28.0697 538.64 Q28.6108 536.061 29.7248 533.643 Z\" fill=\"#000000\" fill-rule=\"nonzero\" fill-opacity=\"1\" /><path clip-path=\"url(#clip720)\" d=\"M28.3562 526.004 L28.3562 498.186 L33.7034 498.186 L59.3254 520.211 L59.3254 498.186 L64.0042 498.186 L64.0042 526.799 L58.657 526.799 L33.035 504.774 L33.035 526.004 L28.3562 526.004 Z\" fill=\"#000000\" fill-rule=\"nonzero\" fill-opacity=\"1\" /><path clip-path=\"url(#clip720)\" d=\"M46.212 463.652 Q39.7508 463.652 36.0905 466.325 Q32.3984 468.967 32.3984 473.614 Q32.3984 478.261 36.0905 480.934 Q39.7508 483.576 46.212 483.576 Q52.6732 483.576 56.3653 480.934 Q60.0256 478.261 60.0256 473.614 Q60.0256 468.967 56.3653 466.325 Q52.6732 463.652 46.212 463.652 M33.7671 483.576 Q30.5842 481.73 29.0564 478.929 Q27.4968 476.097 27.4968 472.182 Q27.4968 465.689 32.6531 461.646 Q37.8093 457.572 46.212 457.572 Q54.6147 457.572 59.771 461.646 Q64.9272 465.689 64.9272 472.182 Q64.9272 476.097 63.3994 478.929 Q61.8398 481.73 58.657 483.576 L64.0042 483.576 L64.0042 489.465 L14.479 489.465 L14.479 483.576 L33.7671 483.576 Z\" fill=\"#000000\" fill-rule=\"nonzero\" fill-opacity=\"1\" /><path clip-path=\"url(#clip720)\" d=\"M46.0847 431.664 Q46.0847 438.762 47.7079 441.499 Q49.3312 444.236 53.2461 444.236 Q56.3653 444.236 58.2114 442.199 Q60.0256 440.13 60.0256 436.597 Q60.0256 431.728 56.5881 428.799 Q53.1188 425.839 47.3897 425.839 L46.0847 425.839 L46.0847 431.664 M43.6657 419.983 L64.0042 419.983 L64.0042 425.839 L58.5933 425.839 Q61.8398 427.844 63.3994 430.836 Q64.9272 433.828 64.9272 438.157 Q64.9272 443.631 61.8716 446.878 Q58.7843 450.093 53.6281 450.093 Q47.6125 450.093 44.5569 446.082 Q41.5014 442.04 41.5014 434.051 L41.5014 425.839 L40.9285 425.839 Q36.8862 425.839 34.6901 428.513 Q32.4621 431.155 32.4621 435.961 Q32.4621 439.016 33.1941 441.913 Q33.9262 444.809 35.3903 447.483 L29.9795 447.483 Q28.7381 444.268 28.1334 441.244 Q27.4968 438.221 27.4968 435.356 Q27.4968 427.622 31.5072 423.802 Q35.5176 419.983 43.6657 419.983 Z\" fill=\"#000000\" fill-rule=\"nonzero\" fill-opacity=\"1\" /><path clip-path=\"url(#clip720)\" d=\"M35.1993 380.165 Q31.2526 377.969 29.3747 374.914 Q27.4968 371.858 27.4968 367.72 Q27.4968 362.15 31.4117 359.127 Q35.2948 356.103 42.4881 356.103 L64.0042 356.103 L64.0042 361.991 L42.679 361.991 Q37.5546 361.991 35.072 363.805 Q32.5894 365.62 32.5894 369.344 Q32.5894 373.895 35.6131 376.537 Q38.6368 379.179 43.8567 379.179 L64.0042 379.179 L64.0042 385.067 L42.679 385.067 Q37.5228 385.067 35.072 386.881 Q32.5894 388.695 32.5894 392.483 Q32.5894 396.971 35.6449 399.613 Q38.6686 402.254 43.8567 402.254 L64.0042 402.254 L64.0042 408.143 L28.3562 408.143 L28.3562 402.254 L33.8944 402.254 Q30.616 400.249 29.0564 397.448 Q27.4968 394.647 27.4968 390.796 Q27.4968 386.913 29.4702 384.208 Q31.4436 381.47 35.1993 380.165 Z\" fill=\"#000000\" fill-rule=\"nonzero\" fill-opacity=\"1\" /><path clip-path=\"url(#clip720)\" d=\"M28.3562 344.422 L28.3562 338.565 L64.0042 338.565 L64.0042 344.422 L28.3562 344.422 M14.479 344.422 L14.479 338.565 L21.895 338.565 L21.895 344.422 L14.479 344.422 Z\" fill=\"#000000\" fill-rule=\"nonzero\" fill-opacity=\"1\" /><path clip-path=\"url(#clip720)\" d=\"M504.555 12.096 L552.072 12.096 L552.072 18.3344 L513.831 65.6895 L553.003 65.6895 L553.003 72.576 L503.623 72.576 L503.623 66.3376 L541.863 18.9825 L504.555 18.9825 L504.555 12.096 Z\" fill=\"#000000\" fill-rule=\"nonzero\" fill-opacity=\"1\" /><path clip-path=\"url(#clip720)\" d=\"M585.168 49.7694 Q576.134 49.7694 572.65 51.8354 Q569.166 53.9013 569.166 58.8839 Q569.166 62.8538 571.759 65.2034 Q574.392 67.5124 578.889 67.5124 Q585.087 67.5124 588.813 63.1374 Q592.581 58.7219 592.581 51.4303 L592.581 49.7694 L585.168 49.7694 M600.034 46.6907 L600.034 72.576 L592.581 72.576 L592.581 65.6895 Q590.029 69.8214 586.221 71.8063 Q582.413 73.7508 576.904 73.7508 Q569.936 73.7508 565.804 69.8619 Q561.713 65.9325 561.713 59.3701 Q561.713 51.7138 566.817 47.825 Q571.962 43.9361 582.129 43.9361 L592.581 43.9361 L592.581 43.2069 Q592.581 38.0623 589.178 35.2672 Q585.816 32.4315 579.699 32.4315 Q575.81 32.4315 572.124 33.3632 Q568.437 34.295 565.035 36.1584 L565.035 29.2718 Q569.126 27.692 572.974 26.9223 Q576.823 26.1121 580.469 26.1121 Q590.312 26.1121 595.173 31.2163 Q600.034 36.3204 600.034 46.6907 Z\" fill=\"#000000\" fill-rule=\"nonzero\" fill-opacity=\"1\" /><path clip-path=\"url(#clip720)\" d=\"M615.387 9.54393 L622.841 9.54393 L622.841 72.576 L615.387 72.576 L615.387 9.54393 Z\" fill=\"#000000\" fill-rule=\"nonzero\" fill-opacity=\"1\" /><path clip-path=\"url(#clip720)\" d=\"M677.245 48.0275 L677.245 51.6733 L642.974 51.6733 Q643.46 59.3701 647.592 63.421 Q651.764 67.4314 659.178 67.4314 Q663.472 67.4314 667.482 66.3781 Q671.533 65.3249 675.503 63.2184 L675.503 70.267 Q671.492 71.9684 667.279 72.8596 Q663.066 73.7508 658.732 73.7508 Q647.876 73.7508 641.516 67.4314 Q635.196 61.1119 635.196 50.3365 Q635.196 39.1965 641.192 32.6746 Q647.227 26.1121 657.436 26.1121 Q666.591 26.1121 671.897 32.0264 Q677.245 37.9003 677.245 48.0275 M669.791 45.84 Q669.71 39.7232 666.348 36.0774 Q663.026 32.4315 657.517 32.4315 Q651.278 32.4315 647.511 35.9558 Q643.784 39.4801 643.217 45.8805 L669.791 45.84 Z\" fill=\"#000000\" fill-rule=\"nonzero\" fill-opacity=\"1\" /><path clip-path=\"url(#clip720)\" d=\"M699.525 9.54393 L706.978 9.54393 L706.978 18.9825 L699.525 18.9825 L699.525 9.54393 M703.332 26.1121 L703.332 26.1121 M686.238 27.2059 L721.643 27.2059 L721.643 34.0114 L693.61 66.6212 L721.643 66.6212 L721.643 72.576 L685.225 72.576 L685.225 65.7705 L713.257 33.1607 L686.238 33.1607 L686.238 27.2059 Z\" fill=\"#000000\" fill-rule=\"nonzero\" fill-opacity=\"1\" /><path clip-path=\"url(#clip720)\" d=\"M770.739 45.1919 L770.739 72.576 L763.286 72.576 L763.286 45.4349 Q763.286 38.994 760.774 35.7938 Q758.263 32.5936 753.24 32.5936 Q747.204 32.5936 743.72 36.4419 Q740.236 40.2903 740.236 46.9338 L740.236 72.576 L732.742 72.576 L732.742 27.2059 L740.236 27.2059 L740.236 34.2544 Q742.91 30.163 746.515 28.1376 Q750.161 26.1121 754.9 26.1121 Q762.719 26.1121 766.729 30.9732 Q770.739 35.7938 770.739 45.1919 Z\" fill=\"#000000\" fill-rule=\"nonzero\" fill-opacity=\"1\" /><path clip-path=\"url(#clip720)\" d=\"M803.187 32.4315 Q797.192 32.4315 793.708 37.1306 Q790.224 41.7891 790.224 49.9314 Q790.224 58.0738 793.668 62.7728 Q797.151 67.4314 803.187 67.4314 Q809.142 67.4314 812.626 62.7323 Q816.11 58.0333 816.11 49.9314 Q816.11 41.8701 812.626 37.1711 Q809.142 32.4315 803.187 32.4315 M803.187 26.1121 Q812.909 26.1121 818.459 32.4315 Q824.009 38.7509 824.009 49.9314 Q824.009 61.0714 818.459 67.4314 Q812.909 73.7508 803.187 73.7508 Q793.425 73.7508 787.875 67.4314 Q782.366 61.0714 782.366 49.9314 Q782.366 38.7509 787.875 32.4315 Q793.425 26.1121 803.187 26.1121 Z\" fill=\"#000000\" fill-rule=\"nonzero\" fill-opacity=\"1\" /><path clip-path=\"url(#clip720)\" d=\"M857.591 5.93863 L865.652 5.93863 L852.446 21.17 L846.248 21.17 L857.591 5.93863 M865.288 28.5427 L865.288 35.5912 Q862.128 33.9709 858.725 33.1607 Q855.322 32.3505 851.677 32.3505 Q846.127 32.3505 843.332 34.0519 Q840.577 35.7533 840.577 39.156 Q840.577 41.7486 842.562 43.2475 Q844.547 44.7058 850.542 46.0426 L853.094 46.6097 Q861.034 48.3111 864.356 51.4303 Q867.718 54.509 867.718 60.0587 Q867.718 66.3781 862.695 70.0644 Q857.712 73.7508 848.962 73.7508 Q845.317 73.7508 841.347 73.0216 Q837.417 72.3329 833.042 70.9151 L833.042 63.2184 Q837.174 65.3654 841.185 66.4591 Q845.195 67.5124 849.124 67.5124 Q854.391 67.5124 857.226 65.73 Q860.062 63.9071 860.062 60.6258 Q860.062 57.5877 857.996 55.9673 Q855.971 54.3469 849.043 52.8481 L846.451 52.2405 Q839.524 50.7821 836.445 47.7845 Q833.366 44.7463 833.366 39.4801 Q833.366 33.0797 837.903 29.5959 Q842.44 26.1121 850.785 26.1121 Q854.917 26.1121 858.563 26.7198 Q862.209 27.3274 865.288 28.5427 Z\" fill=\"#000000\" fill-rule=\"nonzero\" fill-opacity=\"1\" /><path clip-path=\"url(#clip720)\" d=\"M912.238 28.9478 L912.238 35.9153 Q909.078 34.1734 905.878 33.3227 Q902.718 32.4315 899.477 32.4315 Q892.226 32.4315 888.216 37.0496 Q884.205 41.6271 884.205 49.9314 Q884.205 58.2358 888.216 62.8538 Q892.226 67.4314 899.477 67.4314 Q902.718 67.4314 905.878 66.5807 Q909.078 65.6895 912.238 63.9476 L912.238 70.8341 Q909.118 72.2924 905.756 73.0216 Q902.434 73.7508 898.667 73.7508 Q888.418 73.7508 882.382 67.3098 Q876.347 60.8689 876.347 49.9314 Q876.347 38.832 882.423 32.472 Q888.54 26.1121 899.153 26.1121 Q902.596 26.1121 905.878 26.8413 Q909.159 27.5299 912.238 28.9478 M903.69 6.22219 L911.751 6.22219 L898.546 21.4536 L892.348 21.4536 L903.69 6.22219 Z\" fill=\"#000000\" fill-rule=\"nonzero\" fill-opacity=\"1\" /><path clip-path=\"url(#clip720)\" d=\"M969.153 32.4315 Q963.157 32.4315 959.674 37.1306 Q956.19 41.7891 956.19 49.9314 Q956.19 58.0738 959.633 62.7728 Q963.117 67.4314 969.153 67.4314 Q975.108 67.4314 978.591 62.7323 Q982.075 58.0333 982.075 49.9314 Q982.075 41.8701 978.591 37.1711 Q975.108 32.4315 969.153 32.4315 M969.153 26.1121 Q978.875 26.1121 984.425 32.4315 Q989.974 38.7509 989.974 49.9314 Q989.974 61.0714 984.425 67.4314 Q978.875 73.7508 969.153 73.7508 Q959.39 73.7508 953.84 67.4314 Q948.331 61.0714 948.331 49.9314 Q948.331 38.7509 953.84 32.4315 Q959.39 26.1121 969.153 26.1121 Z\" fill=\"#000000\" fill-rule=\"nonzero\" fill-opacity=\"1\" /><path clip-path=\"url(#clip720)\" d=\"M1032.18 34.0924 L1032.18 9.54393 L1039.64 9.54393 L1039.64 72.576 L1032.18 72.576 L1032.18 65.7705 Q1029.84 69.8214 1026.23 71.8063 Q1022.67 73.7508 1017.64 73.7508 Q1009.42 73.7508 1004.23 67.1883 Q999.089 60.6258 999.089 49.9314 Q999.089 39.2371 1004.23 32.6746 Q1009.42 26.1121 1017.64 26.1121 Q1022.67 26.1121 1026.23 28.0971 Q1029.84 30.0415 1032.18 34.0924 M1006.79 49.9314 Q1006.79 58.1548 1010.15 62.8538 Q1013.55 67.5124 1019.47 67.5124 Q1025.38 67.5124 1028.78 62.8538 Q1032.18 58.1548 1032.18 49.9314 Q1032.18 41.7081 1028.78 37.0496 Q1025.38 32.3505 1019.47 32.3505 Q1013.55 32.3505 1010.15 37.0496 Q1006.79 41.7081 1006.79 49.9314 Z\" fill=\"#000000\" fill-rule=\"nonzero\" fill-opacity=\"1\" /><path clip-path=\"url(#clip720)\" d=\"M1054.99 9.54393 L1062.45 9.54393 L1062.45 72.576 L1054.99 72.576 L1054.99 9.54393 Z\" fill=\"#000000\" fill-rule=\"nonzero\" fill-opacity=\"1\" /><path clip-path=\"url(#clip720)\" d=\"M1116.85 48.0275 L1116.85 51.6733 L1082.58 51.6733 Q1083.06 59.3701 1087.2 63.421 Q1091.37 67.4314 1098.78 67.4314 Q1103.08 67.4314 1107.09 66.3781 Q1111.14 65.3249 1115.11 63.2184 L1115.11 70.267 Q1111.1 71.9684 1106.88 72.8596 Q1102.67 73.7508 1098.34 73.7508 Q1087.48 73.7508 1081.12 67.4314 Q1074.8 61.1119 1074.8 50.3365 Q1074.8 39.1965 1080.8 32.6746 Q1086.83 26.1121 1097.04 26.1121 Q1106.19 26.1121 1111.5 32.0264 Q1116.85 37.9003 1116.85 48.0275 M1109.4 45.84 Q1109.31 39.7232 1105.95 36.0774 Q1102.63 32.4315 1097.12 32.4315 Q1090.88 32.4315 1087.12 35.9558 Q1083.39 39.4801 1082.82 45.8805 L1109.4 45.84 Z\" fill=\"#000000\" fill-rule=\"nonzero\" fill-opacity=\"1\" /><path clip-path=\"url(#clip720)\" d=\"M1158.94 49.3643 Q1158.94 41.2625 1155.58 36.8065 Q1152.25 32.3505 1146.22 32.3505 Q1140.22 32.3505 1136.86 36.8065 Q1133.54 41.2625 1133.54 49.3643 Q1133.54 57.4256 1136.86 61.8816 Q1140.22 66.3376 1146.22 66.3376 Q1152.25 66.3376 1155.58 61.8816 Q1158.94 57.4256 1158.94 49.3643 M1166.39 66.9452 Q1166.39 78.5308 1161.25 84.1616 Q1156.1 89.8329 1145.49 89.8329 Q1141.56 89.8329 1138.08 89.2252 Q1134.59 88.6581 1131.31 87.4428 L1131.31 80.1917 Q1134.59 81.9741 1137.79 82.8248 Q1140.99 83.6755 1144.31 83.6755 Q1151.65 83.6755 1155.29 79.8271 Q1158.94 76.0193 1158.94 68.282 L1158.94 64.5957 Q1156.63 68.6061 1153.02 70.5911 Q1149.42 72.576 1144.39 72.576 Q1136.05 72.576 1130.95 66.2161 Q1125.84 59.8562 1125.84 49.3643 Q1125.84 38.832 1130.95 32.472 Q1136.05 26.1121 1144.39 26.1121 Q1149.42 26.1121 1153.02 28.0971 Q1156.63 30.082 1158.94 34.0924 L1158.94 27.2059 L1166.39 27.2059 L1166.39 66.9452 Z\" fill=\"#000000\" fill-rule=\"nonzero\" fill-opacity=\"1\" /><path clip-path=\"url(#clip720)\" d=\"M1181.99 9.54393 L1189.44 9.54393 L1189.44 33.9304 L1194.5 30.2846 L1197.58 34.5785 L1189.44 40.2903 L1189.44 72.576 L1181.99 72.576 L1181.99 45.597 L1177 49.1618 L1174.01 44.8678 L1181.99 39.156 L1181.99 9.54393 Z\" fill=\"#000000\" fill-rule=\"nonzero\" fill-opacity=\"1\" /><path clip-path=\"url(#clip720)\" d=\"M1222.9 32.4315 Q1216.91 32.4315 1213.42 37.1306 Q1209.94 41.7891 1209.94 49.9314 Q1209.94 58.0738 1213.38 62.7728 Q1216.87 67.4314 1222.9 67.4314 Q1228.86 67.4314 1232.34 62.7323 Q1235.82 58.0333 1235.82 49.9314 Q1235.82 41.8701 1232.34 37.1711 Q1228.86 32.4315 1222.9 32.4315 M1222.9 26.1121 Q1232.62 26.1121 1238.17 32.4315 Q1243.72 38.7509 1243.72 49.9314 Q1243.72 61.0714 1238.17 67.4314 Q1232.62 73.7508 1222.9 73.7508 Q1213.14 73.7508 1207.59 67.4314 Q1202.08 61.0714 1202.08 49.9314 Q1202.08 38.7509 1207.59 32.4315 Q1213.14 26.1121 1222.9 26.1121 Z\" fill=\"#000000\" fill-rule=\"nonzero\" fill-opacity=\"1\" /><path clip-path=\"url(#clip720)\" d=\"M1277.31 5.93863 L1285.37 5.93863 L1272.16 21.17 L1265.96 21.17 L1277.31 5.93863 M1285 28.5427 L1285 35.5912 Q1281.84 33.9709 1278.44 33.1607 Q1275.04 32.3505 1271.39 32.3505 Q1265.84 32.3505 1263.05 34.0519 Q1260.29 35.7533 1260.29 39.156 Q1260.29 41.7486 1262.28 43.2475 Q1264.26 44.7058 1270.26 46.0426 L1272.81 46.6097 Q1280.75 48.3111 1284.07 51.4303 Q1287.43 54.509 1287.43 60.0587 Q1287.43 66.3781 1282.41 70.0644 Q1277.43 73.7508 1268.68 73.7508 Q1265.03 73.7508 1261.06 73.0216 Q1257.13 72.3329 1252.76 70.9151 L1252.76 63.2184 Q1256.89 65.3654 1260.9 66.4591 Q1264.91 67.5124 1268.84 67.5124 Q1274.1 67.5124 1276.94 65.73 Q1279.78 63.9071 1279.78 60.6258 Q1279.78 57.5877 1277.71 55.9673 Q1275.68 54.3469 1268.76 52.8481 L1266.17 52.2405 Q1259.24 50.7821 1256.16 47.7845 Q1253.08 44.7463 1253.08 39.4801 Q1253.08 33.0797 1257.62 29.5959 Q1262.15 26.1121 1270.5 26.1121 Q1274.63 26.1121 1278.28 26.7198 Q1281.92 27.3274 1285 28.5427 Z\" fill=\"#000000\" fill-rule=\"nonzero\" fill-opacity=\"1\" /><path clip-path=\"url(#clip720)\" d=\"M1331.95 28.9478 L1331.95 35.9153 Q1328.79 34.1734 1325.59 33.3227 Q1322.43 32.4315 1319.19 32.4315 Q1311.94 32.4315 1307.93 37.0496 Q1303.92 41.6271 1303.92 49.9314 Q1303.92 58.2358 1307.93 62.8538 Q1311.94 67.4314 1319.19 67.4314 Q1322.43 67.4314 1325.59 66.5807 Q1328.79 65.6895 1331.95 63.9476 L1331.95 70.8341 Q1328.83 72.2924 1325.47 73.0216 Q1322.15 73.7508 1318.38 73.7508 Q1308.13 73.7508 1302.1 67.3098 Q1296.06 60.8689 1296.06 49.9314 Q1296.06 38.832 1302.14 32.472 Q1308.25 26.1121 1318.87 26.1121 Q1322.31 26.1121 1325.59 26.8413 Q1328.87 27.5299 1331.95 28.9478 Z\" fill=\"#000000\" fill-rule=\"nonzero\" fill-opacity=\"1\" /><path clip-path=\"url(#clip720)\" d=\"M1344.91 27.2059 L1352.37 27.2059 L1352.37 72.576 L1344.91 72.576 L1344.91 27.2059 M1344.91 9.54393 L1352.37 9.54393 L1352.37 18.9825 L1344.91 18.9825 L1344.91 9.54393 Z\" fill=\"#000000\" fill-rule=\"nonzero\" fill-opacity=\"1\" /><path clip-path=\"url(#clip720)\" d=\"M1411.92 32.4315 Q1405.92 32.4315 1402.44 37.1306 Q1398.95 41.7891 1398.95 49.9314 Q1398.95 58.0738 1402.4 62.7728 Q1405.88 67.4314 1411.92 67.4314 Q1417.87 67.4314 1421.36 62.7323 Q1424.84 58.0333 1424.84 49.9314 Q1424.84 41.8701 1421.36 37.1711 Q1417.87 32.4315 1411.92 32.4315 M1411.92 26.1121 Q1421.64 26.1121 1427.19 32.4315 Q1432.74 38.7509 1432.74 49.9314 Q1432.74 61.0714 1427.19 67.4314 Q1421.64 73.7508 1411.92 73.7508 Q1402.15 73.7508 1396.6 67.4314 Q1391.09 61.0714 1391.09 49.9314 Q1391.09 38.7509 1396.6 32.4315 Q1402.15 26.1121 1411.92 26.1121 Z\" fill=\"#000000\" fill-rule=\"nonzero\" fill-opacity=\"1\" /><path clip-path=\"url(#clip720)\" d=\"M1474.95 34.0924 L1474.95 9.54393 L1482.4 9.54393 L1482.4 72.576 L1474.95 72.576 L1474.95 65.7705 Q1472.6 69.8214 1468.99 71.8063 Q1465.43 73.7508 1460.41 73.7508 Q1452.18 73.7508 1447 67.1883 Q1441.85 60.6258 1441.85 49.9314 Q1441.85 39.2371 1447 32.6746 Q1452.18 26.1121 1460.41 26.1121 Q1465.43 26.1121 1468.99 28.0971 Q1472.6 30.0415 1474.95 34.0924 M1449.55 49.9314 Q1449.55 58.1548 1452.91 62.8538 Q1456.31 67.5124 1462.23 67.5124 Q1468.14 67.5124 1471.55 62.8538 Q1474.95 58.1548 1474.95 49.9314 Q1474.95 41.7081 1471.55 37.0496 Q1468.14 32.3505 1462.23 32.3505 Q1456.31 32.3505 1452.91 37.0496 Q1449.55 41.7081 1449.55 49.9314 Z\" fill=\"#000000\" fill-rule=\"nonzero\" fill-opacity=\"1\" /><path clip-path=\"url(#clip720)\" d=\"M1519.79 27.2059 L1527.25 27.2059 L1536.56 62.6108 L1545.84 27.2059 L1554.63 27.2059 L1563.95 62.6108 L1573.22 27.2059 L1580.68 27.2059 L1568.81 72.576 L1560.02 72.576 L1550.25 35.3887 L1540.45 72.576 L1531.66 72.576 L1519.79 27.2059 Z\" fill=\"#000000\" fill-rule=\"nonzero\" fill-opacity=\"1\" /><path clip-path=\"url(#clip720)\" d=\"M1612.6 49.7694 Q1603.56 49.7694 1600.08 51.8354 Q1596.6 53.9013 1596.6 58.8839 Q1596.6 62.8538 1599.19 65.2034 Q1601.82 67.5124 1606.32 67.5124 Q1612.52 67.5124 1616.24 63.1374 Q1620.01 58.7219 1620.01 51.4303 L1620.01 49.7694 L1612.6 49.7694 M1627.47 46.6907 L1627.47 72.576 L1620.01 72.576 L1620.01 65.6895 Q1617.46 69.8214 1613.65 71.8063 Q1609.84 73.7508 1604.33 73.7508 Q1597.37 73.7508 1593.24 69.8619 Q1589.14 65.9325 1589.14 59.3701 Q1589.14 51.7138 1594.25 47.825 Q1599.39 43.9361 1609.56 43.9361 L1620.01 43.9361 L1620.01 43.2069 Q1620.01 38.0623 1616.61 35.2672 Q1613.25 32.4315 1607.13 32.4315 Q1603.24 32.4315 1599.55 33.3632 Q1595.87 34.295 1592.47 36.1584 L1592.47 29.2718 Q1596.56 27.692 1600.41 26.9223 Q1604.25 26.1121 1607.9 26.1121 Q1617.74 26.1121 1622.6 31.2163 Q1627.47 36.3204 1627.47 46.6907 Z\" fill=\"#000000\" fill-rule=\"nonzero\" fill-opacity=\"1\" /><path clip-path=\"url(#clip720)\" d=\"M1669.11 34.1734 Q1667.85 33.4443 1666.35 33.1202 Q1664.9 32.7556 1663.11 32.7556 Q1656.79 32.7556 1653.39 36.8875 Q1650.03 40.9789 1650.03 48.6757 L1650.03 72.576 L1642.53 72.576 L1642.53 27.2059 L1650.03 27.2059 L1650.03 34.2544 Q1652.38 30.1225 1656.15 28.1376 Q1659.91 26.1121 1665.3 26.1121 Q1666.07 26.1121 1667 26.2337 Q1667.93 26.3147 1669.07 26.5172 L1669.11 34.1734 Z\" fill=\"#000000\" fill-rule=\"nonzero\" fill-opacity=\"1\" /><path clip-path=\"url(#clip720)\" d=\"M1684.3 14.324 L1684.3 27.2059 L1699.65 27.2059 L1699.65 32.9987 L1684.3 32.9987 L1684.3 57.6282 Q1684.3 63.1779 1685.8 64.7578 Q1687.34 66.3376 1692 66.3376 L1699.65 66.3376 L1699.65 72.576 L1692 72.576 Q1683.37 72.576 1680.09 69.3758 Q1676.81 66.1351 1676.81 57.6282 L1676.81 32.9987 L1671.34 32.9987 L1671.34 27.2059 L1676.81 27.2059 L1676.81 14.324 L1684.3 14.324 Z\" fill=\"#000000\" fill-rule=\"nonzero\" fill-opacity=\"1\" /><path clip-path=\"url(#clip720)\" d=\"M1727.04 32.4315 Q1721.04 32.4315 1717.56 37.1306 Q1714.07 41.7891 1714.07 49.9314 Q1714.07 58.0738 1717.52 62.7728 Q1721 67.4314 1727.04 67.4314 Q1732.99 67.4314 1736.48 62.7323 Q1739.96 58.0333 1739.96 49.9314 Q1739.96 41.8701 1736.48 37.1711 Q1732.99 32.4315 1727.04 32.4315 M1727.04 26.1121 Q1736.76 26.1121 1742.31 32.4315 Q1747.86 38.7509 1747.86 49.9314 Q1747.86 61.0714 1742.31 67.4314 Q1736.76 73.7508 1727.04 73.7508 Q1717.27 73.7508 1711.72 67.4314 Q1706.21 61.0714 1706.21 49.9314 Q1706.21 38.7509 1711.72 32.4315 Q1717.27 26.1121 1727.04 26.1121 Z\" fill=\"#000000\" fill-rule=\"nonzero\" fill-opacity=\"1\" /><path clip-path=\"url(#clip720)\" d=\"M1781.44 5.93863 L1789.5 5.93863 L1776.3 21.17 L1770.1 21.17 L1781.44 5.93863 M1789.14 28.5427 L1789.14 35.5912 Q1785.98 33.9709 1782.57 33.1607 Q1779.17 32.3505 1775.53 32.3505 Q1769.98 32.3505 1767.18 34.0519 Q1764.43 35.7533 1764.43 39.156 Q1764.43 41.7486 1766.41 43.2475 Q1768.4 44.7058 1774.39 46.0426 L1776.94 46.6097 Q1784.88 48.3111 1788.21 51.4303 Q1791.57 54.509 1791.57 60.0587 Q1791.57 66.3781 1786.54 70.0644 Q1781.56 73.7508 1772.81 73.7508 Q1769.17 73.7508 1765.2 73.0216 Q1761.27 72.3329 1756.89 70.9151 L1756.89 63.2184 Q1761.02 65.3654 1765.03 66.4591 Q1769.04 67.5124 1772.97 67.5124 Q1778.24 67.5124 1781.08 65.73 Q1783.91 63.9071 1783.91 60.6258 Q1783.91 57.5877 1781.85 55.9673 Q1779.82 54.3469 1772.89 52.8481 L1770.3 52.2405 Q1763.37 50.7821 1760.29 47.7845 Q1757.22 44.7463 1757.22 39.4801 Q1757.22 33.0797 1761.75 29.5959 Q1766.29 26.1121 1774.63 26.1121 Q1778.77 26.1121 1782.41 26.7198 Q1786.06 27.3274 1789.14 28.5427 Z\" fill=\"#000000\" fill-rule=\"nonzero\" fill-opacity=\"1\" /><path clip-path=\"url(#clip720)\" d=\"M1836.09 28.9478 L1836.09 35.9153 Q1832.93 34.1734 1829.73 33.3227 Q1826.57 32.4315 1823.33 32.4315 Q1816.08 32.4315 1812.06 37.0496 Q1808.05 41.6271 1808.05 49.9314 Q1808.05 58.2358 1812.06 62.8538 Q1816.08 67.4314 1823.33 67.4314 Q1826.57 67.4314 1829.73 66.5807 Q1832.93 65.6895 1836.09 63.9476 L1836.09 70.8341 Q1832.97 72.2924 1829.61 73.0216 Q1826.28 73.7508 1822.52 73.7508 Q1812.27 73.7508 1806.23 67.3098 Q1800.2 60.8689 1800.2 49.9314 Q1800.2 38.832 1806.27 32.472 Q1812.39 26.1121 1823 26.1121 Q1826.45 26.1121 1829.73 26.8413 Q1833.01 27.5299 1836.09 28.9478 Z\" fill=\"#000000\" fill-rule=\"nonzero\" fill-opacity=\"1\" /><path clip-path=\"url(#clip720)\" d=\"M1849.05 27.2059 L1856.5 27.2059 L1856.5 72.576 L1849.05 72.576 L1849.05 27.2059 M1849.05 9.54393 L1856.5 9.54393 L1856.5 18.9825 L1849.05 18.9825 L1849.05 9.54393 Z\" fill=\"#000000\" fill-rule=\"nonzero\" fill-opacity=\"1\" /><path clip-path=\"url(#clip720)\" d=\"M1898.47 9.54393 L1905.92 9.54393 L1905.92 72.576 L1898.47 72.576 L1898.47 9.54393 Z\" fill=\"#000000\" fill-rule=\"nonzero\" fill-opacity=\"1\" /><path clip-path=\"url(#clip720)\" d=\"M1921.52 27.2059 L1928.97 27.2059 L1928.97 72.576 L1921.52 72.576 L1921.52 27.2059 M1921.52 9.54393 L1928.97 9.54393 L1928.97 18.9825 L1921.52 18.9825 L1921.52 9.54393 Z\" fill=\"#000000\" fill-rule=\"nonzero\" fill-opacity=\"1\" /><path clip-path=\"url(#clip720)\" d=\"M1977.22 28.9478 L1977.22 35.9153 Q1974.06 34.1734 1970.86 33.3227 Q1967.7 32.4315 1964.46 32.4315 Q1957.21 32.4315 1953.2 37.0496 Q1949.19 41.6271 1949.19 49.9314 Q1949.19 58.2358 1953.2 62.8538 Q1957.21 67.4314 1964.46 67.4314 Q1967.7 67.4314 1970.86 66.5807 Q1974.06 65.6895 1977.22 63.9476 L1977.22 70.8341 Q1974.1 72.2924 1970.74 73.0216 Q1967.42 73.7508 1963.65 73.7508 Q1953.4 73.7508 1947.37 67.3098 Q1941.33 60.8689 1941.33 49.9314 Q1941.33 38.832 1947.41 32.472 Q1953.52 26.1121 1964.14 26.1121 Q1967.58 26.1121 1970.86 26.8413 Q1974.14 27.5299 1977.22 28.9478 Z\" fill=\"#000000\" fill-rule=\"nonzero\" fill-opacity=\"1\" /><path clip-path=\"url(#clip720)\" d=\"M1986.94 27.2059 L2022.35 27.2059 L2022.35 34.0114 L1994.32 66.6212 L2022.35 66.6212 L2022.35 72.576 L1985.93 72.576 L1985.93 65.7705 L2013.96 33.1607 L1986.94 33.1607 L1986.94 27.2059 Z\" fill=\"#000000\" fill-rule=\"nonzero\" fill-opacity=\"1\" /><path clip-path=\"url(#clip720)\" d=\"M2066.3 49.9314 Q2066.3 41.7081 2062.9 37.0496 Q2059.53 32.3505 2053.62 32.3505 Q2047.71 32.3505 2044.3 37.0496 Q2040.94 41.7081 2040.94 49.9314 Q2040.94 58.1548 2044.3 62.8538 Q2047.71 67.5124 2053.62 67.5124 Q2059.53 67.5124 2062.9 62.8538 Q2066.3 58.1548 2066.3 49.9314 M2040.94 34.0924 Q2043.29 30.0415 2046.86 28.0971 Q2050.46 26.1121 2055.44 26.1121 Q2063.71 26.1121 2068.85 32.6746 Q2074.04 39.2371 2074.04 49.9314 Q2074.04 60.6258 2068.85 67.1883 Q2063.71 73.7508 2055.44 73.7508 Q2050.46 73.7508 2046.86 71.8063 Q2043.29 69.8214 2040.94 65.7705 L2040.94 72.576 L2033.45 72.576 L2033.45 9.54393 L2040.94 9.54393 L2040.94 34.0924 Z\" fill=\"#000000\" fill-rule=\"nonzero\" fill-opacity=\"1\" /><path clip-path=\"url(#clip720)\" d=\"M2105.27 76.7889 Q2102.11 84.8907 2099.11 87.3618 Q2096.11 89.8329 2091.09 89.8329 L2085.14 89.8329 L2085.14 83.5945 L2089.51 83.5945 Q2092.59 83.5945 2094.29 82.1361 Q2095.99 80.6778 2098.06 75.2496 L2099.4 71.8468 L2081.04 27.2059 L2088.94 27.2059 L2103.12 62.6918 L2117.3 27.2059 L2125.2 27.2059 L2105.27 76.7889 Z\" fill=\"#000000\" fill-rule=\"nonzero\" fill-opacity=\"1\" /><polyline clip-path=\"url(#clip722)\" style=\"stroke:#009af9; stroke-linecap:round; stroke-linejoin:round; stroke-width:4; stroke-opacity:1; fill:none\" points=\"334.841,1374.46 1314.69,799.146 1412.92,735.223 1470.39,671.299 1511.18,671.299 1542.81,607.375 1568.66,607.375 1590.52,607.375 1609.45,607.375 1626.15,543.451 1641.09,543.451 1654.61,543.451 1666.94,543.451 1678.29,543.451 1688.8,543.451 1698.58,543.451 1707.74,543.451 1716.33,479.527 1724.44,479.527 1732.1,479.527 1739.38,479.527 1746.3,479.527 1752.89,479.527 1759.2,479.527 1765.23,479.527 1771.02,479.527 1776.58,479.527 1781.93,479.527 1787.09,479.527 1792.07,479.527 1796.87,479.527 1801.52,479.527 1806.02,479.527 1810.39,415.604 1814.62,415.604 1818.73,415.604 1822.73,415.604 1826.61,415.604 1830.39,415.604 1834.08,415.604 1837.67,415.604 1841.17,415.604 1844.59,415.604 1847.92,415.604 1851.18,415.604 1854.37,415.604 1857.49,415.604 1860.54,415.604 1863.52,415.604 1866.44,415.604 1869.31,415.604 1872.12,415.604 1874.87,415.604 1877.57,415.604 1880.22,415.604 1882.82,415.604 1885.38,415.604 1887.89,415.604 1890.36,415.604 1892.78,415.604 1895.16,415.604 1897.51,415.604 1899.81,415.604 1902.08,415.604 1904.32,415.604 1906.51,415.604 1908.68,351.68 1910.81,351.68 1912.91,351.68 1914.98,351.68 1917.02,351.68 1919.03,351.68 1921.02,351.68 1922.97,351.68 1924.9,351.68 1926.81,351.68 1928.68,351.68 1930.54,351.68 1932.37,351.68 1934.17,351.68 1935.96,351.68 1937.72,351.68 1939.46,351.68 1941.18,351.68 1942.88,351.68 1944.56,351.68 1946.21,351.68 1947.85,351.68 1949.47,351.68 1951.08,351.68 1952.66,351.68 1954.23,351.68 1955.78,351.68 1957.31,351.68 1958.83,351.68 1960.33,351.68 1961.81,351.68 1963.28,351.68 1964.74,351.68 1966.18,351.68 1967.6,351.68 1969.01,351.68 1970.41,351.68 1971.79,351.68 1973.16,351.68 1974.52,351.68 1975.86,351.68 1977.2,351.68 1978.51,351.68 1979.82,351.68 1981.12,351.68 1982.4,351.68 1983.67,351.68 1984.93,351.68 1986.18,351.68 1987.42,351.68 1988.65,351.68 1989.87,351.68 1991.07,351.68 1992.27,351.68 1993.46,351.68 1994.63,351.68 1995.8,351.68 1996.96,351.68 1998.11,351.68 1999.24,351.68 2000.37,351.68 2001.5,351.68 2002.61,351.68 2003.71,351.68 2004.81,351.68 2005.89,287.756 2006.97,287.756 2008.04,287.756 2009.1,287.756 2010.16,287.756 2011.2,287.756 2012.24,287.756 2013.27,287.756 2014.3,287.756 2015.32,287.756 2016.32,287.756 2017.33,287.756 2018.32,287.756 2019.31,287.756 2020.29,287.756 2021.27,287.756 2022.23,287.756 2023.2,287.756 2024.15,287.756 2025.1,287.756 2026.04,287.756 2026.98,287.756 2027.91,287.756 2028.83,287.756 2029.75,287.756 2030.66,287.756 2031.57,287.756 2032.47,287.756 2033.36,287.756 2034.25,287.756 2035.13,287.756 2036.01,287.756 2036.89,287.756 2037.75,287.756 2038.61,287.756 2039.47,287.756 2040.32,287.756 2041.17,287.756 2042.01,287.756 2042.85,287.756 2043.68,287.756 2044.51,287.756 2045.33,287.756 2046.15,287.756 2046.96,287.756 2047.77,287.756 2048.57,287.756 2049.37,287.756 2050.16,287.756 2050.95,287.756 2051.74,287.756 2052.52,287.756 2053.3,287.756 2054.07,287.756 2054.84,287.756 2055.6,287.756 2056.36,287.756 2057.12,287.756 2057.87,287.756 2058.62,287.756 2059.36,287.756 2060.11,287.756 2060.84,287.756 2061.57,287.756 2062.3,287.756 2063.03,287.756 2063.75,287.756 2064.47,287.756 2065.18,287.756 2065.89,287.756 2066.6,287.756 2067.31,287.756 2068.01,287.756 2068.7,287.756 2069.4,287.756 2070.09,287.756 2070.77,287.756 2071.46,287.756 2072.14,287.756 2072.81,287.756 2073.49,287.756 2074.16,287.756 2074.82,287.756 2075.49,287.756 2076.15,287.756 2076.81,287.756 2077.46,287.756 2078.11,287.756 2078.76,287.756 2079.41,287.756 2080.05,287.756 2080.69,287.756 2081.33,287.756 2081.96,287.756 2082.6,287.756 2083.23,287.756 2083.85,287.756 2084.47,287.756 2085.1,287.756 2085.71,287.756 2086.33,287.756 2086.94,287.756 2087.55,287.756 2088.16,287.756 2088.76,287.756 2089.37,287.756 2089.96,287.756 2090.56,287.756 2091.16,287.756 2091.75,287.756 2092.34,287.756 2092.93,287.756 2093.51,287.756 2094.09,287.756 2094.67,287.756 2095.25,287.756 2095.83,287.756 2096.4,287.756 2096.97,287.756 2097.54,287.756 2098.1,287.756 2098.67,287.756 2099.23,287.756 2099.79,287.756 2100.35,287.756 2100.9,287.756 2101.45,287.756 2102,287.756 2102.55,287.756 2103.1,287.756 2103.64,287.756 2104.19,223.832 2104.73,223.832 2105.26,223.832 2105.8,223.832 2106.33,223.832 2106.87,223.832 2107.4,223.832 2107.92,223.832 2108.45,223.832 2108.98,223.832 2109.5,223.832 2110.02,223.832 2110.54,223.832 2111.05,223.832 2111.57,223.832 2112.08,223.832 2112.59,223.832 2113.1,223.832 2113.61,223.832 2114.11,223.832 2114.62,223.832 2115.12,223.832 2115.62,223.832 2116.12,223.832 2116.61,223.832 2117.11,223.832 2117.6,223.832 2118.09,223.832 2118.58,223.832 2119.07,223.832 2119.56,223.832 2120.04,223.832 2120.53,223.832 2121.01,223.832 2121.49,223.832 2121.97,223.832 2122.44,223.832 2122.92,223.832 2123.39,223.832 2123.86,223.832 2124.33,223.832 2124.8,223.832 2125.27,223.832 2125.74,223.832 2126.2,223.832 2126.66,223.832 2127.12,223.832 2127.58,223.832 2128.04,223.832 2128.5,223.832 2128.95,223.832 2129.41,223.832 2129.86,223.832 2130.31,223.832 2130.76,223.832 2131.21,223.832 2131.65,223.832 2132.1,223.832 2132.54,223.832 2132.99,223.832 2133.43,223.832 2133.87,223.832 2134.31,223.832 2134.74,223.832 2135.18,223.832 2135.61,223.832 2136.05,223.832 2136.48,223.832 2136.91,223.832 2137.34,223.832 2137.76,223.832 2138.19,223.832 2138.62,223.832 2139.04,223.832 2139.46,223.832 2139.88,223.832 2140.3,223.832 2140.72,223.832 2141.14,223.832 2141.56,223.832 2141.97,223.832 2142.39,223.832 2142.8,223.832 2143.21,223.832 2143.62,223.832 2144.03,223.832 2144.44,223.832 2144.85,223.832 2145.25,223.832 2145.66,223.832 2146.06,223.832 2146.46,223.832 2146.86,223.832 2147.26,223.832 2147.66,223.832 2148.06,223.832 2148.46,223.832 2148.85,223.832 2149.25,223.832 2149.64,223.832 2150.03,223.832 2150.42,223.832 2150.81,223.832 2151.2,223.832 2151.59,223.832 2151.98,223.832 2152.36,223.832 2152.75,223.832 2153.13,223.832 2153.51,223.832 2153.9,223.832 2154.28,223.832 2154.66,223.832 2155.04,223.832 2155.41,223.832 2155.79,223.832 2156.16,223.832 2156.54,223.832 2156.91,223.832 2157.29,223.832 2157.66,223.832 2158.03,223.832 2158.4,223.832 2158.77,223.832 2159.13,223.832 2159.5,223.832 2159.87,223.832 2160.23,223.832 2160.6,223.832 2160.96,223.832 2161.32,223.832 2161.68,223.832 2162.04,223.832 2162.4,223.832 2162.76,223.832 2163.12,223.832 2163.48,223.832 2163.83,223.832 2164.19,223.832 2164.54,223.832 2164.89,223.832 2165.25,223.832 2165.6,223.832 2165.95,223.832 2166.3,223.832 2166.65,223.832 2167,223.832 2167.34,223.832 2167.69,223.832 2168.03,223.832 2168.38,223.832 2168.72,223.832 2169.07,223.832 2169.41,223.832 2169.75,223.832 2170.09,223.832 2170.43,223.832 2170.77,223.832 2171.11,223.832 2171.44,223.832 2171.78,223.832 2172.12,223.832 2172.45,223.832 2172.78,223.832 2173.12,223.832 2173.45,223.832 2173.78,223.832 2174.11,223.832 2174.44,223.832 2174.77,223.832 2175.1,223.832 2175.43,223.832 2175.76,223.832 2176.08,223.832 2176.41,223.832 2176.73,223.832 2177.06,223.832 2177.38,223.832 2177.7,223.832 2178.02,223.832 2178.35,223.832 2178.67,223.832 2178.99,223.832 2179.31,223.832 2179.62,223.832 2179.94,223.832 2180.26,223.832 2180.57,223.832 2180.89,223.832 2181.2,223.832 2181.52,223.832 2181.83,223.832 2182.14,223.832 2182.46,223.832 2182.77,223.832 2183.08,223.832 2183.39,223.832 2183.7,223.832 2184.01,223.832 2184.31,223.832 2184.62,223.832 2184.93,223.832 2185.23,223.832 2185.54,223.832 2185.84,223.832 2186.15,223.832 2186.45,223.832 2186.75,223.832 2187.06,223.832 2187.36,223.832 2187.66,223.832 2187.96,223.832 2188.26,223.832 2188.56,223.832 2188.85,223.832 2189.15,223.832 2189.45,223.832 2189.75,223.832 2190.04,223.832 2190.34,223.832 2190.63,223.832 2190.93,223.832 2191.22,223.832 2191.51,223.832 2191.8,223.832 2192.09,223.832 2192.39,223.832 2192.68,223.832 2192.97,223.832 2193.25,223.832 2193.54,223.832 2193.83,223.832 2194.12,223.832 2194.41,223.832 2194.69,223.832 2194.98,223.832 2195.26,223.832 2195.55,223.832 2195.83,223.832 2196.11,223.832 2196.4,223.832 2196.68,223.832 2196.96,223.832 2197.24,223.832 2197.52,223.832 2197.8,223.832 2198.08,223.832 2198.36,223.832 2198.64,223.832 2198.92,223.832 2199.19,223.832 2199.47,223.832 2199.75,223.832 2200.02,223.832 2200.3,223.832 2200.57,223.832 2200.85,223.832 2201.12,223.832 2201.39,223.832 2201.66,223.832 2201.94,223.832 2202.21,223.832 2202.48,159.909 2202.75,159.909 2203.02,159.909 2203.29,159.909 2203.56,159.909 2203.83,159.909 2204.09,159.909 2204.36,159.909 2204.63,159.909 2204.89,159.909 2205.16,159.909 2205.42,159.909 2205.69,159.909 2205.95,159.909 2206.22,159.909 2206.48,159.909 2206.74,159.909 2207.01,159.909 2207.27,159.909 2207.53,159.909 2207.79,159.909 2208.05,159.909 2208.31,159.909 2208.57,159.909 2208.83,159.909 2209.09,159.909 2209.35,159.909 2209.6,159.909 2209.86,159.909 2210.12,159.909 2210.37,159.909 2210.63,159.909 2210.88,159.909 2211.14,159.909 2211.39,159.909 2211.65,159.909 2211.9,159.909 2212.15,159.909 2212.41,159.909 2212.66,159.909 2212.91,159.909 2213.16,159.909 2213.41,159.909 2213.66,159.909 2213.91,159.909 2214.16,159.909 2214.41,159.909 2214.66,159.909 2214.91,159.909 2215.16,159.909 2215.4,159.909 2215.65,159.909 2215.9,159.909 2216.14,159.909 2216.39,159.909 2216.63,159.909 2216.88,159.909 2217.12,159.909 2217.37,159.909 2217.61,159.909 2217.85,159.909 2218.09,159.909 2218.34,159.909 2218.58,159.909 2218.82,159.909 2219.06,159.909 2219.3,159.909 2219.54,159.909 2219.78,159.909 2220.02,159.909 2220.26,159.909 2220.5,159.909 2220.74,159.909 2220.97,159.909 2221.21,159.909 2221.45,159.909 2221.68,159.909 2221.92,159.909 2222.16,159.909 2222.39,159.909 2222.63,159.909 2222.86,159.909 2223.1,159.909 2223.33,159.909 2223.56,159.909 2223.8,159.909 2224.03,159.909 2224.26,159.909 2224.49,159.909 2224.72,159.909 2224.96,159.909 2225.19,159.909 2225.42,159.909 2225.65,159.909 2225.88,159.909 2226.11,159.909 2226.33,159.909 2226.56,159.909 2226.79,159.909 2227.02,159.909 2227.25,159.909 2227.47,159.909 2227.7,159.909 2227.93,159.909 2228.15,159.909 2228.38,159.909 2228.6,159.909 2228.83,159.909 2229.05,159.909 2229.28,159.909 2229.5,159.909 2229.72,159.909 2229.95,159.909 2230.17,159.909 2230.39,159.909 2230.62,159.909 2230.84,159.909 2231.06,159.909 2231.28,159.909 2231.5,159.909 2231.72,159.909 2231.94,159.909 2232.16,159.909 2232.38,159.909 2232.6,159.909 2232.82,159.909 2233.04,159.909 2233.25,159.909 2233.47,159.909 2233.69,159.909 2233.91,159.909 2234.12,159.909 2234.34,159.909 2234.55,159.909 2234.77,159.909 2234.99,159.909 2235.2,159.909 2235.42,159.909 2235.63,159.909 2235.84,159.909 2236.06,159.909 2236.27,159.909 2236.48,159.909 2236.7,159.909 2236.91,159.909 2237.12,159.909 2237.33,159.909 2237.54,159.909 2237.76,159.909 2237.97,159.909 2238.18,159.909 2238.39,159.909 2238.6,159.909 2238.81,159.909 2239.02,159.909 2239.23,159.909 2239.43,159.909 2239.64,159.909 2239.85,159.909 2240.06,159.909 2240.27,159.909 2240.47,159.909 2240.68,159.909 2240.89,159.909 2241.09,159.909 2241.3,159.909 2241.5,159.909 2241.71,159.909 2241.91,159.909 2242.12,159.909 2242.32,159.909 2242.53,159.909 2242.73,159.909 2242.94,159.909 2243.14,159.909 2243.34,159.909 2243.54,159.909 2243.75,159.909 2243.95,159.909 2244.15,159.909 2244.35,159.909 2244.55,159.909 2244.75,159.909 2244.96,159.909 2245.16,159.909 2245.36,159.909 2245.56,159.909 2245.76,159.909 2245.95,159.909 2246.15,159.909 2246.35,159.909 2246.55,159.909 2246.75,159.909 2246.95,159.909 2247.14,159.909 2247.34,159.909 2247.54,159.909 2247.74,159.909 2247.93,159.909 2248.13,159.909 2248.32,159.909 2248.52,159.909 2248.72,159.909 2248.91,159.909 2249.11,159.909 2249.3,159.909 2249.5,159.909 2249.69,159.909 2249.88,159.909 2250.08,159.909 2250.27,159.909 2250.46,159.909 2250.66,159.909 2250.85,159.909 2251.04,159.909 2251.23,159.909 2251.42,159.909 2251.62,159.909 2251.81,159.909 2252,159.909 2252.19,159.909 2252.38,159.909 2252.57,159.909 2252.76,159.909 2252.95,159.909 2253.14,159.909 2253.33,159.909 2253.52,159.909 2253.71,159.909 2253.89,159.909 2254.08,159.909 2254.27,159.909 2254.46,159.909 2254.65,159.909 2254.83,159.909 2255.02,159.909 2255.21,159.909 2255.39,159.909 2255.58,159.909 2255.77,159.909 2255.95,159.909 2256.14,159.909 2256.32,159.909 2256.51,159.909 2256.69,159.909 2256.88,159.909 2257.06,159.909 2257.24,159.909 2257.43,159.909 2257.61,159.909 2257.79,159.909 2257.98,159.909 2258.16,159.909 2258.34,159.909 2258.53,159.909 2258.71,159.909 2258.89,159.909 2259.07,159.909 2259.25,159.909 2259.43,159.909 2259.62,159.909 2259.8,159.909 2259.98,159.909 2260.16,159.909 2260.34,159.909 2260.52,159.909 2260.7,159.909 2260.88,159.909 2261.05,159.909 2261.23,159.909 2261.41,159.909 2261.59,159.909 2261.77,159.909 2261.95,159.909 2262.13,159.909 2262.3,159.909 2262.48,159.909 2262.66,159.909 2262.83,159.909 2263.01,159.909 2263.19,159.909 2263.36,159.909 2263.54,159.909 2263.72,159.909 2263.89,159.909 2264.07,159.909 2264.24,159.909 2264.42,159.909 2264.59,159.909 2264.77,159.909 2264.94,159.909 2265.11,159.909 2265.29,159.909 2265.46,159.909 2265.64,159.909 2265.81,159.909 2265.98,159.909 2266.15,159.909 2266.33,159.909 2266.5,159.909 2266.67,159.909 2266.84,159.909 2267.02,159.909 2267.19,159.909 2267.36,159.909 2267.53,159.909 2267.7,159.909 2267.87,159.909 2268.04,159.909 2268.21,159.909 2268.38,159.909 2268.55,159.909 2268.72,159.909 2268.89,159.909 2269.06,159.909 2269.23,159.909 2269.4,159.909 2269.57,159.909 2269.74,159.909 2269.9,159.909 2270.07,159.909 2270.24,159.909 2270.41,159.909 2270.58,159.909 2270.74,159.909 2270.91,159.909 2271.08,159.909 2271.24,159.909 2271.41,159.909 2271.58,159.909 2271.74,159.909 2271.91,159.909 2272.07,159.909 2272.24,159.909 2272.41,159.909 2272.57,159.909 2272.74,159.909 2272.9,159.909 2273.07,159.909 2273.23,159.909 2273.39,159.909 2273.56,159.909 2273.72,159.909 2273.89,159.909 2274.05,159.909 2274.21,159.909 2274.38,159.909 2274.54,159.909 2274.7,159.909 2274.86,159.909 2275.03,159.909 2275.19,159.909 2275.35,159.909 2275.51,159.909 2275.67,159.909 2275.83,159.909 2276,159.909 2276.16,159.909 2276.32,159.909 2276.48,159.909 2276.64,159.909 2276.8,159.909 2276.96,159.909 2277.12,159.909 2277.28,159.909 2277.44,159.909 2277.6,159.909 2277.76,159.909 2277.92,159.909 2278.08,159.909 2278.23,159.909 2278.39,159.909 2278.55,159.909 2278.71,159.909 2278.87,159.909 2279.03,159.909 2279.18,159.909 2279.34,159.909 2279.5,159.909 2279.65,159.909 2279.81,159.909 2279.97,159.909 2280.12,159.909 2280.28,159.909 2280.44,159.909 2280.59,159.909 2280.75,159.909 2280.91,159.909 2281.06,159.909 2281.22,159.909 2281.37,159.909 2281.53,159.909 2281.68,159.909 2281.84,159.909 2281.99,159.909 2282.15,159.909 2282.3,159.909 2282.45,159.909 2282.61,159.909 2282.76,159.909 2282.91,159.909 2283.07,159.909 2283.22,159.909 2283.37,159.909 2283.53,159.909 2283.68,159.909 2283.83,159.909 2283.98,159.909 2284.14,159.909 2284.29,159.909 2284.44,159.909 2284.59,159.909 2284.74,159.909 2284.9,159.909 2285.05,159.909 2285.2,159.909 2285.35,159.909 2285.5,159.909 2285.65,159.909 2285.8,159.909 2285.95,159.909 2286.1,159.909 2286.25,159.909 2286.4,159.909 2286.55,159.909 2286.7,159.909 2286.85,159.909 2287,159.909 2287.15,159.909 2287.3,159.909 2287.45,159.909 2287.59,159.909 2287.74,159.909 2287.89,159.909 2288.04,159.909 2288.19,159.909 2288.33,159.909 2288.48,159.909 2288.63,159.909 2288.78,159.909 2288.92,159.909 2289.07,159.909 2289.22,159.909 2289.36,159.909 2289.51,159.909 2289.66,159.909 2289.8,159.909 2289.95,159.909 2290.1,159.909 2290.24,159.909 2290.39,159.909 2290.53,159.909 2290.68,159.909 2290.82,159.909 2290.97,159.909 2291.11,159.909 2291.26,159.909 2291.4,159.909 2291.55,159.909 2291.69,159.909 2291.84,159.909 2291.98,159.909 2292.12,159.909 2292.27,159.909 2292.41,159.909 2292.56,159.909 2292.7,159.909 2292.84,159.909 2292.98,159.909 2293.13,159.909 2293.27,159.909 2293.41,159.909 2293.56,159.909 2293.7,159.909 2293.84,159.909 2293.98,159.909 \"/>\n",
       "<path clip-path=\"url(#clip720)\" d=\"M2023.43 270.066 L2283.53 270.066 L2283.53 166.386 L2023.43 166.386  Z\" fill=\"#ffffff\" fill-rule=\"evenodd\" fill-opacity=\"1\"/>\n",
       "<polyline clip-path=\"url(#clip720)\" style=\"stroke:#000000; stroke-linecap:round; stroke-linejoin:round; stroke-width:4; stroke-opacity:1; fill:none\" points=\"2023.43,270.066 2283.53,270.066 2283.53,166.386 2023.43,166.386 2023.43,270.066 \"/>\n",
       "<polyline clip-path=\"url(#clip720)\" style=\"stroke:#009af9; stroke-linecap:round; stroke-linejoin:round; stroke-width:4; stroke-opacity:1; fill:none\" points=\"2046.51,218.226 2184.95,218.226 \"/>\n",
       "<path clip-path=\"url(#clip720)\" d=\"M2221.87 237.914 Q2220.07 242.543 2218.35 243.955 Q2216.64 245.367 2213.77 245.367 L2210.37 245.367 L2210.37 241.803 L2212.87 241.803 Q2214.63 241.803 2215.6 240.969 Q2216.57 240.136 2217.75 237.034 L2218.51 235.09 L2208.03 209.58 L2212.54 209.58 L2220.64 229.858 L2228.75 209.58 L2233.26 209.58 L2221.87 237.914 Z\" fill=\"#000000\" fill-rule=\"nonzero\" fill-opacity=\"1\" /><path clip-path=\"url(#clip720)\" d=\"M2240.55 231.571 L2248.19 231.571 L2248.19 205.206 L2239.88 206.872 L2239.88 202.613 L2248.14 200.946 L2252.82 200.946 L2252.82 231.571 L2260.46 231.571 L2260.46 235.506 L2240.55 235.506 L2240.55 231.571 Z\" fill=\"#000000\" fill-rule=\"nonzero\" fill-opacity=\"1\" /></svg>\n"
      ],
      "text/html": [
       "<?xml version=\"1.0\" encoding=\"utf-8\"?>\n",
       "<svg xmlns=\"http://www.w3.org/2000/svg\" xmlns:xlink=\"http://www.w3.org/1999/xlink\" width=\"600\" height=\"400\" viewBox=\"0 0 2400 1600\">\n",
       "<defs>\n",
       "  <clipPath id=\"clip770\">\n",
       "    <rect x=\"0\" y=\"0\" width=\"2400\" height=\"1600\"/>\n",
       "  </clipPath>\n",
       "</defs>\n",
       "<path clip-path=\"url(#clip770)\" d=\"M0 1600 L2400 1600 L2400 8.88178e-14 L0 8.88178e-14  Z\" fill=\"#ffffff\" fill-rule=\"evenodd\" fill-opacity=\"1\"/>\n",
       "<defs>\n",
       "  <clipPath id=\"clip771\">\n",
       "    <rect x=\"480\" y=\"0\" width=\"1681\" height=\"1600\"/>\n",
       "  </clipPath>\n",
       "</defs>\n",
       "<path clip-path=\"url(#clip770)\" d=\"M276.067 1410.9 L2352.76 1410.9 L2352.76 123.472 L276.067 123.472  Z\" fill=\"#ffffff\" fill-rule=\"evenodd\" fill-opacity=\"1\"/>\n",
       "<defs>\n",
       "  <clipPath id=\"clip772\">\n",
       "    <rect x=\"276\" y=\"123\" width=\"2078\" height=\"1288\"/>\n",
       "  </clipPath>\n",
       "</defs>\n",
       "<polyline clip-path=\"url(#clip772)\" style=\"stroke:#000000; stroke-linecap:round; stroke-linejoin:round; stroke-width:2; stroke-opacity:0.1; fill:none\" points=\"334.841,1410.9 334.841,123.472 \"/>\n",
       "<polyline clip-path=\"url(#clip772)\" style=\"stroke:#000000; stroke-linecap:round; stroke-linejoin:round; stroke-width:2; stroke-opacity:0.1; fill:none\" points=\"661.364,1410.9 661.364,123.472 \"/>\n",
       "<polyline clip-path=\"url(#clip772)\" style=\"stroke:#000000; stroke-linecap:round; stroke-linejoin:round; stroke-width:2; stroke-opacity:0.1; fill:none\" points=\"987.888,1410.9 987.888,123.472 \"/>\n",
       "<polyline clip-path=\"url(#clip772)\" style=\"stroke:#000000; stroke-linecap:round; stroke-linejoin:round; stroke-width:2; stroke-opacity:0.1; fill:none\" points=\"1314.41,1410.9 1314.41,123.472 \"/>\n",
       "<polyline clip-path=\"url(#clip772)\" style=\"stroke:#000000; stroke-linecap:round; stroke-linejoin:round; stroke-width:2; stroke-opacity:0.1; fill:none\" points=\"1640.93,1410.9 1640.93,123.472 \"/>\n",
       "<polyline clip-path=\"url(#clip772)\" style=\"stroke:#000000; stroke-linecap:round; stroke-linejoin:round; stroke-width:2; stroke-opacity:0.1; fill:none\" points=\"1967.46,1410.9 1967.46,123.472 \"/>\n",
       "<polyline clip-path=\"url(#clip772)\" style=\"stroke:#000000; stroke-linecap:round; stroke-linejoin:round; stroke-width:2; stroke-opacity:0.1; fill:none\" points=\"2293.98,1410.9 2293.98,123.472 \"/>\n",
       "<polyline clip-path=\"url(#clip772)\" style=\"stroke:#000000; stroke-linecap:round; stroke-linejoin:round; stroke-width:2; stroke-opacity:0.1; fill:none\" points=\"276.067,1235.68 2352.76,1235.68 \"/>\n",
       "<polyline clip-path=\"url(#clip772)\" style=\"stroke:#000000; stroke-linecap:round; stroke-linejoin:round; stroke-width:2; stroke-opacity:0.1; fill:none\" points=\"276.067,598.626 2352.76,598.626 \"/>\n",
       "<polyline clip-path=\"url(#clip770)\" style=\"stroke:#000000; stroke-linecap:round; stroke-linejoin:round; stroke-width:4; stroke-opacity:1; fill:none\" points=\"276.067,1410.9 2352.76,1410.9 \"/>\n",
       "<polyline clip-path=\"url(#clip770)\" style=\"stroke:#000000; stroke-linecap:round; stroke-linejoin:round; stroke-width:4; stroke-opacity:1; fill:none\" points=\"334.841,1410.9 334.841,1392 \"/>\n",
       "<polyline clip-path=\"url(#clip770)\" style=\"stroke:#000000; stroke-linecap:round; stroke-linejoin:round; stroke-width:4; stroke-opacity:1; fill:none\" points=\"661.364,1410.9 661.364,1392 \"/>\n",
       "<polyline clip-path=\"url(#clip770)\" style=\"stroke:#000000; stroke-linecap:round; stroke-linejoin:round; stroke-width:4; stroke-opacity:1; fill:none\" points=\"987.888,1410.9 987.888,1392 \"/>\n",
       "<polyline clip-path=\"url(#clip770)\" style=\"stroke:#000000; stroke-linecap:round; stroke-linejoin:round; stroke-width:4; stroke-opacity:1; fill:none\" points=\"1314.41,1410.9 1314.41,1392 \"/>\n",
       "<polyline clip-path=\"url(#clip770)\" style=\"stroke:#000000; stroke-linecap:round; stroke-linejoin:round; stroke-width:4; stroke-opacity:1; fill:none\" points=\"1640.93,1410.9 1640.93,1392 \"/>\n",
       "<polyline clip-path=\"url(#clip770)\" style=\"stroke:#000000; stroke-linecap:round; stroke-linejoin:round; stroke-width:4; stroke-opacity:1; fill:none\" points=\"1967.46,1410.9 1967.46,1392 \"/>\n",
       "<polyline clip-path=\"url(#clip770)\" style=\"stroke:#000000; stroke-linecap:round; stroke-linejoin:round; stroke-width:4; stroke-opacity:1; fill:none\" points=\"2293.98,1410.9 2293.98,1392 \"/>\n",
       "<path clip-path=\"url(#clip770)\" d=\"M299.824 1485.02 L307.463 1485.02 L307.463 1458.66 L299.153 1460.32 L299.153 1456.06 L307.416 1454.4 L312.092 1454.4 L312.092 1485.02 L319.731 1485.02 L319.731 1488.96 L299.824 1488.96 L299.824 1485.02 Z\" fill=\"#000000\" fill-rule=\"nonzero\" fill-opacity=\"1\" /><path clip-path=\"url(#clip770)\" d=\"M339.175 1457.48 Q335.564 1457.48 333.736 1461.04 Q331.93 1464.58 331.93 1471.71 Q331.93 1478.82 333.736 1482.38 Q335.564 1485.92 339.175 1485.92 Q342.81 1485.92 344.615 1482.38 Q346.444 1478.82 346.444 1471.71 Q346.444 1464.58 344.615 1461.04 Q342.81 1457.48 339.175 1457.48 M339.175 1453.77 Q344.986 1453.77 348.041 1458.38 Q351.12 1462.96 351.12 1471.71 Q351.12 1480.44 348.041 1485.04 Q344.986 1489.63 339.175 1489.63 Q333.365 1489.63 330.287 1485.04 Q327.231 1480.44 327.231 1471.71 Q327.231 1462.96 330.287 1458.38 Q333.365 1453.77 339.175 1453.77 Z\" fill=\"#000000\" fill-rule=\"nonzero\" fill-opacity=\"1\" /><path clip-path=\"url(#clip770)\" d=\"M360.825 1435.97 Q357.891 1435.97 356.405 1438.86 Q354.938 1441.74 354.938 1447.53 Q354.938 1453.31 356.405 1456.2 Q357.891 1459.08 360.825 1459.08 Q363.777 1459.08 365.244 1456.2 Q366.73 1453.31 366.73 1447.53 Q366.73 1441.74 365.244 1438.86 Q363.777 1435.97 360.825 1435.97 M360.825 1432.96 Q365.545 1432.96 368.028 1436.7 Q370.529 1440.43 370.529 1447.53 Q370.529 1454.62 368.028 1458.37 Q365.545 1462.09 360.825 1462.09 Q356.104 1462.09 353.602 1458.37 Q351.12 1454.62 351.12 1447.53 Q351.12 1440.43 353.602 1436.7 Q356.104 1432.96 360.825 1432.96 Z\" fill=\"#000000\" fill-rule=\"nonzero\" fill-opacity=\"1\" /><path clip-path=\"url(#clip770)\" d=\"M627.692 1485.02 L635.331 1485.02 L635.331 1458.66 L627.021 1460.32 L627.021 1456.06 L635.285 1454.4 L639.96 1454.4 L639.96 1485.02 L647.599 1485.02 L647.599 1488.96 L627.692 1488.96 L627.692 1485.02 Z\" fill=\"#000000\" fill-rule=\"nonzero\" fill-opacity=\"1\" /><path clip-path=\"url(#clip770)\" d=\"M667.044 1457.48 Q663.433 1457.48 661.604 1461.04 Q659.798 1464.58 659.798 1471.71 Q659.798 1478.82 661.604 1482.38 Q663.433 1485.92 667.044 1485.92 Q670.678 1485.92 672.483 1482.38 Q674.312 1478.82 674.312 1471.71 Q674.312 1464.58 672.483 1461.04 Q670.678 1457.48 667.044 1457.48 M667.044 1453.77 Q672.854 1453.77 675.909 1458.38 Q678.988 1462.96 678.988 1471.71 Q678.988 1480.44 675.909 1485.04 Q672.854 1489.63 667.044 1489.63 Q661.234 1489.63 658.155 1485.04 Q655.099 1480.44 655.099 1471.71 Q655.099 1462.96 658.155 1458.38 Q661.234 1453.77 667.044 1453.77 Z\" fill=\"#000000\" fill-rule=\"nonzero\" fill-opacity=\"1\" /><path clip-path=\"url(#clip770)\" d=\"M679.533 1458.35 L685.74 1458.35 L685.74 1436.93 L678.988 1438.28 L678.988 1434.82 L685.702 1433.47 L689.502 1433.47 L689.502 1458.35 L695.708 1458.35 L695.708 1461.55 L679.533 1461.55 L679.533 1458.35 Z\" fill=\"#000000\" fill-rule=\"nonzero\" fill-opacity=\"1\" /><path clip-path=\"url(#clip770)\" d=\"M953.661 1485.02 L961.299 1485.02 L961.299 1458.66 L952.989 1460.32 L952.989 1456.06 L961.253 1454.4 L965.929 1454.4 L965.929 1485.02 L973.568 1485.02 L973.568 1488.96 L953.661 1488.96 L953.661 1485.02 Z\" fill=\"#000000\" fill-rule=\"nonzero\" fill-opacity=\"1\" /><path clip-path=\"url(#clip770)\" d=\"M993.012 1457.48 Q989.401 1457.48 987.573 1461.04 Q985.767 1464.58 985.767 1471.71 Q985.767 1478.82 987.573 1482.38 Q989.401 1485.92 993.012 1485.92 Q996.647 1485.92 998.452 1482.38 Q1000.28 1478.82 1000.28 1471.71 Q1000.28 1464.58 998.452 1461.04 Q996.647 1457.48 993.012 1457.48 M993.012 1453.77 Q998.822 1453.77 1001.88 1458.38 Q1004.96 1462.96 1004.96 1471.71 Q1004.96 1480.44 1001.88 1485.04 Q998.822 1489.63 993.012 1489.63 Q987.202 1489.63 984.123 1485.04 Q981.068 1480.44 981.068 1471.71 Q981.068 1462.96 984.123 1458.38 Q987.202 1453.77 993.012 1453.77 Z\" fill=\"#000000\" fill-rule=\"nonzero\" fill-opacity=\"1\" /><path clip-path=\"url(#clip770)\" d=\"M1009.53 1458.35 L1022.79 1458.35 L1022.79 1461.55 L1004.96 1461.55 L1004.96 1458.35 Q1007.12 1456.11 1010.84 1452.35 Q1014.59 1448.57 1015.55 1447.48 Q1017.37 1445.43 1018.08 1444.02 Q1018.82 1442.59 1018.82 1441.22 Q1018.82 1438.98 1017.24 1437.57 Q1015.68 1436.16 1013.16 1436.16 Q1011.37 1436.16 1009.38 1436.78 Q1007.4 1437.4 1005.14 1438.66 L1005.14 1434.82 Q1007.44 1433.9 1009.43 1433.43 Q1011.43 1432.96 1013.08 1432.96 Q1017.45 1432.96 1020.04 1435.14 Q1022.64 1437.32 1022.64 1440.97 Q1022.64 1442.7 1021.98 1444.26 Q1021.34 1445.8 1019.63 1447.91 Q1019.16 1448.46 1016.64 1451.07 Q1014.12 1453.67 1009.53 1458.35 Z\" fill=\"#000000\" fill-rule=\"nonzero\" fill-opacity=\"1\" /><path clip-path=\"url(#clip770)\" d=\"M1279.85 1485.02 L1287.49 1485.02 L1287.49 1458.66 L1279.18 1460.32 L1279.18 1456.06 L1287.45 1454.4 L1292.12 1454.4 L1292.12 1485.02 L1299.76 1485.02 L1299.76 1488.96 L1279.85 1488.96 L1279.85 1485.02 Z\" fill=\"#000000\" fill-rule=\"nonzero\" fill-opacity=\"1\" /><path clip-path=\"url(#clip770)\" d=\"M1319.21 1457.48 Q1315.6 1457.48 1313.77 1461.04 Q1311.96 1464.58 1311.96 1471.71 Q1311.96 1478.82 1313.77 1482.38 Q1315.6 1485.92 1319.21 1485.92 Q1322.84 1485.92 1324.65 1482.38 Q1326.48 1478.82 1326.48 1471.71 Q1326.48 1464.58 1324.65 1461.04 Q1322.84 1457.48 1319.21 1457.48 M1319.21 1453.77 Q1325.02 1453.77 1328.07 1458.38 Q1331.15 1462.96 1331.15 1471.71 Q1331.15 1480.44 1328.07 1485.04 Q1325.02 1489.63 1319.21 1489.63 Q1313.4 1489.63 1310.32 1485.04 Q1307.26 1480.44 1307.26 1471.71 Q1307.26 1462.96 1310.32 1458.38 Q1313.4 1453.77 1319.21 1453.77 Z\" fill=\"#000000\" fill-rule=\"nonzero\" fill-opacity=\"1\" /><path clip-path=\"url(#clip770)\" d=\"M1343.85 1446.41 Q1346.57 1446.99 1348.1 1448.83 Q1349.64 1450.68 1349.64 1453.38 Q1349.64 1457.54 1346.78 1459.82 Q1343.92 1462.09 1338.66 1462.09 Q1336.89 1462.09 1335.01 1461.73 Q1333.14 1461.4 1331.15 1460.7 L1331.15 1457.03 Q1332.73 1457.95 1334.61 1458.42 Q1336.49 1458.89 1338.54 1458.89 Q1342.12 1458.89 1343.98 1457.48 Q1345.86 1456.07 1345.86 1453.38 Q1345.86 1450.9 1344.11 1449.51 Q1342.38 1448.1 1339.28 1448.1 L1336 1448.1 L1336 1444.98 L1339.43 1444.98 Q1342.23 1444.98 1343.71 1443.87 Q1345.2 1442.74 1345.2 1440.63 Q1345.2 1438.47 1343.66 1437.32 Q1342.13 1436.16 1339.28 1436.16 Q1337.71 1436.16 1335.93 1436.49 Q1334.14 1436.83 1332 1437.55 L1332 1434.16 Q1334.16 1433.56 1336.04 1433.26 Q1337.94 1432.96 1339.61 1432.96 Q1343.94 1432.96 1346.46 1434.93 Q1348.98 1436.89 1348.98 1440.24 Q1348.98 1442.57 1347.65 1444.19 Q1346.31 1445.79 1343.85 1446.41 Z\" fill=\"#000000\" fill-rule=\"nonzero\" fill-opacity=\"1\" /><path clip-path=\"url(#clip770)\" d=\"M1605.39 1485.02 L1613.03 1485.02 L1613.03 1458.66 L1604.72 1460.32 L1604.72 1456.06 L1612.98 1454.4 L1617.66 1454.4 L1617.66 1485.02 L1625.3 1485.02 L1625.3 1488.96 L1605.39 1488.96 L1605.39 1485.02 Z\" fill=\"#000000\" fill-rule=\"nonzero\" fill-opacity=\"1\" /><path clip-path=\"url(#clip770)\" d=\"M1644.74 1457.48 Q1641.13 1457.48 1639.3 1461.04 Q1637.5 1464.58 1637.5 1471.71 Q1637.5 1478.82 1639.3 1482.38 Q1641.13 1485.92 1644.74 1485.92 Q1648.38 1485.92 1650.18 1482.38 Q1652.01 1478.82 1652.01 1471.71 Q1652.01 1464.58 1650.18 1461.04 Q1648.38 1457.48 1644.74 1457.48 M1644.74 1453.77 Q1650.55 1453.77 1653.61 1458.38 Q1656.69 1462.96 1656.69 1471.71 Q1656.69 1480.44 1653.61 1485.04 Q1650.55 1489.63 1644.74 1489.63 Q1638.93 1489.63 1635.85 1485.04 Q1632.8 1480.44 1632.8 1471.71 Q1632.8 1462.96 1635.85 1458.38 Q1638.93 1453.77 1644.74 1453.77 Z\" fill=\"#000000\" fill-rule=\"nonzero\" fill-opacity=\"1\" /><path clip-path=\"url(#clip770)\" d=\"M1669.36 1436.78 L1659.77 1451.77 L1669.36 1451.77 L1669.36 1436.78 M1668.37 1433.47 L1673.14 1433.47 L1673.14 1451.77 L1677.15 1451.77 L1677.15 1454.93 L1673.14 1454.93 L1673.14 1461.55 L1669.36 1461.55 L1669.36 1454.93 L1656.69 1454.93 L1656.69 1451.26 L1668.37 1433.47 Z\" fill=\"#000000\" fill-rule=\"nonzero\" fill-opacity=\"1\" /><path clip-path=\"url(#clip770)\" d=\"M1933.06 1485.02 L1940.7 1485.02 L1940.7 1458.66 L1932.39 1460.32 L1932.39 1456.06 L1940.65 1454.4 L1945.33 1454.4 L1945.33 1485.02 L1952.97 1485.02 L1952.97 1488.96 L1933.06 1488.96 L1933.06 1485.02 Z\" fill=\"#000000\" fill-rule=\"nonzero\" fill-opacity=\"1\" /><path clip-path=\"url(#clip770)\" d=\"M1972.41 1457.48 Q1968.8 1457.48 1966.97 1461.04 Q1965.17 1464.58 1965.17 1471.71 Q1965.17 1478.82 1966.97 1482.38 Q1968.8 1485.92 1972.41 1485.92 Q1976.05 1485.92 1977.85 1482.38 Q1979.68 1478.82 1979.68 1471.71 Q1979.68 1464.58 1977.85 1461.04 Q1976.05 1457.48 1972.41 1457.48 M1972.41 1453.77 Q1978.22 1453.77 1981.28 1458.38 Q1984.36 1462.96 1984.36 1471.71 Q1984.36 1480.44 1981.28 1485.04 Q1978.22 1489.63 1972.41 1489.63 Q1966.6 1489.63 1963.52 1485.04 Q1960.47 1480.44 1960.47 1471.71 Q1960.47 1462.96 1963.52 1458.38 Q1966.6 1453.77 1972.41 1453.77 Z\" fill=\"#000000\" fill-rule=\"nonzero\" fill-opacity=\"1\" /><path clip-path=\"url(#clip770)\" d=\"M1985.54 1433.47 L2000.46 1433.47 L2000.46 1436.66 L1989.02 1436.66 L1989.02 1443.55 Q1989.85 1443.27 1990.68 1443.13 Q1991.5 1442.98 1992.33 1442.98 Q1997.03 1442.98 1999.78 1445.56 Q2002.53 1448.14 2002.53 1452.54 Q2002.53 1457.07 1999.7 1459.59 Q1996.88 1462.09 1991.75 1462.09 Q1989.98 1462.09 1988.14 1461.79 Q1986.31 1461.49 1984.36 1460.89 L1984.36 1457.07 Q1986.05 1457.99 1987.86 1458.44 Q1989.66 1458.89 1991.67 1458.89 Q1994.93 1458.89 1996.83 1457.18 Q1998.73 1455.47 1998.73 1452.54 Q1998.73 1449.6 1996.83 1447.89 Q1994.93 1446.18 1991.67 1446.18 Q1990.15 1446.18 1988.63 1446.52 Q1987.12 1446.86 1985.54 1447.57 L1985.54 1433.47 Z\" fill=\"#000000\" fill-rule=\"nonzero\" fill-opacity=\"1\" /><path clip-path=\"url(#clip770)\" d=\"M2258.97 1485.02 L2266.61 1485.02 L2266.61 1458.66 L2258.3 1460.32 L2258.3 1456.06 L2266.57 1454.4 L2271.24 1454.4 L2271.24 1485.02 L2278.88 1485.02 L2278.88 1488.96 L2258.97 1488.96 L2258.97 1485.02 Z\" fill=\"#000000\" fill-rule=\"nonzero\" fill-opacity=\"1\" /><path clip-path=\"url(#clip770)\" d=\"M2298.33 1457.48 Q2294.71 1457.48 2292.89 1461.04 Q2291.08 1464.58 2291.08 1471.71 Q2291.08 1478.82 2292.89 1482.38 Q2294.71 1485.92 2298.33 1485.92 Q2301.96 1485.92 2303.77 1482.38 Q2305.59 1478.82 2305.59 1471.71 Q2305.59 1464.58 2303.77 1461.04 Q2301.96 1457.48 2298.33 1457.48 M2298.33 1453.77 Q2304.14 1453.77 2307.19 1458.38 Q2310.27 1462.96 2310.27 1471.71 Q2310.27 1480.44 2307.19 1485.04 Q2304.14 1489.63 2298.33 1489.63 Q2292.52 1489.63 2289.44 1485.04 Q2286.38 1480.44 2286.38 1471.71 Q2286.38 1462.96 2289.44 1458.38 Q2292.52 1453.77 2298.33 1453.77 Z\" fill=\"#000000\" fill-rule=\"nonzero\" fill-opacity=\"1\" /><path clip-path=\"url(#clip770)\" d=\"M2320.29 1445.99 Q2317.74 1445.99 2316.23 1447.74 Q2314.75 1449.49 2314.75 1452.54 Q2314.75 1455.57 2316.23 1457.33 Q2317.74 1459.08 2320.29 1459.08 Q2322.85 1459.08 2324.34 1457.33 Q2325.84 1455.57 2325.84 1452.54 Q2325.84 1449.49 2324.34 1447.74 Q2322.85 1445.99 2320.29 1445.99 M2327.84 1434.09 L2327.84 1437.55 Q2326.41 1436.87 2324.94 1436.51 Q2323.49 1436.16 2322.06 1436.16 Q2318.3 1436.16 2316.31 1438.69 Q2314.33 1441.23 2314.05 1446.37 Q2315.16 1444.73 2316.83 1443.87 Q2318.51 1442.98 2320.52 1442.98 Q2324.75 1442.98 2327.2 1445.56 Q2329.66 1448.12 2329.66 1452.54 Q2329.66 1456.86 2327.1 1459.48 Q2324.55 1462.09 2320.29 1462.09 Q2315.42 1462.09 2312.85 1458.37 Q2310.27 1454.62 2310.27 1447.53 Q2310.27 1440.88 2313.43 1436.93 Q2316.59 1432.96 2321.91 1432.96 Q2323.34 1432.96 2324.79 1433.24 Q2326.26 1433.52 2327.84 1434.09 Z\" fill=\"#000000\" fill-rule=\"nonzero\" fill-opacity=\"1\" /><path clip-path=\"url(#clip770)\" d=\"M1081.86 1526.67 L1088.35 1526.67 L1098.34 1566.83 L1108.31 1526.67 L1115.53 1526.67 L1125.52 1566.83 L1135.49 1526.67 L1142.01 1526.67 L1130.08 1574.19 L1121.99 1574.19 L1111.97 1532.94 L1101.84 1574.19 L1093.76 1574.19 L1081.86 1526.67 Z\" fill=\"#000000\" fill-rule=\"nonzero\" fill-opacity=\"1\" /><path clip-path=\"url(#clip770)\" d=\"M1162.32 1556.27 Q1155.22 1556.27 1152.48 1557.89 Q1149.75 1559.51 1149.75 1563.43 Q1149.75 1566.55 1151.78 1568.39 Q1153.85 1570.21 1157.39 1570.21 Q1162.26 1570.21 1165.18 1566.77 Q1168.14 1563.3 1168.14 1557.57 L1168.14 1556.27 L1162.32 1556.27 M1174 1553.85 L1174 1574.19 L1168.14 1574.19 L1168.14 1568.77 Q1166.14 1572.02 1163.15 1573.58 Q1160.15 1575.11 1155.83 1575.11 Q1150.35 1575.11 1147.1 1572.05 Q1143.89 1568.97 1143.89 1563.81 Q1143.89 1557.79 1147.9 1554.74 Q1151.94 1551.68 1159.93 1551.68 L1168.14 1551.68 L1168.14 1551.11 Q1168.14 1547.07 1165.47 1544.87 Q1162.83 1542.64 1158.02 1542.64 Q1154.97 1542.64 1152.07 1543.38 Q1149.17 1544.11 1146.5 1545.57 L1146.5 1540.16 Q1149.71 1538.92 1152.74 1538.31 Q1155.76 1537.68 1158.63 1537.68 Q1166.36 1537.68 1170.18 1541.69 Q1174 1545.7 1174 1553.85 Z\" fill=\"#000000\" fill-rule=\"nonzero\" fill-opacity=\"1\" /><path clip-path=\"url(#clip770)\" d=\"M1206.72 1544.01 Q1205.73 1543.44 1204.56 1543.18 Q1203.41 1542.9 1202.01 1542.9 Q1197.04 1542.9 1194.37 1546.14 Q1191.73 1549.36 1191.73 1555.41 L1191.73 1574.19 L1185.84 1574.19 L1185.84 1538.54 L1191.73 1538.54 L1191.73 1544.08 Q1193.57 1540.83 1196.53 1539.27 Q1199.49 1537.68 1203.73 1537.68 Q1204.33 1537.68 1205.06 1537.77 Q1205.8 1537.84 1206.69 1538 L1206.72 1544.01 Z\" fill=\"#000000\" fill-rule=\"nonzero\" fill-opacity=\"1\" /><path clip-path=\"url(#clip770)\" d=\"M1218.66 1528.42 L1218.66 1538.54 L1230.72 1538.54 L1230.72 1543.09 L1218.66 1543.09 L1218.66 1562.44 Q1218.66 1566.8 1219.83 1568.04 Q1221.04 1569.28 1224.7 1569.28 L1230.72 1569.28 L1230.72 1574.19 L1224.7 1574.19 Q1217.92 1574.19 1215.35 1571.67 Q1212.77 1569.12 1212.77 1562.44 L1212.77 1543.09 L1208.47 1543.09 L1208.47 1538.54 L1212.77 1538.54 L1212.77 1528.42 L1218.66 1528.42 Z\" fill=\"#000000\" fill-rule=\"nonzero\" fill-opacity=\"1\" /><path clip-path=\"url(#clip770)\" d=\"M1252.23 1542.64 Q1247.52 1542.64 1244.79 1546.34 Q1242.05 1550 1242.05 1556.39 Q1242.05 1562.79 1244.75 1566.48 Q1247.49 1570.14 1252.23 1570.14 Q1256.91 1570.14 1259.65 1566.45 Q1262.39 1562.76 1262.39 1556.39 Q1262.39 1550.06 1259.65 1546.37 Q1256.91 1542.64 1252.23 1542.64 M1252.23 1537.68 Q1259.87 1537.68 1264.23 1542.64 Q1268.59 1547.61 1268.59 1556.39 Q1268.59 1565.15 1264.23 1570.14 Q1259.87 1575.11 1252.23 1575.11 Q1244.56 1575.11 1240.2 1570.14 Q1235.87 1565.15 1235.87 1556.39 Q1235.87 1547.61 1240.2 1542.64 Q1244.56 1537.68 1252.23 1537.68 Z\" fill=\"#000000\" fill-rule=\"nonzero\" fill-opacity=\"1\" /><path clip-path=\"url(#clip770)\" d=\"M1294.98 1521.83 L1301.31 1521.83 L1290.94 1533.8 L1286.07 1533.8 L1294.98 1521.83 M1301.03 1539.59 L1301.03 1545.13 Q1298.54 1543.85 1295.87 1543.22 Q1293.2 1542.58 1290.33 1542.58 Q1285.97 1542.58 1283.78 1543.92 Q1281.61 1545.25 1281.61 1547.93 Q1281.61 1549.96 1283.17 1551.14 Q1284.73 1552.29 1289.44 1553.34 L1291.45 1553.78 Q1297.69 1555.12 1300.3 1557.57 Q1302.94 1559.99 1302.94 1564.35 Q1302.94 1569.32 1298.99 1572.21 Q1295.08 1575.11 1288.2 1575.11 Q1285.34 1575.11 1282.22 1574.54 Q1279.13 1573.99 1275.69 1572.88 L1275.69 1566.83 Q1278.94 1568.52 1282.09 1569.38 Q1285.24 1570.21 1288.33 1570.21 Q1292.47 1570.21 1294.69 1568.81 Q1296.92 1567.37 1296.92 1564.8 Q1296.92 1562.41 1295.3 1561.14 Q1293.71 1559.86 1288.26 1558.68 L1286.23 1558.21 Q1280.78 1557.06 1278.37 1554.71 Q1275.95 1552.32 1275.95 1548.18 Q1275.95 1543.15 1279.51 1540.42 Q1283.08 1537.68 1289.63 1537.68 Q1292.88 1537.68 1295.74 1538.16 Q1298.61 1538.63 1301.03 1539.59 Z\" fill=\"#000000\" fill-rule=\"nonzero\" fill-opacity=\"1\" /><path clip-path=\"url(#clip770)\" d=\"M1337.92 1539.91 L1337.92 1545.38 Q1335.43 1544.01 1332.92 1543.34 Q1330.44 1542.64 1327.89 1542.64 Q1322.19 1542.64 1319.04 1546.27 Q1315.89 1549.87 1315.89 1556.39 Q1315.89 1562.92 1319.04 1566.55 Q1322.19 1570.14 1327.89 1570.14 Q1330.44 1570.14 1332.92 1569.47 Q1335.43 1568.77 1337.92 1567.41 L1337.92 1572.82 Q1335.47 1573.96 1332.82 1574.54 Q1330.21 1575.11 1327.25 1575.11 Q1319.2 1575.11 1314.46 1570.05 Q1309.72 1564.99 1309.72 1556.39 Q1309.72 1547.67 1314.49 1542.68 Q1319.3 1537.68 1327.64 1537.68 Q1330.34 1537.68 1332.92 1538.25 Q1335.5 1538.79 1337.92 1539.91 M1331.2 1522.05 L1337.53 1522.05 L1327.16 1534.02 L1322.29 1534.02 L1331.2 1522.05 Z\" fill=\"#000000\" fill-rule=\"nonzero\" fill-opacity=\"1\" /><path clip-path=\"url(#clip770)\" d=\"M1368.82 1524.66 L1374.68 1524.66 L1374.68 1574.19 L1368.82 1574.19 L1368.82 1524.66 Z\" fill=\"#000000\" fill-rule=\"nonzero\" fill-opacity=\"1\" /><path clip-path=\"url(#clip770)\" d=\"M1386.93 1538.54 L1392.79 1538.54 L1392.79 1574.19 L1386.93 1574.19 L1386.93 1538.54 M1386.93 1524.66 L1392.79 1524.66 L1392.79 1532.08 L1386.93 1532.08 L1386.93 1524.66 Z\" fill=\"#000000\" fill-rule=\"nonzero\" fill-opacity=\"1\" /><path clip-path=\"url(#clip770)\" d=\"M1430.7 1539.91 L1430.7 1545.38 Q1428.21 1544.01 1425.7 1543.34 Q1423.22 1542.64 1420.67 1542.64 Q1414.97 1542.64 1411.82 1546.27 Q1408.67 1549.87 1408.67 1556.39 Q1408.67 1562.92 1411.82 1566.55 Q1414.97 1570.14 1420.67 1570.14 Q1423.22 1570.14 1425.7 1569.47 Q1428.21 1568.77 1430.7 1567.41 L1430.7 1572.82 Q1428.25 1573.96 1425.6 1574.54 Q1422.99 1575.11 1420.03 1575.11 Q1411.98 1575.11 1407.24 1570.05 Q1402.5 1564.99 1402.5 1556.39 Q1402.5 1547.67 1407.27 1542.68 Q1412.08 1537.68 1420.42 1537.68 Q1423.12 1537.68 1425.7 1538.25 Q1428.28 1538.79 1430.7 1539.91 Z\" fill=\"#000000\" fill-rule=\"nonzero\" fill-opacity=\"1\" /><path clip-path=\"url(#clip770)\" d=\"M1438.34 1538.54 L1466.15 1538.54 L1466.15 1543.88 L1444.13 1569.51 L1466.15 1569.51 L1466.15 1574.19 L1437.54 1574.19 L1437.54 1568.84 L1459.57 1543.22 L1438.34 1543.22 L1438.34 1538.54 Z\" fill=\"#000000\" fill-rule=\"nonzero\" fill-opacity=\"1\" /><path clip-path=\"url(#clip770)\" d=\"M1500.69 1556.39 Q1500.69 1549.93 1498.01 1546.27 Q1495.37 1542.58 1490.73 1542.58 Q1486.08 1542.58 1483.4 1546.27 Q1480.76 1549.93 1480.76 1556.39 Q1480.76 1562.85 1483.4 1566.55 Q1486.08 1570.21 1490.73 1570.21 Q1495.37 1570.21 1498.01 1566.55 Q1500.69 1562.85 1500.69 1556.39 M1480.76 1543.95 Q1482.61 1540.77 1485.41 1539.24 Q1488.24 1537.68 1492.16 1537.68 Q1498.65 1537.68 1502.69 1542.83 Q1506.77 1547.99 1506.77 1556.39 Q1506.77 1564.8 1502.69 1569.95 Q1498.65 1575.11 1492.16 1575.11 Q1488.24 1575.11 1485.41 1573.58 Q1482.61 1572.02 1480.76 1568.84 L1480.76 1574.19 L1474.87 1574.19 L1474.87 1524.66 L1480.76 1524.66 L1480.76 1543.95 Z\" fill=\"#000000\" fill-rule=\"nonzero\" fill-opacity=\"1\" /><path clip-path=\"url(#clip770)\" d=\"M1531.31 1577.5 Q1528.82 1583.86 1526.47 1585.8 Q1524.11 1587.74 1520.17 1587.74 L1515.49 1587.74 L1515.49 1582.84 L1518.93 1582.84 Q1521.34 1582.84 1522.68 1581.7 Q1524.02 1580.55 1525.64 1576.29 L1526.69 1573.61 L1512.27 1538.54 L1518.48 1538.54 L1529.62 1566.42 L1540.76 1538.54 L1546.97 1538.54 L1531.31 1577.5 Z\" fill=\"#000000\" fill-rule=\"nonzero\" fill-opacity=\"1\" /><polyline clip-path=\"url(#clip770)\" style=\"stroke:#000000; stroke-linecap:round; stroke-linejoin:round; stroke-width:4; stroke-opacity:1; fill:none\" points=\"276.067,1410.9 276.067,123.472 \"/>\n",
       "<polyline clip-path=\"url(#clip770)\" style=\"stroke:#000000; stroke-linecap:round; stroke-linejoin:round; stroke-width:4; stroke-opacity:1; fill:none\" points=\"276.067,1235.68 294.964,1235.68 \"/>\n",
       "<polyline clip-path=\"url(#clip770)\" style=\"stroke:#000000; stroke-linecap:round; stroke-linejoin:round; stroke-width:4; stroke-opacity:1; fill:none\" points=\"276.067,598.626 294.964,598.626 \"/>\n",
       "<path clip-path=\"url(#clip770)\" d=\"M114.931 1255.47 L122.57 1255.47 L122.57 1229.1 L114.26 1230.77 L114.26 1226.51 L122.524 1224.84 L127.2 1224.84 L127.2 1255.47 L134.839 1255.47 L134.839 1259.4 L114.931 1259.4 L114.931 1255.47 Z\" fill=\"#000000\" fill-rule=\"nonzero\" fill-opacity=\"1\" /><path clip-path=\"url(#clip770)\" d=\"M154.283 1227.92 Q150.672 1227.92 148.843 1231.49 Q147.038 1235.03 147.038 1242.16 Q147.038 1249.27 148.843 1252.83 Q150.672 1256.37 154.283 1256.37 Q157.917 1256.37 159.723 1252.83 Q161.552 1249.27 161.552 1242.16 Q161.552 1235.03 159.723 1231.49 Q157.917 1227.92 154.283 1227.92 M154.283 1224.22 Q160.093 1224.22 163.149 1228.83 Q166.227 1233.41 166.227 1242.16 Q166.227 1250.89 163.149 1255.49 Q160.093 1260.08 154.283 1260.08 Q148.473 1260.08 145.394 1255.49 Q142.339 1250.89 142.339 1242.16 Q142.339 1233.41 145.394 1228.83 Q148.473 1224.22 154.283 1224.22 Z\" fill=\"#000000\" fill-rule=\"nonzero\" fill-opacity=\"1\" /><path clip-path=\"url(#clip770)\" d=\"M166.227 1218.32 L190.339 1218.32 L190.339 1221.52 L166.227 1221.52 L166.227 1218.32 Z\" fill=\"#000000\" fill-rule=\"nonzero\" fill-opacity=\"1\" /><path clip-path=\"url(#clip770)\" d=\"M199.197 1228.8 L205.404 1228.8 L205.404 1207.37 L198.652 1208.73 L198.652 1205.27 L205.366 1203.91 L209.166 1203.91 L209.166 1228.8 L215.372 1228.8 L215.372 1231.99 L199.197 1231.99 L199.197 1228.8 Z\" fill=\"#000000\" fill-rule=\"nonzero\" fill-opacity=\"1\" /><path clip-path=\"url(#clip770)\" d=\"M223.083 1203.91 L237.998 1203.91 L237.998 1207.11 L226.563 1207.11 L226.563 1213.99 Q227.39 1213.71 228.218 1213.58 Q229.045 1213.43 229.873 1213.43 Q234.575 1213.43 237.321 1216.01 Q240.067 1218.58 240.067 1222.98 Q240.067 1227.52 237.246 1230.04 Q234.424 1232.54 229.29 1232.54 Q227.522 1232.54 225.679 1232.24 Q223.854 1231.94 221.898 1231.34 L221.898 1227.52 Q223.591 1228.44 225.397 1228.89 Q227.202 1229.34 229.215 1229.34 Q232.468 1229.34 234.368 1227.63 Q236.268 1225.92 236.268 1222.98 Q236.268 1220.05 234.368 1218.34 Q232.468 1216.63 229.215 1216.63 Q227.691 1216.63 226.168 1216.97 Q224.663 1217.3 223.083 1218.02 L223.083 1203.91 Z\" fill=\"#000000\" fill-rule=\"nonzero\" fill-opacity=\"1\" /><path clip-path=\"url(#clip770)\" d=\"M115.42 618.419 L123.059 618.419 L123.059 592.053 L114.749 593.72 L114.749 589.46 L123.013 587.794 L127.689 587.794 L127.689 618.419 L135.328 618.419 L135.328 622.354 L115.42 622.354 L115.42 618.419 Z\" fill=\"#000000\" fill-rule=\"nonzero\" fill-opacity=\"1\" /><path clip-path=\"url(#clip770)\" d=\"M154.772 590.872 Q151.161 590.872 149.332 594.437 Q147.527 597.979 147.527 605.109 Q147.527 612.215 149.332 615.78 Q151.161 619.321 154.772 619.321 Q158.406 619.321 160.212 615.78 Q162.041 612.215 162.041 605.109 Q162.041 597.979 160.212 594.437 Q158.406 590.872 154.772 590.872 M154.772 587.169 Q160.582 587.169 163.638 591.775 Q166.716 596.359 166.716 605.109 Q166.716 613.835 163.638 618.442 Q160.582 623.025 154.772 623.025 Q148.962 623.025 145.883 618.442 Q142.828 613.835 142.828 605.109 Q142.828 596.359 145.883 591.775 Q148.962 587.169 154.772 587.169 Z\" fill=\"#000000\" fill-rule=\"nonzero\" fill-opacity=\"1\" /><path clip-path=\"url(#clip770)\" d=\"M166.716 581.27 L190.828 581.27 L190.828 584.467 L166.716 584.467 L166.716 581.27 Z\" fill=\"#000000\" fill-rule=\"nonzero\" fill-opacity=\"1\" /><path clip-path=\"url(#clip770)\" d=\"M199.686 591.746 L205.893 591.746 L205.893 570.324 L199.141 571.678 L199.141 568.218 L205.855 566.863 L209.655 566.863 L209.655 591.746 L215.861 591.746 L215.861 594.943 L199.686 594.943 L199.686 591.746 Z\" fill=\"#000000\" fill-rule=\"nonzero\" fill-opacity=\"1\" /><path clip-path=\"url(#clip770)\" d=\"M226.807 591.746 L240.067 591.746 L240.067 594.943 L222.237 594.943 L222.237 591.746 Q224.4 589.508 228.124 585.746 Q231.867 581.966 232.826 580.875 Q234.65 578.825 235.365 577.415 Q236.098 575.985 236.098 574.612 Q236.098 572.374 234.518 570.963 Q232.957 569.553 230.437 569.553 Q228.65 569.553 226.657 570.174 Q224.682 570.794 222.425 572.054 L222.425 568.218 Q224.72 567.296 226.713 566.826 Q228.707 566.356 230.362 566.356 Q234.725 566.356 237.321 568.537 Q239.916 570.719 239.916 574.368 Q239.916 576.098 239.258 577.659 Q238.619 579.201 236.907 581.308 Q236.437 581.853 233.917 584.467 Q231.396 587.063 226.807 591.746 Z\" fill=\"#000000\" fill-rule=\"nonzero\" fill-opacity=\"1\" /><path clip-path=\"url(#clip770)\" d=\"M20.8447 1173.78 Q20.8447 1180.78 26.0645 1184.92 Q31.2844 1189.02 40.2919 1189.02 Q49.2675 1189.02 54.4874 1184.92 Q59.7073 1180.78 59.7073 1173.78 Q59.7073 1166.78 54.4874 1162.7 Q49.2675 1158.6 40.2919 1158.6 Q31.2844 1158.6 26.0645 1162.7 Q20.8447 1166.78 20.8447 1173.78 M15.6248 1173.78 Q15.6248 1163.78 22.3406 1157.8 Q29.0246 1151.82 40.2919 1151.82 Q51.5274 1151.82 58.2432 1157.8 Q64.9272 1163.78 64.9272 1173.78 Q64.9272 1183.8 58.2432 1189.82 Q51.5592 1195.8 40.2919 1195.8 Q29.0246 1195.8 22.3406 1189.82 Q15.6248 1183.8 15.6248 1173.78 Z\" fill=\"#000000\" fill-rule=\"nonzero\" fill-opacity=\"1\" /><path clip-path=\"url(#clip770)\" d=\"M33.7671 1118.56 L14.479 1118.56 L14.479 1112.7 L64.0042 1112.7 L64.0042 1118.56 L58.657 1118.56 Q61.8398 1120.4 63.3994 1123.23 Q64.9272 1126.04 64.9272 1129.98 Q64.9272 1136.44 59.771 1140.52 Q54.6147 1144.56 46.212 1144.56 Q37.8093 1144.56 32.6531 1140.52 Q27.4968 1136.44 27.4968 1129.98 Q27.4968 1126.04 29.0564 1123.23 Q30.5842 1120.4 33.7671 1118.56 M46.212 1138.51 Q52.6732 1138.51 56.3653 1135.87 Q60.0256 1133.2 60.0256 1128.55 Q60.0256 1123.9 56.3653 1121.23 Q52.6732 1118.56 46.212 1118.56 Q39.7508 1118.56 36.0905 1121.23 Q32.3984 1123.9 32.3984 1128.55 Q32.3984 1133.2 36.0905 1135.87 Q39.7508 1138.51 46.212 1138.51 Z\" fill=\"#000000\" fill-rule=\"nonzero\" fill-opacity=\"1\" /><path clip-path=\"url(#clip770)\" d=\"M14.479 1100.64 L14.479 1094.78 L64.0042 1094.78 L64.0042 1100.64 L14.479 1100.64 Z\" fill=\"#000000\" fill-rule=\"nonzero\" fill-opacity=\"1\" /><path clip-path=\"url(#clip770)\" d=\"M44.7161 1052.03 L47.5806 1052.03 L47.5806 1078.96 Q53.6281 1078.58 56.8109 1075.33 Q59.9619 1072.05 59.9619 1066.23 Q59.9619 1062.86 59.1344 1059.7 Q58.3069 1056.52 56.6518 1053.4 L62.1899 1053.4 Q63.5267 1056.55 64.227 1059.86 Q64.9272 1063.17 64.9272 1066.58 Q64.9272 1075.11 59.9619 1080.11 Q54.9967 1085.07 46.5303 1085.07 Q37.7774 1085.07 32.6531 1080.36 Q27.4968 1075.62 27.4968 1067.6 Q27.4968 1060.4 32.1438 1056.24 Q36.7589 1052.03 44.7161 1052.03 M42.9973 1057.89 Q38.1912 1057.95 35.3266 1060.6 Q32.4621 1063.21 32.4621 1067.53 Q32.4621 1072.44 35.2312 1075.4 Q38.0002 1078.32 43.0292 1078.77 L42.9973 1057.89 Z\" fill=\"#000000\" fill-rule=\"nonzero\" fill-opacity=\"1\" /><path clip-path=\"url(#clip770)\" d=\"M45.7664 1018.96 Q39.4007 1018.96 35.8996 1021.61 Q32.3984 1024.22 32.3984 1028.96 Q32.3984 1033.67 35.8996 1036.31 Q39.4007 1038.92 45.7664 1038.92 Q52.1003 1038.92 55.6014 1036.31 Q59.1026 1033.67 59.1026 1028.96 Q59.1026 1024.22 55.6014 1021.61 Q52.1003 1018.96 45.7664 1018.96 M59.58 1013.11 Q68.683 1013.11 73.1071 1017.15 Q77.5631 1021.19 77.5631 1029.53 Q77.5631 1032.62 77.0857 1035.36 Q76.6401 1038.09 75.6852 1040.67 L69.9879 1040.67 Q71.3884 1038.09 72.0568 1035.58 Q72.7252 1033.06 72.7252 1030.45 Q72.7252 1024.69 69.7015 1021.83 Q66.7096 1018.96 60.6303 1018.96 L57.7339 1018.96 Q60.885 1020.78 62.4446 1023.61 Q64.0042 1026.44 64.0042 1030.39 Q64.0042 1036.95 59.0071 1040.96 Q54.01 1044.97 45.7664 1044.97 Q37.491 1044.97 32.4939 1040.96 Q27.4968 1036.95 27.4968 1030.39 Q27.4968 1026.44 29.0564 1023.61 Q30.616 1020.78 33.7671 1018.96 L28.3562 1018.96 L28.3562 1013.11 L59.58 1013.11 Z\" fill=\"#000000\" fill-rule=\"nonzero\" fill-opacity=\"1\" /><path clip-path=\"url(#clip770)\" d=\"M14.479 1000.85 L14.479 994.997 L33.6397 994.997 L30.7752 991.019 L34.149 988.6 L38.6368 994.997 L64.0042 994.997 L64.0042 1000.85 L42.8064 1000.85 L45.6073 1004.77 L42.2334 1007.12 L37.7456 1000.85 L14.479 1000.85 Z\" fill=\"#000000\" fill-rule=\"nonzero\" fill-opacity=\"1\" /><path clip-path=\"url(#clip770)\" d=\"M32.4621 968.707 Q32.4621 973.417 36.1542 976.155 Q39.8145 978.892 46.212 978.892 Q52.6095 978.892 56.3017 976.186 Q59.9619 973.449 59.9619 968.707 Q59.9619 964.028 56.2698 961.291 Q52.5777 958.553 46.212 958.553 Q39.8781 958.553 36.186 961.291 Q32.4621 964.028 32.4621 968.707 M27.4968 968.707 Q27.4968 961.068 32.4621 956.707 Q37.4273 952.347 46.212 952.347 Q54.9649 952.347 59.9619 956.707 Q64.9272 961.068 64.9272 968.707 Q64.9272 976.377 59.9619 980.738 Q54.9649 985.067 46.212 985.067 Q37.4273 985.067 32.4621 980.738 Q27.4968 976.377 27.4968 968.707 Z\" fill=\"#000000\" fill-rule=\"nonzero\" fill-opacity=\"1\" /><path clip-path=\"url(#clip770)\" d=\"M11.6462 925.961 L11.6462 919.627 L23.6137 930.003 L23.6137 934.873 L11.6462 925.961 M29.4065 919.914 L34.9447 919.914 Q33.6716 922.396 33.035 925.07 Q32.3984 927.743 32.3984 930.608 Q32.3984 934.968 33.7352 937.165 Q35.072 939.329 37.7456 939.329 Q39.7826 939.329 40.9603 937.769 Q42.1061 936.21 43.1565 931.499 L43.6021 929.494 Q44.9389 923.256 47.3897 920.646 Q49.8086 918.004 54.1691 918.004 Q59.1344 918.004 62.0308 921.951 Q64.9272 925.866 64.9272 932.74 Q64.9272 935.605 64.3543 938.724 Q63.8132 941.812 62.6992 945.249 L56.6518 945.249 Q58.3387 942.003 59.198 938.852 Q60.0256 935.701 60.0256 932.613 Q60.0256 928.475 58.6251 926.247 Q57.1929 924.019 54.6147 924.019 Q52.2276 924.019 50.9545 925.643 Q49.6813 927.234 48.5037 932.677 L48.0262 934.714 Q46.8804 940.157 44.5251 942.576 Q42.138 944.994 38.0002 944.994 Q32.9713 944.994 30.2341 941.43 Q27.4968 937.865 27.4968 931.308 Q27.4968 928.062 27.9743 925.197 Q28.4517 922.333 29.4065 919.914 Z\" fill=\"#000000\" fill-rule=\"nonzero\" fill-opacity=\"1\" /><path clip-path=\"url(#clip770)\" d=\"M29.7248 883.024 L35.1993 883.024 Q33.8307 885.507 33.1623 888.021 Q32.4621 890.504 32.4621 893.05 Q32.4621 898.748 36.0905 901.899 Q39.6872 905.05 46.212 905.05 Q52.7369 905.05 56.3653 901.899 Q59.9619 898.748 59.9619 893.05 Q59.9619 890.504 59.2935 888.021 Q58.5933 885.507 57.2247 883.024 L62.6355 883.024 Q63.7814 885.475 64.3543 888.117 Q64.9272 890.727 64.9272 893.687 Q64.9272 901.74 59.8664 906.482 Q54.8057 911.224 46.212 911.224 Q37.491 911.224 32.4939 906.45 Q27.4968 901.644 27.4968 893.305 Q27.4968 890.6 28.0697 888.021 Q28.6108 885.443 29.7248 883.024 M11.869 889.74 L11.869 883.406 L23.8365 893.782 L23.8365 898.652 L11.869 889.74 Z\" fill=\"#000000\" fill-rule=\"nonzero\" fill-opacity=\"1\" /><path clip-path=\"url(#clip770)\" d=\"M35.1993 824.364 Q31.2526 822.168 29.3747 819.113 Q27.4968 816.057 27.4968 811.919 Q27.4968 806.349 31.4117 803.326 Q35.2948 800.302 42.4881 800.302 L64.0042 800.302 L64.0042 806.19 L42.679 806.19 Q37.5546 806.19 35.072 808.004 Q32.5894 809.819 32.5894 813.543 Q32.5894 818.094 35.6131 820.736 Q38.6368 823.378 43.8567 823.378 L64.0042 823.378 L64.0042 829.266 L42.679 829.266 Q37.5228 829.266 35.072 831.08 Q32.5894 832.894 32.5894 836.682 Q32.5894 841.17 35.6449 843.812 Q38.6686 846.453 43.8567 846.453 L64.0042 846.453 L64.0042 852.342 L28.3562 852.342 L28.3562 846.453 L33.8944 846.453 Q30.616 844.448 29.0564 841.647 Q27.4968 838.846 27.4968 834.995 Q27.4968 831.112 29.4702 828.407 Q31.4436 825.669 35.1993 824.364 Z\" fill=\"#000000\" fill-rule=\"nonzero\" fill-opacity=\"1\" /><path clip-path=\"url(#clip770)\" d=\"M28.3562 788.621 L28.3562 782.764 L64.0042 782.764 L64.0042 788.621 L28.3562 788.621 M14.479 788.621 L14.479 782.764 L21.895 782.764 L21.895 788.621 L14.479 788.621 Z\" fill=\"#000000\" fill-rule=\"nonzero\" fill-opacity=\"1\" /><path clip-path=\"url(#clip770)\" d=\"M44.7161 740.019 L47.5806 740.019 L47.5806 766.946 Q53.6281 766.564 56.8109 763.317 Q59.9619 760.039 59.9619 754.214 Q59.9619 750.84 59.1344 747.689 Q58.3069 744.507 56.6518 741.387 L62.1899 741.387 Q63.5267 744.538 64.227 747.849 Q64.9272 751.159 64.9272 754.564 Q64.9272 763.094 59.9619 768.091 Q54.9967 773.057 46.5303 773.057 Q37.7774 773.057 32.6531 768.346 Q27.4968 763.604 27.4968 755.583 Q27.4968 748.39 32.1438 744.22 Q36.7589 740.019 44.7161 740.019 M42.9973 745.875 Q38.1912 745.939 35.3266 748.581 Q32.4621 751.191 32.4621 755.519 Q32.4621 760.421 35.2312 763.381 Q38.0002 766.309 43.0292 766.755 L42.9973 745.875 M64.0042 750.681 L64.0042 746.894 Q65.9457 748.326 67.3462 749.026 Q68.7466 749.695 69.7333 749.695 Q71.1974 749.695 71.9295 748.835 Q72.6615 747.944 72.6615 746.225 Q72.6615 745.207 72.4069 744.22 Q72.1841 743.233 71.7067 742.247 L75.9399 742.247 Q76.2581 743.456 76.4173 744.538 Q76.5764 745.621 76.5764 746.575 Q76.5764 750.458 75.176 752.305 Q73.8073 754.119 70.8473 754.119 Q69.3195 754.119 67.6326 753.291 Q65.9775 752.432 64.0042 750.681 Z\" fill=\"#000000\" fill-rule=\"nonzero\" fill-opacity=\"1\" /><path clip-path=\"url(#clip770)\" d=\"M33.7671 706.949 L14.479 706.949 L14.479 701.092 L64.0042 701.092 L64.0042 706.949 L58.657 706.949 Q61.8398 708.795 63.3994 711.628 Q64.9272 714.429 64.9272 718.375 Q64.9272 724.837 59.771 728.911 Q54.6147 732.953 46.212 732.953 Q37.8093 732.953 32.6531 728.911 Q27.4968 724.837 27.4968 718.375 Q27.4968 714.429 29.0564 711.628 Q30.5842 708.795 33.7671 706.949 M46.212 726.905 Q52.6732 726.905 56.3653 724.264 Q60.0256 721.59 60.0256 716.943 Q60.0256 712.296 56.3653 709.622 Q52.6732 706.949 46.212 706.949 Q39.7508 706.949 36.0905 709.622 Q32.3984 712.296 32.3984 716.943 Q32.3984 721.59 36.0905 724.264 Q39.7508 726.905 46.212 726.905 Z\" fill=\"#000000\" fill-rule=\"nonzero\" fill-opacity=\"1\" /><path clip-path=\"url(#clip770)\" d=\"M28.3562 691.576 L28.3562 663.758 L33.7034 663.758 L59.3254 685.783 L59.3254 663.758 L64.0042 663.758 L64.0042 692.371 L58.657 692.371 L33.035 670.346 L33.035 691.576 L28.3562 691.576 Z\" fill=\"#000000\" fill-rule=\"nonzero\" fill-opacity=\"1\" /><path clip-path=\"url(#clip770)\" d=\"M67.3143 639.982 Q73.68 642.464 75.6216 644.82 Q77.5631 647.175 77.5631 651.122 L77.5631 655.8 L72.6615 655.8 L72.6615 652.363 Q72.6615 649.944 71.5157 648.607 Q70.3699 647.27 66.1048 645.647 L63.4312 644.597 L28.3562 659.015 L28.3562 652.809 L56.238 641.669 L28.3562 630.529 L28.3562 624.322 L67.3143 639.982 Z\" fill=\"#000000\" fill-rule=\"nonzero\" fill-opacity=\"1\" /><path clip-path=\"url(#clip770)\" d=\"M14.479 595.517 L14.479 589.661 L64.0042 589.661 L64.0042 595.517 L14.479 595.517 Z\" fill=\"#000000\" fill-rule=\"nonzero\" fill-opacity=\"1\" /><path clip-path=\"url(#clip770)\" d=\"M28.3562 577.407 L28.3562 571.55 L64.0042 571.55 L64.0042 577.407 L28.3562 577.407 M14.479 577.407 L14.479 571.55 L21.895 571.55 L21.895 577.407 L14.479 577.407 Z\" fill=\"#000000\" fill-rule=\"nonzero\" fill-opacity=\"1\" /><path clip-path=\"url(#clip770)\" d=\"M29.7248 533.643 L35.1993 533.643 Q33.8307 536.125 33.1623 538.64 Q32.4621 541.122 32.4621 543.669 Q32.4621 549.366 36.0905 552.517 Q39.6872 555.668 46.212 555.668 Q52.7369 555.668 56.3653 552.517 Q59.9619 549.366 59.9619 543.669 Q59.9619 541.122 59.2935 538.64 Q58.5933 536.125 57.2247 533.643 L62.6355 533.643 Q63.7814 536.093 64.3543 538.735 Q64.9272 541.345 64.9272 544.305 Q64.9272 552.358 59.8664 557.1 Q54.8057 561.843 46.212 561.843 Q37.491 561.843 32.4939 557.068 Q27.4968 552.262 27.4968 543.923 Q27.4968 541.218 28.0697 538.64 Q28.6108 536.061 29.7248 533.643 Z\" fill=\"#000000\" fill-rule=\"nonzero\" fill-opacity=\"1\" /><path clip-path=\"url(#clip770)\" d=\"M28.3562 526.004 L28.3562 498.186 L33.7034 498.186 L59.3254 520.211 L59.3254 498.186 L64.0042 498.186 L64.0042 526.799 L58.657 526.799 L33.035 504.774 L33.035 526.004 L28.3562 526.004 Z\" fill=\"#000000\" fill-rule=\"nonzero\" fill-opacity=\"1\" /><path clip-path=\"url(#clip770)\" d=\"M46.212 463.652 Q39.7508 463.652 36.0905 466.325 Q32.3984 468.967 32.3984 473.614 Q32.3984 478.261 36.0905 480.934 Q39.7508 483.576 46.212 483.576 Q52.6732 483.576 56.3653 480.934 Q60.0256 478.261 60.0256 473.614 Q60.0256 468.967 56.3653 466.325 Q52.6732 463.652 46.212 463.652 M33.7671 483.576 Q30.5842 481.73 29.0564 478.929 Q27.4968 476.097 27.4968 472.182 Q27.4968 465.689 32.6531 461.646 Q37.8093 457.572 46.212 457.572 Q54.6147 457.572 59.771 461.646 Q64.9272 465.689 64.9272 472.182 Q64.9272 476.097 63.3994 478.929 Q61.8398 481.73 58.657 483.576 L64.0042 483.576 L64.0042 489.465 L14.479 489.465 L14.479 483.576 L33.7671 483.576 Z\" fill=\"#000000\" fill-rule=\"nonzero\" fill-opacity=\"1\" /><path clip-path=\"url(#clip770)\" d=\"M46.0847 431.664 Q46.0847 438.762 47.7079 441.499 Q49.3312 444.236 53.2461 444.236 Q56.3653 444.236 58.2114 442.199 Q60.0256 440.13 60.0256 436.597 Q60.0256 431.728 56.5881 428.799 Q53.1188 425.839 47.3897 425.839 L46.0847 425.839 L46.0847 431.664 M43.6657 419.983 L64.0042 419.983 L64.0042 425.839 L58.5933 425.839 Q61.8398 427.844 63.3994 430.836 Q64.9272 433.828 64.9272 438.157 Q64.9272 443.631 61.8716 446.878 Q58.7843 450.093 53.6281 450.093 Q47.6125 450.093 44.5569 446.082 Q41.5014 442.04 41.5014 434.051 L41.5014 425.839 L40.9285 425.839 Q36.8862 425.839 34.6901 428.513 Q32.4621 431.155 32.4621 435.961 Q32.4621 439.016 33.1941 441.913 Q33.9262 444.809 35.3903 447.483 L29.9795 447.483 Q28.7381 444.268 28.1334 441.244 Q27.4968 438.221 27.4968 435.356 Q27.4968 427.622 31.5072 423.802 Q35.5176 419.983 43.6657 419.983 Z\" fill=\"#000000\" fill-rule=\"nonzero\" fill-opacity=\"1\" /><path clip-path=\"url(#clip770)\" d=\"M35.1993 380.165 Q31.2526 377.969 29.3747 374.914 Q27.4968 371.858 27.4968 367.72 Q27.4968 362.15 31.4117 359.127 Q35.2948 356.103 42.4881 356.103 L64.0042 356.103 L64.0042 361.991 L42.679 361.991 Q37.5546 361.991 35.072 363.805 Q32.5894 365.62 32.5894 369.344 Q32.5894 373.895 35.6131 376.537 Q38.6368 379.179 43.8567 379.179 L64.0042 379.179 L64.0042 385.067 L42.679 385.067 Q37.5228 385.067 35.072 386.881 Q32.5894 388.695 32.5894 392.483 Q32.5894 396.971 35.6449 399.613 Q38.6686 402.254 43.8567 402.254 L64.0042 402.254 L64.0042 408.143 L28.3562 408.143 L28.3562 402.254 L33.8944 402.254 Q30.616 400.249 29.0564 397.448 Q27.4968 394.647 27.4968 390.796 Q27.4968 386.913 29.4702 384.208 Q31.4436 381.47 35.1993 380.165 Z\" fill=\"#000000\" fill-rule=\"nonzero\" fill-opacity=\"1\" /><path clip-path=\"url(#clip770)\" d=\"M28.3562 344.422 L28.3562 338.565 L64.0042 338.565 L64.0042 344.422 L28.3562 344.422 M14.479 344.422 L14.479 338.565 L21.895 338.565 L21.895 344.422 L14.479 344.422 Z\" fill=\"#000000\" fill-rule=\"nonzero\" fill-opacity=\"1\" /><path clip-path=\"url(#clip770)\" d=\"M504.555 12.096 L552.072 12.096 L552.072 18.3344 L513.831 65.6895 L553.003 65.6895 L553.003 72.576 L503.623 72.576 L503.623 66.3376 L541.863 18.9825 L504.555 18.9825 L504.555 12.096 Z\" fill=\"#000000\" fill-rule=\"nonzero\" fill-opacity=\"1\" /><path clip-path=\"url(#clip770)\" d=\"M585.168 49.7694 Q576.134 49.7694 572.65 51.8354 Q569.166 53.9013 569.166 58.8839 Q569.166 62.8538 571.759 65.2034 Q574.392 67.5124 578.889 67.5124 Q585.087 67.5124 588.813 63.1374 Q592.581 58.7219 592.581 51.4303 L592.581 49.7694 L585.168 49.7694 M600.034 46.6907 L600.034 72.576 L592.581 72.576 L592.581 65.6895 Q590.029 69.8214 586.221 71.8063 Q582.413 73.7508 576.904 73.7508 Q569.936 73.7508 565.804 69.8619 Q561.713 65.9325 561.713 59.3701 Q561.713 51.7138 566.817 47.825 Q571.962 43.9361 582.129 43.9361 L592.581 43.9361 L592.581 43.2069 Q592.581 38.0623 589.178 35.2672 Q585.816 32.4315 579.699 32.4315 Q575.81 32.4315 572.124 33.3632 Q568.437 34.295 565.035 36.1584 L565.035 29.2718 Q569.126 27.692 572.974 26.9223 Q576.823 26.1121 580.469 26.1121 Q590.312 26.1121 595.173 31.2163 Q600.034 36.3204 600.034 46.6907 Z\" fill=\"#000000\" fill-rule=\"nonzero\" fill-opacity=\"1\" /><path clip-path=\"url(#clip770)\" d=\"M615.387 9.54393 L622.841 9.54393 L622.841 72.576 L615.387 72.576 L615.387 9.54393 Z\" fill=\"#000000\" fill-rule=\"nonzero\" fill-opacity=\"1\" /><path clip-path=\"url(#clip770)\" d=\"M677.245 48.0275 L677.245 51.6733 L642.974 51.6733 Q643.46 59.3701 647.592 63.421 Q651.764 67.4314 659.178 67.4314 Q663.472 67.4314 667.482 66.3781 Q671.533 65.3249 675.503 63.2184 L675.503 70.267 Q671.492 71.9684 667.279 72.8596 Q663.066 73.7508 658.732 73.7508 Q647.876 73.7508 641.516 67.4314 Q635.196 61.1119 635.196 50.3365 Q635.196 39.1965 641.192 32.6746 Q647.227 26.1121 657.436 26.1121 Q666.591 26.1121 671.897 32.0264 Q677.245 37.9003 677.245 48.0275 M669.791 45.84 Q669.71 39.7232 666.348 36.0774 Q663.026 32.4315 657.517 32.4315 Q651.278 32.4315 647.511 35.9558 Q643.784 39.4801 643.217 45.8805 L669.791 45.84 Z\" fill=\"#000000\" fill-rule=\"nonzero\" fill-opacity=\"1\" /><path clip-path=\"url(#clip770)\" d=\"M699.525 9.54393 L706.978 9.54393 L706.978 18.9825 L699.525 18.9825 L699.525 9.54393 M703.332 26.1121 L703.332 26.1121 M686.238 27.2059 L721.643 27.2059 L721.643 34.0114 L693.61 66.6212 L721.643 66.6212 L721.643 72.576 L685.225 72.576 L685.225 65.7705 L713.257 33.1607 L686.238 33.1607 L686.238 27.2059 Z\" fill=\"#000000\" fill-rule=\"nonzero\" fill-opacity=\"1\" /><path clip-path=\"url(#clip770)\" d=\"M770.739 45.1919 L770.739 72.576 L763.286 72.576 L763.286 45.4349 Q763.286 38.994 760.774 35.7938 Q758.263 32.5936 753.24 32.5936 Q747.204 32.5936 743.72 36.4419 Q740.236 40.2903 740.236 46.9338 L740.236 72.576 L732.742 72.576 L732.742 27.2059 L740.236 27.2059 L740.236 34.2544 Q742.91 30.163 746.515 28.1376 Q750.161 26.1121 754.9 26.1121 Q762.719 26.1121 766.729 30.9732 Q770.739 35.7938 770.739 45.1919 Z\" fill=\"#000000\" fill-rule=\"nonzero\" fill-opacity=\"1\" /><path clip-path=\"url(#clip770)\" d=\"M803.187 32.4315 Q797.192 32.4315 793.708 37.1306 Q790.224 41.7891 790.224 49.9314 Q790.224 58.0738 793.668 62.7728 Q797.151 67.4314 803.187 67.4314 Q809.142 67.4314 812.626 62.7323 Q816.11 58.0333 816.11 49.9314 Q816.11 41.8701 812.626 37.1711 Q809.142 32.4315 803.187 32.4315 M803.187 26.1121 Q812.909 26.1121 818.459 32.4315 Q824.009 38.7509 824.009 49.9314 Q824.009 61.0714 818.459 67.4314 Q812.909 73.7508 803.187 73.7508 Q793.425 73.7508 787.875 67.4314 Q782.366 61.0714 782.366 49.9314 Q782.366 38.7509 787.875 32.4315 Q793.425 26.1121 803.187 26.1121 Z\" fill=\"#000000\" fill-rule=\"nonzero\" fill-opacity=\"1\" /><path clip-path=\"url(#clip770)\" d=\"M857.591 5.93863 L865.652 5.93863 L852.446 21.17 L846.248 21.17 L857.591 5.93863 M865.288 28.5427 L865.288 35.5912 Q862.128 33.9709 858.725 33.1607 Q855.322 32.3505 851.677 32.3505 Q846.127 32.3505 843.332 34.0519 Q840.577 35.7533 840.577 39.156 Q840.577 41.7486 842.562 43.2475 Q844.547 44.7058 850.542 46.0426 L853.094 46.6097 Q861.034 48.3111 864.356 51.4303 Q867.718 54.509 867.718 60.0587 Q867.718 66.3781 862.695 70.0644 Q857.712 73.7508 848.962 73.7508 Q845.317 73.7508 841.347 73.0216 Q837.417 72.3329 833.042 70.9151 L833.042 63.2184 Q837.174 65.3654 841.185 66.4591 Q845.195 67.5124 849.124 67.5124 Q854.391 67.5124 857.226 65.73 Q860.062 63.9071 860.062 60.6258 Q860.062 57.5877 857.996 55.9673 Q855.971 54.3469 849.043 52.8481 L846.451 52.2405 Q839.524 50.7821 836.445 47.7845 Q833.366 44.7463 833.366 39.4801 Q833.366 33.0797 837.903 29.5959 Q842.44 26.1121 850.785 26.1121 Q854.917 26.1121 858.563 26.7198 Q862.209 27.3274 865.288 28.5427 Z\" fill=\"#000000\" fill-rule=\"nonzero\" fill-opacity=\"1\" /><path clip-path=\"url(#clip770)\" d=\"M912.238 28.9478 L912.238 35.9153 Q909.078 34.1734 905.878 33.3227 Q902.718 32.4315 899.477 32.4315 Q892.226 32.4315 888.216 37.0496 Q884.205 41.6271 884.205 49.9314 Q884.205 58.2358 888.216 62.8538 Q892.226 67.4314 899.477 67.4314 Q902.718 67.4314 905.878 66.5807 Q909.078 65.6895 912.238 63.9476 L912.238 70.8341 Q909.118 72.2924 905.756 73.0216 Q902.434 73.7508 898.667 73.7508 Q888.418 73.7508 882.382 67.3098 Q876.347 60.8689 876.347 49.9314 Q876.347 38.832 882.423 32.472 Q888.54 26.1121 899.153 26.1121 Q902.596 26.1121 905.878 26.8413 Q909.159 27.5299 912.238 28.9478 M903.69 6.22219 L911.751 6.22219 L898.546 21.4536 L892.348 21.4536 L903.69 6.22219 Z\" fill=\"#000000\" fill-rule=\"nonzero\" fill-opacity=\"1\" /><path clip-path=\"url(#clip770)\" d=\"M969.153 32.4315 Q963.157 32.4315 959.674 37.1306 Q956.19 41.7891 956.19 49.9314 Q956.19 58.0738 959.633 62.7728 Q963.117 67.4314 969.153 67.4314 Q975.108 67.4314 978.591 62.7323 Q982.075 58.0333 982.075 49.9314 Q982.075 41.8701 978.591 37.1711 Q975.108 32.4315 969.153 32.4315 M969.153 26.1121 Q978.875 26.1121 984.425 32.4315 Q989.974 38.7509 989.974 49.9314 Q989.974 61.0714 984.425 67.4314 Q978.875 73.7508 969.153 73.7508 Q959.39 73.7508 953.84 67.4314 Q948.331 61.0714 948.331 49.9314 Q948.331 38.7509 953.84 32.4315 Q959.39 26.1121 969.153 26.1121 Z\" fill=\"#000000\" fill-rule=\"nonzero\" fill-opacity=\"1\" /><path clip-path=\"url(#clip770)\" d=\"M1032.18 34.0924 L1032.18 9.54393 L1039.64 9.54393 L1039.64 72.576 L1032.18 72.576 L1032.18 65.7705 Q1029.84 69.8214 1026.23 71.8063 Q1022.67 73.7508 1017.64 73.7508 Q1009.42 73.7508 1004.23 67.1883 Q999.089 60.6258 999.089 49.9314 Q999.089 39.2371 1004.23 32.6746 Q1009.42 26.1121 1017.64 26.1121 Q1022.67 26.1121 1026.23 28.0971 Q1029.84 30.0415 1032.18 34.0924 M1006.79 49.9314 Q1006.79 58.1548 1010.15 62.8538 Q1013.55 67.5124 1019.47 67.5124 Q1025.38 67.5124 1028.78 62.8538 Q1032.18 58.1548 1032.18 49.9314 Q1032.18 41.7081 1028.78 37.0496 Q1025.38 32.3505 1019.47 32.3505 Q1013.55 32.3505 1010.15 37.0496 Q1006.79 41.7081 1006.79 49.9314 Z\" fill=\"#000000\" fill-rule=\"nonzero\" fill-opacity=\"1\" /><path clip-path=\"url(#clip770)\" d=\"M1054.99 9.54393 L1062.45 9.54393 L1062.45 72.576 L1054.99 72.576 L1054.99 9.54393 Z\" fill=\"#000000\" fill-rule=\"nonzero\" fill-opacity=\"1\" /><path clip-path=\"url(#clip770)\" d=\"M1116.85 48.0275 L1116.85 51.6733 L1082.58 51.6733 Q1083.06 59.3701 1087.2 63.421 Q1091.37 67.4314 1098.78 67.4314 Q1103.08 67.4314 1107.09 66.3781 Q1111.14 65.3249 1115.11 63.2184 L1115.11 70.267 Q1111.1 71.9684 1106.88 72.8596 Q1102.67 73.7508 1098.34 73.7508 Q1087.48 73.7508 1081.12 67.4314 Q1074.8 61.1119 1074.8 50.3365 Q1074.8 39.1965 1080.8 32.6746 Q1086.83 26.1121 1097.04 26.1121 Q1106.19 26.1121 1111.5 32.0264 Q1116.85 37.9003 1116.85 48.0275 M1109.4 45.84 Q1109.31 39.7232 1105.95 36.0774 Q1102.63 32.4315 1097.12 32.4315 Q1090.88 32.4315 1087.12 35.9558 Q1083.39 39.4801 1082.82 45.8805 L1109.4 45.84 Z\" fill=\"#000000\" fill-rule=\"nonzero\" fill-opacity=\"1\" /><path clip-path=\"url(#clip770)\" d=\"M1158.94 49.3643 Q1158.94 41.2625 1155.58 36.8065 Q1152.25 32.3505 1146.22 32.3505 Q1140.22 32.3505 1136.86 36.8065 Q1133.54 41.2625 1133.54 49.3643 Q1133.54 57.4256 1136.86 61.8816 Q1140.22 66.3376 1146.22 66.3376 Q1152.25 66.3376 1155.58 61.8816 Q1158.94 57.4256 1158.94 49.3643 M1166.39 66.9452 Q1166.39 78.5308 1161.25 84.1616 Q1156.1 89.8329 1145.49 89.8329 Q1141.56 89.8329 1138.08 89.2252 Q1134.59 88.6581 1131.31 87.4428 L1131.31 80.1917 Q1134.59 81.9741 1137.79 82.8248 Q1140.99 83.6755 1144.31 83.6755 Q1151.65 83.6755 1155.29 79.8271 Q1158.94 76.0193 1158.94 68.282 L1158.94 64.5957 Q1156.63 68.6061 1153.02 70.5911 Q1149.42 72.576 1144.39 72.576 Q1136.05 72.576 1130.95 66.2161 Q1125.84 59.8562 1125.84 49.3643 Q1125.84 38.832 1130.95 32.472 Q1136.05 26.1121 1144.39 26.1121 Q1149.42 26.1121 1153.02 28.0971 Q1156.63 30.082 1158.94 34.0924 L1158.94 27.2059 L1166.39 27.2059 L1166.39 66.9452 Z\" fill=\"#000000\" fill-rule=\"nonzero\" fill-opacity=\"1\" /><path clip-path=\"url(#clip770)\" d=\"M1181.99 9.54393 L1189.44 9.54393 L1189.44 33.9304 L1194.5 30.2846 L1197.58 34.5785 L1189.44 40.2903 L1189.44 72.576 L1181.99 72.576 L1181.99 45.597 L1177 49.1618 L1174.01 44.8678 L1181.99 39.156 L1181.99 9.54393 Z\" fill=\"#000000\" fill-rule=\"nonzero\" fill-opacity=\"1\" /><path clip-path=\"url(#clip770)\" d=\"M1222.9 32.4315 Q1216.91 32.4315 1213.42 37.1306 Q1209.94 41.7891 1209.94 49.9314 Q1209.94 58.0738 1213.38 62.7728 Q1216.87 67.4314 1222.9 67.4314 Q1228.86 67.4314 1232.34 62.7323 Q1235.82 58.0333 1235.82 49.9314 Q1235.82 41.8701 1232.34 37.1711 Q1228.86 32.4315 1222.9 32.4315 M1222.9 26.1121 Q1232.62 26.1121 1238.17 32.4315 Q1243.72 38.7509 1243.72 49.9314 Q1243.72 61.0714 1238.17 67.4314 Q1232.62 73.7508 1222.9 73.7508 Q1213.14 73.7508 1207.59 67.4314 Q1202.08 61.0714 1202.08 49.9314 Q1202.08 38.7509 1207.59 32.4315 Q1213.14 26.1121 1222.9 26.1121 Z\" fill=\"#000000\" fill-rule=\"nonzero\" fill-opacity=\"1\" /><path clip-path=\"url(#clip770)\" d=\"M1277.31 5.93863 L1285.37 5.93863 L1272.16 21.17 L1265.96 21.17 L1277.31 5.93863 M1285 28.5427 L1285 35.5912 Q1281.84 33.9709 1278.44 33.1607 Q1275.04 32.3505 1271.39 32.3505 Q1265.84 32.3505 1263.05 34.0519 Q1260.29 35.7533 1260.29 39.156 Q1260.29 41.7486 1262.28 43.2475 Q1264.26 44.7058 1270.26 46.0426 L1272.81 46.6097 Q1280.75 48.3111 1284.07 51.4303 Q1287.43 54.509 1287.43 60.0587 Q1287.43 66.3781 1282.41 70.0644 Q1277.43 73.7508 1268.68 73.7508 Q1265.03 73.7508 1261.06 73.0216 Q1257.13 72.3329 1252.76 70.9151 L1252.76 63.2184 Q1256.89 65.3654 1260.9 66.4591 Q1264.91 67.5124 1268.84 67.5124 Q1274.1 67.5124 1276.94 65.73 Q1279.78 63.9071 1279.78 60.6258 Q1279.78 57.5877 1277.71 55.9673 Q1275.68 54.3469 1268.76 52.8481 L1266.17 52.2405 Q1259.24 50.7821 1256.16 47.7845 Q1253.08 44.7463 1253.08 39.4801 Q1253.08 33.0797 1257.62 29.5959 Q1262.15 26.1121 1270.5 26.1121 Q1274.63 26.1121 1278.28 26.7198 Q1281.92 27.3274 1285 28.5427 Z\" fill=\"#000000\" fill-rule=\"nonzero\" fill-opacity=\"1\" /><path clip-path=\"url(#clip770)\" d=\"M1331.95 28.9478 L1331.95 35.9153 Q1328.79 34.1734 1325.59 33.3227 Q1322.43 32.4315 1319.19 32.4315 Q1311.94 32.4315 1307.93 37.0496 Q1303.92 41.6271 1303.92 49.9314 Q1303.92 58.2358 1307.93 62.8538 Q1311.94 67.4314 1319.19 67.4314 Q1322.43 67.4314 1325.59 66.5807 Q1328.79 65.6895 1331.95 63.9476 L1331.95 70.8341 Q1328.83 72.2924 1325.47 73.0216 Q1322.15 73.7508 1318.38 73.7508 Q1308.13 73.7508 1302.1 67.3098 Q1296.06 60.8689 1296.06 49.9314 Q1296.06 38.832 1302.14 32.472 Q1308.25 26.1121 1318.87 26.1121 Q1322.31 26.1121 1325.59 26.8413 Q1328.87 27.5299 1331.95 28.9478 Z\" fill=\"#000000\" fill-rule=\"nonzero\" fill-opacity=\"1\" /><path clip-path=\"url(#clip770)\" d=\"M1344.91 27.2059 L1352.37 27.2059 L1352.37 72.576 L1344.91 72.576 L1344.91 27.2059 M1344.91 9.54393 L1352.37 9.54393 L1352.37 18.9825 L1344.91 18.9825 L1344.91 9.54393 Z\" fill=\"#000000\" fill-rule=\"nonzero\" fill-opacity=\"1\" /><path clip-path=\"url(#clip770)\" d=\"M1411.92 32.4315 Q1405.92 32.4315 1402.44 37.1306 Q1398.95 41.7891 1398.95 49.9314 Q1398.95 58.0738 1402.4 62.7728 Q1405.88 67.4314 1411.92 67.4314 Q1417.87 67.4314 1421.36 62.7323 Q1424.84 58.0333 1424.84 49.9314 Q1424.84 41.8701 1421.36 37.1711 Q1417.87 32.4315 1411.92 32.4315 M1411.92 26.1121 Q1421.64 26.1121 1427.19 32.4315 Q1432.74 38.7509 1432.74 49.9314 Q1432.74 61.0714 1427.19 67.4314 Q1421.64 73.7508 1411.92 73.7508 Q1402.15 73.7508 1396.6 67.4314 Q1391.09 61.0714 1391.09 49.9314 Q1391.09 38.7509 1396.6 32.4315 Q1402.15 26.1121 1411.92 26.1121 Z\" fill=\"#000000\" fill-rule=\"nonzero\" fill-opacity=\"1\" /><path clip-path=\"url(#clip770)\" d=\"M1474.95 34.0924 L1474.95 9.54393 L1482.4 9.54393 L1482.4 72.576 L1474.95 72.576 L1474.95 65.7705 Q1472.6 69.8214 1468.99 71.8063 Q1465.43 73.7508 1460.41 73.7508 Q1452.18 73.7508 1447 67.1883 Q1441.85 60.6258 1441.85 49.9314 Q1441.85 39.2371 1447 32.6746 Q1452.18 26.1121 1460.41 26.1121 Q1465.43 26.1121 1468.99 28.0971 Q1472.6 30.0415 1474.95 34.0924 M1449.55 49.9314 Q1449.55 58.1548 1452.91 62.8538 Q1456.31 67.5124 1462.23 67.5124 Q1468.14 67.5124 1471.55 62.8538 Q1474.95 58.1548 1474.95 49.9314 Q1474.95 41.7081 1471.55 37.0496 Q1468.14 32.3505 1462.23 32.3505 Q1456.31 32.3505 1452.91 37.0496 Q1449.55 41.7081 1449.55 49.9314 Z\" fill=\"#000000\" fill-rule=\"nonzero\" fill-opacity=\"1\" /><path clip-path=\"url(#clip770)\" d=\"M1519.79 27.2059 L1527.25 27.2059 L1536.56 62.6108 L1545.84 27.2059 L1554.63 27.2059 L1563.95 62.6108 L1573.22 27.2059 L1580.68 27.2059 L1568.81 72.576 L1560.02 72.576 L1550.25 35.3887 L1540.45 72.576 L1531.66 72.576 L1519.79 27.2059 Z\" fill=\"#000000\" fill-rule=\"nonzero\" fill-opacity=\"1\" /><path clip-path=\"url(#clip770)\" d=\"M1612.6 49.7694 Q1603.56 49.7694 1600.08 51.8354 Q1596.6 53.9013 1596.6 58.8839 Q1596.6 62.8538 1599.19 65.2034 Q1601.82 67.5124 1606.32 67.5124 Q1612.52 67.5124 1616.24 63.1374 Q1620.01 58.7219 1620.01 51.4303 L1620.01 49.7694 L1612.6 49.7694 M1627.47 46.6907 L1627.47 72.576 L1620.01 72.576 L1620.01 65.6895 Q1617.46 69.8214 1613.65 71.8063 Q1609.84 73.7508 1604.33 73.7508 Q1597.37 73.7508 1593.24 69.8619 Q1589.14 65.9325 1589.14 59.3701 Q1589.14 51.7138 1594.25 47.825 Q1599.39 43.9361 1609.56 43.9361 L1620.01 43.9361 L1620.01 43.2069 Q1620.01 38.0623 1616.61 35.2672 Q1613.25 32.4315 1607.13 32.4315 Q1603.24 32.4315 1599.55 33.3632 Q1595.87 34.295 1592.47 36.1584 L1592.47 29.2718 Q1596.56 27.692 1600.41 26.9223 Q1604.25 26.1121 1607.9 26.1121 Q1617.74 26.1121 1622.6 31.2163 Q1627.47 36.3204 1627.47 46.6907 Z\" fill=\"#000000\" fill-rule=\"nonzero\" fill-opacity=\"1\" /><path clip-path=\"url(#clip770)\" d=\"M1669.11 34.1734 Q1667.85 33.4443 1666.35 33.1202 Q1664.9 32.7556 1663.11 32.7556 Q1656.79 32.7556 1653.39 36.8875 Q1650.03 40.9789 1650.03 48.6757 L1650.03 72.576 L1642.53 72.576 L1642.53 27.2059 L1650.03 27.2059 L1650.03 34.2544 Q1652.38 30.1225 1656.15 28.1376 Q1659.91 26.1121 1665.3 26.1121 Q1666.07 26.1121 1667 26.2337 Q1667.93 26.3147 1669.07 26.5172 L1669.11 34.1734 Z\" fill=\"#000000\" fill-rule=\"nonzero\" fill-opacity=\"1\" /><path clip-path=\"url(#clip770)\" d=\"M1684.3 14.324 L1684.3 27.2059 L1699.65 27.2059 L1699.65 32.9987 L1684.3 32.9987 L1684.3 57.6282 Q1684.3 63.1779 1685.8 64.7578 Q1687.34 66.3376 1692 66.3376 L1699.65 66.3376 L1699.65 72.576 L1692 72.576 Q1683.37 72.576 1680.09 69.3758 Q1676.81 66.1351 1676.81 57.6282 L1676.81 32.9987 L1671.34 32.9987 L1671.34 27.2059 L1676.81 27.2059 L1676.81 14.324 L1684.3 14.324 Z\" fill=\"#000000\" fill-rule=\"nonzero\" fill-opacity=\"1\" /><path clip-path=\"url(#clip770)\" d=\"M1727.04 32.4315 Q1721.04 32.4315 1717.56 37.1306 Q1714.07 41.7891 1714.07 49.9314 Q1714.07 58.0738 1717.52 62.7728 Q1721 67.4314 1727.04 67.4314 Q1732.99 67.4314 1736.48 62.7323 Q1739.96 58.0333 1739.96 49.9314 Q1739.96 41.8701 1736.48 37.1711 Q1732.99 32.4315 1727.04 32.4315 M1727.04 26.1121 Q1736.76 26.1121 1742.31 32.4315 Q1747.86 38.7509 1747.86 49.9314 Q1747.86 61.0714 1742.31 67.4314 Q1736.76 73.7508 1727.04 73.7508 Q1717.27 73.7508 1711.72 67.4314 Q1706.21 61.0714 1706.21 49.9314 Q1706.21 38.7509 1711.72 32.4315 Q1717.27 26.1121 1727.04 26.1121 Z\" fill=\"#000000\" fill-rule=\"nonzero\" fill-opacity=\"1\" /><path clip-path=\"url(#clip770)\" d=\"M1781.44 5.93863 L1789.5 5.93863 L1776.3 21.17 L1770.1 21.17 L1781.44 5.93863 M1789.14 28.5427 L1789.14 35.5912 Q1785.98 33.9709 1782.57 33.1607 Q1779.17 32.3505 1775.53 32.3505 Q1769.98 32.3505 1767.18 34.0519 Q1764.43 35.7533 1764.43 39.156 Q1764.43 41.7486 1766.41 43.2475 Q1768.4 44.7058 1774.39 46.0426 L1776.94 46.6097 Q1784.88 48.3111 1788.21 51.4303 Q1791.57 54.509 1791.57 60.0587 Q1791.57 66.3781 1786.54 70.0644 Q1781.56 73.7508 1772.81 73.7508 Q1769.17 73.7508 1765.2 73.0216 Q1761.27 72.3329 1756.89 70.9151 L1756.89 63.2184 Q1761.02 65.3654 1765.03 66.4591 Q1769.04 67.5124 1772.97 67.5124 Q1778.24 67.5124 1781.08 65.73 Q1783.91 63.9071 1783.91 60.6258 Q1783.91 57.5877 1781.85 55.9673 Q1779.82 54.3469 1772.89 52.8481 L1770.3 52.2405 Q1763.37 50.7821 1760.29 47.7845 Q1757.22 44.7463 1757.22 39.4801 Q1757.22 33.0797 1761.75 29.5959 Q1766.29 26.1121 1774.63 26.1121 Q1778.77 26.1121 1782.41 26.7198 Q1786.06 27.3274 1789.14 28.5427 Z\" fill=\"#000000\" fill-rule=\"nonzero\" fill-opacity=\"1\" /><path clip-path=\"url(#clip770)\" d=\"M1836.09 28.9478 L1836.09 35.9153 Q1832.93 34.1734 1829.73 33.3227 Q1826.57 32.4315 1823.33 32.4315 Q1816.08 32.4315 1812.06 37.0496 Q1808.05 41.6271 1808.05 49.9314 Q1808.05 58.2358 1812.06 62.8538 Q1816.08 67.4314 1823.33 67.4314 Q1826.57 67.4314 1829.73 66.5807 Q1832.93 65.6895 1836.09 63.9476 L1836.09 70.8341 Q1832.97 72.2924 1829.61 73.0216 Q1826.28 73.7508 1822.52 73.7508 Q1812.27 73.7508 1806.23 67.3098 Q1800.2 60.8689 1800.2 49.9314 Q1800.2 38.832 1806.27 32.472 Q1812.39 26.1121 1823 26.1121 Q1826.45 26.1121 1829.73 26.8413 Q1833.01 27.5299 1836.09 28.9478 Z\" fill=\"#000000\" fill-rule=\"nonzero\" fill-opacity=\"1\" /><path clip-path=\"url(#clip770)\" d=\"M1849.05 27.2059 L1856.5 27.2059 L1856.5 72.576 L1849.05 72.576 L1849.05 27.2059 M1849.05 9.54393 L1856.5 9.54393 L1856.5 18.9825 L1849.05 18.9825 L1849.05 9.54393 Z\" fill=\"#000000\" fill-rule=\"nonzero\" fill-opacity=\"1\" /><path clip-path=\"url(#clip770)\" d=\"M1898.47 9.54393 L1905.92 9.54393 L1905.92 72.576 L1898.47 72.576 L1898.47 9.54393 Z\" fill=\"#000000\" fill-rule=\"nonzero\" fill-opacity=\"1\" /><path clip-path=\"url(#clip770)\" d=\"M1921.52 27.2059 L1928.97 27.2059 L1928.97 72.576 L1921.52 72.576 L1921.52 27.2059 M1921.52 9.54393 L1928.97 9.54393 L1928.97 18.9825 L1921.52 18.9825 L1921.52 9.54393 Z\" fill=\"#000000\" fill-rule=\"nonzero\" fill-opacity=\"1\" /><path clip-path=\"url(#clip770)\" d=\"M1977.22 28.9478 L1977.22 35.9153 Q1974.06 34.1734 1970.86 33.3227 Q1967.7 32.4315 1964.46 32.4315 Q1957.21 32.4315 1953.2 37.0496 Q1949.19 41.6271 1949.19 49.9314 Q1949.19 58.2358 1953.2 62.8538 Q1957.21 67.4314 1964.46 67.4314 Q1967.7 67.4314 1970.86 66.5807 Q1974.06 65.6895 1977.22 63.9476 L1977.22 70.8341 Q1974.1 72.2924 1970.74 73.0216 Q1967.42 73.7508 1963.65 73.7508 Q1953.4 73.7508 1947.37 67.3098 Q1941.33 60.8689 1941.33 49.9314 Q1941.33 38.832 1947.41 32.472 Q1953.52 26.1121 1964.14 26.1121 Q1967.58 26.1121 1970.86 26.8413 Q1974.14 27.5299 1977.22 28.9478 Z\" fill=\"#000000\" fill-rule=\"nonzero\" fill-opacity=\"1\" /><path clip-path=\"url(#clip770)\" d=\"M1986.94 27.2059 L2022.35 27.2059 L2022.35 34.0114 L1994.32 66.6212 L2022.35 66.6212 L2022.35 72.576 L1985.93 72.576 L1985.93 65.7705 L2013.96 33.1607 L1986.94 33.1607 L1986.94 27.2059 Z\" fill=\"#000000\" fill-rule=\"nonzero\" fill-opacity=\"1\" /><path clip-path=\"url(#clip770)\" d=\"M2066.3 49.9314 Q2066.3 41.7081 2062.9 37.0496 Q2059.53 32.3505 2053.62 32.3505 Q2047.71 32.3505 2044.3 37.0496 Q2040.94 41.7081 2040.94 49.9314 Q2040.94 58.1548 2044.3 62.8538 Q2047.71 67.5124 2053.62 67.5124 Q2059.53 67.5124 2062.9 62.8538 Q2066.3 58.1548 2066.3 49.9314 M2040.94 34.0924 Q2043.29 30.0415 2046.86 28.0971 Q2050.46 26.1121 2055.44 26.1121 Q2063.71 26.1121 2068.85 32.6746 Q2074.04 39.2371 2074.04 49.9314 Q2074.04 60.6258 2068.85 67.1883 Q2063.71 73.7508 2055.44 73.7508 Q2050.46 73.7508 2046.86 71.8063 Q2043.29 69.8214 2040.94 65.7705 L2040.94 72.576 L2033.45 72.576 L2033.45 9.54393 L2040.94 9.54393 L2040.94 34.0924 Z\" fill=\"#000000\" fill-rule=\"nonzero\" fill-opacity=\"1\" /><path clip-path=\"url(#clip770)\" d=\"M2105.27 76.7889 Q2102.11 84.8907 2099.11 87.3618 Q2096.11 89.8329 2091.09 89.8329 L2085.14 89.8329 L2085.14 83.5945 L2089.51 83.5945 Q2092.59 83.5945 2094.29 82.1361 Q2095.99 80.6778 2098.06 75.2496 L2099.4 71.8468 L2081.04 27.2059 L2088.94 27.2059 L2103.12 62.6918 L2117.3 27.2059 L2125.2 27.2059 L2105.27 76.7889 Z\" fill=\"#000000\" fill-rule=\"nonzero\" fill-opacity=\"1\" /><polyline clip-path=\"url(#clip772)\" style=\"stroke:#009af9; stroke-linecap:round; stroke-linejoin:round; stroke-width:4; stroke-opacity:1; fill:none\" points=\"334.841,1374.46 1314.69,799.146 1412.92,735.223 1470.39,671.299 1511.18,671.299 1542.81,607.375 1568.66,607.375 1590.52,607.375 1609.45,607.375 1626.15,543.451 1641.09,543.451 1654.61,543.451 1666.94,543.451 1678.29,543.451 1688.8,543.451 1698.58,543.451 1707.74,543.451 1716.33,479.527 1724.44,479.527 1732.1,479.527 1739.38,479.527 1746.3,479.527 1752.89,479.527 1759.2,479.527 1765.23,479.527 1771.02,479.527 1776.58,479.527 1781.93,479.527 1787.09,479.527 1792.07,479.527 1796.87,479.527 1801.52,479.527 1806.02,479.527 1810.39,415.604 1814.62,415.604 1818.73,415.604 1822.73,415.604 1826.61,415.604 1830.39,415.604 1834.08,415.604 1837.67,415.604 1841.17,415.604 1844.59,415.604 1847.92,415.604 1851.18,415.604 1854.37,415.604 1857.49,415.604 1860.54,415.604 1863.52,415.604 1866.44,415.604 1869.31,415.604 1872.12,415.604 1874.87,415.604 1877.57,415.604 1880.22,415.604 1882.82,415.604 1885.38,415.604 1887.89,415.604 1890.36,415.604 1892.78,415.604 1895.16,415.604 1897.51,415.604 1899.81,415.604 1902.08,415.604 1904.32,415.604 1906.51,415.604 1908.68,351.68 1910.81,351.68 1912.91,351.68 1914.98,351.68 1917.02,351.68 1919.03,351.68 1921.02,351.68 1922.97,351.68 1924.9,351.68 1926.81,351.68 1928.68,351.68 1930.54,351.68 1932.37,351.68 1934.17,351.68 1935.96,351.68 1937.72,351.68 1939.46,351.68 1941.18,351.68 1942.88,351.68 1944.56,351.68 1946.21,351.68 1947.85,351.68 1949.47,351.68 1951.08,351.68 1952.66,351.68 1954.23,351.68 1955.78,351.68 1957.31,351.68 1958.83,351.68 1960.33,351.68 1961.81,351.68 1963.28,351.68 1964.74,351.68 1966.18,351.68 1967.6,351.68 1969.01,351.68 1970.41,351.68 1971.79,351.68 1973.16,351.68 1974.52,351.68 1975.86,351.68 1977.2,351.68 1978.51,351.68 1979.82,351.68 1981.12,351.68 1982.4,351.68 1983.67,351.68 1984.93,351.68 1986.18,351.68 1987.42,351.68 1988.65,351.68 1989.87,351.68 1991.07,351.68 1992.27,351.68 1993.46,351.68 1994.63,351.68 1995.8,351.68 1996.96,351.68 1998.11,351.68 1999.24,351.68 2000.37,351.68 2001.5,351.68 2002.61,351.68 2003.71,351.68 2004.81,351.68 2005.89,287.756 2006.97,287.756 2008.04,287.756 2009.1,287.756 2010.16,287.756 2011.2,287.756 2012.24,287.756 2013.27,287.756 2014.3,287.756 2015.32,287.756 2016.32,287.756 2017.33,287.756 2018.32,287.756 2019.31,287.756 2020.29,287.756 2021.27,287.756 2022.23,287.756 2023.2,287.756 2024.15,287.756 2025.1,287.756 2026.04,287.756 2026.98,287.756 2027.91,287.756 2028.83,287.756 2029.75,287.756 2030.66,287.756 2031.57,287.756 2032.47,287.756 2033.36,287.756 2034.25,287.756 2035.13,287.756 2036.01,287.756 2036.89,287.756 2037.75,287.756 2038.61,287.756 2039.47,287.756 2040.32,287.756 2041.17,287.756 2042.01,287.756 2042.85,287.756 2043.68,287.756 2044.51,287.756 2045.33,287.756 2046.15,287.756 2046.96,287.756 2047.77,287.756 2048.57,287.756 2049.37,287.756 2050.16,287.756 2050.95,287.756 2051.74,287.756 2052.52,287.756 2053.3,287.756 2054.07,287.756 2054.84,287.756 2055.6,287.756 2056.36,287.756 2057.12,287.756 2057.87,287.756 2058.62,287.756 2059.36,287.756 2060.11,287.756 2060.84,287.756 2061.57,287.756 2062.3,287.756 2063.03,287.756 2063.75,287.756 2064.47,287.756 2065.18,287.756 2065.89,287.756 2066.6,287.756 2067.31,287.756 2068.01,287.756 2068.7,287.756 2069.4,287.756 2070.09,287.756 2070.77,287.756 2071.46,287.756 2072.14,287.756 2072.81,287.756 2073.49,287.756 2074.16,287.756 2074.82,287.756 2075.49,287.756 2076.15,287.756 2076.81,287.756 2077.46,287.756 2078.11,287.756 2078.76,287.756 2079.41,287.756 2080.05,287.756 2080.69,287.756 2081.33,287.756 2081.96,287.756 2082.6,287.756 2083.23,287.756 2083.85,287.756 2084.47,287.756 2085.1,287.756 2085.71,287.756 2086.33,287.756 2086.94,287.756 2087.55,287.756 2088.16,287.756 2088.76,287.756 2089.37,287.756 2089.96,287.756 2090.56,287.756 2091.16,287.756 2091.75,287.756 2092.34,287.756 2092.93,287.756 2093.51,287.756 2094.09,287.756 2094.67,287.756 2095.25,287.756 2095.83,287.756 2096.4,287.756 2096.97,287.756 2097.54,287.756 2098.1,287.756 2098.67,287.756 2099.23,287.756 2099.79,287.756 2100.35,287.756 2100.9,287.756 2101.45,287.756 2102,287.756 2102.55,287.756 2103.1,287.756 2103.64,287.756 2104.19,223.832 2104.73,223.832 2105.26,223.832 2105.8,223.832 2106.33,223.832 2106.87,223.832 2107.4,223.832 2107.92,223.832 2108.45,223.832 2108.98,223.832 2109.5,223.832 2110.02,223.832 2110.54,223.832 2111.05,223.832 2111.57,223.832 2112.08,223.832 2112.59,223.832 2113.1,223.832 2113.61,223.832 2114.11,223.832 2114.62,223.832 2115.12,223.832 2115.62,223.832 2116.12,223.832 2116.61,223.832 2117.11,223.832 2117.6,223.832 2118.09,223.832 2118.58,223.832 2119.07,223.832 2119.56,223.832 2120.04,223.832 2120.53,223.832 2121.01,223.832 2121.49,223.832 2121.97,223.832 2122.44,223.832 2122.92,223.832 2123.39,223.832 2123.86,223.832 2124.33,223.832 2124.8,223.832 2125.27,223.832 2125.74,223.832 2126.2,223.832 2126.66,223.832 2127.12,223.832 2127.58,223.832 2128.04,223.832 2128.5,223.832 2128.95,223.832 2129.41,223.832 2129.86,223.832 2130.31,223.832 2130.76,223.832 2131.21,223.832 2131.65,223.832 2132.1,223.832 2132.54,223.832 2132.99,223.832 2133.43,223.832 2133.87,223.832 2134.31,223.832 2134.74,223.832 2135.18,223.832 2135.61,223.832 2136.05,223.832 2136.48,223.832 2136.91,223.832 2137.34,223.832 2137.76,223.832 2138.19,223.832 2138.62,223.832 2139.04,223.832 2139.46,223.832 2139.88,223.832 2140.3,223.832 2140.72,223.832 2141.14,223.832 2141.56,223.832 2141.97,223.832 2142.39,223.832 2142.8,223.832 2143.21,223.832 2143.62,223.832 2144.03,223.832 2144.44,223.832 2144.85,223.832 2145.25,223.832 2145.66,223.832 2146.06,223.832 2146.46,223.832 2146.86,223.832 2147.26,223.832 2147.66,223.832 2148.06,223.832 2148.46,223.832 2148.85,223.832 2149.25,223.832 2149.64,223.832 2150.03,223.832 2150.42,223.832 2150.81,223.832 2151.2,223.832 2151.59,223.832 2151.98,223.832 2152.36,223.832 2152.75,223.832 2153.13,223.832 2153.51,223.832 2153.9,223.832 2154.28,223.832 2154.66,223.832 2155.04,223.832 2155.41,223.832 2155.79,223.832 2156.16,223.832 2156.54,223.832 2156.91,223.832 2157.29,223.832 2157.66,223.832 2158.03,223.832 2158.4,223.832 2158.77,223.832 2159.13,223.832 2159.5,223.832 2159.87,223.832 2160.23,223.832 2160.6,223.832 2160.96,223.832 2161.32,223.832 2161.68,223.832 2162.04,223.832 2162.4,223.832 2162.76,223.832 2163.12,223.832 2163.48,223.832 2163.83,223.832 2164.19,223.832 2164.54,223.832 2164.89,223.832 2165.25,223.832 2165.6,223.832 2165.95,223.832 2166.3,223.832 2166.65,223.832 2167,223.832 2167.34,223.832 2167.69,223.832 2168.03,223.832 2168.38,223.832 2168.72,223.832 2169.07,223.832 2169.41,223.832 2169.75,223.832 2170.09,223.832 2170.43,223.832 2170.77,223.832 2171.11,223.832 2171.44,223.832 2171.78,223.832 2172.12,223.832 2172.45,223.832 2172.78,223.832 2173.12,223.832 2173.45,223.832 2173.78,223.832 2174.11,223.832 2174.44,223.832 2174.77,223.832 2175.1,223.832 2175.43,223.832 2175.76,223.832 2176.08,223.832 2176.41,223.832 2176.73,223.832 2177.06,223.832 2177.38,223.832 2177.7,223.832 2178.02,223.832 2178.35,223.832 2178.67,223.832 2178.99,223.832 2179.31,223.832 2179.62,223.832 2179.94,223.832 2180.26,223.832 2180.57,223.832 2180.89,223.832 2181.2,223.832 2181.52,223.832 2181.83,223.832 2182.14,223.832 2182.46,223.832 2182.77,223.832 2183.08,223.832 2183.39,223.832 2183.7,223.832 2184.01,223.832 2184.31,223.832 2184.62,223.832 2184.93,223.832 2185.23,223.832 2185.54,223.832 2185.84,223.832 2186.15,223.832 2186.45,223.832 2186.75,223.832 2187.06,223.832 2187.36,223.832 2187.66,223.832 2187.96,223.832 2188.26,223.832 2188.56,223.832 2188.85,223.832 2189.15,223.832 2189.45,223.832 2189.75,223.832 2190.04,223.832 2190.34,223.832 2190.63,223.832 2190.93,223.832 2191.22,223.832 2191.51,223.832 2191.8,223.832 2192.09,223.832 2192.39,223.832 2192.68,223.832 2192.97,223.832 2193.25,223.832 2193.54,223.832 2193.83,223.832 2194.12,223.832 2194.41,223.832 2194.69,223.832 2194.98,223.832 2195.26,223.832 2195.55,223.832 2195.83,223.832 2196.11,223.832 2196.4,223.832 2196.68,223.832 2196.96,223.832 2197.24,223.832 2197.52,223.832 2197.8,223.832 2198.08,223.832 2198.36,223.832 2198.64,223.832 2198.92,223.832 2199.19,223.832 2199.47,223.832 2199.75,223.832 2200.02,223.832 2200.3,223.832 2200.57,223.832 2200.85,223.832 2201.12,223.832 2201.39,223.832 2201.66,223.832 2201.94,223.832 2202.21,223.832 2202.48,159.909 2202.75,159.909 2203.02,159.909 2203.29,159.909 2203.56,159.909 2203.83,159.909 2204.09,159.909 2204.36,159.909 2204.63,159.909 2204.89,159.909 2205.16,159.909 2205.42,159.909 2205.69,159.909 2205.95,159.909 2206.22,159.909 2206.48,159.909 2206.74,159.909 2207.01,159.909 2207.27,159.909 2207.53,159.909 2207.79,159.909 2208.05,159.909 2208.31,159.909 2208.57,159.909 2208.83,159.909 2209.09,159.909 2209.35,159.909 2209.6,159.909 2209.86,159.909 2210.12,159.909 2210.37,159.909 2210.63,159.909 2210.88,159.909 2211.14,159.909 2211.39,159.909 2211.65,159.909 2211.9,159.909 2212.15,159.909 2212.41,159.909 2212.66,159.909 2212.91,159.909 2213.16,159.909 2213.41,159.909 2213.66,159.909 2213.91,159.909 2214.16,159.909 2214.41,159.909 2214.66,159.909 2214.91,159.909 2215.16,159.909 2215.4,159.909 2215.65,159.909 2215.9,159.909 2216.14,159.909 2216.39,159.909 2216.63,159.909 2216.88,159.909 2217.12,159.909 2217.37,159.909 2217.61,159.909 2217.85,159.909 2218.09,159.909 2218.34,159.909 2218.58,159.909 2218.82,159.909 2219.06,159.909 2219.3,159.909 2219.54,159.909 2219.78,159.909 2220.02,159.909 2220.26,159.909 2220.5,159.909 2220.74,159.909 2220.97,159.909 2221.21,159.909 2221.45,159.909 2221.68,159.909 2221.92,159.909 2222.16,159.909 2222.39,159.909 2222.63,159.909 2222.86,159.909 2223.1,159.909 2223.33,159.909 2223.56,159.909 2223.8,159.909 2224.03,159.909 2224.26,159.909 2224.49,159.909 2224.72,159.909 2224.96,159.909 2225.19,159.909 2225.42,159.909 2225.65,159.909 2225.88,159.909 2226.11,159.909 2226.33,159.909 2226.56,159.909 2226.79,159.909 2227.02,159.909 2227.25,159.909 2227.47,159.909 2227.7,159.909 2227.93,159.909 2228.15,159.909 2228.38,159.909 2228.6,159.909 2228.83,159.909 2229.05,159.909 2229.28,159.909 2229.5,159.909 2229.72,159.909 2229.95,159.909 2230.17,159.909 2230.39,159.909 2230.62,159.909 2230.84,159.909 2231.06,159.909 2231.28,159.909 2231.5,159.909 2231.72,159.909 2231.94,159.909 2232.16,159.909 2232.38,159.909 2232.6,159.909 2232.82,159.909 2233.04,159.909 2233.25,159.909 2233.47,159.909 2233.69,159.909 2233.91,159.909 2234.12,159.909 2234.34,159.909 2234.55,159.909 2234.77,159.909 2234.99,159.909 2235.2,159.909 2235.42,159.909 2235.63,159.909 2235.84,159.909 2236.06,159.909 2236.27,159.909 2236.48,159.909 2236.7,159.909 2236.91,159.909 2237.12,159.909 2237.33,159.909 2237.54,159.909 2237.76,159.909 2237.97,159.909 2238.18,159.909 2238.39,159.909 2238.6,159.909 2238.81,159.909 2239.02,159.909 2239.23,159.909 2239.43,159.909 2239.64,159.909 2239.85,159.909 2240.06,159.909 2240.27,159.909 2240.47,159.909 2240.68,159.909 2240.89,159.909 2241.09,159.909 2241.3,159.909 2241.5,159.909 2241.71,159.909 2241.91,159.909 2242.12,159.909 2242.32,159.909 2242.53,159.909 2242.73,159.909 2242.94,159.909 2243.14,159.909 2243.34,159.909 2243.54,159.909 2243.75,159.909 2243.95,159.909 2244.15,159.909 2244.35,159.909 2244.55,159.909 2244.75,159.909 2244.96,159.909 2245.16,159.909 2245.36,159.909 2245.56,159.909 2245.76,159.909 2245.95,159.909 2246.15,159.909 2246.35,159.909 2246.55,159.909 2246.75,159.909 2246.95,159.909 2247.14,159.909 2247.34,159.909 2247.54,159.909 2247.74,159.909 2247.93,159.909 2248.13,159.909 2248.32,159.909 2248.52,159.909 2248.72,159.909 2248.91,159.909 2249.11,159.909 2249.3,159.909 2249.5,159.909 2249.69,159.909 2249.88,159.909 2250.08,159.909 2250.27,159.909 2250.46,159.909 2250.66,159.909 2250.85,159.909 2251.04,159.909 2251.23,159.909 2251.42,159.909 2251.62,159.909 2251.81,159.909 2252,159.909 2252.19,159.909 2252.38,159.909 2252.57,159.909 2252.76,159.909 2252.95,159.909 2253.14,159.909 2253.33,159.909 2253.52,159.909 2253.71,159.909 2253.89,159.909 2254.08,159.909 2254.27,159.909 2254.46,159.909 2254.65,159.909 2254.83,159.909 2255.02,159.909 2255.21,159.909 2255.39,159.909 2255.58,159.909 2255.77,159.909 2255.95,159.909 2256.14,159.909 2256.32,159.909 2256.51,159.909 2256.69,159.909 2256.88,159.909 2257.06,159.909 2257.24,159.909 2257.43,159.909 2257.61,159.909 2257.79,159.909 2257.98,159.909 2258.16,159.909 2258.34,159.909 2258.53,159.909 2258.71,159.909 2258.89,159.909 2259.07,159.909 2259.25,159.909 2259.43,159.909 2259.62,159.909 2259.8,159.909 2259.98,159.909 2260.16,159.909 2260.34,159.909 2260.52,159.909 2260.7,159.909 2260.88,159.909 2261.05,159.909 2261.23,159.909 2261.41,159.909 2261.59,159.909 2261.77,159.909 2261.95,159.909 2262.13,159.909 2262.3,159.909 2262.48,159.909 2262.66,159.909 2262.83,159.909 2263.01,159.909 2263.19,159.909 2263.36,159.909 2263.54,159.909 2263.72,159.909 2263.89,159.909 2264.07,159.909 2264.24,159.909 2264.42,159.909 2264.59,159.909 2264.77,159.909 2264.94,159.909 2265.11,159.909 2265.29,159.909 2265.46,159.909 2265.64,159.909 2265.81,159.909 2265.98,159.909 2266.15,159.909 2266.33,159.909 2266.5,159.909 2266.67,159.909 2266.84,159.909 2267.02,159.909 2267.19,159.909 2267.36,159.909 2267.53,159.909 2267.7,159.909 2267.87,159.909 2268.04,159.909 2268.21,159.909 2268.38,159.909 2268.55,159.909 2268.72,159.909 2268.89,159.909 2269.06,159.909 2269.23,159.909 2269.4,159.909 2269.57,159.909 2269.74,159.909 2269.9,159.909 2270.07,159.909 2270.24,159.909 2270.41,159.909 2270.58,159.909 2270.74,159.909 2270.91,159.909 2271.08,159.909 2271.24,159.909 2271.41,159.909 2271.58,159.909 2271.74,159.909 2271.91,159.909 2272.07,159.909 2272.24,159.909 2272.41,159.909 2272.57,159.909 2272.74,159.909 2272.9,159.909 2273.07,159.909 2273.23,159.909 2273.39,159.909 2273.56,159.909 2273.72,159.909 2273.89,159.909 2274.05,159.909 2274.21,159.909 2274.38,159.909 2274.54,159.909 2274.7,159.909 2274.86,159.909 2275.03,159.909 2275.19,159.909 2275.35,159.909 2275.51,159.909 2275.67,159.909 2275.83,159.909 2276,159.909 2276.16,159.909 2276.32,159.909 2276.48,159.909 2276.64,159.909 2276.8,159.909 2276.96,159.909 2277.12,159.909 2277.28,159.909 2277.44,159.909 2277.6,159.909 2277.76,159.909 2277.92,159.909 2278.08,159.909 2278.23,159.909 2278.39,159.909 2278.55,159.909 2278.71,159.909 2278.87,159.909 2279.03,159.909 2279.18,159.909 2279.34,159.909 2279.5,159.909 2279.65,159.909 2279.81,159.909 2279.97,159.909 2280.12,159.909 2280.28,159.909 2280.44,159.909 2280.59,159.909 2280.75,159.909 2280.91,159.909 2281.06,159.909 2281.22,159.909 2281.37,159.909 2281.53,159.909 2281.68,159.909 2281.84,159.909 2281.99,159.909 2282.15,159.909 2282.3,159.909 2282.45,159.909 2282.61,159.909 2282.76,159.909 2282.91,159.909 2283.07,159.909 2283.22,159.909 2283.37,159.909 2283.53,159.909 2283.68,159.909 2283.83,159.909 2283.98,159.909 2284.14,159.909 2284.29,159.909 2284.44,159.909 2284.59,159.909 2284.74,159.909 2284.9,159.909 2285.05,159.909 2285.2,159.909 2285.35,159.909 2285.5,159.909 2285.65,159.909 2285.8,159.909 2285.95,159.909 2286.1,159.909 2286.25,159.909 2286.4,159.909 2286.55,159.909 2286.7,159.909 2286.85,159.909 2287,159.909 2287.15,159.909 2287.3,159.909 2287.45,159.909 2287.59,159.909 2287.74,159.909 2287.89,159.909 2288.04,159.909 2288.19,159.909 2288.33,159.909 2288.48,159.909 2288.63,159.909 2288.78,159.909 2288.92,159.909 2289.07,159.909 2289.22,159.909 2289.36,159.909 2289.51,159.909 2289.66,159.909 2289.8,159.909 2289.95,159.909 2290.1,159.909 2290.24,159.909 2290.39,159.909 2290.53,159.909 2290.68,159.909 2290.82,159.909 2290.97,159.909 2291.11,159.909 2291.26,159.909 2291.4,159.909 2291.55,159.909 2291.69,159.909 2291.84,159.909 2291.98,159.909 2292.12,159.909 2292.27,159.909 2292.41,159.909 2292.56,159.909 2292.7,159.909 2292.84,159.909 2292.98,159.909 2293.13,159.909 2293.27,159.909 2293.41,159.909 2293.56,159.909 2293.7,159.909 2293.84,159.909 2293.98,159.909 \"/>\n",
       "<path clip-path=\"url(#clip770)\" d=\"M2023.43 270.066 L2283.53 270.066 L2283.53 166.386 L2023.43 166.386  Z\" fill=\"#ffffff\" fill-rule=\"evenodd\" fill-opacity=\"1\"/>\n",
       "<polyline clip-path=\"url(#clip770)\" style=\"stroke:#000000; stroke-linecap:round; stroke-linejoin:round; stroke-width:4; stroke-opacity:1; fill:none\" points=\"2023.43,270.066 2283.53,270.066 2283.53,166.386 2023.43,166.386 2023.43,270.066 \"/>\n",
       "<polyline clip-path=\"url(#clip770)\" style=\"stroke:#009af9; stroke-linecap:round; stroke-linejoin:round; stroke-width:4; stroke-opacity:1; fill:none\" points=\"2046.51,218.226 2184.95,218.226 \"/>\n",
       "<path clip-path=\"url(#clip770)\" d=\"M2221.87 237.914 Q2220.07 242.543 2218.35 243.955 Q2216.64 245.367 2213.77 245.367 L2210.37 245.367 L2210.37 241.803 L2212.87 241.803 Q2214.63 241.803 2215.6 240.969 Q2216.57 240.136 2217.75 237.034 L2218.51 235.09 L2208.03 209.58 L2212.54 209.58 L2220.64 229.858 L2228.75 209.58 L2233.26 209.58 L2221.87 237.914 Z\" fill=\"#000000\" fill-rule=\"nonzero\" fill-opacity=\"1\" /><path clip-path=\"url(#clip770)\" d=\"M2240.55 231.571 L2248.19 231.571 L2248.19 205.206 L2239.88 206.872 L2239.88 202.613 L2248.14 200.946 L2252.82 200.946 L2252.82 231.571 L2260.46 231.571 L2260.46 235.506 L2240.55 235.506 L2240.55 231.571 Z\" fill=\"#000000\" fill-rule=\"nonzero\" fill-opacity=\"1\" /></svg>\n"
      ]
     },
     "execution_count": 33,
     "metadata": {},
     "output_type": "execute_result"
    }
   ],
   "source": [
    "function floating_point_spacing()\n",
    "    x = range(1.0, stop=1e6, length=1000)\n",
    "    y = [eps(v) for v in x]\n",
    "    plot(x, y, xscale=:log10, yscale=:log10, xlabel=\"Wartość liczby\", ylabel=\"Odległość między liczbami\", title=\"Zależność odległości od wartości liczby\")\n",
    "end\n",
    "\n",
    "floating_point_spacing()"
   ]
  },
  {
   "cell_type": "markdown",
   "metadata": {},
   "source": [
    "### Zadanie 3"
   ]
  },
  {
   "cell_type": "markdown",
   "metadata": {},
   "source": [
    "Jedną z bibliotek numerycznych, jaką dodatkowo będziemy używać na zajęciach jest <a href=\"http://www.gnu.org/software/gsl/gsl.html\">GSL</a> (język C). Opis <a href=\"https://www.gnu.org/software/gsl/doc/html/usage.html\"> jak używać </a>. Korzystając ze <a href=\"https://www.gnu.org/software/gsl/doc/html/ieee754.html\"> wsparcia dla wyświetlania reprezentacji liczb zmiennoprzecinkowych</a> zobaczyć jak zmienia się cecha i mantysa dla coraz mniejszych liczb. Zaobserwować, kiedy matysa przestaje być znormalizowana i dlaczego?\n",
    "\n",
    "Kod załączyć jako komórka Markdown sformatowana jako C ([link](https://github.com/adam-p/markdown-here/wiki/Markdown-Cheatsheet#code)). Wynik także jako Markdown (kod albo fragment zrzutu ekranu)."
   ]
  },
  {
   "cell_type": "code",
   "execution_count": null,
   "metadata": {},
   "outputs": [],
   "source": [
    "# ```c\n",
    "# #include <stdio.h>\n",
    "# #include <stdint.h>\n",
    "# \n",
    "# void print_float_bits(float x) {\n",
    "#     union { float f; uint32_t i; } u;\n",
    "#     u.f = x;\n",
    "#     for (int i = 31; i >= 0; i--) {\n",
    "#         printf(\"%d\", (u.i >> i) & 1);\n",
    "#         if (i == 31 || i == 23) printf(\" \");\n",
    "#     }\n",
    "#     printf(\"\\n\");\n",
    "# }\n",
    "# \n",
    "# int main() {\n",
    "#     float x = 1.0;\n",
    "#     for (int i = 0; i < 30; i++) {\n",
    "#         print_float_bits(x);\n",
    "#         x /= 2;\n",
    "#     }\n",
    "#     return 0;\n",
    "# }\n",
    "# ```"
   ]
  },
  {
   "cell_type": "code",
   "execution_count": null,
   "metadata": {},
   "outputs": [],
   "source": [
    "filipmalejki@MacBook-Pro-Filip lab2 % gcc 3.c -o 3\n",
    "filipmalejki@MacBook-Pro-Filip lab2 % ./3\n",
    "0 01111111 00000000000000000000000\n",
    "0 01111110 00000000000000000000000\n",
    "0 01111101 00000000000000000000000\n",
    "0 01111100 00000000000000000000000\n",
    "0 01111011 00000000000000000000000\n",
    "0 01111010 00000000000000000000000\n",
    "0 01111001 00000000000000000000000\n",
    "0 01111000 00000000000000000000000\n",
    "0 01110111 00000000000000000000000\n",
    "0 01110110 00000000000000000000000\n",
    "0 01110101 00000000000000000000000\n",
    "0 01110100 00000000000000000000000\n",
    "0 01110011 00000000000000000000000\n",
    "0 01110010 00000000000000000000000\n",
    "0 01110001 00000000000000000000000\n",
    "0 01110000 00000000000000000000000\n",
    "0 01101111 00000000000000000000000\n",
    "0 01101110 00000000000000000000000\n",
    "0 01101101 00000000000000000000000\n",
    "0 01101100 00000000000000000000000\n",
    "0 01101011 00000000000000000000000\n",
    "0 01101010 00000000000000000000000\n",
    "0 01101001 00000000000000000000000\n",
    "0 01101000 00000000000000000000000\n",
    "0 01100111 00000000000000000000000\n",
    "0 01100110 00000000000000000000000\n",
    "0 01100101 00000000000000000000000\n",
    "0 01100100 00000000000000000000000\n",
    "0 01100011 00000000000000000000000\n",
    "0 01100010 00000000000000000000000"
   ]
  },
  {
   "cell_type": "markdown",
   "metadata": {},
   "source": [
    "### Zadanie 4"
   ]
  },
  {
   "cell_type": "markdown",
   "metadata": {},
   "source": [
    "Na przykładzie wybranego algorytmu niestabilnego numerycznie: \n",
    "1. Pokazać, że działa źle.\n",
    "2. Pokazać które konkretnie działania powodują zwiększenie błędu (np. dzielenie przez małą liczbę, cancellation).\n",
    "3. Zademonstować wersję stabilną.\n",
    "\n",
    "Wszystkie punkty przedstawić w postaci notatnika Julii."
   ]
  },
  {
   "cell_type": "code",
   "execution_count": 50,
   "metadata": {},
   "outputs": [
    {
     "name": "stdout",
     "output_type": "stream",
     "text": [
      "Rozwiązanie układu równań: [3.0, NaN, NaN]\n"
     ]
    }
   ],
   "source": [
    "using LinearAlgebra\n",
    "\n",
    "A = [1.0 1.0 1.0; 1.0 1.0 1.0e-5; 1.0 1.0 1.0]\n",
    "b = [3.0; 3.0; 3.0]\n",
    "\n",
    "#metoda eliminacji gaussa\n",
    "function gauss_elimination(A, b)\n",
    "    n = length(b)\n",
    "    for i in 1:n\n",
    "        #dzielenie\n",
    "        A[i, :] /= A[i, i]  \n",
    "        b[i] /= A[i, i]\n",
    "        \n",
    "        for j in i+1:n\n",
    "            factor = A[j, i]\n",
    "            A[j, :] -= factor * A[i, :]\n",
    "            b[j] -= factor * b[i]\n",
    "        end\n",
    "    end\n",
    "    return b\n",
    "end\n",
    "\n",
    "x = gauss_elimination(A, b)\n",
    "println(\"Rozwiązanie układu równań: \", x)"
   ]
  },
  {
   "cell_type": "code",
   "execution_count": 48,
   "metadata": {},
   "outputs": [
    {
     "name": "stdout",
     "output_type": "stream",
     "text": [
      "Nowe rozwiązanie układu równań: [3.0, NaN, NaN]\n"
     ]
    }
   ],
   "source": [
    "A[2, 2] = 1.0e-10  # zmniejszenie wartości w macierzy A spowoduje zwiększenie błędu (dzielenie przez mała liczbe)\n",
    "\n",
    "x = gauss_elimination(A, b)\n",
    "println(\"Nowe rozwiązanie układu równań: \", x)"
   ]
  },
  {
   "cell_type": "code",
   "execution_count": 49,
   "metadata": {},
   "outputs": [
    {
     "name": "stdout",
     "output_type": "stream",
     "text": [
      "Stabilne rozwiązanie układu równań: [3.0, 0.0, 0.0]\n"
     ]
    }
   ],
   "source": [
    "using LinearAlgebra\n",
    "\n",
    "function gauss_elimination_stable(A, b)\n",
    "    n = length(b)\n",
    "    \n",
    "    epsilon = 1e-10\n",
    "    \n",
    "    for i in 1:n\n",
    "        # pivot (max w kolumnie)\n",
    "        pivot_row = argmax(abs.(A[i:n, i])) + i - 1\n",
    "        A[[i, pivot_row], :] .= A[[pivot_row, i], :]\n",
    "        b[i], b[pivot_row] = b[pivot_row], b[i]\n",
    "        \n",
    "        # jesli mniejsze od eps to korekta\n",
    "        if abs(A[i, i]) < epsilon\n",
    "            A[i, i] += epsilon  # Dodajemy minimalną wartość\n",
    "        end\n",
    "        \n",
    "        # el\n",
    "        for j in i+1:n\n",
    "            factor = A[j, i] / A[i, i]\n",
    "            A[j, :] -= factor * A[i, :]\n",
    "            b[j] -= factor * b[i]\n",
    "        end\n",
    "    end\n",
    "    \n",
    "    # rozwiazanie (podstawienie wsteczne)\n",
    "    x = zeros(n)\n",
    "    for i in n:-1:1\n",
    "        x[i] = (b[i] - sum(A[i, i+1:end] .* x[i+1:end])) / A[i, i]\n",
    "    end\n",
    "    return x\n",
    "end\n",
    "\n",
    "A = [1.0 1.0 1.0; 1.0 1.0 1.0e-10; 1.0 1.0 1.0]\n",
    "b = [3.0; 3.0; 3.0]\n",
    "\n",
    "x_stable = gauss_elimination_stable(A, b)\n",
    "println(\"Stabilne rozwiązanie układu równań: \", x_stable)\n"
   ]
  },
  {
   "cell_type": "code",
   "execution_count": null,
   "metadata": {},
   "outputs": [],
   "source": []
  }
 ],
 "metadata": {
  "kernelspec": {
   "display_name": "Julia 1.11.4",
   "language": "julia",
   "name": "julia-1.11"
  },
  "language_info": {
   "file_extension": ".jl",
   "mimetype": "application/julia",
   "name": "julia",
   "version": "1.11.4"
  }
 },
 "nbformat": 4,
 "nbformat_minor": 4
}
