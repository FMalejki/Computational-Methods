{
 "cells": [
  {
   "cell_type": "markdown",
   "metadata": {},
   "source": [
    "# Analiza wydajności metod mnożenia macierzy\n",
    "\n",
    "W tym notebooku porównamy wydajność trzech różnych implementacji mnożenia macierzy:\n",
    "1. Naiwna metoda (potrójne pętle w naturalnej kolejności)\n",
    "2. Ulepszona metoda (ze zamienioną kolejnością pętli)\n",
    "3. Implementacja z użyciem BLAS (poprzez GSL)\n",
    "\n",
    "Dodatkowo porównamy wydajność z włączoną i wyłączoną optymalizacją kompilatora."
   ]
  },
  {
   "cell_type": "code",
   "execution_count": null,
   "metadata": {},
   "source": [
    "using DataFrames\n",
    "using CSV\n",
    "using Plots\n",
    "using Statistics"
   ]
  },
  {
   "cell_type": "markdown",
   "metadata": {},
   "source": [
    "## Wczytanie danych z pliku CSV\n",
    "\n",
    "Najpierw wczytamy dane wygenerowane przez program w C:"
   ]
  },
  {
   "cell_type": "code",
   "execution_count": null,
   "metadata": {},
   "source": [
    "# Wczytanie danych bez optymalizacji kompilatora\n",
    "df_no_opt = CSV.read(\"results_no_opt.csv\", DataFrame)\n",
    "println(\"Dane bez optymalizacji:\")\n",
    "df_no_opt"
   ]
  },
  {
   "cell_type": "code",
   "execution_count": null,
   "metadata": {},
   "source": [
    "# Wczytanie danych z optymalizacją kompilatora (dla chętnych)\n",
    "# Odkomentuj poniższy kod, jeśli masz dane z optymalizacją\n",
    "\n",
    "# df_opt = CSV.read(\"results_opt.csv\", DataFrame)\n",
    "# println(\"Dane z optymalizacją:\")\n",
    "# df_opt"
   ]
  },
  {
   "cell_type": "markdown",
   "metadata": {},
   "source": [
    "## Wizualizacja wyników bez optymalizacji kompilatora"
   ]
  },
  {
   "cell_type": "code",
   "execution_count": null,
   "metadata": {},
   "source": [
    "p1 = plot(df_no_opt.Rozmiar, df_no_opt.Naiwna, \n",
    "    label=\"Naiwna metoda\", \n",
    "    xlabel=\"Rozmiar macierzy (n)\", \n",
    "    ylabel=\"Czas wykonania [s]\",\n",
    "    title=\"Porównanie metod mnożenia macierzy (bez optymalizacji)\",\n",
    "    lw=2, marker=:circle, markersize=4)\n",
    "\n",
    "plot!(p1, df_no_opt.Rozmiar, df_no_opt.Ulepszona, \n",
    "    label=\"Ulepszona metoda\", \n",
    "    lw=2, marker=:square, markersize=4)\n",
    "\n",
    "plot!(p1, df_no_opt.Rozmiar, df_no_opt.BLAS, \n",
    "    label=\"BLAS (GSL)\", \n",
    "    lw=2, marker=:diamond, markersize=4)\n",
    "\n",
    "display(p1)"
   ]
  },
  {
   "cell_type": "markdown",
   "metadata": {},
   "source": [
    "## Analiza przyspieszenia względem naiwnej metody"
   ]
  },
  {
   "cell_type": "code",
   "execution_count": null,
   "metadata": {},
   "source": [
    "df_no_opt[!, :Przyspieszenie_Ulepszona] = df_no_opt.Naiwna ./ df_no_opt.Ulepszona\n",
    "df_no_opt[!, :Przyspieszenie_BLAS] = df_no_opt.Naiwna ./ df_no_opt.BLAS\n",
    "\n",
    "p2 = plot(df_no_opt.Rozmiar, df_no_opt.Przyspieszenie_Ulepszona, \n",
    "    label=\"Ulepszona / Naiwna\", \n",
    "    xlabel=\"Rozmiar macierzy (n)\", \n",
    "    ylabel=\"Przyspieszenie (x razy)\",\n",
    "    title=\"Przyspieszenie względem naiwnej metody\",\n",
    "    lw=2, marker=:square, markersize=4)\n",
    "\n",
    "plot!(p2, df_no_opt.Rozmiar, df_no_opt.Przyspieszenie_BLAS, \n",
    "    label=\"BLAS / Naiwna\", \n",
    "    lw=2, marker=:diamond, markersize=4)\n",
    "\n",
    "hline!(p2, [1.0], label=\"Brak przyspieszenia\", ls=:dash, color=:black)\n",
    "\n",
    "display(p2)"
   ]
  },
  {
   "cell_type": "markdown",
   "metadata": {},
   "source": [
    "## Porównanie z optymalizacją kompilatora (dla chętnych)\n",
    "\n",
    "Odkomentuj poniższy kod, jeśli masz dane z optymalizacją kompilatora:"
   ]
  },
  {
   "cell_type": "code",
   "execution_count": null,
   "metadata": {},
   "source": [
    "# p3 = plot(title=\"Wpływ optymalizacji kompilatora\", xlabel=\"Rozmiar macierzy (n)\", ylabel=\"Czas wykonania [s]\")\n",
    "\n",
    "# # Naiwna metoda\n",
    "# plot!(p3, df_no_opt.Rozmiar, df_no_opt.Naiwna, label=\"Naiwna (bez opt.)\", lw=2, marker=:circle, markersize=4)\n",
    "# plot!(p3, df_opt.Rozmiar, df_opt.Naiwna, label=\"Naiwna (z opt.)\", lw=2, ls=:dash, marker=:circle, markersize=4)\n",
    "\n",
    "# # Ulepszona metoda\n",
    "# plot!(p3, df_no_opt.Rozmiar, df_no_opt.Ulepszona, label=\"Ulepszona (bez opt.)\", lw=2, marker=:square, markersize=4)\n",
    "# plot!(p3, df_opt.Rozmiar, df_opt.Ulepszona, label=\"Ulepszona (z opt.)\", lw=2, ls=:dash, marker=:square, markersize=4)\n",
    "\n",
    "# # BLAS\n",
    "# plot!(p3, df_no_opt.Rozmiar, df_no_opt.BLAS, label=\"BLAS (bez opt.)\", lw=2, marker=:diamond, markersize=4)\n",
    "# plot!(p3, df_opt.Rozmiar, df_opt.BLAS, label=\"BLAS (z opt.)\", lw=2, ls=:dash, marker=:diamond, markersize=4)\n",
    "\n",
    "# display(p3)"
   ]
  },
  {
   "cell_type": "markdown",
   "metadata": {},
   "source": [
    "## Wnioski\n",
    "\n",
    "Na podstawie przedstawionych wyników możemy wyciągnąć następujące wnioski:\n",
    "\n",
    "1. **Naiwna metoda** - standardowa implementacja z potrójną pętlą jest najwolniejsza ze wszystkich metod. Wynika to z faktu, że wzorzec dostępu do pamięci nie jest optymalny dla układu danych w języku C (row-major order).\n",
    "\n",
    "2. **Ulepszona metoda** - zmiana kolejności pętli pozwala na lepsze wykorzystanie lokalności danych, co prowadzi do znacznej poprawy wydajności. Zysk jest szczególnie widoczny dla większych macierzy.\n",
    "\n",
    "3. **Metoda BLAS** - wykorzystanie zoptymalizowanej biblioteki BLAS przez GSL daje najlepsze wyniki. Biblioteki BLAS są zoptymalizowane pod kątem konkretnej architektury procesora i wykorzystują zaawansowane techniki optymalizacji, takie jak rozwijanie pętli, wektoryzacja, równoległość na poziomie instrukcji, itp.\n",
    "\n",
    "Ponadto, włączenie optymalizacji kompilatora ma znaczący wpływ na wydajność wszystkich implementacji, ale największy zysk widoczny jest w przypadku naiwnej i ulepszonej metody. Biblioteka BLAS jest już zoptymalizowana na poziomie implementacji, więc korzyści z optymalizacji kompilatora są mniejsze."
   ]
  }
 ],
 "metadata": {
  "kernelspec": {
   "display_name": "Julia 1.8.5",
   "language": "julia",
   "name": "julia-1.8"
  },
  "language_info": {
   "file_extension": ".jl",
   "mimetype": "application/julia",
   "name": "julia",
   "version": "1.8.5"
  }
 },
 "nbformat": 4,
 "nbformat_minor": 4
}