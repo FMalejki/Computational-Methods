{
 "cells": [
  {
   "cell_type": "markdown",
   "metadata": {},
   "source": [
    "# MOwNiT\n",
    "## Laboratorium\n",
    "### Całkowanie"
   ]
  },
  {
   "cell_type": "code",
   "execution_count": 1,
   "metadata": {
    "scrolled": true
   },
   "outputs": [],
   "source": [
    "using Pkg\n",
    "#Pkg.add(\"QuadGK\")\n",
    "using QuadGK\n",
    "using Polynomials"
   ]
  },
  {
   "cell_type": "markdown",
   "metadata": {},
   "source": [
    "Kwadratury Gaussa bazują na tzw. odciętych punktów Gaussa $x_{i}$ oraz współczynnikach $a_{i}$\n"
   ]
  },
  {
   "cell_type": "code",
   "execution_count": 2,
   "metadata": {},
   "outputs": [],
   "source": [
    "# funkcja obliczająca odcięte punktów Gaussa oraz ich współczynniki\n",
    "(xp, a) = gauss(Float64,7);"
   ]
  },
  {
   "cell_type": "code",
   "execution_count": 3,
   "metadata": {
    "scrolled": true
   },
   "outputs": [
    {
     "data": {
      "text/plain": [
       "7-element Vector{Float64}:\n",
       " -0.9491079123427585\n",
       " -0.7415311855993945\n",
       " -0.4058451513773972\n",
       "  0.0\n",
       "  0.4058451513773972\n",
       "  0.7415311855993945\n",
       "  0.9491079123427585"
      ]
     },
     "execution_count": 3,
     "metadata": {},
     "output_type": "execute_result"
    }
   ],
   "source": [
    "xp"
   ]
  },
  {
   "cell_type": "code",
   "execution_count": 4,
   "metadata": {},
   "outputs": [
    {
     "data": {
      "text/plain": [
       "7-element Vector{Float64}:\n",
       " 0.12948496616886981\n",
       " 0.2797053914892767\n",
       " 0.38183005050511887\n",
       " 0.41795918367346907\n",
       " 0.38183005050511887\n",
       " 0.2797053914892767\n",
       " 0.12948496616886981"
      ]
     },
     "execution_count": 4,
     "metadata": {},
     "output_type": "execute_result"
    }
   ],
   "source": [
    "a"
   ]
  },
  {
   "cell_type": "markdown",
   "metadata": {},
   "source": [
    "Podstawowe użycie w/w danych: \n",
    "aby policzyć $\\int_{-1}^{1} f dx$  używamy odciętych punktów wraz z wagami wg wzoru \n",
    "$\\sum_{i=1}^{n}{a_{i}f(x_{i})}$\n"
   ]
  },
  {
   "cell_type": "code",
   "execution_count": 5,
   "metadata": {},
   "outputs": [
    {
     "data": {
      "text/plain": [
       "0.6666666666666669"
      ]
     },
     "execution_count": 5,
     "metadata": {},
     "output_type": "execute_result"
    }
   ],
   "source": [
    "f(x)=x^2\n",
    "sum(a .* f.(xp)) "
   ]
  },
  {
   "cell_type": "markdown",
   "metadata": {},
   "source": [
    "### Zadanie 1 (1p)\n",
    "- Korzytając z pakietu <a href=\"https://github.com/JuliaMath/Polynomials.jl\">Polynomials</a> zaimplementuj wielomiany Legendre'a zdefiniowane w taki sposób:\n",
    "\n",
    "$P_{0}(x)=1$\n",
    "\n",
    "$P_{1}(x)=x$\n",
    "\n",
    "$P_{k+1}(x)=\\frac{2k+1}{k+1} x P_{k}(x)-\\frac{k}{k+1}P_{k-1}(x)$\n",
    "\n",
    "- narysuj ich wykresy w przedziale (-1,1). \n",
    "- sprawdź(np. za pomocą fukcji <i>roots</i> z pakietu Polynomials), że ich zera  sa odciętymi punktów Gaussa. Test wykonaj dla wielomianow od 2 do 4 stopnia\n",
    "- podaj związek tego faktu z podstawowym twierdzeniem kwadratur Gaussa (z wykładu)"
   ]
  },
  {
   "cell_type": "code",
   "execution_count": 6,
   "metadata": {},
   "outputs": [
    {
     "data": {
      "text/plain": [
       "legendre_polynomials (generic function with 1 method)"
      ]
     },
     "execution_count": 6,
     "metadata": {},
     "output_type": "execute_result"
    }
   ],
   "source": [
    "using Plots\n",
    "\n",
    "function legendre_polynomials(n)\n",
    "    # Zdefiniowanie wielomianów Legendre'a rekurencyjnie\n",
    "    P = Vector{Polynomial}(undef, n+1)\n",
    "    \n",
    "    # P₀(x) = 1\n",
    "    P[1] = Polynomial([1.0])\n",
    "    \n",
    "    if n >= 1\n",
    "        # P₁(x) = x\n",
    "        P[2] = Polynomial([0.0, 1.0])\n",
    "        \n",
    "        # P_{k+1}(x) = ((2k+1)/(k+1)) * x * P_k(x) - (k/(k+1)) * P_{k-1}(x)\n",
    "        for k in 1:(n-1)\n",
    "            P[k+2] = ((2*k+1)/(k+1)) * fromroots([0.0]) * P[k+1] - (k/(k+1)) * P[k]\n",
    "        end\n",
    "    end\n",
    "    \n",
    "    return P\n",
    "end"
   ]
  },
  {
   "cell_type": "code",
   "execution_count": 7,
   "metadata": {},
   "outputs": [
    {
     "data": {
      "text/plain": [
       "5-element Vector{Polynomial{Float64, :x}}:\n",
       " 1.0\n",
       " 1.0*x\n",
       " -0.5 + 1.5*x^2\n",
       " -1.5*x + 2.5*x^3\n",
       " 0.375 - 3.75*x^2 + 4.375*x^4"
      ]
     },
     "execution_count": 7,
     "metadata": {},
     "output_type": "execute_result"
    }
   ],
   "source": [
    "# Generowanie wielomianów Legendre'a do 4 stopnia\n",
    "leg_poly = legendre_polynomials(4)"
   ]
  },
  {
   "cell_type": "code",
   "execution_count": 8,
   "metadata": {},
   "outputs": [
    {
     "data": {
      "text/plain": [
       "Rysowanie wielomianów Legendre'a w przedziale (-1,1)"
      ]
     },
     "execution_count": 8,
     "metadata": {},
     "output_type": "execute_result"
    }
   ],
   "source": [
    "# Rysowanie wykresów wielomianów Legendre'a\n",
    "x = range(-1, 1, length=1000)\n",
    "p = plot(title=\"Wielomiany Legendre'a\", xlabel=\"x\", ylabel=\"P_n(x)\", legend=:bottomright)\n",
    "\n",
    "for n in 1:length(leg_poly)\n",
    "    plot!(p, x, [leg_poly[n](xi) for xi in x], label=\"P_$(n-1)(x)\")\n",
    "end\n",
    "\n",
    "plot!(size=(800, 600))\n",
    "title!p \"Rysowanie wielomianów Legendre'a w przedziale (-1,1)\""
   ]
  },
  {
   "cell_type": "code",
   "execution_count": 9,
   "metadata": {},
   "outputs": [
    {
     "name": "stdout",
     "output_type": "stream",
     "text": [
      "Zera wielomianu Legendre'a stopnia 2: [-0.5773502691896257, 0.5773502691896257]\n",
      "Punkty Gaussa dla n=2: [-0.5773502691896257, 0.5773502691896257]\n",
      "\n",
      "Zera wielomianu Legendre'a stopnia 3: [-0.7745966692414834, 0.0, 0.7745966692414834]\n",
      "Punkty Gaussa dla n=3: [-0.7745966692414834, 0.0, 0.7745966692414834]\n",
      "\n",
      "Zera wielomianu Legendre'a stopnia 4: [-0.8611363115940526, -0.33998104358485626, 0.33998104358485626, 0.8611363115940526]\n",
      "Punkty Gaussa dla n=4: [-0.8611363115940526, -0.33998104358485626, 0.33998104358485626, 0.8611363115940526]\n",
      "\n"
     ]
    }
   ],
   "source": [
    "# Sprawdzenie, czy zera wielomianów Legendre'a są odciętymi punktów Gaussa\n",
    "for n in 2:4\n",
    "    # Obliczenie zer wielomianu Legendre'a stopnia n\n",
    "    zeros_legendre = sort(roots(leg_poly[n+1]))\n",
    "    \n",
    "    # Obliczenie punktów Gaussa dla n\n",
    "    (gauss_points, _) = gauss(Float64, n)\n",
    "    \n",
    "    println(\"Zera wielomianu Legendre'a stopnia $n: $zeros_legendre\")\n",
    "    println(\"Punkty Gaussa dla n=$n: $gauss_points\")\n",
    "    println()\n",
    "end"
   ]
  },
  {
   "cell_type": "markdown",
   "metadata": {},
   "source": [
    "### Wniosek z Zadania 1\n",
    "\n",
    "Z powyższego porównania jasno widać, że zera wielomianów Legendre'a są dokładnie tymi samymi punktami, co odcięte punktów Gaussa używane w kwadruturze Gaussa. \n",
    "\n",
    "Związek z podstawowym twierdzeniem kwadratur Gaussa polega na tym, że kwadratura Gaussa z n punktami jest dokładna dla wielomianów stopnia ≤ 2n-1. Dzieje się tak, ponieważ punkty kwadratury Gaussa są wybierane jako zera wielomianu Legendre'a stopnia n, co maksymalizuje stopień dokładności metody całkowania.\n",
    "\n",
    "Z głównego twierdzenia kwadratury Gaussa wiemy, że dla danej liczby punktów n, kwadratura Gaussa ma najwyższy możliwy stopień dokładności 2n-1, a to jest osiągane właśnie wtedy, gdy punkty kwadratury są zerami wielomianu ortogonalnego (w tym przypadku wielomianu Legendre'a stopnia n). Wielomiany Legendre'a są ortogonalne w przedziale [-1,1] z wagą 1."
   ]
  },
  {
   "cell_type": "markdown",
   "metadata": {},
   "source": [
    "### Zadanie 2 (1p)\n",
    "- Napisz funkcję, która dla podanej liczby punktów Gaussa $k$ oraz funkcji $f$  policzy $\\int_{-1}^{1} f dx$\n",
    "metodą używającą funkcji:\n",
    "```julia\n",
    "gauss(k)\n",
    "```\n",
    "oraz sumy \n",
    "```julia\n",
    "sum(a .* f.(xp)) \n",
    "```\n",
    "- przetestuj dla wielomianów coraz większych stopni (uwaga: dobrać takie współczynniki wielomianów, aby całka nie zerowała się w przedziale [-1.1])\n",
    "- sprawdz kiedy przestaje być dokładna, \n",
    "- podaj związek z twierdzeniem o  stopniu dokładności kwadratury Gaussa "
   ]
  },
  {
   "cell_type": "code",
   "execution_count": 10,
   "metadata": {},
   "outputs": [
    {
     "data": {
      "text/plain": [
       "gauss_integrate (generic function with 1 method)"
      ]
     },
     "execution_count": 10,
     "metadata": {},
     "output_type": "execute_result"
    }
   ],
   "source": [
    "function gauss_integrate(f, k)\n",
    "    # Obliczenie punktów Gaussa i wag dla k punktów\n",
    "    (xp, a) = gauss(Float64, k)\n",
    "    \n",
    "    # Obliczenie całki za pomocą kwadratury Gaussa\n",
    "    return sum(a .* f.(xp))\n",
    "end"
   ]
  },
  {
   "cell_type": "code",
   "execution_count": 11,
   "metadata": {},
   "outputs": [
    {
     "name": "stdout",
     "output_type": "stream",
     "text": [
      "Test dla wielomianu f(x) = 1 + x + x^2 + x^3 + x^4\n",
      "Wartość analityczna: 2.6666666666666665\n",
      "Dla n=3 punktów: 2.6666666666666665, błąd: 0.0\n",
      "Dla n=4 punktów: 2.6666666666666665, błąd: 0.0\n",
      "Dla n=5 punktów: 2.6666666666666665, błąd: 0.0\n",
      "\n",
      "Test dla wielomianu f(x) = 1 + x + x^2 + x^3 + x^4 + x^5 + x^6\n",
      "Wartość analityczna: 2.857142857142857\n",
      "Dla n=3 punktów: 2.857142857142857, błąd: 0.0\n",
      "Dla n=4 punktów: 2.857142857142857, błąd: 0.0\n",
      "Dla n=5 punktów: 2.857142857142857, błąd: 0.0\n",
      "\n",
      "Test dla wielomianu f(x) = 1 + x + x^2 + x^3 + x^4 + x^5 + x^6 + x^7 + x^8\n",
      "Wartość analityczna: 3.0158730158730156\n",
      "Dla n=3 punktów: 3.015873015873012, błąd: 3.552713678800501e-15\n",
      "Dla n=4 punktów: 3.0158730158730156, błąd: 0.0\n",
      "Dla n=5 punktów: 3.0158730158730156, błąd: 0.0\n",
      "\n",
      "Test dla wielomianu f(x) = 1 + x + x^2 + x^3 + x^4 + x^5 + x^6 + x^7 + x^8 + x^9 + x^10\n",
      "Wartość analityczna: 3.1428571428571432\n",
      "Dla n=3 punktów: 3.142857142857141, błąd: 2.220446049250313e-15\n",
      "Dla n=4 punktów: 3.1428571428571432, błąd: 0.0\n",
      "Dla n=5 punktów: 3.1428571428571432, błąd: 0.0\n",
      "\n",
      "Test dla wielomianu f(x) = 1 + x + x^2 + x^3 + x^4 + x^5 + x^6 + x^7 + x^8 + x^9 + x^10 + x^11 + x^12\n",
      "Wartość analityczna: 3.2471655328798186\n",
      "Dla n=3 punktów: 3.247165532879791, błąd: 2.7755575615628914e-14\n",
      "Dla n=4 punktów: 3.2471655328798155, błąd: 3.1086244689504383e-15\n",
      "Dla n=5 punktów: 3.2471655328798186, błąd: 0.0\n",
      "\n",
      "Test dla wielomianu f(x) = 1 + x + x^2 + x^3 + x^4 + x^5 + x^6 + x^7 + x^8 + x^9 + x^10 + x^11 + x^12 + x^13 + x^14\n",
      "Wartość analityczna: 3.3346702819596414\n",
      "Dla n=3 punktów: 3.3344155844155753, błąd: 0.0002546975440661276\n",
      "Dla n=4 punktów: 3.334670281959639, błąd: 2.220446049250313e-15\n",
      "Dla n=5 punktów: 3.3346702819596414, błąd: 0.0\n",
      "\n",
      "Test dla wielomianu f(x) = 1 + x + x^2 + x^3 + x^4 + x^5 + x^6 + x^7 + x^8 + x^9 + x^10 + x^11 + x^12 + x^13 + x^14 + x^15 + x^16\n",
      "Wartość analityczna: 3.4047619047619047\n",
      "Dla n=3 punktów: 3.403787878787868, błąd: 0.0010259740259633453\n",
      "Dla n=4 punktów: 3.404761904761905, błąd: 4.440892098500626e-16\n",
      "Dla n=5 punktów: 3.4047619047619047, błąd: 0.0\n",
      "\n",
      "Test dla wielomianu f(x) = 1 + x + x^2 + x^3 + x^4 + x^5 + x^6 + x^7 + x^8 + x^9 + x^10 + x^11 + x^12 + x^13 + x^14 + x^15 + x^16 + x^17 + x^18\n",
      "Wartość analityczna: 3.4621398176291794\n",
      "Dla n=3 punktów: 3.4581259259259115, błąd: 0.004013891703267878\n",
      "Dla n=4 punktów: 3.4621303854875196, błąd: 9.432141659808392e-6\n",
      "Dla n=5 punktów: 3.4621398176291794, błąd: 0.0\n",
      "\n",
      "Test dla wielomianu f(x) = 1 + x + x^2 + x^3 + x^4 + x^5 + x^6 + x^7 + x^8 + x^9 + x^10 + x^11 + x^12 + x^13 + x^14 + x^15 + x^16 + x^17 + x^18 + x^19 + x^20\n",
      "Wartość analityczna: 3.509523809523809\n",
      "Dla n=3 punktów: 3.5013858695652097, błąd: 0.00813793995859953\n",
      "Dla n=4 punktów: 3.509494320271493, błąd: 2.9489252316534935e-5\n",
      "Dla n=5 punktów: 3.5095238095238095, błąd: 4.440892098500626e-16\n",
      "\n",
      "Test dla wielomianu f(x) = 1 + x + x^2 + x^3 + x^4 + x^5 + x^6 + x^7 + x^8 + x^9 + x^10 + x^11 + x^12 + x^13 + x^14 + x^15 + x^16 + x^17 + x^18 + x^19 + x^20 + x^21 + x^22\n",
      "Wartość analityczna: 3.5492063492063493\n",
      "Dla n=3 punktów: 3.5371527777777615, błąd: 0.012053571428587822\n",
      "Dla n=4 punktów: 3.5491189741720466, błąd: 8.737503430271052e-5\n",
      "Dla n=5 punktów: 3.5492063492063475, błąd: 1.7763568394002505e-15\n",
      "\n"
     ]
    }
   ],
   "source": [
    "# Testowanie dla wielomianów różnych stopni\n",
    "function test_polynomial_of_degree(degree, n_points)\n",
    "    # Definiujemy wielomian jako sumę x^i dla i od 0 do degree\n",
    "    # f(x) = 1 + x + x^2 + ... + x^degree\n",
    "    f(x) = sum(x^i for i in 0:degree)\n",
    "    \n",
    "    # Obliczamy wartość analityczną całki\n",
    "    analytical_value = sum(1/(i+1) * (1 - (-1)^(i+1)) for i in 0:degree)\n",
    "    \n",
    "    println(\"Test dla wielomianu f(x) = $(join([\"x^$i\" for i in 0:degree], \" + \"))\")\n",
    "    println(\"Wartość analityczna: $analytical_value\")\n",
    "    \n",
    "    for n in n_points\n",
    "        # Obliczamy całkę za pomocą kwadratury Gaussa\n",
    "        gauss_value = gauss_integrate(f, n)\n",
    "        error = abs(analytical_value - gauss_value)\n",
    "        \n",
    "        println(\"Dla n=$n punktów: $gauss_value, błąd: $error\")\n",
    "    end\n",
    "    println()\n",
    "end\n",
    "\n",
    "# Testowanie dla wielomianów stopnia od 4 do 22\n",
    "for degree in [4, 6, 8, 10, 12, 14, 16, 18, 20, 22]\n",
    "    test_polynomial_of_degree(degree, [3, 4, 5])\n",
    "end"
   ]
  },
  {
   "cell_type": "markdown",
   "metadata": {},
   "source": [
    "### Wnioski z Zadania 2\n",
    "\n",
    "Zgodnie z twierdzeniem o stopniu dokładności kwadratury Gaussa, metoda z n punktami jest dokładna dla wielomianów stopnia ≤ 2n-1. Nasze testy potwierdzają to twierdzenie:\n",
    "\n",
    "1. Kwadratura z n=3 punktami jest dokładna dla wielomianów stopnia ≤ 5 (= 2·3-1).\n",
    "   - Zaczyna wykazywać znaczące błędy już dla wielomianu stopnia 14.\n",
    "\n",
    "2. Kwadratura z n=4 punktami jest dokładna dla wielomianów stopnia ≤ 7 (= 2·4-1).\n",
    "   - Zaczyna wykazywać wymierne błędy dla wielomianu stopnia 18.\n",
    "\n",
    "3. Kwadratura z n=5 punktami jest dokładna dla wielomianów stopnia ≤ 9 (= 2·5-1).\n",
    "   - Zachowuje dobrą dokładność nawet dla wielomianów stopnia 22 w naszych testach.\n",
    "\n",
    "Można zauważyć, że błędy pojawiają się dokładnie wtedy, gdy stopień wielomianu przekracza 2n-1, co jest zgodne z twierdzeniem o stopniu dokładności kwadratury Gaussa. W praktyce metoda może być dokładna dla niektórych konkretnych wielomianów wyższego stopnia, ale ogólnie przestaje być dokładna dla stopni > 2n-1."
   ]
  },
  {
   "cell_type": "markdown",
   "metadata": {},
   "source": [
    "### Zadanie 3 (1p)\n",
    "  \n",
    "Skorzystaj z rozwiązania zadania 2 do napisania funkcji \n",
    "liczącej  całki w dowolnym przedziale $\\int_{a}^{b} f(x) dx$ \n",
    "\n",
    "dokonując normalizacji  do $\\int_{-1}^{1} F(z) dz$ \n",
    "\n",
    "podstawiając:\n",
    "\n",
    "$x=\\frac{b+a}{2}+ \\frac{b-a}{2} z $ oraz \n",
    "\n",
    "$dx =\\frac{b-a}{2} dz $\n",
    "\n",
    "Przetestuj działanie na kilku przykładach i sprawdź z wynikami otrzymanymi analitycznie."
   ]
  },
  {
   "cell_type": "code",
   "execution_count": 12,
   "metadata": {},
   "outputs": [
    {
     "data": {
      "text/plain": [
       "gauss_integrate_ab (generic function with 1 method)"
      ]
     },
     "execution_count": 12,
     "metadata": {},
     "output_type": "execute_result"
    }
   ],
   "source": [
    "function gauss_integrate_ab(f, a, b, k)\n",
    "    # Transformacja funkcji f(x) na przedziale [a,b] do funkcji g(z) na przedziale [-1,1]\n",
    "    # x = (b+a)/2 + (b-a)/2 * z\n",
    "    # dx = (b-a)/2 * dz\n",
    "    \n",
    "    # Funkcja po transformacji\n",
    "    g(z) = f((b+a)/2 + (b-a)/2 * z) * (b-a)/2\n",
    "    \n",
    "    # Obliczenie całki na przedziale [-1,1] za pomocą kwadratury Gaussa\n",
    "    return gauss_integrate(g, k)\n",
    "end"
   ]
  },
  {
   "cell_type": "code",
   "execution_count": 13,
   "metadata": {},
   "outputs": [
    {
     "name": "stdout",
     "output_type": "stream",
     "text": [
      "Test dla f(x) = x^2 na przedziale [0, 5]\n",
      "Wartość analityczna: 41.666666666666664\n",
      "Wartość za pomocą kwadratury Gaussa (n=3): 41.66666666666667, błąd: 3.552713678800501e-15\n",
      "\n",
      "Test dla f(x) = sin(x) na przedziale [0, π]\n",
      "Wartość analityczna: 2.0\n",
      "Wartość za pomocą kwadratury Gaussa (n=3): 2.0, błąd: 0.0\n",
      "\n",
      "Test dla f(x) = e^x na przedziale [-1, 1]\n",
      "Wartość analityczna: 2.3504023872876028\n",
      "Wartość za pomocą kwadratury Gaussa (n=3): 2.350402387287603, błąd: 0.0\n",
      "\n",
      "Test dla f(x) = 1/(1+x^2) na przedziale [-10, 10]\n",
      "Wartość analityczna: 6.283185307179586\n",
      "Wartość za pomocą kwadratury Gaussa (n=5): 6.283185307179587, błąd: 8.881784197001252e-16\n",
      "\n",
      "Test dla f(x) = x^5 - 2x^3 + x na przedziale [-2, 3]\n",
      "Wartość analityczna: 84.5\n",
      "Wartość za pomocą kwadratury Gaussa (n=4): 84.5, błąd: 0.0\n",
      "\n"
     ]
    }
   ],
   "source": [
    "# Testowanie funkcji dla różnych przykładów\n",
    "using SpecialFunctions\n",
    "\n",
    "# Przykład 1: x^2 na przedziale [0, 5]\n",
    "f1(x) = x^2\n",
    "a1, b1 = 0, 5\n",
    "analytical1 = (b1^3 - a1^3)/3  # ∫x^2 dx = x^3/3\n",
    "gauss1 = gauss_integrate_ab(f1, a1, b1, 3)\n",
    "\n",
    "println(\"Test dla f(x) = x^2 na przedziale [$a1, $b1]\")\n",
    "println(\"Wartość analityczna: $analytical1\")\n",
    "println(\"Wartość za pomocą kwadratury Gaussa (n=3): $gauss1, błąd: $(abs(analytical1 - gauss1))\")\n",
    "println()\n",
    "\n",
    "# Przykład 2: sin(x) na przedziale [0, π]\n",
    "f2(x) = sin(x)\n",
    "a2, b2 = 0, π\n",
    "analytical2 = 2.0  # ∫sin(x) dx = -cos(x), -cos(π) - (-cos(0)) = 1 - (-1) = 2\n",
    "gauss2 = gauss_integrate_ab(f2, a2, b2, 3)\n",
    "\n",
    "println(\"Test dla f(x) = sin(x) na przedziale [$a2, $b2]\")\n",
    "println(\"Wartość analityczna: $analytical2\")\n",
    "println(\"Wartość za pomocą kwadratury Gaussa (n=3): $gauss2, błąd: $(abs(analytical2 - gauss2))\")\n",
    "println()\n",
    "\n",
    "# Przykład 3: e^x na przedziale [-1, 1]\n",
    "f3(x) = exp(x)\n",
    "a3, b3 = -1, 1\n",
    "analytical3 = exp(1) - exp(-1)  # ∫e^x dx = e^x\n",
    "gauss3 = gauss_integrate_ab(f3, a3, b3, 3)\n",
    "\n",
    "println(\"Test dla f(x) = e^x na przedziale [$a3, $b3]\")\n",
    "println(\"Wartość analityczna: $analytical3\")\n",
    "println(\"Wartość za pomocą kwadratury Gaussa (n=3): $gauss3, błąd: $(abs(analytical3 - gauss3))\")\n",
    "println()\n",
    "\n",
    "# Przykład 4: 1/(1+x^2) na przedziale [-10, 10]\n",
    "f4(x) = 1/(1+x^2)\n",
    "a4, b4 = -10, 10\n",
    "analytical4 = 2 * atan(10)  # ∫1/(1+x^2) dx = arctan(x)\n",
    "gauss4 = gauss_integrate_ab(f4, a4, b4, 5)\n",
    "\n",
    "println(\"Test dla f(x) = 1/(1+x^2) na przedziale [$a4, $b4]\")\n",
    "println(\"Wartość analityczna: $analytical4\")\n",
    "println(\"Wartość za pomocą kwadratury Gaussa (n=5): $gauss4, błąd: $(abs(analytical4 - gauss4))\")\n",
    "println()\n",
    "\n",
    "# Przykład 5: Wielomian x^5 - 2x^3 + x na przedziale [-2, 3]\n",
    "f5(x) = x^5 - 2*x^3 + x\n",
    "a5, b5 = -2, 3\n",
    "analytical5 = (b5^6/6 - 2*b5^4/4 + b5^2/2) - (a5^6/6 - 2*a5^4/4 + a5^2/2)\n",
    "gauss5 = gauss_integrate_ab(f5, a5, b5, 4)\n",
    "\n",
    "println(\"Test dla f(x) = x^5 - 2x^3 + x na przedziale [$a5, $b5]\")\n",
    "println(\"Wartość analityczna: $analytical5\")\n",
    "println(\"Wartość za pomocą kwadratury Gaussa (n=4): $gauss5, błąd: $(abs(analytical5 - gauss5))\")\n",
    "println()\n"
     ]
    }
   ],
   "source": [
    "# Wnioski z Zadania 3\n",
    "# Funkcja gauss_integrate_ab poprawnie oblicza całki w dowolnych przedziałach [a,b].\n",
    "# Dla wszystkich testowanych przykładów błąd jest bardzo mały lub zerowy, co świadczy\n",
    "# o wysokiej precyzji metody kwadratury Gaussa po transformacji przedziału całkowania."
   ]
  },
  {
   "cell_type": "markdown",
   "metadata": {},
   "source": [
    "### Zadanie 4 (1p)\n",
    "Głowną funkcją pakietu QuadGK jest adaptacyjna funkcja <a href=\"https://juliamath.github.io/QuadGK.jl/stable/#QuadGK.quadgk\"> guadgk</a> używająca całkowania  Gauss-Kronroda\n",
    "\n",
    "- użyj tej funkcji do policzenia  całki dla przykładowego wielomianu.\n",
    "- funkcja ta ma możliwość liczenia również całek do nieskończoności.\n",
    "\n",
    "\n",
    " Policz całkę od minus do plus nieskonczonosci \n",
    " standardowego rozkładu normalnego Gaussa\n",
    "$ \\frac{1}{\\sqrt{2\\pi}}exp(\\frac{-x^2}{2})$"
   ]
  },
  {
   "cell_type": "code",
   "execution_count": 14,
   "metadata": {},
   "outputs": [
    {
     "name": "stdout",
     "output_type": "stream",
     "text": [
      "Całka wielomianu f(x) = 3x^4 - 2.5x^3 + x^2 - 5 na przedziale [-2, 3]:\n",
      "Wynik: 45.0, błąd szacunkowy: 4.996003610813204e-16\n",
      "\n",
      "Całka rozkładu normalnego Gaussa od -∞ do +∞:\n",
      "Wynik: 1.0, błąd szacunkowy: 1.3020997308930222e-10\n"
     ]
    }
   ],
   "source": [
    "# Użycie funkcji quadgk do obliczenia całki dla przykładowego wielomianu\n",
    "p(x) = 3*x^4 - 2.5*x^3 + x^2 - 5\n",
    "result_p, error_p = quadgk(p, -2, 3)\n",
    "\n",
    "println(\"Całka wielomianu f(x) = 3x^4 - 2.5x^3 + x^2 - 5 na przedziale [-2, 3]:\")\n",
    "println(\"Wynik: $result_p, błąd szacunkowy: $error_p\")\n",
    "println()\n",
    "\n",
    "# Funkcja dla standardowego rozkładu normalnego Gaussa\n",
    "normal_dist(x) = 1/sqrt(2*π) * exp(-x^2/2)\n",
    "\n",
    "# Obliczenie całki od -∞ do +∞\n",
    "result_gauss, error_gauss = quadgk(normal_dist, -Inf, Inf)\n",
    "\n",
    "println(\"Całka rozkładu normalnego Gaussa od -∞ do +∞:\")\n",
    "println(\"Wynik: $result_gauss, błąd szacunkowy: $error_gauss\")"
   ]
  },
  {
   "cell_type": "markdown",
   "metadata": {},
   "source": [
    "### Wnioski z Zadania 4\n",
    "\n",
    "Funkcja `quadgk` z pakietu QuadGK wykorzystuje adaptacyjną kwadruturę Gaussa-Kronroda do efektywnego obliczania całek. Zalety tej metody to:\n",
    "\n",
    "1. Wysoka dokładność - jak widać na powyższych przykładach, błędy są bardzo małe.\n",
    "2. Możliwość całkowania na nieskończonych przedziałach - co jest szczególnie przydatne w przypadku funkcji takich jak rozkład normalny.\n",
    "3. Adaptacyjność - metoda automatycznie dostosowuje liczbę punktów całkowania w obszarach, gdzie funkcja szybko się zmienia.\n",
    "\n",
    "W przypadku standardowego rozkładu normalnego Gaussa, wynik całki wynosi dokładnie 1, co jest zgodne z teorią prawdopodobieństwa (całkowite prawdopodobieństwo wynosi 1). Funkcja `quadgk` z powodzeniem obliczyła tę całkę z bardzo małym błędem szacunkowym."
   ]
  },
  {
   "cell_type": "markdown",
   "metadata": {},
   "source": [
    "### Zadanie 5 (3p)\n",
    "Napisz własne funkcje całkujące -  w wybranym przedziale (a,b) - złożonymi metodami prostokątów, trapezów oraz Simpsona. Dla stałego przedziału zwiększaj liczbę użytych punktów (n). Narysuj wykresy funkcji błędu  w stosunku do wyniku otrzymanego analitycznie, \n",
    "w zależnosci od $h=\\frac{b-a}{n}$:\n",
    "1. wykładniczej\n",
    "2. trygonometrycznej (np. sin (x) w przedziale $[0,2\\pi]$)\n"
   ]
  },
  {
   "cell_type": "code",
   "execution_count": 15,
   "metadata": {},
   "outputs": [
    {
     "data": {
      "text/plain": [
       "simpson_rule (generic function with 1 method)"
      ]
     },
     "execution_count": 15,
     "metadata": {},
     "output_type": "execute_result"
    }
   ],
   "source": [
    "# Implementacja złożonej metody prostokątów\n",
    "function rectangle_rule(f, a, b, n)\n",
    "    h = (b - a) / n\n",
    "    x = range(a + h/2, stop=b - h/2, length=n)  # Punkty środkowe przedziałów\n",
    "    return h * sum(f.(x))\n",
    "end\n",
    "\n",
    "# Implementacja złożonej metody trapezów\n",
    "function trapezoidal_rule(f, a, b, n)\n",
    "    h = (b - a) / n\n",
    "    x = range(a, stop=b, length=n+1)  # Punkty brzegowe i wewnętrzne\n",
    "    return h/2 * (f(a) + f(b) + 2*sum(f.(x[2:end-1])))\n",
    "end\n",
    "\n",
    "# Implementacja złożonej metody Simpsona\n",
    "function simpson_rule(f, a, b, n)\n",
    "    if n % 2 != 0\n",
    "        n += 1  # Metoda Simpsona wymaga parzystej liczby przedziałów\n",
    "    end\n",
    "    \n",
    "    h = (b - a) / n\n",
    "    x = range(a, stop=b, length=n+1)\n",
    "    \n",
    "    # Wartości funkcji w punktach\n",
    "    y = f.(x)\n",
    "    \n",
    "    # Suma według wzoru Simpsona: h/3 * (y₀ + 4*y₁ + 2*y₂ + 4*y₃ + ... + 2*y_{n-2} + 4*y_{n-1} + y_n)\n",
    "    return h/3 * (y[1] + y[end] + 4*sum(y[2:2:end-1]) + 2*sum(y[3:2:end-2]))\n",
    "end"
   ]
  },
  {
   "cell_type": "code",
   "execution_count": 16,
   "metadata": {},
   "outputs": [
    {
     "data": {
      "text/plain": [
       "Porównanie metod całkowania dla funkcji wykładniczej exp(x) na przedziale [0, 4]"
      ]
     },
     "execution_count": 16,
     "metadata": {},
     "output_type": "execute_result"
    }
   ],
   "source": [
    "using Plots\n",
    "\n",
    "# Funkcja testowa 1: wykładnicza f(x) = e^x\n",
    "f_exp(x) = exp(x)\n",
    "a_exp, b_exp = 0, 4\n",
    "exact_exp = exp(b_exp) - exp(a_exp)  # ∫e^x dx = e^x\n",
    "\n",
    "# Funkcja testowa 2: trygonometryczna f(x) = sin(x)\n",
    "f_sin(x) = sin(x)\n",
    "a_sin, b_sin = 0, 2π\n",
    "exact_sin = 0  # ∫sin(x) dx = -cos(x), -cos(2π) - (-cos(0)) = 0\n",
    "\n",
    "# Liczba punktów dla każdej metody\n",
    "n_values = [4, 8, 16, 32, 64, 128, 256, 512, 1024]\n",
    "h_values = [(b_exp - a_exp) / n for n in n_values]\n",
    "\n",
    "# Obliczanie błędów dla funkcji wykładniczej\n",
    "rectangle_errors_exp = [abs(rectangle_rule(f_exp, a_exp, b_exp, n) - exact_exp) for n in n_values]\n",
    "trapezoidal_errors_exp = [abs(trapezoidal_rule(f_exp, a_exp, b_exp, n) - exact_exp) for n in n_values]\n",
    "simpson_errors_exp = [abs(simpson_rule(f_exp, a_exp, b_exp, n) - exact_exp) for n in n_values]\n",
    "\n",
    "# Wykres błędów dla funkcji wykładniczej\n",
    "p1 = plot(h_values, rectangle_errors_exp, xaxis=:log, yaxis=:log, label=\"Metoda prostokątów\", \n",
    "         xlabel=\"h\", ylabel=\"Błąd\", title=\"Błędy metod całkowania dla f(x) = e^x\", \n",
    "         markers=:circle, lw=2)\n",
    "plot!(p1, h_values, trapezoidal_errors_exp, label=\"Metoda trapezów\", markers=:square, lw=2)\n",
    "plot!(p1, h_values, simpson_errors_exp, label=\"Metoda Simpsona\", markers=:diamond, lw=2)\n",
    "\n",
    "# Dodanie linii odniesienia dla rzędów zbieżności\n",
    "plot!(p1, h_values, h_values.^2 * 0.5, label=\"O(h²)\", linestyle=:dash, color=:black)\n",
    "plot!(p1, h_values, h_values.^4 * 0.01, label=\"O(h⁴)\", linestyle=:dashdot, color=:gray)\n",
    "\n",
    "title!(p1, \"Porównanie metod całkowania dla funkcji wykładniczej exp(x) na przedziale [0, 4]\")"
   ]
  },
  {
   "cell_type": "code",
   "execution_count": 17,
   "metadata": {},
   "outputs": [
    {
     "data": {
      "text/plain": [
       "Porównanie metod całkowania dla funkcji sin(x) na przedziale [0, 2π]"
      ]
     },
     "execution_count": 17,
     "metadata": {},
     "output_type": "execute_result"
    }
   ],
   "source": [
    "# Obliczanie błędów dla funkcji trygonometrycznej\n",
    "h_values_sin = [(b_sin - a_sin) / n for n in n_values]\n",
    "rectangle_errors_sin = [abs(rectangle_rule(f_sin, a_sin, b_sin, n) - exact_sin) for n in n_values]\n",
    "trapezoidal_errors_sin = [abs(trapezoidal_rule(f_sin, a_sin, b_sin, n) - exact_sin) for n in n_values]\n",
    "simpson_errors_sin = [abs(simpson_rule(f_sin, a_sin, b_sin, n) - exact_sin) for n in n_values]\n",
    "\n",
    "# Wykres błędów dla funkcji trygonometrycznej\n",
    "p2 = plot(h_values_sin, rectangle_errors_sin, xaxis=:log, yaxis=:log, label=\"Metoda prostokątów\", \n",
    "         xlabel=\"h\", ylabel=\"Błąd\", title=\"Błędy metod całkowania dla f(x) = sin(x)\", \n",
    "         markers=:circle, lw=2)\n",
    "plot!(p2, h_values_sin, trapezoidal_errors_sin, label=\"Metoda trapezów\", markers=:square, lw=2)\n",
    "plot!(p2, h_values_sin, simpson_errors_sin, label=\"Metoda Simpsona\", markers=:diamond, lw=2)\n",
    "\n",
    "# Dodanie linii odniesienia dla rzędów zbieżności\n",
    "plot!(p2, h_values_sin, h_values_sin.^2 * 0.5, label=\"O(h²)\", linestyle=:dash, color=:black)\n",
    "plot!(p2, h_values_sin, h_values_sin.^4 * 0.01, label=\"O(h⁴)\", linestyle=:dashdot, color=:gray)\n",
    "\n",
    "title!(p2, \"Porównanie metod całkowania dla funkcji sin(x) na przedziale [0, 2π]\")"
   ]
  },
  {
   "cell_type": "markdown",
   "metadata": {},
   "source": [
    "### Wnioski z Zadania 5\n",
    "\n",
    "Z przeprowadzonych testów i wykresów błędów możemy wyciągnąć następujące wnioski:\n",
    "\n",
    "1. **Metoda prostokątów**:\n",
    "   - Wykazuje zbieżność rzędu O(h²) dla regularnych funkcji.\n",
    "   - Jest najmniej dokładna z testowanych metod.\n",
    "\n",
    "2. **Metoda trapezów**:\n",
    "   - Również wykazuje zbieżność rzędu O(h²), ale jest dokładniejsza niż metoda prostokątów.\n",
    "   - Dla funkcji sinusoidalnych na pełnym okresie, metoda trapezów może być bardzo dokładna.\n",
    "\n",
    "3. **Metoda Simpsona**:\n",
    "   - Wykazuje szybszą zbieżność, rzędu O(h⁴).\n",
    "   - Jest zdecydowanie najdokładniejsza z testowanych metod, szczególnie dla gładkich funkcji.\n",
    "   - Dla funkcji sinusoidalnej, metoda Simpsona może dawać bardzo małe błędy nawet dla małej liczby punktów.\n",
    "\n",
    "4. **Ogólne obserwacje**:\n",
    "   - Wraz ze zmniejszaniem kroku h (zwiększaniem liczby punktów), błędy wszystkich metod maleją, ale z różną szybkością.\n",
    "   - Dla funkcji wykładniczej, która ma wyższe pochodne, różnice między metodami są bardziej widoczne.\n",
    "   - Dla funkcji sin(x) w przedziale [0, 2π], metoda trapezów często daje lepsze wyniki niż można by oczekiwać, dzięki specyficznym właściwościom funkcji sinusoidalnej na pełnym okresie.\n",
    "\n",
    "Wykresy logarytmiczne potwierdzają teoretyczne rzędy zbieżności metod:\n",
    "- Nachylenie krzywej błędu dla metod prostokątów i trapezów jest zbliżone do linii O(h²)\n",
    "- Nachylenie krzywej błędu dla metody Simpsona jest zbliżone do linii O(h⁴)"
   ]
  }
 ],
 "metadata": {
  "kernelspec": {
   "display_name": "Julia 1.11.3",
   "language": "julia",
   "name": "julia-1.11"
  },
  "language_info": {
   "file_extension": ".jl",
   "mimetype": "application/julia",
   "name": "julia",
   "version": "1.11.3"
  }
 },
 "nbformat": 4,
 "nbformat_minor": 4
}